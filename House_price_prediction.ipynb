{
  "cells": [
    {
      "cell_type": "markdown",
      "metadata": {
        "id": "edSf74ZCTmOi"
      },
      "source": [
        "# Data preparation"
      ]
    },
    {
      "cell_type": "code",
      "execution_count": null,
      "metadata": {
        "id": "ErdwaPd9y4LJ"
      },
      "outputs": [],
      "source": [
        "# load raw data\n",
        "# https://drive.google.com/file/d/1Iee3Xu-Auy1ipEH3EneZVlNZrgzdrNw2/view?usp=share_link\n",
        "system(\"gdown --id 1Iee3Xu-Auy1ipEH3EneZVlNZrgzdrNw2\")\n",
        "historic_property_data_raw <- read.csv(\"historic_property_data.csv\")\n",
        "\n",
        "#https://drive.google.com/file/d/11P7dzl9HgvlIGpUqfBakwoxHnAnwmlSO/view?usp=sharing\n",
        "system(\"gdown --id 11P7dzl9HgvlIGpUqfBakwoxHnAnwmlSO\")\n",
        "predict_raw <- read.csv(\"predict_property_data.csv\")"
      ]
    },
    {
      "cell_type": "code",
      "execution_count": null,
      "metadata": {
        "id": "N4mKMPfpNUAZ"
      },
      "outputs": [],
      "source": [
        "historic_property_data <- historic_property_data_raw\n",
        "predict <- predict_raw"
      ]
    },
    {
      "cell_type": "code",
      "execution_count": null,
      "metadata": {
        "id": "hEx_fSlY2TVm",
        "colab": {
          "base_uri": "https://localhost:8080/"
        },
        "outputId": "296a46a4-45b8-48bf-d7b6-9bd1d1bd681d"
      },
      "outputs": [
        {
          "output_type": "stream",
          "name": "stderr",
          "text": [
            "\n",
            "Attaching package: ‘dplyr’\n",
            "\n",
            "\n",
            "The following objects are masked from ‘package:stats’:\n",
            "\n",
            "    filter, lag\n",
            "\n",
            "\n",
            "The following objects are masked from ‘package:base’:\n",
            "\n",
            "    intersect, setdiff, setequal, union\n",
            "\n",
            "\n",
            "Installing package into ‘/usr/local/lib/R/site-library’\n",
            "(as ‘lib’ is unspecified)\n",
            "\n",
            "Installing package into ‘/usr/local/lib/R/site-library’\n",
            "(as ‘lib’ is unspecified)\n",
            "\n",
            "Loading required package: ggplot2\n",
            "\n",
            "Loading required package: lattice\n",
            "\n",
            "Warning message in system(\"timedatectl\", intern = TRUE):\n",
            "“running command 'timedatectl' had status 1”\n",
            "Installing package into ‘/usr/local/lib/R/site-library’\n",
            "(as ‘lib’ is unspecified)\n",
            "\n",
            "randomForest 4.7-1.1\n",
            "\n",
            "Type rfNews() to see new features/changes/bug fixes.\n",
            "\n",
            "\n",
            "Attaching package: ‘randomForest’\n",
            "\n",
            "\n",
            "The following object is masked from ‘package:ggplot2’:\n",
            "\n",
            "    margin\n",
            "\n",
            "\n",
            "The following object is masked from ‘package:dplyr’:\n",
            "\n",
            "    combine\n",
            "\n",
            "\n"
          ]
        }
      ],
      "source": [
        "# load packages\n",
        "library(dplyr)\n",
        "install.packages('fastDummies')\n",
        "library(fastDummies)\n",
        "install.packages('caret')\n",
        "library(caret)\n",
        "library(magrittr)\n",
        "install.packages('randomForest')\n",
        "library(randomForest)\n"
      ]
    },
    {
      "cell_type": "code",
      "execution_count": null,
      "metadata": {
        "id": "lP_D0Xpl1Bzx"
      },
      "outputs": [],
      "source": [
        "# convert to character\n",
        "historic_property_data$meta_class                  <- as.character(historic_property_data$meta_class)\n",
        "historic_property_data$meta_town_code              <- as.character(historic_property_data$meta_town_code)\n",
        "historic_property_data$char_ext_wall               <- as.character(historic_property_data$char_ext_wall)\n",
        "historic_property_data$char_roof_cnst              <- as.character(historic_property_data$char_roof_cnst)\n",
        "historic_property_data$char_bsmt                   <- as.character(historic_property_data$char_bsmt)\n",
        "historic_property_data$char_bsmt_fin               <- as.character(historic_property_data$char_bsmt_fin)\n",
        "historic_property_data$char_heat                   <- as.character(historic_property_data$char_heat)\n",
        "historic_property_data$char_oheat                  <- as.character(historic_property_data$char_oheat)\n",
        "historic_property_data$char_air                    <- as.character(historic_property_data$char_air)\n",
        "historic_property_data$char_attic_type             <- as.character(historic_property_data$char_attic_type)\n",
        "historic_property_data$char_tp_plan                <- as.character(historic_property_data$char_tp_plan)\n",
        "historic_property_data$char_cnst_qlty              <- as.character(historic_property_data$char_cnst_qlty)\n",
        "historic_property_data$char_site                   <- as.character(historic_property_data$char_site)\n",
        "historic_property_data$char_gar1_size              <- as.character(historic_property_data$char_gar1_size)\n",
        "historic_property_data$char_gar1_cnst              <- as.character(historic_property_data$char_gar1_cnst)\n",
        "historic_property_data$char_gar1_att               <- as.character(historic_property_data$char_gar1_att)\n",
        "historic_property_data$char_gar1_area              <- as.character(historic_property_data$char_gar1_area)\n",
        "historic_property_data$char_repair_cnd             <- as.character(historic_property_data$char_repair_cnd)\n",
        "historic_property_data$char_use                    <- as.character(historic_property_data$char_use)\n",
        "historic_property_data$char_type_resd              <- as.character(historic_property_data$char_type_resd)\n",
        "historic_property_data$geo_fips                    <- as.character(historic_property_data$geo_fips)\n",
        "historic_property_data$geo_ohare_noise             <- as.character(historic_property_data$geo_ohare_noise)\n",
        "historic_property_data$geo_floodplain              <- as.character(historic_property_data$geo_floodplain)\n",
        "historic_property_data$geo_fs_flood_risk_direction <- as.character(historic_property_data$geo_fs_flood_risk_direction)\n",
        "historic_property_data$geo_withinmr100             <- as.character(historic_property_data$geo_withinmr100)\n",
        "historic_property_data$geo_withinmr101300          <- as.character(historic_property_data$geo_withinmr101300)\n",
        "historic_property_data$ind_large_home              <- as.character(historic_property_data$ind_large_home)\n",
        "historic_property_data$ind_garage                  <- as.character(historic_property_data$ind_garage)\n",
        "historic_property_data$ind_arms_length             <- as.character(historic_property_data$ind_arms_length)\n",
        "\n",
        "predict$meta_class                  <- as.character(predict$meta_class)\n",
        "predict$meta_town_code              <- as.character(predict$meta_town_code)\n",
        "predict$char_ext_wall               <- as.character(predict$char_ext_wall)\n",
        "predict$char_roof_cnst              <- as.character(predict$char_roof_cnst)\n",
        "predict$char_bsmt                   <- as.character(predict$char_bsmt)\n",
        "predict$char_bsmt_fin               <- as.character(predict$char_bsmt_fin)\n",
        "predict$char_heat                   <- as.character(predict$char_heat)\n",
        "predict$char_oheat                  <- as.character(predict$char_oheat)\n",
        "predict$char_air                    <- as.character(predict$char_air)\n",
        "predict$char_attic_type             <- as.character(predict$char_attic_type)\n",
        "predict$char_tp_plan                <- as.character(predict$char_tp_plan)\n",
        "predict$char_cnst_qlty              <- as.character(predict$char_cnst_qlty)\n",
        "predict$char_site                   <- as.character(predict$char_site)\n",
        "predict$char_gar1_size              <- as.character(predict$char_gar1_size)\n",
        "predict$char_gar1_cnst              <- as.character(predict$char_gar1_cnst)\n",
        "predict$char_gar1_att               <- as.character(predict$char_gar1_att)\n",
        "predict$char_gar1_area              <- as.character(predict$char_gar1_area)\n",
        "predict$char_repair_cnd             <- as.character(predict$char_repair_cnd)\n",
        "predict$char_use                    <- as.character(predict$char_use)\n",
        "predict$char_type_resd              <- as.character(predict$char_type_resd)\n",
        "predict$geo_fips                    <- as.character(predict$geo_fips)\n",
        "predict$geo_ohare_noise             <- as.character(predict$geo_ohare_noise)\n",
        "predict$geo_floodplain              <- as.character(predict$geo_floodplain)\n",
        "predict$geo_fs_flood_risk_direction <- as.character(predict$geo_fs_flood_risk_direction)\n",
        "predict$geo_withinmr100             <- as.character(predict$geo_withinmr100)\n",
        "predict$geo_withinmr101300          <- as.character(predict$geo_withinmr101300)\n",
        "predict$ind_large_home              <- as.character(predict$ind_large_home)\n",
        "predict$ind_garage                  <- as.character(predict$ind_garage)\n",
        "predict$ind_arms_length             <- as.character(predict$ind_arms_length)"
      ]
    },
    {
      "cell_type": "code",
      "execution_count": null,
      "metadata": {
        "id": "cfygnuqm1C58",
        "colab": {
          "base_uri": "https://localhost:8080/",
          "height": 694
        },
        "outputId": "75f0b51b-c129-431e-c01a-7f1dd351a013"
      },
      "outputs": [
        {
          "output_type": "display_data",
          "data": {
            "text/html": [
              "<style>\n",
              ".list-inline {list-style: none; margin:0; padding: 0}\n",
              ".list-inline>li {display: inline-block}\n",
              ".list-inline>li:not(:last-child)::after {content: \"\\00b7\"; padding: 0 .5ex}\n",
              "</style>\n",
              "<ol class=list-inline><li>10000</li><li>36</li></ol>\n"
            ],
            "text/markdown": "1. 10000\n2. 36\n\n\n",
            "text/latex": "\\begin{enumerate*}\n\\item 10000\n\\item 36\n\\end{enumerate*}\n",
            "text/plain": [
              "[1] 10000    36"
            ]
          },
          "metadata": {}
        },
        {
          "output_type": "display_data",
          "data": {
            "text/html": [
              "<style>\n",
              ".list-inline {list-style: none; margin:0; padding: 0}\n",
              ".list-inline>li {display: inline-block}\n",
              ".list-inline>li:not(:last-child)::after {content: \"\\00b7\"; padding: 0 .5ex}\n",
              "</style>\n",
              "<ol class=list-inline><li>50000</li><li>36</li></ol>\n"
            ],
            "text/markdown": "1. 50000\n2. 36\n\n\n",
            "text/latex": "\\begin{enumerate*}\n\\item 50000\n\\item 36\n\\end{enumerate*}\n",
            "text/plain": [
              "[1] 50000    36"
            ]
          },
          "metadata": {}
        },
        {
          "output_type": "stream",
          "name": "stdout",
          "text": [
            "'data.frame':\t50000 obs. of  36 variables:\n",
            " $ meta_class                 : chr  \"278\" \"204\" \"203\" \"234\" ...\n",
            " $ meta_town_code             : chr  \"31\" \"25\" \"70\" \"35\" ...\n",
            " $ meta_cdu                   : chr  NA NA NA NA ...\n",
            " $ meta_deed_type             : chr  \"T\" \"W\" \"W\" \"W\" ...\n",
            " $ char_ext_wall              : chr  \"3\" \"3\" \"2\" \"1\" ...\n",
            " $ char_roof_cnst             : chr  \"1\" \"1\" \"1\" \"1\" ...\n",
            " $ char_bsmt                  : chr  \"1\" \"2\" \"1\" \"3\" ...\n",
            " $ char_bsmt_fin              : chr  \"3\" \"3\" \"3\" \"1\" ...\n",
            " $ char_heat                  : chr  \"1\" \"1\" \"1\" \"1\" ...\n",
            " $ char_oheat                 : chr  \"5\" \"5\" \"5\" \"5\" ...\n",
            " $ char_air                   : chr  \"1\" \"1\" \"2\" \"2\" ...\n",
            " $ char_attic_type            : chr  \"3\" \"2\" \"1\" \"3\" ...\n",
            " $ char_tp_plan               : chr  \"2\" \"1\" \"2\" \"2\" ...\n",
            " $ char_cnst_qlty             : chr  \"2\" \"2\" \"2\" \"2\" ...\n",
            " $ char_site                  : chr  \"2\" \"2\" \"2\" \"2\" ...\n",
            " $ char_gar1_size             : chr  \"3\" \"3\" \"3\" \"3\" ...\n",
            " $ char_gar1_cnst             : chr  \"2\" \"2\" \"1\" \"1\" ...\n",
            " $ char_gar1_att              : chr  \"1\" \"1\" \"2\" \"1\" ...\n",
            " $ char_gar1_area             : chr  \"2\" \"2\" \"2\" \"2\" ...\n",
            " $ char_repair_cnd            : chr  \"2\" \"2\" \"2\" \"2\" ...\n",
            " $ char_use                   : chr  \"1\" \"1\" \"1\" \"1\" ...\n",
            " $ char_type_resd             : chr  \"2\" \"1\" \"5\" \"4\" ...\n",
            " $ geo_property_city          : chr  \"WESTCHESTER\" \"NORTHFIELD\" \"CHICAGO\" \"SCHAUMBURG\" ...\n",
            " $ geo_property_zip           : chr  \"60154\" \"60093\" \"60617\" \"60193\" ...\n",
            " $ geo_fips                   : chr  NA \"53663\" \"14000\" \"68003\" ...\n",
            " $ geo_municipality           : chr  NA \"Northfield\" \"Chicago\" \"Schaumburg\" ...\n",
            " $ geo_ohare_noise            : chr  \"0\" \"0\" \"0\" \"0\" ...\n",
            " $ geo_floodplain             : chr  \"0\" \"0\" \"0\" \"0\" ...\n",
            " $ geo_fs_flood_risk_direction: chr  \"0\" \"0\" \"1\" \"0\" ...\n",
            " $ geo_withinmr100            : chr  \"0\" \"0\" \"0\" \"0\" ...\n",
            " $ geo_withinmr101300         : chr  \"0\" \"0\" \"0\" \"0\" ...\n",
            " $ geo_school_elem_district   : chr  \"SCHOOL DISTRICT 93\" \"SCHOOL DISTRICT 29\" \"HOYNE\" \"SCHOOL DISTRICT C C 54\" ...\n",
            " $ geo_school_hs_district     : chr  \"PROVISO TOWNSHIP HIGH SCHOOL 209\" \"NEW TRIER TOWNSHIP HIGH SCHOOL  203\" \"BOWEN HS\" \"PALATINE TOWNSHIP HIGH SCHOOL  211\" ...\n",
            " $ ind_large_home             : chr  \"FALSE\" \"FALSE\" \"FALSE\" \"FALSE\" ...\n",
            " $ ind_garage                 : chr  \"TRUE\" \"TRUE\" \"TRUE\" \"TRUE\" ...\n",
            " $ ind_arms_length            : chr  \"TRUE\" \"TRUE\" \"TRUE\" \"TRUE\" ...\n"
          ]
        }
      ],
      "source": [
        "idx_feat_cat_mask <- grepl('character', sapply(historic_property_data, class))     # Obtain feature index masks\n",
        "\n",
        "idx_feat_cat_tmp <- colnames(predict)[idx_feat_cat_mask]  # Obtain feature indices\n",
        "predict_cat <- predict[, idx_feat_cat_tmp]             # Subset historic_property_df with feature indices\n",
        "dim(predict_cat)\n",
        "\n",
        "idx_feat_cat_tmp <- colnames(historic_property_data)[idx_feat_cat_mask]    # Obtain feature indices\n",
        "train_cat <- historic_property_data[, idx_feat_cat_tmp]                 # Subset historic_property_df with feature indices\n",
        "dim(train_cat)\n",
        "str(train_cat)"
      ]
    },
    {
      "cell_type": "code",
      "execution_count": null,
      "metadata": {
        "id": "xtLlAVjL1E2D",
        "colab": {
          "base_uri": "https://localhost:8080/",
          "height": 1000
        },
        "outputId": "7181e1fc-fa68-4b59-bdb2-6f1d1511f4ef"
      },
      "outputs": [
        {
          "output_type": "display_data",
          "data": {
            "text/html": [
              "<table class=\"dataframe\">\n",
              "<caption>A data.frame: 31 × 2</caption>\n",
              "<thead>\n",
              "\t<tr><th></th><th scope=col>feature</th><th scope=col>na_cnt</th></tr>\n",
              "\t<tr><th></th><th scope=col>&lt;chr&gt;</th><th scope=col>&lt;dbl&gt;</th></tr>\n",
              "</thead>\n",
              "<tbody>\n",
              "\t<tr><th scope=row>meta_cdu</th><td>meta_cdu                   </td><td>0.94392</td></tr>\n",
              "\t<tr><th scope=row>char_tp_plan</th><td>char_tp_plan               </td><td>0.28450</td></tr>\n",
              "\t<tr><th scope=row>char_gar1_att</th><td>char_gar1_att              </td><td>0.14240</td></tr>\n",
              "\t<tr><th scope=row>char_gar1_area</th><td>char_gar1_area             </td><td>0.14240</td></tr>\n",
              "\t<tr><th scope=row>char_gar1_cnst</th><td>char_gar1_cnst             </td><td>0.14238</td></tr>\n",
              "\t<tr><th scope=row>geo_fips</th><td>geo_fips                   </td><td>0.02304</td></tr>\n",
              "\t<tr><th scope=row>geo_municipality</th><td>geo_municipality           </td><td>0.02304</td></tr>\n",
              "\t<tr><th scope=row>char_oheat</th><td>char_oheat                 </td><td>0.00346</td></tr>\n",
              "\t<tr><th scope=row>geo_ohare_noise</th><td>geo_ohare_noise            </td><td>0.00346</td></tr>\n",
              "\t<tr><th scope=row>geo_floodplain</th><td>geo_floodplain             </td><td>0.00346</td></tr>\n",
              "\t<tr><th scope=row>geo_fs_flood_risk_direction</th><td>geo_fs_flood_risk_direction</td><td>0.00346</td></tr>\n",
              "\t<tr><th scope=row>geo_withinmr100</th><td>geo_withinmr100            </td><td>0.00346</td></tr>\n",
              "\t<tr><th scope=row>geo_withinmr101300</th><td>geo_withinmr101300         </td><td>0.00346</td></tr>\n",
              "\t<tr><th scope=row>geo_school_elem_district</th><td>geo_school_elem_district   </td><td>0.00346</td></tr>\n",
              "\t<tr><th scope=row>geo_school_hs_district</th><td>geo_school_hs_district     </td><td>0.00346</td></tr>\n",
              "\t<tr><th scope=row>geo_property_city</th><td>geo_property_city          </td><td>0.00280</td></tr>\n",
              "\t<tr><th scope=row>geo_property_zip</th><td>geo_property_zip           </td><td>0.00280</td></tr>\n",
              "\t<tr><th scope=row>char_cnst_qlty</th><td>char_cnst_qlty             </td><td>0.00140</td></tr>\n",
              "\t<tr><th scope=row>char_heat</th><td>char_heat                  </td><td>0.00070</td></tr>\n",
              "\t<tr><th scope=row>char_attic_type</th><td>char_attic_type            </td><td>0.00070</td></tr>\n",
              "\t<tr><th scope=row>char_site</th><td>char_site                  </td><td>0.00070</td></tr>\n",
              "\t<tr><th scope=row>char_repair_cnd</th><td>char_repair_cnd            </td><td>0.00070</td></tr>\n",
              "\t<tr><th scope=row>char_use</th><td>char_use                   </td><td>0.00070</td></tr>\n",
              "\t<tr><th scope=row>char_ext_wall</th><td>char_ext_wall              </td><td>0.00068</td></tr>\n",
              "\t<tr><th scope=row>char_roof_cnst</th><td>char_roof_cnst             </td><td>0.00068</td></tr>\n",
              "\t<tr><th scope=row>char_bsmt_fin</th><td>char_bsmt_fin              </td><td>0.00068</td></tr>\n",
              "\t<tr><th scope=row>char_bsmt</th><td>char_bsmt                  </td><td>0.00066</td></tr>\n",
              "\t<tr><th scope=row>char_type_resd</th><td>char_type_resd             </td><td>0.00066</td></tr>\n",
              "\t<tr><th scope=row>char_air</th><td>char_air                   </td><td>0.00060</td></tr>\n",
              "\t<tr><th scope=row>char_gar1_size</th><td>char_gar1_size             </td><td>0.00060</td></tr>\n",
              "\t<tr><th scope=row>ind_garage</th><td>ind_garage                 </td><td>0.00060</td></tr>\n",
              "</tbody>\n",
              "</table>\n"
            ],
            "text/markdown": "\nA data.frame: 31 × 2\n\n| <!--/--> | feature &lt;chr&gt; | na_cnt &lt;dbl&gt; |\n|---|---|---|\n| meta_cdu | meta_cdu                    | 0.94392 |\n| char_tp_plan | char_tp_plan                | 0.28450 |\n| char_gar1_att | char_gar1_att               | 0.14240 |\n| char_gar1_area | char_gar1_area              | 0.14240 |\n| char_gar1_cnst | char_gar1_cnst              | 0.14238 |\n| geo_fips | geo_fips                    | 0.02304 |\n| geo_municipality | geo_municipality            | 0.02304 |\n| char_oheat | char_oheat                  | 0.00346 |\n| geo_ohare_noise | geo_ohare_noise             | 0.00346 |\n| geo_floodplain | geo_floodplain              | 0.00346 |\n| geo_fs_flood_risk_direction | geo_fs_flood_risk_direction | 0.00346 |\n| geo_withinmr100 | geo_withinmr100             | 0.00346 |\n| geo_withinmr101300 | geo_withinmr101300          | 0.00346 |\n| geo_school_elem_district | geo_school_elem_district    | 0.00346 |\n| geo_school_hs_district | geo_school_hs_district      | 0.00346 |\n| geo_property_city | geo_property_city           | 0.00280 |\n| geo_property_zip | geo_property_zip            | 0.00280 |\n| char_cnst_qlty | char_cnst_qlty              | 0.00140 |\n| char_heat | char_heat                   | 0.00070 |\n| char_attic_type | char_attic_type             | 0.00070 |\n| char_site | char_site                   | 0.00070 |\n| char_repair_cnd | char_repair_cnd             | 0.00070 |\n| char_use | char_use                    | 0.00070 |\n| char_ext_wall | char_ext_wall               | 0.00068 |\n| char_roof_cnst | char_roof_cnst              | 0.00068 |\n| char_bsmt_fin | char_bsmt_fin               | 0.00068 |\n| char_bsmt | char_bsmt                   | 0.00066 |\n| char_type_resd | char_type_resd              | 0.00066 |\n| char_air | char_air                    | 0.00060 |\n| char_gar1_size | char_gar1_size              | 0.00060 |\n| ind_garage | ind_garage                  | 0.00060 |\n\n",
            "text/latex": "A data.frame: 31 × 2\n\\begin{tabular}{r|ll}\n  & feature & na\\_cnt\\\\\n  & <chr> & <dbl>\\\\\n\\hline\n\tmeta\\_cdu & meta\\_cdu                    & 0.94392\\\\\n\tchar\\_tp\\_plan & char\\_tp\\_plan                & 0.28450\\\\\n\tchar\\_gar1\\_att & char\\_gar1\\_att               & 0.14240\\\\\n\tchar\\_gar1\\_area & char\\_gar1\\_area              & 0.14240\\\\\n\tchar\\_gar1\\_cnst & char\\_gar1\\_cnst              & 0.14238\\\\\n\tgeo\\_fips & geo\\_fips                    & 0.02304\\\\\n\tgeo\\_municipality & geo\\_municipality            & 0.02304\\\\\n\tchar\\_oheat & char\\_oheat                  & 0.00346\\\\\n\tgeo\\_ohare\\_noise & geo\\_ohare\\_noise             & 0.00346\\\\\n\tgeo\\_floodplain & geo\\_floodplain              & 0.00346\\\\\n\tgeo\\_fs\\_flood\\_risk\\_direction & geo\\_fs\\_flood\\_risk\\_direction & 0.00346\\\\\n\tgeo\\_withinmr100 & geo\\_withinmr100             & 0.00346\\\\\n\tgeo\\_withinmr101300 & geo\\_withinmr101300          & 0.00346\\\\\n\tgeo\\_school\\_elem\\_district & geo\\_school\\_elem\\_district    & 0.00346\\\\\n\tgeo\\_school\\_hs\\_district & geo\\_school\\_hs\\_district      & 0.00346\\\\\n\tgeo\\_property\\_city & geo\\_property\\_city           & 0.00280\\\\\n\tgeo\\_property\\_zip & geo\\_property\\_zip            & 0.00280\\\\\n\tchar\\_cnst\\_qlty & char\\_cnst\\_qlty              & 0.00140\\\\\n\tchar\\_heat & char\\_heat                   & 0.00070\\\\\n\tchar\\_attic\\_type & char\\_attic\\_type             & 0.00070\\\\\n\tchar\\_site & char\\_site                   & 0.00070\\\\\n\tchar\\_repair\\_cnd & char\\_repair\\_cnd             & 0.00070\\\\\n\tchar\\_use & char\\_use                    & 0.00070\\\\\n\tchar\\_ext\\_wall & char\\_ext\\_wall               & 0.00068\\\\\n\tchar\\_roof\\_cnst & char\\_roof\\_cnst              & 0.00068\\\\\n\tchar\\_bsmt\\_fin & char\\_bsmt\\_fin               & 0.00068\\\\\n\tchar\\_bsmt & char\\_bsmt                   & 0.00066\\\\\n\tchar\\_type\\_resd & char\\_type\\_resd              & 0.00066\\\\\n\tchar\\_air & char\\_air                    & 0.00060\\\\\n\tchar\\_gar1\\_size & char\\_gar1\\_size              & 0.00060\\\\\n\tind\\_garage & ind\\_garage                  & 0.00060\\\\\n\\end{tabular}\n",
            "text/plain": [
              "                            feature                     na_cnt \n",
              "meta_cdu                    meta_cdu                    0.94392\n",
              "char_tp_plan                char_tp_plan                0.28450\n",
              "char_gar1_att               char_gar1_att               0.14240\n",
              "char_gar1_area              char_gar1_area              0.14240\n",
              "char_gar1_cnst              char_gar1_cnst              0.14238\n",
              "geo_fips                    geo_fips                    0.02304\n",
              "geo_municipality            geo_municipality            0.02304\n",
              "char_oheat                  char_oheat                  0.00346\n",
              "geo_ohare_noise             geo_ohare_noise             0.00346\n",
              "geo_floodplain              geo_floodplain              0.00346\n",
              "geo_fs_flood_risk_direction geo_fs_flood_risk_direction 0.00346\n",
              "geo_withinmr100             geo_withinmr100             0.00346\n",
              "geo_withinmr101300          geo_withinmr101300          0.00346\n",
              "geo_school_elem_district    geo_school_elem_district    0.00346\n",
              "geo_school_hs_district      geo_school_hs_district      0.00346\n",
              "geo_property_city           geo_property_city           0.00280\n",
              "geo_property_zip            geo_property_zip            0.00280\n",
              "char_cnst_qlty              char_cnst_qlty              0.00140\n",
              "char_heat                   char_heat                   0.00070\n",
              "char_attic_type             char_attic_type             0.00070\n",
              "char_site                   char_site                   0.00070\n",
              "char_repair_cnd             char_repair_cnd             0.00070\n",
              "char_use                    char_use                    0.00070\n",
              "char_ext_wall               char_ext_wall               0.00068\n",
              "char_roof_cnst              char_roof_cnst              0.00068\n",
              "char_bsmt_fin               char_bsmt_fin               0.00068\n",
              "char_bsmt                   char_bsmt                   0.00066\n",
              "char_type_resd              char_type_resd              0.00066\n",
              "char_air                    char_air                    0.00060\n",
              "char_gar1_size              char_gar1_size              0.00060\n",
              "ind_garage                  ind_garage                  0.00060"
            ]
          },
          "metadata": {}
        }
      ],
      "source": [
        "na_summary <- cbind( as.data.frame(colnames(train_cat)),\n",
        "                        as.data.frame(colMeans(is.na(train_cat))))   # Combine feature names & feature NA counts\n",
        "colnames(na_summary)[1] <- \"feature\"                                 # Rename column\n",
        "colnames(na_summary)[2] <- \"na_cnt\"                                  # Rename column\n",
        "na_summary <- na_summary[na_summary$na_cnt>0, ]                # Subset feature names (rows) with NAs\n",
        "na_summary <- na_summary[order(-na_summary$na_cnt),]           # Sort by 'na_cnt' (desc)\n",
        "na_summary  "
      ]
    },
    {
      "cell_type": "code",
      "execution_count": null,
      "metadata": {
        "id": "d7I9_i3BS3Y4",
        "colab": {
          "base_uri": "https://localhost:8080/",
          "height": 52
        },
        "outputId": "42899e2a-e208-4122-83b1-16d3583c8eac"
      },
      "outputs": [
        {
          "output_type": "display_data",
          "data": {
            "text/html": [
              "<style>\n",
              ".list-inline {list-style: none; margin:0; padding: 0}\n",
              ".list-inline>li {display: inline-block}\n",
              ".list-inline>li:not(:last-child)::after {content: \"\\00b7\"; padding: 0 .5ex}\n",
              "</style>\n",
              "<ol class=list-inline><li>50000</li><li>30</li></ol>\n"
            ],
            "text/markdown": "1. 50000\n2. 30\n\n\n",
            "text/latex": "\\begin{enumerate*}\n\\item 50000\n\\item 30\n\\end{enumerate*}\n",
            "text/plain": [
              "[1] 50000    30"
            ]
          },
          "metadata": {}
        },
        {
          "output_type": "display_data",
          "data": {
            "text/html": [
              "<style>\n",
              ".list-inline {list-style: none; margin:0; padding: 0}\n",
              ".list-inline>li {display: inline-block}\n",
              ".list-inline>li:not(:last-child)::after {content: \"\\00b7\"; padding: 0 .5ex}\n",
              "</style>\n",
              "<ol class=list-inline><li>10000</li><li>30</li></ol>\n"
            ],
            "text/markdown": "1. 10000\n2. 30\n\n\n",
            "text/latex": "\\begin{enumerate*}\n\\item 10000\n\\item 30\n\\end{enumerate*}\n",
            "text/plain": [
              "[1] 10000    30"
            ]
          },
          "metadata": {}
        }
      ],
      "source": [
        "idx_feat_excl <- c( 'meta_town_code',                     # exclude geo features \n",
        "                    'geo_property_city',\n",
        "                    'geo_fips',\n",
        "                    'geo_municipality',\n",
        "                    'geo_school_elem_district',\n",
        "                    'geo_school_hs_district')\n",
        "\n",
        "idx_feat_sub_mask_tmp <- setdiff(colnames(train_cat), idx_feat_excl)     # Obtain feature indices\n",
        "train_cat <- train_cat[, idx_feat_sub_mask_tmp]                       # Subset train_cat with feature indices\n",
        "dim(train_cat)\n",
        "\n",
        "idx_feat_sub_mask_tmp <- setdiff(colnames(predict_cat), idx_feat_excl)   # Obtain feature indices\n",
        "predict_cat <- predict_cat[, idx_feat_sub_mask_tmp]                   # Subset predict_cat with feature indices\n",
        "dim(predict_cat)"
      ]
    },
    {
      "cell_type": "code",
      "execution_count": null,
      "metadata": {
        "id": "Czki7SdJ1H_l",
        "colab": {
          "base_uri": "https://localhost:8080/",
          "height": 52
        },
        "outputId": "fd024302-2c27-4449-fe65-60c66f48db8d"
      },
      "outputs": [
        {
          "output_type": "display_data",
          "data": {
            "text/html": [
              "<style>\n",
              ".list-inline {list-style: none; margin:0; padding: 0}\n",
              ".list-inline>li {display: inline-block}\n",
              ".list-inline>li:not(:last-child)::after {content: \"\\00b7\"; padding: 0 .5ex}\n",
              "</style>\n",
              "<ol class=list-inline><li>50000</li><li>27</li></ol>\n"
            ],
            "text/markdown": "1. 50000\n2. 27\n\n\n",
            "text/latex": "\\begin{enumerate*}\n\\item 50000\n\\item 27\n\\end{enumerate*}\n",
            "text/plain": [
              "[1] 50000    27"
            ]
          },
          "metadata": {}
        },
        {
          "output_type": "display_data",
          "data": {
            "text/html": [
              "<style>\n",
              ".list-inline {list-style: none; margin:0; padding: 0}\n",
              ".list-inline>li {display: inline-block}\n",
              ".list-inline>li:not(:last-child)::after {content: \"\\00b7\"; padding: 0 .5ex}\n",
              "</style>\n",
              "<ol class=list-inline><li>10000</li><li>27</li></ol>\n"
            ],
            "text/markdown": "1. 10000\n2. 27\n\n\n",
            "text/latex": "\\begin{enumerate*}\n\\item 10000\n\\item 27\n\\end{enumerate*}\n",
            "text/plain": [
              "[1] 10000    27"
            ]
          },
          "metadata": {}
        }
      ],
      "source": [
        "idx_feat_num_mask <- !idx_feat_cat_mask                    # obtain numeric features           \n",
        "\n",
        "idx_feat_num_tmp <- colnames(historic_property_data)[idx_feat_num_mask]    # Obtain feature indices \n",
        "train_num <- historic_property_data[, idx_feat_num_tmp]                  # Subset train_num with feature indices \n",
        "dim(train_num)                                                      \n",
        "\n",
        "idx_feat_num_tmp <- colnames(predict)[idx_feat_num_mask]            # Obtain feature indices  \n",
        "predict_num <- predict[, idx_feat_num_tmp]                        # Subset predict_num with feature indices\n",
        "dim(predict_num)                                                    "
      ]
    },
    {
      "cell_type": "code",
      "execution_count": null,
      "metadata": {
        "id": "s1RO-jwO1XIO",
        "colab": {
          "base_uri": "https://localhost:8080/",
          "height": 537
        },
        "outputId": "91070e30-3906-41f0-d8d5-01756a2b512d"
      },
      "outputs": [
        {
          "output_type": "display_data",
          "data": {
            "text/html": [
              "<table class=\"dataframe\">\n",
              "<caption>A data.frame: 14 × 2</caption>\n",
              "<thead>\n",
              "\t<tr><th></th><th scope=col>variable</th><th scope=col>na_percentage</th></tr>\n",
              "\t<tr><th></th><th scope=col>&lt;chr&gt;</th><th scope=col>&lt;dbl&gt;</th></tr>\n",
              "</thead>\n",
              "<tbody>\n",
              "\t<tr><th scope=row>char_renovation</th><td>char_renovation    </td><td>0.99436</td></tr>\n",
              "\t<tr><th scope=row>char_apts</th><td>char_apts          </td><td>0.86206</td></tr>\n",
              "\t<tr><th scope=row>char_porch</th><td>char_porch         </td><td>0.81448</td></tr>\n",
              "\t<tr><th scope=row>char_attic_fnsh</th><td>char_attic_fnsh    </td><td>0.66894</td></tr>\n",
              "\t<tr><th scope=row>char_tp_dsgn</th><td>char_tp_dsgn       </td><td>0.54116</td></tr>\n",
              "\t<tr><th scope=row>geo_tract_pop</th><td>geo_tract_pop      </td><td>0.00346</td></tr>\n",
              "\t<tr><th scope=row>geo_white_perc</th><td>geo_white_perc     </td><td>0.00346</td></tr>\n",
              "\t<tr><th scope=row>geo_black_perc</th><td>geo_black_perc     </td><td>0.00346</td></tr>\n",
              "\t<tr><th scope=row>geo_asian_perc</th><td>geo_asian_perc     </td><td>0.00346</td></tr>\n",
              "\t<tr><th scope=row>geo_his_perc</th><td>geo_his_perc       </td><td>0.00346</td></tr>\n",
              "\t<tr><th scope=row>geo_other_perc</th><td>geo_other_perc     </td><td>0.00346</td></tr>\n",
              "\t<tr><th scope=row>geo_fs_flood_factor</th><td>geo_fs_flood_factor</td><td>0.00346</td></tr>\n",
              "\t<tr><th scope=row>econ_midincome</th><td>econ_midincome     </td><td>0.00346</td></tr>\n",
              "\t<tr><th scope=row>char_frpl</th><td>char_frpl          </td><td>0.00070</td></tr>\n",
              "</tbody>\n",
              "</table>\n"
            ],
            "text/markdown": "\nA data.frame: 14 × 2\n\n| <!--/--> | variable &lt;chr&gt; | na_percentage &lt;dbl&gt; |\n|---|---|---|\n| char_renovation | char_renovation     | 0.99436 |\n| char_apts | char_apts           | 0.86206 |\n| char_porch | char_porch          | 0.81448 |\n| char_attic_fnsh | char_attic_fnsh     | 0.66894 |\n| char_tp_dsgn | char_tp_dsgn        | 0.54116 |\n| geo_tract_pop | geo_tract_pop       | 0.00346 |\n| geo_white_perc | geo_white_perc      | 0.00346 |\n| geo_black_perc | geo_black_perc      | 0.00346 |\n| geo_asian_perc | geo_asian_perc      | 0.00346 |\n| geo_his_perc | geo_his_perc        | 0.00346 |\n| geo_other_perc | geo_other_perc      | 0.00346 |\n| geo_fs_flood_factor | geo_fs_flood_factor | 0.00346 |\n| econ_midincome | econ_midincome      | 0.00346 |\n| char_frpl | char_frpl           | 0.00070 |\n\n",
            "text/latex": "A data.frame: 14 × 2\n\\begin{tabular}{r|ll}\n  & variable & na\\_percentage\\\\\n  & <chr> & <dbl>\\\\\n\\hline\n\tchar\\_renovation & char\\_renovation     & 0.99436\\\\\n\tchar\\_apts & char\\_apts           & 0.86206\\\\\n\tchar\\_porch & char\\_porch          & 0.81448\\\\\n\tchar\\_attic\\_fnsh & char\\_attic\\_fnsh     & 0.66894\\\\\n\tchar\\_tp\\_dsgn & char\\_tp\\_dsgn        & 0.54116\\\\\n\tgeo\\_tract\\_pop & geo\\_tract\\_pop       & 0.00346\\\\\n\tgeo\\_white\\_perc & geo\\_white\\_perc      & 0.00346\\\\\n\tgeo\\_black\\_perc & geo\\_black\\_perc      & 0.00346\\\\\n\tgeo\\_asian\\_perc & geo\\_asian\\_perc      & 0.00346\\\\\n\tgeo\\_his\\_perc & geo\\_his\\_perc        & 0.00346\\\\\n\tgeo\\_other\\_perc & geo\\_other\\_perc      & 0.00346\\\\\n\tgeo\\_fs\\_flood\\_factor & geo\\_fs\\_flood\\_factor & 0.00346\\\\\n\tecon\\_midincome & econ\\_midincome      & 0.00346\\\\\n\tchar\\_frpl & char\\_frpl           & 0.00070\\\\\n\\end{tabular}\n",
            "text/plain": [
              "                    variable            na_percentage\n",
              "char_renovation     char_renovation     0.99436      \n",
              "char_apts           char_apts           0.86206      \n",
              "char_porch          char_porch          0.81448      \n",
              "char_attic_fnsh     char_attic_fnsh     0.66894      \n",
              "char_tp_dsgn        char_tp_dsgn        0.54116      \n",
              "geo_tract_pop       geo_tract_pop       0.00346      \n",
              "geo_white_perc      geo_white_perc      0.00346      \n",
              "geo_black_perc      geo_black_perc      0.00346      \n",
              "geo_asian_perc      geo_asian_perc      0.00346      \n",
              "geo_his_perc        geo_his_perc        0.00346      \n",
              "geo_other_perc      geo_other_perc      0.00346      \n",
              "geo_fs_flood_factor geo_fs_flood_factor 0.00346      \n",
              "econ_midincome      econ_midincome      0.00346      \n",
              "char_frpl           char_frpl           0.00070      "
            ]
          },
          "metadata": {}
        }
      ],
      "source": [
        "# numeric features na value exploration \n",
        "na_summary <- cbind( as.data.frame(colnames(train_num)),           \n",
        "                        as.data.frame(colMeans(is.na(train_num))))  \n",
        "colnames(na_summary)[1] <- \"variable\"                                 \n",
        "colnames(na_summary)[2] <- \"na_percentage\"                                  \n",
        "na_summary <- na_summary[na_summary$na_percentage>0, ]                \n",
        "na_summary <- na_summary[order(-na_summary$na_percentage),]           \n",
        "na_summary"
      ]
    },
    {
      "cell_type": "code",
      "execution_count": null,
      "metadata": {
        "id": "32eg-NgX1siI",
        "colab": {
          "base_uri": "https://localhost:8080/",
          "height": 86
        },
        "outputId": "fff8154e-f142-4152-9d02-abcd1c6201a4"
      },
      "outputs": [
        {
          "output_type": "display_data",
          "data": {
            "text/html": [
              "<style>\n",
              ".list-inline {list-style: none; margin:0; padding: 0}\n",
              ".list-inline>li {display: inline-block}\n",
              ".list-inline>li:not(:last-child)::after {content: \"\\00b7\"; padding: 0 .5ex}\n",
              "</style>\n",
              "<ol class=list-inline><li>50000</li><li>29</li></ol>\n"
            ],
            "text/markdown": "1. 50000\n2. 29\n\n\n",
            "text/latex": "\\begin{enumerate*}\n\\item 50000\n\\item 29\n\\end{enumerate*}\n",
            "text/plain": [
              "[1] 50000    29"
            ]
          },
          "metadata": {}
        },
        {
          "output_type": "display_data",
          "data": {
            "text/html": [
              "<style>\n",
              ".list-inline {list-style: none; margin:0; padding: 0}\n",
              ".list-inline>li {display: inline-block}\n",
              ".list-inline>li:not(:last-child)::after {content: \"\\00b7\"; padding: 0 .5ex}\n",
              "</style>\n",
              "<ol class=list-inline><li>50000</li><li>22</li></ol>\n"
            ],
            "text/markdown": "1. 50000\n2. 22\n\n\n",
            "text/latex": "\\begin{enumerate*}\n\\item 50000\n\\item 22\n\\end{enumerate*}\n",
            "text/plain": [
              "[1] 50000    22"
            ]
          },
          "metadata": {}
        },
        {
          "output_type": "display_data",
          "data": {
            "text/html": [
              "<style>\n",
              ".list-inline {list-style: none; margin:0; padding: 0}\n",
              ".list-inline>li {display: inline-block}\n",
              ".list-inline>li:not(:last-child)::after {content: \"\\00b7\"; padding: 0 .5ex}\n",
              "</style>\n",
              "<ol class=list-inline><li>10000</li><li>29</li></ol>\n"
            ],
            "text/markdown": "1. 10000\n2. 29\n\n\n",
            "text/latex": "\\begin{enumerate*}\n\\item 10000\n\\item 29\n\\end{enumerate*}\n",
            "text/plain": [
              "[1] 10000    29"
            ]
          },
          "metadata": {}
        },
        {
          "output_type": "display_data",
          "data": {
            "text/html": [
              "<style>\n",
              ".list-inline {list-style: none; margin:0; padding: 0}\n",
              ".list-inline>li {display: inline-block}\n",
              ".list-inline>li:not(:last-child)::after {content: \"\\00b7\"; padding: 0 .5ex}\n",
              "</style>\n",
              "<ol class=list-inline><li>10000</li><li>22</li></ol>\n"
            ],
            "text/markdown": "1. 10000\n2. 22\n\n\n",
            "text/latex": "\\begin{enumerate*}\n\\item 10000\n\\item 22\n\\end{enumerate*}\n",
            "text/plain": [
              "[1] 10000    22"
            ]
          },
          "metadata": {}
        }
      ],
      "source": [
        "# drop features that contain over 35% NA values\n",
        "thresh = 0.35\n",
        "\n",
        "train_cat <- train_cat[, which(colMeans(is.na(train_cat)) <= thresh)]      # train data categorical features with more than 35% NAs\n",
        "train_num <- train_num[, which(colMeans(is.na(train_num)) <= thresh)]      # train data numeric features with more than 35% NAs\n",
        "dim(train_cat)\n",
        "dim(train_num)\n",
        "\n",
        "predict_cat <- predict_cat[, which(colMeans(is.na(predict_cat)) <= thresh)]    # predict data categorical features with more than 35% NAs    \n",
        "predict_num <- predict_num[, which(colMeans(is.na(predict_num)) <= thresh)]    # predict data numeric features with more than 35% NAs\n",
        "dim(predict_cat)\n",
        "dim(predict_num)"
      ]
    },
    {
      "cell_type": "code",
      "execution_count": null,
      "metadata": {
        "id": "Re7gwkqm18fE",
        "colab": {
          "base_uri": "https://localhost:8080/",
          "height": 1000
        },
        "outputId": "20ebf693-faf7-48c8-f060-d3bd410e2a4e"
      },
      "outputs": [
        {
          "output_type": "display_data",
          "data": {
            "text/html": [
              "<table class=\"dataframe\">\n",
              "<caption>A data.frame: 50000 × 29</caption>\n",
              "<thead>\n",
              "\t<tr><th scope=col>meta_class</th><th scope=col>meta_deed_type</th><th scope=col>char_ext_wall</th><th scope=col>char_roof_cnst</th><th scope=col>char_bsmt</th><th scope=col>char_bsmt_fin</th><th scope=col>char_heat</th><th scope=col>char_oheat</th><th scope=col>char_air</th><th scope=col>char_attic_type</th><th scope=col>⋯</th><th scope=col>char_type_resd</th><th scope=col>geo_property_zip</th><th scope=col>geo_ohare_noise</th><th scope=col>geo_floodplain</th><th scope=col>geo_fs_flood_risk_direction</th><th scope=col>geo_withinmr100</th><th scope=col>geo_withinmr101300</th><th scope=col>ind_large_home</th><th scope=col>ind_garage</th><th scope=col>ind_arms_length</th></tr>\n",
              "\t<tr><th scope=col>&lt;chr&gt;</th><th scope=col>&lt;chr&gt;</th><th scope=col>&lt;chr&gt;</th><th scope=col>&lt;chr&gt;</th><th scope=col>&lt;chr&gt;</th><th scope=col>&lt;chr&gt;</th><th scope=col>&lt;chr&gt;</th><th scope=col>&lt;chr&gt;</th><th scope=col>&lt;chr&gt;</th><th scope=col>&lt;chr&gt;</th><th scope=col>⋯</th><th scope=col>&lt;chr&gt;</th><th scope=col>&lt;chr&gt;</th><th scope=col>&lt;chr&gt;</th><th scope=col>&lt;chr&gt;</th><th scope=col>&lt;chr&gt;</th><th scope=col>&lt;chr&gt;</th><th scope=col>&lt;chr&gt;</th><th scope=col>&lt;chr&gt;</th><th scope=col>&lt;chr&gt;</th><th scope=col>&lt;chr&gt;</th></tr>\n",
              "</thead>\n",
              "<tbody>\n",
              "\t<tr><td>278</td><td>T</td><td>3</td><td>1</td><td>1</td><td>3</td><td>1</td><td>5</td><td>1</td><td>3</td><td>⋯</td><td>2</td><td>60154</td><td>0</td><td>0</td><td>0</td><td>0</td><td>0</td><td>FALSE</td><td>TRUE </td><td>TRUE</td></tr>\n",
              "\t<tr><td>204</td><td>W</td><td>3</td><td>1</td><td>2</td><td>3</td><td>1</td><td>5</td><td>1</td><td>2</td><td>⋯</td><td>1</td><td>60093</td><td>0</td><td>0</td><td>0</td><td>0</td><td>0</td><td>FALSE</td><td>TRUE </td><td>TRUE</td></tr>\n",
              "\t<tr><td>203</td><td>W</td><td>2</td><td>1</td><td>1</td><td>3</td><td>1</td><td>5</td><td>2</td><td>1</td><td>⋯</td><td>5</td><td>60617</td><td>0</td><td>0</td><td>1</td><td>0</td><td>0</td><td>FALSE</td><td>TRUE </td><td>TRUE</td></tr>\n",
              "\t<tr><td>234</td><td>W</td><td>1</td><td>1</td><td>3</td><td>1</td><td>1</td><td>5</td><td>2</td><td>3</td><td>⋯</td><td>4</td><td>60193</td><td>0</td><td>0</td><td>0</td><td>0</td><td>0</td><td>FALSE</td><td>TRUE </td><td>TRUE</td></tr>\n",
              "\t<tr><td>207</td><td>W</td><td>3</td><td>1</td><td>3</td><td>3</td><td>1</td><td>5</td><td>1</td><td>3</td><td>⋯</td><td>2</td><td>60630</td><td>0</td><td>0</td><td>0</td><td>0</td><td>0</td><td>FALSE</td><td>FALSE</td><td>TRUE</td></tr>\n",
              "\t<tr><td>278</td><td>W</td><td>1</td><td>1</td><td>1</td><td>3</td><td>1</td><td>5</td><td>1</td><td>1</td><td>⋯</td><td>2</td><td>60439</td><td>0</td><td>0</td><td>0</td><td>0</td><td>0</td><td>FALSE</td><td>TRUE </td><td>TRUE</td></tr>\n",
              "\t<tr><td>203</td><td>W</td><td>3</td><td>1</td><td>1</td><td>3</td><td>1</td><td>5</td><td>1</td><td>3</td><td>⋯</td><td>1</td><td>60025</td><td>0</td><td>0</td><td>1</td><td>0</td><td>0</td><td>FALSE</td><td>TRUE </td><td>TRUE</td></tr>\n",
              "\t<tr><td>202</td><td>W</td><td>2</td><td>1</td><td>1</td><td>3</td><td>1</td><td>5</td><td>2</td><td>2</td><td>⋯</td><td>1</td><td>60619</td><td>0</td><td>0</td><td>0</td><td>0</td><td>0</td><td>FALSE</td><td>TRUE </td><td>TRUE</td></tr>\n",
              "\t<tr><td>278</td><td>W</td><td>2</td><td>1</td><td>1</td><td>3</td><td>1</td><td>5</td><td>1</td><td>3</td><td>⋯</td><td>2</td><td>60010</td><td>0</td><td>0</td><td>0</td><td>0</td><td>1</td><td>FALSE</td><td>TRUE </td><td>TRUE</td></tr>\n",
              "\t<tr><td>205</td><td>W</td><td>2</td><td>1</td><td>1</td><td>1</td><td>2</td><td>5</td><td>1</td><td>3</td><td>⋯</td><td>2</td><td>60402</td><td>0</td><td>0</td><td>0</td><td>0</td><td>0</td><td>FALSE</td><td>TRUE </td><td>TRUE</td></tr>\n",
              "\t<tr><td>203</td><td>T</td><td>2</td><td>1</td><td>1</td><td>3</td><td>1</td><td>5</td><td>1</td><td>2</td><td>⋯</td><td>1</td><td>60631</td><td>0</td><td>0</td><td>0</td><td>0</td><td>0</td><td>FALSE</td><td>TRUE </td><td>TRUE</td></tr>\n",
              "\t<tr><td>211</td><td>T</td><td>1</td><td>1</td><td>2</td><td>3</td><td>1</td><td>5</td><td>2</td><td>3</td><td>⋯</td><td>2</td><td>60644</td><td>0</td><td>0</td><td>0</td><td>0</td><td>0</td><td>FALSE</td><td>TRUE </td><td>TRUE</td></tr>\n",
              "\t<tr><td>234</td><td>W</td><td>2</td><td>1</td><td>3</td><td>1</td><td>1</td><td>5</td><td>1</td><td>3</td><td>⋯</td><td>4</td><td>60473</td><td>0</td><td>0</td><td>0</td><td>0</td><td>0</td><td>FALSE</td><td>TRUE </td><td>TRUE</td></tr>\n",
              "\t<tr><td>234</td><td>W</td><td>2</td><td>1</td><td>3</td><td>1</td><td>1</td><td>5</td><td>1</td><td>3</td><td>⋯</td><td>4</td><td>60643</td><td>0</td><td>0</td><td>0</td><td>0</td><td>0</td><td>FALSE</td><td>FALSE</td><td>TRUE</td></tr>\n",
              "\t<tr><td>206</td><td>O</td><td>1</td><td>1</td><td>2</td><td>3</td><td>1</td><td>5</td><td>1</td><td>3</td><td>⋯</td><td>2</td><td>60629</td><td>0</td><td>0</td><td>0</td><td>0</td><td>0</td><td>FALSE</td><td>TRUE </td><td>TRUE</td></tr>\n",
              "\t<tr><td>203</td><td>W</td><td>3</td><td>1</td><td>4</td><td>3</td><td>2</td><td>5</td><td>2</td><td>2</td><td>⋯</td><td>1</td><td>60007</td><td>0</td><td>0</td><td>0</td><td>0</td><td>0</td><td>FALSE</td><td>TRUE </td><td>TRUE</td></tr>\n",
              "\t<tr><td>278</td><td>W</td><td>1</td><td>1</td><td>1</td><td>3</td><td>1</td><td>5</td><td>2</td><td>3</td><td>⋯</td><td>2</td><td>60478</td><td>0</td><td>0</td><td>1</td><td>0</td><td>0</td><td>FALSE</td><td>TRUE </td><td>TRUE</td></tr>\n",
              "\t<tr><td>203</td><td>W</td><td>2</td><td>1</td><td>1</td><td>1</td><td>1</td><td>5</td><td>1</td><td>1</td><td>⋯</td><td>5</td><td>60164</td><td>0</td><td>0</td><td>0</td><td>0</td><td>0</td><td>FALSE</td><td>TRUE </td><td>TRUE</td></tr>\n",
              "\t<tr><td>207</td><td>W</td><td>3</td><td>1</td><td>1</td><td>3</td><td>1</td><td>5</td><td>1</td><td>3</td><td>⋯</td><td>2</td><td>60521</td><td>0</td><td>0</td><td>0</td><td>0</td><td>0</td><td>FALSE</td><td>TRUE </td><td>TRUE</td></tr>\n",
              "\t<tr><td>234</td><td>W</td><td>3</td><td>1</td><td>3</td><td>1</td><td>1</td><td>5</td><td>1</td><td>3</td><td>⋯</td><td>4</td><td>60074</td><td>0</td><td>0</td><td>1</td><td>0</td><td>0</td><td>FALSE</td><td>TRUE </td><td>TRUE</td></tr>\n",
              "\t<tr><td>278</td><td>T</td><td>3</td><td>1</td><td>3</td><td>3</td><td>1</td><td>5</td><td>1</td><td>3</td><td>⋯</td><td>2</td><td>60007</td><td>0</td><td>0</td><td>0</td><td>0</td><td>1</td><td>FALSE</td><td>TRUE </td><td>TRUE</td></tr>\n",
              "\t<tr><td>203</td><td>W</td><td>2</td><td>1</td><td>1</td><td>1</td><td>1</td><td>5</td><td>1</td><td>1</td><td>⋯</td><td>5</td><td>60630</td><td>0</td><td>0</td><td>0</td><td>0</td><td>0</td><td>FALSE</td><td>TRUE </td><td>TRUE</td></tr>\n",
              "\t<tr><td>211</td><td>O</td><td>2</td><td>2</td><td>1</td><td>1</td><td>2</td><td>5</td><td>2</td><td>3</td><td>⋯</td><td>3</td><td>60622</td><td>0</td><td>0</td><td>0</td><td>0</td><td>0</td><td>FALSE</td><td>FALSE</td><td>TRUE</td></tr>\n",
              "\t<tr><td>204</td><td>W</td><td>3</td><td>1</td><td>3</td><td>1</td><td>1</td><td>5</td><td>1</td><td>3</td><td>⋯</td><td>1</td><td>60803</td><td>0</td><td>0</td><td>0</td><td>0</td><td>0</td><td>FALSE</td><td>TRUE </td><td>TRUE</td></tr>\n",
              "\t<tr><td>203</td><td>W</td><td>1</td><td>1</td><td>2</td><td>3</td><td>1</td><td>5</td><td>1</td><td>3</td><td>⋯</td><td>1</td><td>60445</td><td>0</td><td>0</td><td>0</td><td>0</td><td>0</td><td>FALSE</td><td>TRUE </td><td>TRUE</td></tr>\n",
              "\t<tr><td>211</td><td>W</td><td>2</td><td>2</td><td>1</td><td>3</td><td>2</td><td>5</td><td>2</td><td>3</td><td>⋯</td><td>2</td><td>60625</td><td>0</td><td>0</td><td>1</td><td>0</td><td>0</td><td>FALSE</td><td>TRUE </td><td>TRUE</td></tr>\n",
              "\t<tr><td>205</td><td>O</td><td>2</td><td>1</td><td>1</td><td>1</td><td>1</td><td>5</td><td>1</td><td>3</td><td>⋯</td><td>2</td><td>60804</td><td>0</td><td>0</td><td>0</td><td>0</td><td>0</td><td>FALSE</td><td>TRUE </td><td>TRUE</td></tr>\n",
              "\t<tr><td>203</td><td>O</td><td>2</td><td>1</td><td>1</td><td>3</td><td>1</td><td>5</td><td>2</td><td>3</td><td>⋯</td><td>1</td><td>60805</td><td>0</td><td>0</td><td>0</td><td>0</td><td>0</td><td>FALSE</td><td>TRUE </td><td>TRUE</td></tr>\n",
              "\t<tr><td>205</td><td>O</td><td>2</td><td>1</td><td>1</td><td>3</td><td>1</td><td>5</td><td>1</td><td>1</td><td>⋯</td><td>2</td><td>60655</td><td>0</td><td>0</td><td>0</td><td>0</td><td>1</td><td>FALSE</td><td>TRUE </td><td>TRUE</td></tr>\n",
              "\t<tr><td>295</td><td>W</td><td>2</td><td>1</td><td>3</td><td>1</td><td>1</td><td>5</td><td>1</td><td>3</td><td>⋯</td><td>1</td><td>60091</td><td>0</td><td>0</td><td>0</td><td>0</td><td>0</td><td>FALSE</td><td>TRUE </td><td>TRUE</td></tr>\n",
              "\t<tr><td>⋮</td><td>⋮</td><td>⋮</td><td>⋮</td><td>⋮</td><td>⋮</td><td>⋮</td><td>⋮</td><td>⋮</td><td>⋮</td><td>⋱</td><td>⋮</td><td>⋮</td><td>⋮</td><td>⋮</td><td>⋮</td><td>⋮</td><td>⋮</td><td>⋮</td><td>⋮</td><td>⋮</td></tr>\n",
              "\t<tr><td>207</td><td>W</td><td>1</td><td>1</td><td>1</td><td>1</td><td>1</td><td>5</td><td>1</td><td>3</td><td>⋯</td><td>2</td><td>60103</td><td>0</td><td>0</td><td>0</td><td>0</td><td>0</td><td>FALSE</td><td>TRUE </td><td>TRUE </td></tr>\n",
              "\t<tr><td>205</td><td>T</td><td>2</td><td>1</td><td>1</td><td>3</td><td>1</td><td>5</td><td>2</td><td>1</td><td>⋯</td><td>2</td><td>60619</td><td>0</td><td>0</td><td>1</td><td>0</td><td>0</td><td>FALSE</td><td>TRUE </td><td>TRUE </td></tr>\n",
              "\t<tr><td>295</td><td>O</td><td>3</td><td>1</td><td>1</td><td>3</td><td>1</td><td>5</td><td>1</td><td>3</td><td>⋯</td><td>2</td><td>60107</td><td>0</td><td>0</td><td>0</td><td>0</td><td>0</td><td>FALSE</td><td>FALSE</td><td>TRUE </td></tr>\n",
              "\t<tr><td>205</td><td>W</td><td>1</td><td>6</td><td>1</td><td>3</td><td>1</td><td>5</td><td>2</td><td>3</td><td>⋯</td><td>2</td><td>60618</td><td>0</td><td>0</td><td>0</td><td>0</td><td>0</td><td>FALSE</td><td>TRUE </td><td>TRUE </td></tr>\n",
              "\t<tr><td>203</td><td>W</td><td>1</td><td>1</td><td>3</td><td>1</td><td>1</td><td>5</td><td>1</td><td>3</td><td>⋯</td><td>1</td><td>60107</td><td>0</td><td>0</td><td>0</td><td>0</td><td>0</td><td>FALSE</td><td>TRUE </td><td>TRUE </td></tr>\n",
              "\t<tr><td>203</td><td>W</td><td>1</td><td>1</td><td>1</td><td>1</td><td>1</td><td>5</td><td>2</td><td>2</td><td>⋯</td><td>1</td><td>60620</td><td>0</td><td>0</td><td>1</td><td>0</td><td>0</td><td>FALSE</td><td>TRUE </td><td>TRUE </td></tr>\n",
              "\t<tr><td>202</td><td>O</td><td>1</td><td>1</td><td>2</td><td>3</td><td>1</td><td>5</td><td>2</td><td>3</td><td>⋯</td><td>1</td><td>60628</td><td>0</td><td>0</td><td>1</td><td>0</td><td>0</td><td>FALSE</td><td>TRUE </td><td>FALSE</td></tr>\n",
              "\t<tr><td>203</td><td>W</td><td>1</td><td>1</td><td>2</td><td>3</td><td>1</td><td>5</td><td>1</td><td>1</td><td>⋯</td><td>5</td><td>60647</td><td>0</td><td>0</td><td>0</td><td>0</td><td>0</td><td>FALSE</td><td>TRUE </td><td>TRUE </td></tr>\n",
              "\t<tr><td>211</td><td>W</td><td>2</td><td>1</td><td>2</td><td>3</td><td>1</td><td>5</td><td>1</td><td>3</td><td>⋯</td><td>3</td><td>60090</td><td>0</td><td>0</td><td>0</td><td>0</td><td>0</td><td>FALSE</td><td>FALSE</td><td>TRUE </td></tr>\n",
              "\t<tr><td>203</td><td>W</td><td>2</td><td>1</td><td>4</td><td>3</td><td>1</td><td>5</td><td>1</td><td>3</td><td>⋯</td><td>1</td><td>60558</td><td>0</td><td>0</td><td>1</td><td>0</td><td>0</td><td>FALSE</td><td>TRUE </td><td>TRUE </td></tr>\n",
              "\t<tr><td>206</td><td>W</td><td>2</td><td>2</td><td>4</td><td>3</td><td>2</td><td>5</td><td>2</td><td>3</td><td>⋯</td><td>2</td><td>60622</td><td>0</td><td>0</td><td>0</td><td>0</td><td>0</td><td>FALSE</td><td>TRUE </td><td>TRUE </td></tr>\n",
              "\t<tr><td>278</td><td>W</td><td>3</td><td>1</td><td>1</td><td>1</td><td>1</td><td>5</td><td>1</td><td>3</td><td>⋯</td><td>2</td><td>60430</td><td>0</td><td>0</td><td>0</td><td>0</td><td>0</td><td>FALSE</td><td>TRUE </td><td>TRUE </td></tr>\n",
              "\t<tr><td>204</td><td>O</td><td>1</td><td>1</td><td>1</td><td>1</td><td>1</td><td>5</td><td>1</td><td>1</td><td>⋯</td><td>5</td><td>60546</td><td>0</td><td>0</td><td>0</td><td>0</td><td>0</td><td>FALSE</td><td>TRUE </td><td>TRUE </td></tr>\n",
              "\t<tr><td>212</td><td>W</td><td>2</td><td>2</td><td>3</td><td>3</td><td>1</td><td>5</td><td>2</td><td>1</td><td>⋯</td><td>2</td><td>60640</td><td>0</td><td>0</td><td>0</td><td>0</td><td>1</td><td>FALSE</td><td>TRUE </td><td>TRUE </td></tr>\n",
              "\t<tr><td>202</td><td>W</td><td>2</td><td>1</td><td>1</td><td>3</td><td>2</td><td>5</td><td>2</td><td>3</td><td>⋯</td><td>5</td><td>60068</td><td>1</td><td>0</td><td>1</td><td>0</td><td>0</td><td>FALSE</td><td>TRUE </td><td>TRUE </td></tr>\n",
              "\t<tr><td>203</td><td>W</td><td>2</td><td>1</td><td>3</td><td>1</td><td>1</td><td>5</td><td>1</td><td>1</td><td>⋯</td><td>1</td><td>60076</td><td>0</td><td>0</td><td>0</td><td>0</td><td>0</td><td>FALSE</td><td>TRUE </td><td>TRUE </td></tr>\n",
              "\t<tr><td>211</td><td>W</td><td>2</td><td>1</td><td>1</td><td>1</td><td>1</td><td>5</td><td>1</td><td>3</td><td>⋯</td><td>2</td><td>60501</td><td>0</td><td>0</td><td>0</td><td>0</td><td>0</td><td>FALSE</td><td>TRUE </td><td>TRUE </td></tr>\n",
              "\t<tr><td>203</td><td>W</td><td>3</td><td>1</td><td>3</td><td>1</td><td>1</td><td>5</td><td>2</td><td>1</td><td>⋯</td><td>1</td><td>60707</td><td>0</td><td>0</td><td>0</td><td>0</td><td>0</td><td>FALSE</td><td>TRUE </td><td>TRUE </td></tr>\n",
              "\t<tr><td>202</td><td>T</td><td>1</td><td>1</td><td>1</td><td>3</td><td>1</td><td>5</td><td>2</td><td>2</td><td>⋯</td><td>1</td><td>60628</td><td>0</td><td>0</td><td>0</td><td>0</td><td>0</td><td>FALSE</td><td>TRUE </td><td>FALSE</td></tr>\n",
              "\t<tr><td>205</td><td>O</td><td>2</td><td>1</td><td>1</td><td>3</td><td>1</td><td>5</td><td>1</td><td>3</td><td>⋯</td><td>2</td><td>60827</td><td>0</td><td>0</td><td>0</td><td>0</td><td>0</td><td>FALSE</td><td>TRUE </td><td>TRUE </td></tr>\n",
              "\t<tr><td>234</td><td>W</td><td>3</td><td>1</td><td>3</td><td>1</td><td>1</td><td>5</td><td>2</td><td>3</td><td>⋯</td><td>4</td><td>60018</td><td>0</td><td>0</td><td>1</td><td>0</td><td>0</td><td>FALSE</td><td>TRUE </td><td>TRUE </td></tr>\n",
              "\t<tr><td>203</td><td>W</td><td>1</td><td>1</td><td>1</td><td>3</td><td>1</td><td>5</td><td>2</td><td>3</td><td>⋯</td><td>1</td><td>60018</td><td>0</td><td>0</td><td>0</td><td>0</td><td>0</td><td>FALSE</td><td>FALSE</td><td>TRUE </td></tr>\n",
              "\t<tr><td>278</td><td>W</td><td>1</td><td>1</td><td>1</td><td>3</td><td>1</td><td>5</td><td>1</td><td>3</td><td>⋯</td><td>2</td><td>60480</td><td>0</td><td>0</td><td>0</td><td>0</td><td>0</td><td>FALSE</td><td>TRUE </td><td>TRUE </td></tr>\n",
              "\t<tr><td>205</td><td>O</td><td>1</td><td>1</td><td>2</td><td>3</td><td>1</td><td>2</td><td>2</td><td>3</td><td>⋯</td><td>2</td><td>60619</td><td>0</td><td>0</td><td>0</td><td>0</td><td>0</td><td>FALSE</td><td>TRUE </td><td>TRUE </td></tr>\n",
              "\t<tr><td>203</td><td>T</td><td>2</td><td>1</td><td>4</td><td>3</td><td>1</td><td>5</td><td>1</td><td>2</td><td>⋯</td><td>1</td><td>60482</td><td>0</td><td>0</td><td>0</td><td>0</td><td>0</td><td>FALSE</td><td>TRUE </td><td>TRUE </td></tr>\n",
              "\t<tr><td>202</td><td>O</td><td>2</td><td>1</td><td>1</td><td>3</td><td>1</td><td>5</td><td>1</td><td>1</td><td>⋯</td><td>1</td><td>60104</td><td>0</td><td>0</td><td>1</td><td>0</td><td>0</td><td>FALSE</td><td>TRUE </td><td>TRUE </td></tr>\n",
              "\t<tr><td>278</td><td>W</td><td>1</td><td>1</td><td>1</td><td>3</td><td>1</td><td>5</td><td>1</td><td>3</td><td>⋯</td><td>2</td><td>60641</td><td>0</td><td>0</td><td>0</td><td>0</td><td>0</td><td>FALSE</td><td>TRUE </td><td>TRUE </td></tr>\n",
              "\t<tr><td>205</td><td>W</td><td>1</td><td>1</td><td>3</td><td>1</td><td>1</td><td>5</td><td>1</td><td>3</td><td>⋯</td><td>2</td><td>60091</td><td>0</td><td>0</td><td>1</td><td>0</td><td>0</td><td>FALSE</td><td>TRUE </td><td>TRUE </td></tr>\n",
              "\t<tr><td>203</td><td>T</td><td>2</td><td>1</td><td>1</td><td>3</td><td>2</td><td>5</td><td>2</td><td>1</td><td>⋯</td><td>1</td><td>60707</td><td>0</td><td>0</td><td>0</td><td>0</td><td>0</td><td>FALSE</td><td>TRUE </td><td>TRUE </td></tr>\n",
              "\t<tr><td>203</td><td>O</td><td>3</td><td>1</td><td>3</td><td>1</td><td>1</td><td>5</td><td>1</td><td>1</td><td>⋯</td><td>1</td><td>60452</td><td>0</td><td>0</td><td>0</td><td>0</td><td>0</td><td>FALSE</td><td>TRUE </td><td>TRUE </td></tr>\n",
              "</tbody>\n",
              "</table>\n"
            ],
            "text/markdown": "\nA data.frame: 50000 × 29\n\n| meta_class &lt;chr&gt; | meta_deed_type &lt;chr&gt; | char_ext_wall &lt;chr&gt; | char_roof_cnst &lt;chr&gt; | char_bsmt &lt;chr&gt; | char_bsmt_fin &lt;chr&gt; | char_heat &lt;chr&gt; | char_oheat &lt;chr&gt; | char_air &lt;chr&gt; | char_attic_type &lt;chr&gt; | ⋯ ⋯ | char_type_resd &lt;chr&gt; | geo_property_zip &lt;chr&gt; | geo_ohare_noise &lt;chr&gt; | geo_floodplain &lt;chr&gt; | geo_fs_flood_risk_direction &lt;chr&gt; | geo_withinmr100 &lt;chr&gt; | geo_withinmr101300 &lt;chr&gt; | ind_large_home &lt;chr&gt; | ind_garage &lt;chr&gt; | ind_arms_length &lt;chr&gt; |\n|---|---|---|---|---|---|---|---|---|---|---|---|---|---|---|---|---|---|---|---|---|\n| 278 | T | 3 | 1 | 1 | 3 | 1 | 5 | 1 | 3 | ⋯ | 2 | 60154 | 0 | 0 | 0 | 0 | 0 | FALSE | TRUE  | TRUE |\n| 204 | W | 3 | 1 | 2 | 3 | 1 | 5 | 1 | 2 | ⋯ | 1 | 60093 | 0 | 0 | 0 | 0 | 0 | FALSE | TRUE  | TRUE |\n| 203 | W | 2 | 1 | 1 | 3 | 1 | 5 | 2 | 1 | ⋯ | 5 | 60617 | 0 | 0 | 1 | 0 | 0 | FALSE | TRUE  | TRUE |\n| 234 | W | 1 | 1 | 3 | 1 | 1 | 5 | 2 | 3 | ⋯ | 4 | 60193 | 0 | 0 | 0 | 0 | 0 | FALSE | TRUE  | TRUE |\n| 207 | W | 3 | 1 | 3 | 3 | 1 | 5 | 1 | 3 | ⋯ | 2 | 60630 | 0 | 0 | 0 | 0 | 0 | FALSE | FALSE | TRUE |\n| 278 | W | 1 | 1 | 1 | 3 | 1 | 5 | 1 | 1 | ⋯ | 2 | 60439 | 0 | 0 | 0 | 0 | 0 | FALSE | TRUE  | TRUE |\n| 203 | W | 3 | 1 | 1 | 3 | 1 | 5 | 1 | 3 | ⋯ | 1 | 60025 | 0 | 0 | 1 | 0 | 0 | FALSE | TRUE  | TRUE |\n| 202 | W | 2 | 1 | 1 | 3 | 1 | 5 | 2 | 2 | ⋯ | 1 | 60619 | 0 | 0 | 0 | 0 | 0 | FALSE | TRUE  | TRUE |\n| 278 | W | 2 | 1 | 1 | 3 | 1 | 5 | 1 | 3 | ⋯ | 2 | 60010 | 0 | 0 | 0 | 0 | 1 | FALSE | TRUE  | TRUE |\n| 205 | W | 2 | 1 | 1 | 1 | 2 | 5 | 1 | 3 | ⋯ | 2 | 60402 | 0 | 0 | 0 | 0 | 0 | FALSE | TRUE  | TRUE |\n| 203 | T | 2 | 1 | 1 | 3 | 1 | 5 | 1 | 2 | ⋯ | 1 | 60631 | 0 | 0 | 0 | 0 | 0 | FALSE | TRUE  | TRUE |\n| 211 | T | 1 | 1 | 2 | 3 | 1 | 5 | 2 | 3 | ⋯ | 2 | 60644 | 0 | 0 | 0 | 0 | 0 | FALSE | TRUE  | TRUE |\n| 234 | W | 2 | 1 | 3 | 1 | 1 | 5 | 1 | 3 | ⋯ | 4 | 60473 | 0 | 0 | 0 | 0 | 0 | FALSE | TRUE  | TRUE |\n| 234 | W | 2 | 1 | 3 | 1 | 1 | 5 | 1 | 3 | ⋯ | 4 | 60643 | 0 | 0 | 0 | 0 | 0 | FALSE | FALSE | TRUE |\n| 206 | O | 1 | 1 | 2 | 3 | 1 | 5 | 1 | 3 | ⋯ | 2 | 60629 | 0 | 0 | 0 | 0 | 0 | FALSE | TRUE  | TRUE |\n| 203 | W | 3 | 1 | 4 | 3 | 2 | 5 | 2 | 2 | ⋯ | 1 | 60007 | 0 | 0 | 0 | 0 | 0 | FALSE | TRUE  | TRUE |\n| 278 | W | 1 | 1 | 1 | 3 | 1 | 5 | 2 | 3 | ⋯ | 2 | 60478 | 0 | 0 | 1 | 0 | 0 | FALSE | TRUE  | TRUE |\n| 203 | W | 2 | 1 | 1 | 1 | 1 | 5 | 1 | 1 | ⋯ | 5 | 60164 | 0 | 0 | 0 | 0 | 0 | FALSE | TRUE  | TRUE |\n| 207 | W | 3 | 1 | 1 | 3 | 1 | 5 | 1 | 3 | ⋯ | 2 | 60521 | 0 | 0 | 0 | 0 | 0 | FALSE | TRUE  | TRUE |\n| 234 | W | 3 | 1 | 3 | 1 | 1 | 5 | 1 | 3 | ⋯ | 4 | 60074 | 0 | 0 | 1 | 0 | 0 | FALSE | TRUE  | TRUE |\n| 278 | T | 3 | 1 | 3 | 3 | 1 | 5 | 1 | 3 | ⋯ | 2 | 60007 | 0 | 0 | 0 | 0 | 1 | FALSE | TRUE  | TRUE |\n| 203 | W | 2 | 1 | 1 | 1 | 1 | 5 | 1 | 1 | ⋯ | 5 | 60630 | 0 | 0 | 0 | 0 | 0 | FALSE | TRUE  | TRUE |\n| 211 | O | 2 | 2 | 1 | 1 | 2 | 5 | 2 | 3 | ⋯ | 3 | 60622 | 0 | 0 | 0 | 0 | 0 | FALSE | FALSE | TRUE |\n| 204 | W | 3 | 1 | 3 | 1 | 1 | 5 | 1 | 3 | ⋯ | 1 | 60803 | 0 | 0 | 0 | 0 | 0 | FALSE | TRUE  | TRUE |\n| 203 | W | 1 | 1 | 2 | 3 | 1 | 5 | 1 | 3 | ⋯ | 1 | 60445 | 0 | 0 | 0 | 0 | 0 | FALSE | TRUE  | TRUE |\n| 211 | W | 2 | 2 | 1 | 3 | 2 | 5 | 2 | 3 | ⋯ | 2 | 60625 | 0 | 0 | 1 | 0 | 0 | FALSE | TRUE  | TRUE |\n| 205 | O | 2 | 1 | 1 | 1 | 1 | 5 | 1 | 3 | ⋯ | 2 | 60804 | 0 | 0 | 0 | 0 | 0 | FALSE | TRUE  | TRUE |\n| 203 | O | 2 | 1 | 1 | 3 | 1 | 5 | 2 | 3 | ⋯ | 1 | 60805 | 0 | 0 | 0 | 0 | 0 | FALSE | TRUE  | TRUE |\n| 205 | O | 2 | 1 | 1 | 3 | 1 | 5 | 1 | 1 | ⋯ | 2 | 60655 | 0 | 0 | 0 | 0 | 1 | FALSE | TRUE  | TRUE |\n| 295 | W | 2 | 1 | 3 | 1 | 1 | 5 | 1 | 3 | ⋯ | 1 | 60091 | 0 | 0 | 0 | 0 | 0 | FALSE | TRUE  | TRUE |\n| ⋮ | ⋮ | ⋮ | ⋮ | ⋮ | ⋮ | ⋮ | ⋮ | ⋮ | ⋮ | ⋱ | ⋮ | ⋮ | ⋮ | ⋮ | ⋮ | ⋮ | ⋮ | ⋮ | ⋮ | ⋮ |\n| 207 | W | 1 | 1 | 1 | 1 | 1 | 5 | 1 | 3 | ⋯ | 2 | 60103 | 0 | 0 | 0 | 0 | 0 | FALSE | TRUE  | TRUE  |\n| 205 | T | 2 | 1 | 1 | 3 | 1 | 5 | 2 | 1 | ⋯ | 2 | 60619 | 0 | 0 | 1 | 0 | 0 | FALSE | TRUE  | TRUE  |\n| 295 | O | 3 | 1 | 1 | 3 | 1 | 5 | 1 | 3 | ⋯ | 2 | 60107 | 0 | 0 | 0 | 0 | 0 | FALSE | FALSE | TRUE  |\n| 205 | W | 1 | 6 | 1 | 3 | 1 | 5 | 2 | 3 | ⋯ | 2 | 60618 | 0 | 0 | 0 | 0 | 0 | FALSE | TRUE  | TRUE  |\n| 203 | W | 1 | 1 | 3 | 1 | 1 | 5 | 1 | 3 | ⋯ | 1 | 60107 | 0 | 0 | 0 | 0 | 0 | FALSE | TRUE  | TRUE  |\n| 203 | W | 1 | 1 | 1 | 1 | 1 | 5 | 2 | 2 | ⋯ | 1 | 60620 | 0 | 0 | 1 | 0 | 0 | FALSE | TRUE  | TRUE  |\n| 202 | O | 1 | 1 | 2 | 3 | 1 | 5 | 2 | 3 | ⋯ | 1 | 60628 | 0 | 0 | 1 | 0 | 0 | FALSE | TRUE  | FALSE |\n| 203 | W | 1 | 1 | 2 | 3 | 1 | 5 | 1 | 1 | ⋯ | 5 | 60647 | 0 | 0 | 0 | 0 | 0 | FALSE | TRUE  | TRUE  |\n| 211 | W | 2 | 1 | 2 | 3 | 1 | 5 | 1 | 3 | ⋯ | 3 | 60090 | 0 | 0 | 0 | 0 | 0 | FALSE | FALSE | TRUE  |\n| 203 | W | 2 | 1 | 4 | 3 | 1 | 5 | 1 | 3 | ⋯ | 1 | 60558 | 0 | 0 | 1 | 0 | 0 | FALSE | TRUE  | TRUE  |\n| 206 | W | 2 | 2 | 4 | 3 | 2 | 5 | 2 | 3 | ⋯ | 2 | 60622 | 0 | 0 | 0 | 0 | 0 | FALSE | TRUE  | TRUE  |\n| 278 | W | 3 | 1 | 1 | 1 | 1 | 5 | 1 | 3 | ⋯ | 2 | 60430 | 0 | 0 | 0 | 0 | 0 | FALSE | TRUE  | TRUE  |\n| 204 | O | 1 | 1 | 1 | 1 | 1 | 5 | 1 | 1 | ⋯ | 5 | 60546 | 0 | 0 | 0 | 0 | 0 | FALSE | TRUE  | TRUE  |\n| 212 | W | 2 | 2 | 3 | 3 | 1 | 5 | 2 | 1 | ⋯ | 2 | 60640 | 0 | 0 | 0 | 0 | 1 | FALSE | TRUE  | TRUE  |\n| 202 | W | 2 | 1 | 1 | 3 | 2 | 5 | 2 | 3 | ⋯ | 5 | 60068 | 1 | 0 | 1 | 0 | 0 | FALSE | TRUE  | TRUE  |\n| 203 | W | 2 | 1 | 3 | 1 | 1 | 5 | 1 | 1 | ⋯ | 1 | 60076 | 0 | 0 | 0 | 0 | 0 | FALSE | TRUE  | TRUE  |\n| 211 | W | 2 | 1 | 1 | 1 | 1 | 5 | 1 | 3 | ⋯ | 2 | 60501 | 0 | 0 | 0 | 0 | 0 | FALSE | TRUE  | TRUE  |\n| 203 | W | 3 | 1 | 3 | 1 | 1 | 5 | 2 | 1 | ⋯ | 1 | 60707 | 0 | 0 | 0 | 0 | 0 | FALSE | TRUE  | TRUE  |\n| 202 | T | 1 | 1 | 1 | 3 | 1 | 5 | 2 | 2 | ⋯ | 1 | 60628 | 0 | 0 | 0 | 0 | 0 | FALSE | TRUE  | FALSE |\n| 205 | O | 2 | 1 | 1 | 3 | 1 | 5 | 1 | 3 | ⋯ | 2 | 60827 | 0 | 0 | 0 | 0 | 0 | FALSE | TRUE  | TRUE  |\n| 234 | W | 3 | 1 | 3 | 1 | 1 | 5 | 2 | 3 | ⋯ | 4 | 60018 | 0 | 0 | 1 | 0 | 0 | FALSE | TRUE  | TRUE  |\n| 203 | W | 1 | 1 | 1 | 3 | 1 | 5 | 2 | 3 | ⋯ | 1 | 60018 | 0 | 0 | 0 | 0 | 0 | FALSE | FALSE | TRUE  |\n| 278 | W | 1 | 1 | 1 | 3 | 1 | 5 | 1 | 3 | ⋯ | 2 | 60480 | 0 | 0 | 0 | 0 | 0 | FALSE | TRUE  | TRUE  |\n| 205 | O | 1 | 1 | 2 | 3 | 1 | 2 | 2 | 3 | ⋯ | 2 | 60619 | 0 | 0 | 0 | 0 | 0 | FALSE | TRUE  | TRUE  |\n| 203 | T | 2 | 1 | 4 | 3 | 1 | 5 | 1 | 2 | ⋯ | 1 | 60482 | 0 | 0 | 0 | 0 | 0 | FALSE | TRUE  | TRUE  |\n| 202 | O | 2 | 1 | 1 | 3 | 1 | 5 | 1 | 1 | ⋯ | 1 | 60104 | 0 | 0 | 1 | 0 | 0 | FALSE | TRUE  | TRUE  |\n| 278 | W | 1 | 1 | 1 | 3 | 1 | 5 | 1 | 3 | ⋯ | 2 | 60641 | 0 | 0 | 0 | 0 | 0 | FALSE | TRUE  | TRUE  |\n| 205 | W | 1 | 1 | 3 | 1 | 1 | 5 | 1 | 3 | ⋯ | 2 | 60091 | 0 | 0 | 1 | 0 | 0 | FALSE | TRUE  | TRUE  |\n| 203 | T | 2 | 1 | 1 | 3 | 2 | 5 | 2 | 1 | ⋯ | 1 | 60707 | 0 | 0 | 0 | 0 | 0 | FALSE | TRUE  | TRUE  |\n| 203 | O | 3 | 1 | 3 | 1 | 1 | 5 | 1 | 1 | ⋯ | 1 | 60452 | 0 | 0 | 0 | 0 | 0 | FALSE | TRUE  | TRUE  |\n\n",
            "text/latex": "A data.frame: 50000 × 29\n\\begin{tabular}{lllllllllllllllllllll}\n meta\\_class & meta\\_deed\\_type & char\\_ext\\_wall & char\\_roof\\_cnst & char\\_bsmt & char\\_bsmt\\_fin & char\\_heat & char\\_oheat & char\\_air & char\\_attic\\_type & ⋯ & char\\_type\\_resd & geo\\_property\\_zip & geo\\_ohare\\_noise & geo\\_floodplain & geo\\_fs\\_flood\\_risk\\_direction & geo\\_withinmr100 & geo\\_withinmr101300 & ind\\_large\\_home & ind\\_garage & ind\\_arms\\_length\\\\\n <chr> & <chr> & <chr> & <chr> & <chr> & <chr> & <chr> & <chr> & <chr> & <chr> & ⋯ & <chr> & <chr> & <chr> & <chr> & <chr> & <chr> & <chr> & <chr> & <chr> & <chr>\\\\\n\\hline\n\t 278 & T & 3 & 1 & 1 & 3 & 1 & 5 & 1 & 3 & ⋯ & 2 & 60154 & 0 & 0 & 0 & 0 & 0 & FALSE & TRUE  & TRUE\\\\\n\t 204 & W & 3 & 1 & 2 & 3 & 1 & 5 & 1 & 2 & ⋯ & 1 & 60093 & 0 & 0 & 0 & 0 & 0 & FALSE & TRUE  & TRUE\\\\\n\t 203 & W & 2 & 1 & 1 & 3 & 1 & 5 & 2 & 1 & ⋯ & 5 & 60617 & 0 & 0 & 1 & 0 & 0 & FALSE & TRUE  & TRUE\\\\\n\t 234 & W & 1 & 1 & 3 & 1 & 1 & 5 & 2 & 3 & ⋯ & 4 & 60193 & 0 & 0 & 0 & 0 & 0 & FALSE & TRUE  & TRUE\\\\\n\t 207 & W & 3 & 1 & 3 & 3 & 1 & 5 & 1 & 3 & ⋯ & 2 & 60630 & 0 & 0 & 0 & 0 & 0 & FALSE & FALSE & TRUE\\\\\n\t 278 & W & 1 & 1 & 1 & 3 & 1 & 5 & 1 & 1 & ⋯ & 2 & 60439 & 0 & 0 & 0 & 0 & 0 & FALSE & TRUE  & TRUE\\\\\n\t 203 & W & 3 & 1 & 1 & 3 & 1 & 5 & 1 & 3 & ⋯ & 1 & 60025 & 0 & 0 & 1 & 0 & 0 & FALSE & TRUE  & TRUE\\\\\n\t 202 & W & 2 & 1 & 1 & 3 & 1 & 5 & 2 & 2 & ⋯ & 1 & 60619 & 0 & 0 & 0 & 0 & 0 & FALSE & TRUE  & TRUE\\\\\n\t 278 & W & 2 & 1 & 1 & 3 & 1 & 5 & 1 & 3 & ⋯ & 2 & 60010 & 0 & 0 & 0 & 0 & 1 & FALSE & TRUE  & TRUE\\\\\n\t 205 & W & 2 & 1 & 1 & 1 & 2 & 5 & 1 & 3 & ⋯ & 2 & 60402 & 0 & 0 & 0 & 0 & 0 & FALSE & TRUE  & TRUE\\\\\n\t 203 & T & 2 & 1 & 1 & 3 & 1 & 5 & 1 & 2 & ⋯ & 1 & 60631 & 0 & 0 & 0 & 0 & 0 & FALSE & TRUE  & TRUE\\\\\n\t 211 & T & 1 & 1 & 2 & 3 & 1 & 5 & 2 & 3 & ⋯ & 2 & 60644 & 0 & 0 & 0 & 0 & 0 & FALSE & TRUE  & TRUE\\\\\n\t 234 & W & 2 & 1 & 3 & 1 & 1 & 5 & 1 & 3 & ⋯ & 4 & 60473 & 0 & 0 & 0 & 0 & 0 & FALSE & TRUE  & TRUE\\\\\n\t 234 & W & 2 & 1 & 3 & 1 & 1 & 5 & 1 & 3 & ⋯ & 4 & 60643 & 0 & 0 & 0 & 0 & 0 & FALSE & FALSE & TRUE\\\\\n\t 206 & O & 1 & 1 & 2 & 3 & 1 & 5 & 1 & 3 & ⋯ & 2 & 60629 & 0 & 0 & 0 & 0 & 0 & FALSE & TRUE  & TRUE\\\\\n\t 203 & W & 3 & 1 & 4 & 3 & 2 & 5 & 2 & 2 & ⋯ & 1 & 60007 & 0 & 0 & 0 & 0 & 0 & FALSE & TRUE  & TRUE\\\\\n\t 278 & W & 1 & 1 & 1 & 3 & 1 & 5 & 2 & 3 & ⋯ & 2 & 60478 & 0 & 0 & 1 & 0 & 0 & FALSE & TRUE  & TRUE\\\\\n\t 203 & W & 2 & 1 & 1 & 1 & 1 & 5 & 1 & 1 & ⋯ & 5 & 60164 & 0 & 0 & 0 & 0 & 0 & FALSE & TRUE  & TRUE\\\\\n\t 207 & W & 3 & 1 & 1 & 3 & 1 & 5 & 1 & 3 & ⋯ & 2 & 60521 & 0 & 0 & 0 & 0 & 0 & FALSE & TRUE  & TRUE\\\\\n\t 234 & W & 3 & 1 & 3 & 1 & 1 & 5 & 1 & 3 & ⋯ & 4 & 60074 & 0 & 0 & 1 & 0 & 0 & FALSE & TRUE  & TRUE\\\\\n\t 278 & T & 3 & 1 & 3 & 3 & 1 & 5 & 1 & 3 & ⋯ & 2 & 60007 & 0 & 0 & 0 & 0 & 1 & FALSE & TRUE  & TRUE\\\\\n\t 203 & W & 2 & 1 & 1 & 1 & 1 & 5 & 1 & 1 & ⋯ & 5 & 60630 & 0 & 0 & 0 & 0 & 0 & FALSE & TRUE  & TRUE\\\\\n\t 211 & O & 2 & 2 & 1 & 1 & 2 & 5 & 2 & 3 & ⋯ & 3 & 60622 & 0 & 0 & 0 & 0 & 0 & FALSE & FALSE & TRUE\\\\\n\t 204 & W & 3 & 1 & 3 & 1 & 1 & 5 & 1 & 3 & ⋯ & 1 & 60803 & 0 & 0 & 0 & 0 & 0 & FALSE & TRUE  & TRUE\\\\\n\t 203 & W & 1 & 1 & 2 & 3 & 1 & 5 & 1 & 3 & ⋯ & 1 & 60445 & 0 & 0 & 0 & 0 & 0 & FALSE & TRUE  & TRUE\\\\\n\t 211 & W & 2 & 2 & 1 & 3 & 2 & 5 & 2 & 3 & ⋯ & 2 & 60625 & 0 & 0 & 1 & 0 & 0 & FALSE & TRUE  & TRUE\\\\\n\t 205 & O & 2 & 1 & 1 & 1 & 1 & 5 & 1 & 3 & ⋯ & 2 & 60804 & 0 & 0 & 0 & 0 & 0 & FALSE & TRUE  & TRUE\\\\\n\t 203 & O & 2 & 1 & 1 & 3 & 1 & 5 & 2 & 3 & ⋯ & 1 & 60805 & 0 & 0 & 0 & 0 & 0 & FALSE & TRUE  & TRUE\\\\\n\t 205 & O & 2 & 1 & 1 & 3 & 1 & 5 & 1 & 1 & ⋯ & 2 & 60655 & 0 & 0 & 0 & 0 & 1 & FALSE & TRUE  & TRUE\\\\\n\t 295 & W & 2 & 1 & 3 & 1 & 1 & 5 & 1 & 3 & ⋯ & 1 & 60091 & 0 & 0 & 0 & 0 & 0 & FALSE & TRUE  & TRUE\\\\\n\t ⋮ & ⋮ & ⋮ & ⋮ & ⋮ & ⋮ & ⋮ & ⋮ & ⋮ & ⋮ & ⋱ & ⋮ & ⋮ & ⋮ & ⋮ & ⋮ & ⋮ & ⋮ & ⋮ & ⋮ & ⋮\\\\\n\t 207 & W & 1 & 1 & 1 & 1 & 1 & 5 & 1 & 3 & ⋯ & 2 & 60103 & 0 & 0 & 0 & 0 & 0 & FALSE & TRUE  & TRUE \\\\\n\t 205 & T & 2 & 1 & 1 & 3 & 1 & 5 & 2 & 1 & ⋯ & 2 & 60619 & 0 & 0 & 1 & 0 & 0 & FALSE & TRUE  & TRUE \\\\\n\t 295 & O & 3 & 1 & 1 & 3 & 1 & 5 & 1 & 3 & ⋯ & 2 & 60107 & 0 & 0 & 0 & 0 & 0 & FALSE & FALSE & TRUE \\\\\n\t 205 & W & 1 & 6 & 1 & 3 & 1 & 5 & 2 & 3 & ⋯ & 2 & 60618 & 0 & 0 & 0 & 0 & 0 & FALSE & TRUE  & TRUE \\\\\n\t 203 & W & 1 & 1 & 3 & 1 & 1 & 5 & 1 & 3 & ⋯ & 1 & 60107 & 0 & 0 & 0 & 0 & 0 & FALSE & TRUE  & TRUE \\\\\n\t 203 & W & 1 & 1 & 1 & 1 & 1 & 5 & 2 & 2 & ⋯ & 1 & 60620 & 0 & 0 & 1 & 0 & 0 & FALSE & TRUE  & TRUE \\\\\n\t 202 & O & 1 & 1 & 2 & 3 & 1 & 5 & 2 & 3 & ⋯ & 1 & 60628 & 0 & 0 & 1 & 0 & 0 & FALSE & TRUE  & FALSE\\\\\n\t 203 & W & 1 & 1 & 2 & 3 & 1 & 5 & 1 & 1 & ⋯ & 5 & 60647 & 0 & 0 & 0 & 0 & 0 & FALSE & TRUE  & TRUE \\\\\n\t 211 & W & 2 & 1 & 2 & 3 & 1 & 5 & 1 & 3 & ⋯ & 3 & 60090 & 0 & 0 & 0 & 0 & 0 & FALSE & FALSE & TRUE \\\\\n\t 203 & W & 2 & 1 & 4 & 3 & 1 & 5 & 1 & 3 & ⋯ & 1 & 60558 & 0 & 0 & 1 & 0 & 0 & FALSE & TRUE  & TRUE \\\\\n\t 206 & W & 2 & 2 & 4 & 3 & 2 & 5 & 2 & 3 & ⋯ & 2 & 60622 & 0 & 0 & 0 & 0 & 0 & FALSE & TRUE  & TRUE \\\\\n\t 278 & W & 3 & 1 & 1 & 1 & 1 & 5 & 1 & 3 & ⋯ & 2 & 60430 & 0 & 0 & 0 & 0 & 0 & FALSE & TRUE  & TRUE \\\\\n\t 204 & O & 1 & 1 & 1 & 1 & 1 & 5 & 1 & 1 & ⋯ & 5 & 60546 & 0 & 0 & 0 & 0 & 0 & FALSE & TRUE  & TRUE \\\\\n\t 212 & W & 2 & 2 & 3 & 3 & 1 & 5 & 2 & 1 & ⋯ & 2 & 60640 & 0 & 0 & 0 & 0 & 1 & FALSE & TRUE  & TRUE \\\\\n\t 202 & W & 2 & 1 & 1 & 3 & 2 & 5 & 2 & 3 & ⋯ & 5 & 60068 & 1 & 0 & 1 & 0 & 0 & FALSE & TRUE  & TRUE \\\\\n\t 203 & W & 2 & 1 & 3 & 1 & 1 & 5 & 1 & 1 & ⋯ & 1 & 60076 & 0 & 0 & 0 & 0 & 0 & FALSE & TRUE  & TRUE \\\\\n\t 211 & W & 2 & 1 & 1 & 1 & 1 & 5 & 1 & 3 & ⋯ & 2 & 60501 & 0 & 0 & 0 & 0 & 0 & FALSE & TRUE  & TRUE \\\\\n\t 203 & W & 3 & 1 & 3 & 1 & 1 & 5 & 2 & 1 & ⋯ & 1 & 60707 & 0 & 0 & 0 & 0 & 0 & FALSE & TRUE  & TRUE \\\\\n\t 202 & T & 1 & 1 & 1 & 3 & 1 & 5 & 2 & 2 & ⋯ & 1 & 60628 & 0 & 0 & 0 & 0 & 0 & FALSE & TRUE  & FALSE\\\\\n\t 205 & O & 2 & 1 & 1 & 3 & 1 & 5 & 1 & 3 & ⋯ & 2 & 60827 & 0 & 0 & 0 & 0 & 0 & FALSE & TRUE  & TRUE \\\\\n\t 234 & W & 3 & 1 & 3 & 1 & 1 & 5 & 2 & 3 & ⋯ & 4 & 60018 & 0 & 0 & 1 & 0 & 0 & FALSE & TRUE  & TRUE \\\\\n\t 203 & W & 1 & 1 & 1 & 3 & 1 & 5 & 2 & 3 & ⋯ & 1 & 60018 & 0 & 0 & 0 & 0 & 0 & FALSE & FALSE & TRUE \\\\\n\t 278 & W & 1 & 1 & 1 & 3 & 1 & 5 & 1 & 3 & ⋯ & 2 & 60480 & 0 & 0 & 0 & 0 & 0 & FALSE & TRUE  & TRUE \\\\\n\t 205 & O & 1 & 1 & 2 & 3 & 1 & 2 & 2 & 3 & ⋯ & 2 & 60619 & 0 & 0 & 0 & 0 & 0 & FALSE & TRUE  & TRUE \\\\\n\t 203 & T & 2 & 1 & 4 & 3 & 1 & 5 & 1 & 2 & ⋯ & 1 & 60482 & 0 & 0 & 0 & 0 & 0 & FALSE & TRUE  & TRUE \\\\\n\t 202 & O & 2 & 1 & 1 & 3 & 1 & 5 & 1 & 1 & ⋯ & 1 & 60104 & 0 & 0 & 1 & 0 & 0 & FALSE & TRUE  & TRUE \\\\\n\t 278 & W & 1 & 1 & 1 & 3 & 1 & 5 & 1 & 3 & ⋯ & 2 & 60641 & 0 & 0 & 0 & 0 & 0 & FALSE & TRUE  & TRUE \\\\\n\t 205 & W & 1 & 1 & 3 & 1 & 1 & 5 & 1 & 3 & ⋯ & 2 & 60091 & 0 & 0 & 1 & 0 & 0 & FALSE & TRUE  & TRUE \\\\\n\t 203 & T & 2 & 1 & 1 & 3 & 2 & 5 & 2 & 1 & ⋯ & 1 & 60707 & 0 & 0 & 0 & 0 & 0 & FALSE & TRUE  & TRUE \\\\\n\t 203 & O & 3 & 1 & 3 & 1 & 1 & 5 & 1 & 1 & ⋯ & 1 & 60452 & 0 & 0 & 0 & 0 & 0 & FALSE & TRUE  & TRUE \\\\\n\\end{tabular}\n",
            "text/plain": [
              "      meta_class meta_deed_type char_ext_wall char_roof_cnst char_bsmt\n",
              "1     278        T              3             1              1        \n",
              "2     204        W              3             1              2        \n",
              "3     203        W              2             1              1        \n",
              "4     234        W              1             1              3        \n",
              "5     207        W              3             1              3        \n",
              "6     278        W              1             1              1        \n",
              "7     203        W              3             1              1        \n",
              "8     202        W              2             1              1        \n",
              "9     278        W              2             1              1        \n",
              "10    205        W              2             1              1        \n",
              "11    203        T              2             1              1        \n",
              "12    211        T              1             1              2        \n",
              "13    234        W              2             1              3        \n",
              "14    234        W              2             1              3        \n",
              "15    206        O              1             1              2        \n",
              "16    203        W              3             1              4        \n",
              "17    278        W              1             1              1        \n",
              "18    203        W              2             1              1        \n",
              "19    207        W              3             1              1        \n",
              "20    234        W              3             1              3        \n",
              "21    278        T              3             1              3        \n",
              "22    203        W              2             1              1        \n",
              "23    211        O              2             2              1        \n",
              "24    204        W              3             1              3        \n",
              "25    203        W              1             1              2        \n",
              "26    211        W              2             2              1        \n",
              "27    205        O              2             1              1        \n",
              "28    203        O              2             1              1        \n",
              "29    205        O              2             1              1        \n",
              "30    295        W              2             1              3        \n",
              "⋮     ⋮          ⋮              ⋮             ⋮              ⋮        \n",
              "49971 207        W              1             1              1        \n",
              "49972 205        T              2             1              1        \n",
              "49973 295        O              3             1              1        \n",
              "49974 205        W              1             6              1        \n",
              "49975 203        W              1             1              3        \n",
              "49976 203        W              1             1              1        \n",
              "49977 202        O              1             1              2        \n",
              "49978 203        W              1             1              2        \n",
              "49979 211        W              2             1              2        \n",
              "49980 203        W              2             1              4        \n",
              "49981 206        W              2             2              4        \n",
              "49982 278        W              3             1              1        \n",
              "49983 204        O              1             1              1        \n",
              "49984 212        W              2             2              3        \n",
              "49985 202        W              2             1              1        \n",
              "49986 203        W              2             1              3        \n",
              "49987 211        W              2             1              1        \n",
              "49988 203        W              3             1              3        \n",
              "49989 202        T              1             1              1        \n",
              "49990 205        O              2             1              1        \n",
              "49991 234        W              3             1              3        \n",
              "49992 203        W              1             1              1        \n",
              "49993 278        W              1             1              1        \n",
              "49994 205        O              1             1              2        \n",
              "49995 203        T              2             1              4        \n",
              "49996 202        O              2             1              1        \n",
              "49997 278        W              1             1              1        \n",
              "49998 205        W              1             1              3        \n",
              "49999 203        T              2             1              1        \n",
              "50000 203        O              3             1              3        \n",
              "      char_bsmt_fin char_heat char_oheat char_air char_attic_type ⋯\n",
              "1     3             1         5          1        3               ⋯\n",
              "2     3             1         5          1        2               ⋯\n",
              "3     3             1         5          2        1               ⋯\n",
              "4     1             1         5          2        3               ⋯\n",
              "5     3             1         5          1        3               ⋯\n",
              "6     3             1         5          1        1               ⋯\n",
              "7     3             1         5          1        3               ⋯\n",
              "8     3             1         5          2        2               ⋯\n",
              "9     3             1         5          1        3               ⋯\n",
              "10    1             2         5          1        3               ⋯\n",
              "11    3             1         5          1        2               ⋯\n",
              "12    3             1         5          2        3               ⋯\n",
              "13    1             1         5          1        3               ⋯\n",
              "14    1             1         5          1        3               ⋯\n",
              "15    3             1         5          1        3               ⋯\n",
              "16    3             2         5          2        2               ⋯\n",
              "17    3             1         5          2        3               ⋯\n",
              "18    1             1         5          1        1               ⋯\n",
              "19    3             1         5          1        3               ⋯\n",
              "20    1             1         5          1        3               ⋯\n",
              "21    3             1         5          1        3               ⋯\n",
              "22    1             1         5          1        1               ⋯\n",
              "23    1             2         5          2        3               ⋯\n",
              "24    1             1         5          1        3               ⋯\n",
              "25    3             1         5          1        3               ⋯\n",
              "26    3             2         5          2        3               ⋯\n",
              "27    1             1         5          1        3               ⋯\n",
              "28    3             1         5          2        3               ⋯\n",
              "29    3             1         5          1        1               ⋯\n",
              "30    1             1         5          1        3               ⋯\n",
              "⋮     ⋮             ⋮         ⋮          ⋮        ⋮               ⋱\n",
              "49971 1             1         5          1        3               ⋯\n",
              "49972 3             1         5          2        1               ⋯\n",
              "49973 3             1         5          1        3               ⋯\n",
              "49974 3             1         5          2        3               ⋯\n",
              "49975 1             1         5          1        3               ⋯\n",
              "49976 1             1         5          2        2               ⋯\n",
              "49977 3             1         5          2        3               ⋯\n",
              "49978 3             1         5          1        1               ⋯\n",
              "49979 3             1         5          1        3               ⋯\n",
              "49980 3             1         5          1        3               ⋯\n",
              "49981 3             2         5          2        3               ⋯\n",
              "49982 1             1         5          1        3               ⋯\n",
              "49983 1             1         5          1        1               ⋯\n",
              "49984 3             1         5          2        1               ⋯\n",
              "49985 3             2         5          2        3               ⋯\n",
              "49986 1             1         5          1        1               ⋯\n",
              "49987 1             1         5          1        3               ⋯\n",
              "49988 1             1         5          2        1               ⋯\n",
              "49989 3             1         5          2        2               ⋯\n",
              "49990 3             1         5          1        3               ⋯\n",
              "49991 1             1         5          2        3               ⋯\n",
              "49992 3             1         5          2        3               ⋯\n",
              "49993 3             1         5          1        3               ⋯\n",
              "49994 3             1         2          2        3               ⋯\n",
              "49995 3             1         5          1        2               ⋯\n",
              "49996 3             1         5          1        1               ⋯\n",
              "49997 3             1         5          1        3               ⋯\n",
              "49998 1             1         5          1        3               ⋯\n",
              "49999 3             2         5          2        1               ⋯\n",
              "50000 1             1         5          1        1               ⋯\n",
              "      char_type_resd geo_property_zip geo_ohare_noise geo_floodplain\n",
              "1     2              60154            0               0             \n",
              "2     1              60093            0               0             \n",
              "3     5              60617            0               0             \n",
              "4     4              60193            0               0             \n",
              "5     2              60630            0               0             \n",
              "6     2              60439            0               0             \n",
              "7     1              60025            0               0             \n",
              "8     1              60619            0               0             \n",
              "9     2              60010            0               0             \n",
              "10    2              60402            0               0             \n",
              "11    1              60631            0               0             \n",
              "12    2              60644            0               0             \n",
              "13    4              60473            0               0             \n",
              "14    4              60643            0               0             \n",
              "15    2              60629            0               0             \n",
              "16    1              60007            0               0             \n",
              "17    2              60478            0               0             \n",
              "18    5              60164            0               0             \n",
              "19    2              60521            0               0             \n",
              "20    4              60074            0               0             \n",
              "21    2              60007            0               0             \n",
              "22    5              60630            0               0             \n",
              "23    3              60622            0               0             \n",
              "24    1              60803            0               0             \n",
              "25    1              60445            0               0             \n",
              "26    2              60625            0               0             \n",
              "27    2              60804            0               0             \n",
              "28    1              60805            0               0             \n",
              "29    2              60655            0               0             \n",
              "30    1              60091            0               0             \n",
              "⋮     ⋮              ⋮                ⋮               ⋮             \n",
              "49971 2              60103            0               0             \n",
              "49972 2              60619            0               0             \n",
              "49973 2              60107            0               0             \n",
              "49974 2              60618            0               0             \n",
              "49975 1              60107            0               0             \n",
              "49976 1              60620            0               0             \n",
              "49977 1              60628            0               0             \n",
              "49978 5              60647            0               0             \n",
              "49979 3              60090            0               0             \n",
              "49980 1              60558            0               0             \n",
              "49981 2              60622            0               0             \n",
              "49982 2              60430            0               0             \n",
              "49983 5              60546            0               0             \n",
              "49984 2              60640            0               0             \n",
              "49985 5              60068            1               0             \n",
              "49986 1              60076            0               0             \n",
              "49987 2              60501            0               0             \n",
              "49988 1              60707            0               0             \n",
              "49989 1              60628            0               0             \n",
              "49990 2              60827            0               0             \n",
              "49991 4              60018            0               0             \n",
              "49992 1              60018            0               0             \n",
              "49993 2              60480            0               0             \n",
              "49994 2              60619            0               0             \n",
              "49995 1              60482            0               0             \n",
              "49996 1              60104            0               0             \n",
              "49997 2              60641            0               0             \n",
              "49998 2              60091            0               0             \n",
              "49999 1              60707            0               0             \n",
              "50000 1              60452            0               0             \n",
              "      geo_fs_flood_risk_direction geo_withinmr100 geo_withinmr101300\n",
              "1     0                           0               0                 \n",
              "2     0                           0               0                 \n",
              "3     1                           0               0                 \n",
              "4     0                           0               0                 \n",
              "5     0                           0               0                 \n",
              "6     0                           0               0                 \n",
              "7     1                           0               0                 \n",
              "8     0                           0               0                 \n",
              "9     0                           0               1                 \n",
              "10    0                           0               0                 \n",
              "11    0                           0               0                 \n",
              "12    0                           0               0                 \n",
              "13    0                           0               0                 \n",
              "14    0                           0               0                 \n",
              "15    0                           0               0                 \n",
              "16    0                           0               0                 \n",
              "17    1                           0               0                 \n",
              "18    0                           0               0                 \n",
              "19    0                           0               0                 \n",
              "20    1                           0               0                 \n",
              "21    0                           0               1                 \n",
              "22    0                           0               0                 \n",
              "23    0                           0               0                 \n",
              "24    0                           0               0                 \n",
              "25    0                           0               0                 \n",
              "26    1                           0               0                 \n",
              "27    0                           0               0                 \n",
              "28    0                           0               0                 \n",
              "29    0                           0               1                 \n",
              "30    0                           0               0                 \n",
              "⋮     ⋮                           ⋮               ⋮                 \n",
              "49971 0                           0               0                 \n",
              "49972 1                           0               0                 \n",
              "49973 0                           0               0                 \n",
              "49974 0                           0               0                 \n",
              "49975 0                           0               0                 \n",
              "49976 1                           0               0                 \n",
              "49977 1                           0               0                 \n",
              "49978 0                           0               0                 \n",
              "49979 0                           0               0                 \n",
              "49980 1                           0               0                 \n",
              "49981 0                           0               0                 \n",
              "49982 0                           0               0                 \n",
              "49983 0                           0               0                 \n",
              "49984 0                           0               1                 \n",
              "49985 1                           0               0                 \n",
              "49986 0                           0               0                 \n",
              "49987 0                           0               0                 \n",
              "49988 0                           0               0                 \n",
              "49989 0                           0               0                 \n",
              "49990 0                           0               0                 \n",
              "49991 1                           0               0                 \n",
              "49992 0                           0               0                 \n",
              "49993 0                           0               0                 \n",
              "49994 0                           0               0                 \n",
              "49995 0                           0               0                 \n",
              "49996 1                           0               0                 \n",
              "49997 0                           0               0                 \n",
              "49998 1                           0               0                 \n",
              "49999 0                           0               0                 \n",
              "50000 0                           0               0                 \n",
              "      ind_large_home ind_garage ind_arms_length\n",
              "1     FALSE          TRUE       TRUE           \n",
              "2     FALSE          TRUE       TRUE           \n",
              "3     FALSE          TRUE       TRUE           \n",
              "4     FALSE          TRUE       TRUE           \n",
              "5     FALSE          FALSE      TRUE           \n",
              "6     FALSE          TRUE       TRUE           \n",
              "7     FALSE          TRUE       TRUE           \n",
              "8     FALSE          TRUE       TRUE           \n",
              "9     FALSE          TRUE       TRUE           \n",
              "10    FALSE          TRUE       TRUE           \n",
              "11    FALSE          TRUE       TRUE           \n",
              "12    FALSE          TRUE       TRUE           \n",
              "13    FALSE          TRUE       TRUE           \n",
              "14    FALSE          FALSE      TRUE           \n",
              "15    FALSE          TRUE       TRUE           \n",
              "16    FALSE          TRUE       TRUE           \n",
              "17    FALSE          TRUE       TRUE           \n",
              "18    FALSE          TRUE       TRUE           \n",
              "19    FALSE          TRUE       TRUE           \n",
              "20    FALSE          TRUE       TRUE           \n",
              "21    FALSE          TRUE       TRUE           \n",
              "22    FALSE          TRUE       TRUE           \n",
              "23    FALSE          FALSE      TRUE           \n",
              "24    FALSE          TRUE       TRUE           \n",
              "25    FALSE          TRUE       TRUE           \n",
              "26    FALSE          TRUE       TRUE           \n",
              "27    FALSE          TRUE       TRUE           \n",
              "28    FALSE          TRUE       TRUE           \n",
              "29    FALSE          TRUE       TRUE           \n",
              "30    FALSE          TRUE       TRUE           \n",
              "⋮     ⋮              ⋮          ⋮              \n",
              "49971 FALSE          TRUE       TRUE           \n",
              "49972 FALSE          TRUE       TRUE           \n",
              "49973 FALSE          FALSE      TRUE           \n",
              "49974 FALSE          TRUE       TRUE           \n",
              "49975 FALSE          TRUE       TRUE           \n",
              "49976 FALSE          TRUE       TRUE           \n",
              "49977 FALSE          TRUE       FALSE          \n",
              "49978 FALSE          TRUE       TRUE           \n",
              "49979 FALSE          FALSE      TRUE           \n",
              "49980 FALSE          TRUE       TRUE           \n",
              "49981 FALSE          TRUE       TRUE           \n",
              "49982 FALSE          TRUE       TRUE           \n",
              "49983 FALSE          TRUE       TRUE           \n",
              "49984 FALSE          TRUE       TRUE           \n",
              "49985 FALSE          TRUE       TRUE           \n",
              "49986 FALSE          TRUE       TRUE           \n",
              "49987 FALSE          TRUE       TRUE           \n",
              "49988 FALSE          TRUE       TRUE           \n",
              "49989 FALSE          TRUE       FALSE          \n",
              "49990 FALSE          TRUE       TRUE           \n",
              "49991 FALSE          TRUE       TRUE           \n",
              "49992 FALSE          FALSE      TRUE           \n",
              "49993 FALSE          TRUE       TRUE           \n",
              "49994 FALSE          TRUE       TRUE           \n",
              "49995 FALSE          TRUE       TRUE           \n",
              "49996 FALSE          TRUE       TRUE           \n",
              "49997 FALSE          TRUE       TRUE           \n",
              "49998 FALSE          TRUE       TRUE           \n",
              "49999 FALSE          TRUE       TRUE           \n",
              "50000 FALSE          TRUE       TRUE           "
            ]
          },
          "metadata": {}
        },
        {
          "output_type": "display_data",
          "data": {
            "text/html": [
              "<table class=\"dataframe\">\n",
              "<caption>A data.frame: 10000 × 29</caption>\n",
              "<thead>\n",
              "\t<tr><th scope=col>meta_class</th><th scope=col>meta_deed_type</th><th scope=col>char_ext_wall</th><th scope=col>char_roof_cnst</th><th scope=col>char_bsmt</th><th scope=col>char_bsmt_fin</th><th scope=col>char_heat</th><th scope=col>char_oheat</th><th scope=col>char_air</th><th scope=col>char_attic_type</th><th scope=col>⋯</th><th scope=col>char_type_resd</th><th scope=col>geo_property_zip</th><th scope=col>geo_ohare_noise</th><th scope=col>geo_floodplain</th><th scope=col>geo_fs_flood_risk_direction</th><th scope=col>geo_withinmr100</th><th scope=col>geo_withinmr101300</th><th scope=col>ind_large_home</th><th scope=col>ind_garage</th><th scope=col>ind_arms_length</th></tr>\n",
              "\t<tr><th scope=col>&lt;chr&gt;</th><th scope=col>&lt;chr&gt;</th><th scope=col>&lt;chr&gt;</th><th scope=col>&lt;chr&gt;</th><th scope=col>&lt;chr&gt;</th><th scope=col>&lt;chr&gt;</th><th scope=col>&lt;chr&gt;</th><th scope=col>&lt;chr&gt;</th><th scope=col>&lt;chr&gt;</th><th scope=col>&lt;chr&gt;</th><th scope=col>⋯</th><th scope=col>&lt;chr&gt;</th><th scope=col>&lt;chr&gt;</th><th scope=col>&lt;chr&gt;</th><th scope=col>&lt;chr&gt;</th><th scope=col>&lt;chr&gt;</th><th scope=col>&lt;chr&gt;</th><th scope=col>&lt;chr&gt;</th><th scope=col>&lt;chr&gt;</th><th scope=col>&lt;chr&gt;</th><th scope=col>&lt;chr&gt;</th></tr>\n",
              "</thead>\n",
              "<tbody>\n",
              "\t<tr><td>203</td><td>W</td><td>1</td><td>1</td><td>3</td><td>1</td><td>1</td><td>5</td><td>1</td><td>3</td><td>⋯</td><td>1</td><td>60133</td><td>0</td><td>0</td><td>0 </td><td>0</td><td>0</td><td>FALSE</td><td>TRUE </td><td>TRUE</td></tr>\n",
              "\t<tr><td>207</td><td>O</td><td>1</td><td>1</td><td>2</td><td>3</td><td>1</td><td>5</td><td>1</td><td>3</td><td>⋯</td><td>2</td><td>60067</td><td>0</td><td>0</td><td>0 </td><td>0</td><td>0</td><td>FALSE</td><td>TRUE </td><td>TRUE</td></tr>\n",
              "\t<tr><td>203</td><td>W</td><td>2</td><td>1</td><td>1</td><td>3</td><td>1</td><td>5</td><td>1</td><td>3</td><td>⋯</td><td>1</td><td>60805</td><td>0</td><td>0</td><td>1 </td><td>0</td><td>0</td><td>FALSE</td><td>TRUE </td><td>TRUE</td></tr>\n",
              "\t<tr><td>211</td><td>O</td><td>1</td><td>1</td><td>2</td><td>3</td><td>1</td><td>5</td><td>2</td><td>3</td><td>⋯</td><td>2</td><td>60629</td><td>0</td><td>0</td><td>0 </td><td>0</td><td>0</td><td>FALSE</td><td>FALSE</td><td>TRUE</td></tr>\n",
              "\t<tr><td>278</td><td>W</td><td>3</td><td>1</td><td>3</td><td>3</td><td>1</td><td>5</td><td>1</td><td>3</td><td>⋯</td><td>2</td><td>60462</td><td>0</td><td>0</td><td>-1</td><td>0</td><td>0</td><td>FALSE</td><td>TRUE </td><td>TRUE</td></tr>\n",
              "\t<tr><td>211</td><td>W</td><td>2</td><td>1</td><td>1</td><td>3</td><td>1</td><td>2</td><td>2</td><td>3</td><td>⋯</td><td>2</td><td>60619</td><td>0</td><td>0</td><td>0 </td><td>0</td><td>0</td><td>FALSE</td><td>FALSE</td><td>TRUE</td></tr>\n",
              "\t<tr><td>234</td><td>W</td><td>3</td><td>1</td><td>3</td><td>1</td><td>1</td><td>5</td><td>2</td><td>3</td><td>⋯</td><td>4</td><td>60452</td><td>0</td><td>0</td><td>0 </td><td>0</td><td>0</td><td>FALSE</td><td>TRUE </td><td>TRUE</td></tr>\n",
              "\t<tr><td>205</td><td>W</td><td>2</td><td>1</td><td>1</td><td>3</td><td>2</td><td>5</td><td>1</td><td>1</td><td>⋯</td><td>2</td><td>60201</td><td>0</td><td>0</td><td>0 </td><td>0</td><td>0</td><td>FALSE</td><td>TRUE </td><td>TRUE</td></tr>\n",
              "\t<tr><td>207</td><td>W</td><td>3</td><td>1</td><td>3</td><td>3</td><td>1</td><td>5</td><td>1</td><td>3</td><td>⋯</td><td>2</td><td>60453</td><td>0</td><td>0</td><td>1 </td><td>0</td><td>0</td><td>FALSE</td><td>TRUE </td><td>TRUE</td></tr>\n",
              "\t<tr><td>208</td><td>W</td><td>3</td><td>1</td><td>3</td><td>3</td><td>1</td><td>5</td><td>1</td><td>3</td><td>⋯</td><td>2</td><td>60467</td><td>0</td><td>0</td><td>0 </td><td>0</td><td>0</td><td>TRUE </td><td>TRUE </td><td>TRUE</td></tr>\n",
              "\t<tr><td>203</td><td>W</td><td>1</td><td>1</td><td>1</td><td>3</td><td>1</td><td>5</td><td>2</td><td>1</td><td>⋯</td><td>5</td><td>60628</td><td>0</td><td>0</td><td>0 </td><td>0</td><td>0</td><td>FALSE</td><td>FALSE</td><td>TRUE</td></tr>\n",
              "\t<tr><td>278</td><td>W</td><td>2</td><td>1</td><td>1</td><td>1</td><td>1</td><td>5</td><td>1</td><td>3</td><td>⋯</td><td>2</td><td>60707</td><td>0</td><td>0</td><td>0 </td><td>0</td><td>0</td><td>FALSE</td><td>TRUE </td><td>TRUE</td></tr>\n",
              "\t<tr><td>202</td><td>W</td><td>2</td><td>6</td><td>1</td><td>3</td><td>1</td><td>5</td><td>2</td><td>2</td><td>⋯</td><td>1</td><td>60620</td><td>0</td><td>0</td><td>0 </td><td>0</td><td>0</td><td>FALSE</td><td>TRUE </td><td>TRUE</td></tr>\n",
              "\t<tr><td>203</td><td>O</td><td>3</td><td>1</td><td>1</td><td>3</td><td>1</td><td>5</td><td>1</td><td>2</td><td>⋯</td><td>5</td><td>60804</td><td>0</td><td>0</td><td>0 </td><td>0</td><td>0</td><td>FALSE</td><td>TRUE </td><td>TRUE</td></tr>\n",
              "\t<tr><td>203</td><td>W</td><td>1</td><td>1</td><td>1</td><td>3</td><td>1</td><td>5</td><td>1</td><td>1</td><td>⋯</td><td>5</td><td>60202</td><td>0</td><td>0</td><td>1 </td><td>0</td><td>0</td><td>FALSE</td><td>TRUE </td><td>TRUE</td></tr>\n",
              "\t<tr><td>203</td><td>W</td><td>2</td><td>1</td><td>3</td><td>1</td><td>1</td><td>5</td><td>2</td><td>1</td><td>⋯</td><td>1</td><td>60620</td><td>0</td><td>0</td><td>0 </td><td>0</td><td>0</td><td>FALSE</td><td>TRUE </td><td>TRUE</td></tr>\n",
              "\t<tr><td>202</td><td>W</td><td>3</td><td>1</td><td>3</td><td>1</td><td>1</td><td>5</td><td>2</td><td>2</td><td>⋯</td><td>1</td><td>60619</td><td>0</td><td>0</td><td>0 </td><td>0</td><td>0</td><td>FALSE</td><td>TRUE </td><td>TRUE</td></tr>\n",
              "\t<tr><td>203</td><td>T</td><td>2</td><td>1</td><td>1</td><td>1</td><td>1</td><td>5</td><td>2</td><td>3</td><td>⋯</td><td>1</td><td>60714</td><td>0</td><td>0</td><td>0 </td><td>1</td><td>0</td><td>FALSE</td><td>TRUE </td><td>TRUE</td></tr>\n",
              "\t<tr><td>211</td><td>W</td><td>1</td><td>1</td><td>2</td><td>3</td><td>1</td><td>5</td><td>2</td><td>3</td><td>⋯</td><td>2</td><td>60651</td><td>0</td><td>0</td><td>0 </td><td>0</td><td>0</td><td>FALSE</td><td>TRUE </td><td>TRUE</td></tr>\n",
              "\t<tr><td>203</td><td>O</td><td>3</td><td>1</td><td>4</td><td>3</td><td>1</td><td>5</td><td>1</td><td>3</td><td>⋯</td><td>1</td><td>60453</td><td>0</td><td>0</td><td>0 </td><td>0</td><td>0</td><td>FALSE</td><td>TRUE </td><td>TRUE</td></tr>\n",
              "\t<tr><td>211</td><td>W</td><td>1</td><td>1</td><td>1</td><td>3</td><td>2</td><td>5</td><td>2</td><td>3</td><td>⋯</td><td>2</td><td>60616</td><td>0</td><td>0</td><td>0 </td><td>0</td><td>0</td><td>FALSE</td><td>TRUE </td><td>TRUE</td></tr>\n",
              "\t<tr><td>202</td><td>T</td><td>2</td><td>1</td><td>1</td><td>3</td><td>1</td><td>5</td><td>1</td><td>3</td><td>⋯</td><td>1</td><td>60617</td><td>0</td><td>0</td><td>0 </td><td>0</td><td>0</td><td>FALSE</td><td>TRUE </td><td>TRUE</td></tr>\n",
              "\t<tr><td>202</td><td>T</td><td>2</td><td>1</td><td>1</td><td>1</td><td>2</td><td>5</td><td>2</td><td>3</td><td>⋯</td><td>1</td><td>60638</td><td>0</td><td>0</td><td>0 </td><td>0</td><td>0</td><td>FALSE</td><td>TRUE </td><td>TRUE</td></tr>\n",
              "\t<tr><td>211</td><td>W</td><td>1</td><td>1</td><td>1</td><td>2</td><td>1</td><td>5</td><td>2</td><td>1</td><td>⋯</td><td>5</td><td>60657</td><td>0</td><td>0</td><td>0 </td><td>0</td><td>0</td><td>FALSE</td><td>TRUE </td><td>TRUE</td></tr>\n",
              "\t<tr><td>278</td><td>W</td><td>3</td><td>1</td><td>3</td><td>1</td><td>1</td><td>5</td><td>1</td><td>3</td><td>⋯</td><td>2</td><td>60712</td><td>0</td><td>0</td><td>0 </td><td>0</td><td>0</td><td>FALSE</td><td>TRUE </td><td>TRUE</td></tr>\n",
              "\t<tr><td>211</td><td>W</td><td>1</td><td>1</td><td>2</td><td>3</td><td>1</td><td>5</td><td>2</td><td>3</td><td>⋯</td><td>2</td><td>60624</td><td>0</td><td>0</td><td>0 </td><td>0</td><td>0</td><td>FALSE</td><td>TRUE </td><td>TRUE</td></tr>\n",
              "\t<tr><td>205</td><td>W</td><td>2</td><td>1</td><td>1</td><td>1</td><td>1</td><td>5</td><td>1</td><td>2</td><td>⋯</td><td>2</td><td>60162</td><td>0</td><td>0</td><td>0 </td><td>0</td><td>0</td><td>FALSE</td><td>TRUE </td><td>TRUE</td></tr>\n",
              "\t<tr><td>206</td><td>T</td><td>2</td><td>4</td><td>3</td><td>3</td><td>2</td><td>5</td><td>2</td><td>2</td><td>⋯</td><td>2</td><td>60022</td><td>0</td><td>0</td><td>0 </td><td>0</td><td>1</td><td>FALSE</td><td>TRUE </td><td>TRUE</td></tr>\n",
              "\t<tr><td>202</td><td>O</td><td>1</td><td>1</td><td>1</td><td>3</td><td>1</td><td>5</td><td>2</td><td>2</td><td>⋯</td><td>1</td><td>60636</td><td>0</td><td>0</td><td>0 </td><td>0</td><td>0</td><td>FALSE</td><td>TRUE </td><td>TRUE</td></tr>\n",
              "\t<tr><td>203</td><td>W</td><td>2</td><td>1</td><td>1</td><td>3</td><td>1</td><td>5</td><td>2</td><td>3</td><td>⋯</td><td>1</td><td>60617</td><td>0</td><td>0</td><td>0 </td><td>0</td><td>0</td><td>FALSE</td><td>FALSE</td><td>TRUE</td></tr>\n",
              "\t<tr><td>⋮</td><td>⋮</td><td>⋮</td><td>⋮</td><td>⋮</td><td>⋮</td><td>⋮</td><td>⋮</td><td>⋮</td><td>⋮</td><td>⋱</td><td>⋮</td><td>⋮</td><td>⋮</td><td>⋮</td><td>⋮</td><td>⋮</td><td>⋮</td><td>⋮</td><td>⋮</td><td>⋮</td></tr>\n",
              "\t<tr><td>203</td><td>W</td><td>1</td><td>2</td><td>1</td><td>1</td><td>1</td><td>5</td><td>2</td><td>1</td><td>⋯</td><td>1</td><td>60636</td><td>0</td><td>0</td><td>0</td><td>0</td><td>0</td><td>FALSE</td><td>FALSE</td><td>TRUE</td></tr>\n",
              "\t<tr><td>208</td><td>O</td><td>3</td><td>1</td><td>1</td><td>3</td><td>1</td><td>5</td><td>1</td><td>3</td><td>⋯</td><td>2</td><td>60478</td><td>0</td><td>0</td><td>0</td><td>0</td><td>0</td><td>TRUE </td><td>TRUE </td><td>TRUE</td></tr>\n",
              "\t<tr><td>205</td><td>W</td><td>2</td><td>1</td><td>1</td><td>3</td><td>1</td><td>5</td><td>1</td><td>3</td><td>⋯</td><td>2</td><td>60620</td><td>0</td><td>0</td><td>1</td><td>0</td><td>1</td><td>FALSE</td><td>TRUE </td><td>TRUE</td></tr>\n",
              "\t<tr><td>278</td><td>O</td><td>3</td><td>1</td><td>1</td><td>3</td><td>1</td><td>5</td><td>1</td><td>3</td><td>⋯</td><td>2</td><td>60443</td><td>0</td><td>0</td><td>0</td><td>0</td><td>0</td><td>FALSE</td><td>TRUE </td><td>TRUE</td></tr>\n",
              "\t<tr><td>205</td><td>O</td><td>1</td><td>1</td><td>1</td><td>3</td><td>1</td><td>5</td><td>2</td><td>1</td><td>⋯</td><td>2</td><td>60304</td><td>0</td><td>0</td><td>0</td><td>0</td><td>0</td><td>FALSE</td><td>TRUE </td><td>TRUE</td></tr>\n",
              "\t<tr><td>278</td><td>W</td><td>1</td><td>1</td><td>2</td><td>3</td><td>1</td><td>5</td><td>1</td><td>3</td><td>⋯</td><td>2</td><td>60089</td><td>0</td><td>0</td><td>0</td><td>0</td><td>0</td><td>FALSE</td><td>TRUE </td><td>TRUE</td></tr>\n",
              "\t<tr><td>203</td><td>W</td><td>3</td><td>1</td><td>4</td><td>3</td><td>1</td><td>5</td><td>1</td><td>3</td><td>⋯</td><td>1</td><td>60193</td><td>0</td><td>0</td><td>1</td><td>0</td><td>0</td><td>FALSE</td><td>TRUE </td><td>TRUE</td></tr>\n",
              "\t<tr><td>205</td><td>W</td><td>1</td><td>1</td><td>1</td><td>3</td><td>2</td><td>5</td><td>1</td><td>1</td><td>⋯</td><td>2</td><td>60660</td><td>0</td><td>0</td><td>0</td><td>0</td><td>0</td><td>FALSE</td><td>TRUE </td><td>TRUE</td></tr>\n",
              "\t<tr><td>203</td><td>W</td><td>1</td><td>1</td><td>3</td><td>3</td><td>2</td><td>5</td><td>2</td><td>2</td><td>⋯</td><td>1</td><td>60164</td><td>0</td><td>0</td><td>0</td><td>0</td><td>0</td><td>FALSE</td><td>TRUE </td><td>TRUE</td></tr>\n",
              "\t<tr><td>204</td><td>T</td><td>3</td><td>1</td><td>3</td><td>3</td><td>1</td><td>5</td><td>1</td><td>3</td><td>⋯</td><td>1</td><td>60439</td><td>0</td><td>0</td><td>0</td><td>0</td><td>0</td><td>FALSE</td><td>TRUE </td><td>TRUE</td></tr>\n",
              "\t<tr><td>205</td><td>W</td><td>1</td><td>1</td><td>1</td><td>3</td><td>1</td><td>5</td><td>2</td><td>2</td><td>⋯</td><td>2</td><td>60104</td><td>0</td><td>0</td><td>1</td><td>0</td><td>0</td><td>FALSE</td><td>TRUE </td><td>TRUE</td></tr>\n",
              "\t<tr><td>278</td><td>W</td><td>3</td><td>1</td><td>3</td><td>3</td><td>1</td><td>5</td><td>1</td><td>3</td><td>⋯</td><td>2</td><td>60463</td><td>0</td><td>0</td><td>0</td><td>0</td><td>0</td><td>FALSE</td><td>TRUE </td><td>TRUE</td></tr>\n",
              "\t<tr><td>295</td><td>W</td><td>1</td><td>1</td><td>1</td><td>3</td><td>1</td><td>5</td><td>1</td><td>3</td><td>⋯</td><td>2</td><td>60641</td><td>0</td><td>0</td><td>0</td><td>0</td><td>0</td><td>FALSE</td><td>TRUE </td><td>TRUE</td></tr>\n",
              "\t<tr><td>278</td><td>T</td><td>2</td><td>1</td><td>3</td><td>3</td><td>1</td><td>5</td><td>1</td><td>3</td><td>⋯</td><td>2</td><td>60062</td><td>0</td><td>0</td><td>0</td><td>0</td><td>0</td><td>FALSE</td><td>TRUE </td><td>TRUE</td></tr>\n",
              "\t<tr><td>203</td><td>O</td><td>1</td><td>1</td><td>3</td><td>1</td><td>1</td><td>5</td><td>1</td><td>3</td><td>⋯</td><td>1</td><td>60478</td><td>0</td><td>0</td><td>0</td><td>0</td><td>0</td><td>FALSE</td><td>TRUE </td><td>TRUE</td></tr>\n",
              "\t<tr><td>278</td><td>W</td><td>2</td><td>1</td><td>1</td><td>1</td><td>1</td><td>5</td><td>1</td><td>3</td><td>⋯</td><td>2</td><td>60062</td><td>0</td><td>0</td><td>0</td><td>0</td><td>0</td><td>FALSE</td><td>TRUE </td><td>TRUE</td></tr>\n",
              "\t<tr><td>234</td><td>W</td><td>3</td><td>1</td><td>3</td><td>1</td><td>1</td><td>5</td><td>2</td><td>3</td><td>⋯</td><td>4</td><td>60459</td><td>0</td><td>0</td><td>0</td><td>0</td><td>0</td><td>FALSE</td><td>TRUE </td><td>TRUE</td></tr>\n",
              "\t<tr><td>278</td><td>W</td><td>3</td><td>1</td><td>3</td><td>1</td><td>1</td><td>5</td><td>1</td><td>3</td><td>⋯</td><td>2</td><td>60062</td><td>0</td><td>0</td><td>0</td><td>0</td><td>0</td><td>FALSE</td><td>TRUE </td><td>TRUE</td></tr>\n",
              "\t<tr><td>204</td><td>O</td><td>2</td><td>1</td><td>3</td><td>1</td><td>1</td><td>5</td><td>2</td><td>3</td><td>⋯</td><td>1</td><td>60619</td><td>0</td><td>0</td><td>1</td><td>0</td><td>0</td><td>FALSE</td><td>TRUE </td><td>TRUE</td></tr>\n",
              "\t<tr><td>202</td><td>O</td><td>1</td><td>1</td><td>2</td><td>3</td><td>1</td><td>5</td><td>2</td><td>3</td><td>⋯</td><td>1</td><td>60638</td><td>0</td><td>0</td><td>0</td><td>0</td><td>0</td><td>FALSE</td><td>TRUE </td><td>TRUE</td></tr>\n",
              "\t<tr><td>234</td><td>W</td><td>1</td><td>1</td><td>3</td><td>1</td><td>1</td><td>5</td><td>2</td><td>3</td><td>⋯</td><td>4</td><td>60620</td><td>0</td><td>0</td><td>1</td><td>0</td><td>0</td><td>FALSE</td><td>FALSE</td><td>TRUE</td></tr>\n",
              "\t<tr><td>204</td><td>T</td><td>3</td><td>1</td><td>1</td><td>3</td><td>1</td><td>5</td><td>1</td><td>1</td><td>⋯</td><td>5</td><td>60630</td><td>0</td><td>0</td><td>0</td><td>0</td><td>0</td><td>FALSE</td><td>TRUE </td><td>TRUE</td></tr>\n",
              "\t<tr><td>203</td><td>O</td><td>1</td><td>1</td><td>2</td><td>3</td><td>1</td><td>5</td><td>2</td><td>3</td><td>⋯</td><td>1</td><td>60008</td><td>0</td><td>0</td><td>0</td><td>0</td><td>0</td><td>FALSE</td><td>TRUE </td><td>TRUE</td></tr>\n",
              "\t<tr><td>203</td><td>W</td><td>1</td><td>1</td><td>1</td><td>1</td><td>2</td><td>5</td><td>1</td><td>3</td><td>⋯</td><td>1</td><td>60419</td><td>0</td><td>0</td><td>0</td><td>0</td><td>0</td><td>FALSE</td><td>TRUE </td><td>TRUE</td></tr>\n",
              "\t<tr><td>295</td><td>W</td><td>2</td><td>1</td><td>2</td><td>3</td><td>1</td><td>5</td><td>1</td><td>3</td><td>⋯</td><td>3</td><td>60605</td><td>0</td><td>0</td><td>0</td><td>0</td><td>0</td><td>FALSE</td><td>TRUE </td><td>TRUE</td></tr>\n",
              "\t<tr><td>204</td><td>W</td><td>2</td><td>1</td><td>1</td><td>3</td><td>1</td><td>5</td><td>1</td><td>2</td><td>⋯</td><td>5</td><td>60010</td><td>0</td><td>0</td><td>0</td><td>0</td><td>0</td><td>FALSE</td><td>TRUE </td><td>TRUE</td></tr>\n",
              "\t<tr><td>202</td><td>W</td><td>2</td><td>1</td><td>4</td><td>3</td><td>1</td><td>5</td><td>2</td><td>2</td><td>⋯</td><td>1</td><td>60459</td><td>0</td><td>0</td><td>0</td><td>0</td><td>0</td><td>FALSE</td><td>TRUE </td><td>TRUE</td></tr>\n",
              "\t<tr><td>278</td><td>T</td><td>2</td><td>1</td><td>1</td><td>3</td><td>1</td><td>5</td><td>1</td><td>3</td><td>⋯</td><td>2</td><td>60068</td><td>0</td><td>0</td><td>1</td><td>0</td><td>0</td><td>FALSE</td><td>TRUE </td><td>TRUE</td></tr>\n",
              "\t<tr><td>206</td><td>W</td><td>3</td><td>1</td><td>1</td><td>3</td><td>2</td><td>5</td><td>1</td><td>3</td><td>⋯</td><td>2</td><td>60707</td><td>0</td><td>0</td><td>0</td><td>0</td><td>0</td><td>FALSE</td><td>TRUE </td><td>TRUE</td></tr>\n",
              "\t<tr><td>211</td><td>W</td><td>2</td><td>1</td><td>1</td><td>3</td><td>2</td><td>5</td><td>2</td><td>3</td><td>⋯</td><td>2</td><td>60804</td><td>0</td><td>0</td><td>0</td><td>0</td><td>0</td><td>FALSE</td><td>TRUE </td><td>TRUE</td></tr>\n",
              "</tbody>\n",
              "</table>\n"
            ],
            "text/markdown": "\nA data.frame: 10000 × 29\n\n| meta_class &lt;chr&gt; | meta_deed_type &lt;chr&gt; | char_ext_wall &lt;chr&gt; | char_roof_cnst &lt;chr&gt; | char_bsmt &lt;chr&gt; | char_bsmt_fin &lt;chr&gt; | char_heat &lt;chr&gt; | char_oheat &lt;chr&gt; | char_air &lt;chr&gt; | char_attic_type &lt;chr&gt; | ⋯ ⋯ | char_type_resd &lt;chr&gt; | geo_property_zip &lt;chr&gt; | geo_ohare_noise &lt;chr&gt; | geo_floodplain &lt;chr&gt; | geo_fs_flood_risk_direction &lt;chr&gt; | geo_withinmr100 &lt;chr&gt; | geo_withinmr101300 &lt;chr&gt; | ind_large_home &lt;chr&gt; | ind_garage &lt;chr&gt; | ind_arms_length &lt;chr&gt; |\n|---|---|---|---|---|---|---|---|---|---|---|---|---|---|---|---|---|---|---|---|---|\n| 203 | W | 1 | 1 | 3 | 1 | 1 | 5 | 1 | 3 | ⋯ | 1 | 60133 | 0 | 0 | 0  | 0 | 0 | FALSE | TRUE  | TRUE |\n| 207 | O | 1 | 1 | 2 | 3 | 1 | 5 | 1 | 3 | ⋯ | 2 | 60067 | 0 | 0 | 0  | 0 | 0 | FALSE | TRUE  | TRUE |\n| 203 | W | 2 | 1 | 1 | 3 | 1 | 5 | 1 | 3 | ⋯ | 1 | 60805 | 0 | 0 | 1  | 0 | 0 | FALSE | TRUE  | TRUE |\n| 211 | O | 1 | 1 | 2 | 3 | 1 | 5 | 2 | 3 | ⋯ | 2 | 60629 | 0 | 0 | 0  | 0 | 0 | FALSE | FALSE | TRUE |\n| 278 | W | 3 | 1 | 3 | 3 | 1 | 5 | 1 | 3 | ⋯ | 2 | 60462 | 0 | 0 | -1 | 0 | 0 | FALSE | TRUE  | TRUE |\n| 211 | W | 2 | 1 | 1 | 3 | 1 | 2 | 2 | 3 | ⋯ | 2 | 60619 | 0 | 0 | 0  | 0 | 0 | FALSE | FALSE | TRUE |\n| 234 | W | 3 | 1 | 3 | 1 | 1 | 5 | 2 | 3 | ⋯ | 4 | 60452 | 0 | 0 | 0  | 0 | 0 | FALSE | TRUE  | TRUE |\n| 205 | W | 2 | 1 | 1 | 3 | 2 | 5 | 1 | 1 | ⋯ | 2 | 60201 | 0 | 0 | 0  | 0 | 0 | FALSE | TRUE  | TRUE |\n| 207 | W | 3 | 1 | 3 | 3 | 1 | 5 | 1 | 3 | ⋯ | 2 | 60453 | 0 | 0 | 1  | 0 | 0 | FALSE | TRUE  | TRUE |\n| 208 | W | 3 | 1 | 3 | 3 | 1 | 5 | 1 | 3 | ⋯ | 2 | 60467 | 0 | 0 | 0  | 0 | 0 | TRUE  | TRUE  | TRUE |\n| 203 | W | 1 | 1 | 1 | 3 | 1 | 5 | 2 | 1 | ⋯ | 5 | 60628 | 0 | 0 | 0  | 0 | 0 | FALSE | FALSE | TRUE |\n| 278 | W | 2 | 1 | 1 | 1 | 1 | 5 | 1 | 3 | ⋯ | 2 | 60707 | 0 | 0 | 0  | 0 | 0 | FALSE | TRUE  | TRUE |\n| 202 | W | 2 | 6 | 1 | 3 | 1 | 5 | 2 | 2 | ⋯ | 1 | 60620 | 0 | 0 | 0  | 0 | 0 | FALSE | TRUE  | TRUE |\n| 203 | O | 3 | 1 | 1 | 3 | 1 | 5 | 1 | 2 | ⋯ | 5 | 60804 | 0 | 0 | 0  | 0 | 0 | FALSE | TRUE  | TRUE |\n| 203 | W | 1 | 1 | 1 | 3 | 1 | 5 | 1 | 1 | ⋯ | 5 | 60202 | 0 | 0 | 1  | 0 | 0 | FALSE | TRUE  | TRUE |\n| 203 | W | 2 | 1 | 3 | 1 | 1 | 5 | 2 | 1 | ⋯ | 1 | 60620 | 0 | 0 | 0  | 0 | 0 | FALSE | TRUE  | TRUE |\n| 202 | W | 3 | 1 | 3 | 1 | 1 | 5 | 2 | 2 | ⋯ | 1 | 60619 | 0 | 0 | 0  | 0 | 0 | FALSE | TRUE  | TRUE |\n| 203 | T | 2 | 1 | 1 | 1 | 1 | 5 | 2 | 3 | ⋯ | 1 | 60714 | 0 | 0 | 0  | 1 | 0 | FALSE | TRUE  | TRUE |\n| 211 | W | 1 | 1 | 2 | 3 | 1 | 5 | 2 | 3 | ⋯ | 2 | 60651 | 0 | 0 | 0  | 0 | 0 | FALSE | TRUE  | TRUE |\n| 203 | O | 3 | 1 | 4 | 3 | 1 | 5 | 1 | 3 | ⋯ | 1 | 60453 | 0 | 0 | 0  | 0 | 0 | FALSE | TRUE  | TRUE |\n| 211 | W | 1 | 1 | 1 | 3 | 2 | 5 | 2 | 3 | ⋯ | 2 | 60616 | 0 | 0 | 0  | 0 | 0 | FALSE | TRUE  | TRUE |\n| 202 | T | 2 | 1 | 1 | 3 | 1 | 5 | 1 | 3 | ⋯ | 1 | 60617 | 0 | 0 | 0  | 0 | 0 | FALSE | TRUE  | TRUE |\n| 202 | T | 2 | 1 | 1 | 1 | 2 | 5 | 2 | 3 | ⋯ | 1 | 60638 | 0 | 0 | 0  | 0 | 0 | FALSE | TRUE  | TRUE |\n| 211 | W | 1 | 1 | 1 | 2 | 1 | 5 | 2 | 1 | ⋯ | 5 | 60657 | 0 | 0 | 0  | 0 | 0 | FALSE | TRUE  | TRUE |\n| 278 | W | 3 | 1 | 3 | 1 | 1 | 5 | 1 | 3 | ⋯ | 2 | 60712 | 0 | 0 | 0  | 0 | 0 | FALSE | TRUE  | TRUE |\n| 211 | W | 1 | 1 | 2 | 3 | 1 | 5 | 2 | 3 | ⋯ | 2 | 60624 | 0 | 0 | 0  | 0 | 0 | FALSE | TRUE  | TRUE |\n| 205 | W | 2 | 1 | 1 | 1 | 1 | 5 | 1 | 2 | ⋯ | 2 | 60162 | 0 | 0 | 0  | 0 | 0 | FALSE | TRUE  | TRUE |\n| 206 | T | 2 | 4 | 3 | 3 | 2 | 5 | 2 | 2 | ⋯ | 2 | 60022 | 0 | 0 | 0  | 0 | 1 | FALSE | TRUE  | TRUE |\n| 202 | O | 1 | 1 | 1 | 3 | 1 | 5 | 2 | 2 | ⋯ | 1 | 60636 | 0 | 0 | 0  | 0 | 0 | FALSE | TRUE  | TRUE |\n| 203 | W | 2 | 1 | 1 | 3 | 1 | 5 | 2 | 3 | ⋯ | 1 | 60617 | 0 | 0 | 0  | 0 | 0 | FALSE | FALSE | TRUE |\n| ⋮ | ⋮ | ⋮ | ⋮ | ⋮ | ⋮ | ⋮ | ⋮ | ⋮ | ⋮ | ⋱ | ⋮ | ⋮ | ⋮ | ⋮ | ⋮ | ⋮ | ⋮ | ⋮ | ⋮ | ⋮ |\n| 203 | W | 1 | 2 | 1 | 1 | 1 | 5 | 2 | 1 | ⋯ | 1 | 60636 | 0 | 0 | 0 | 0 | 0 | FALSE | FALSE | TRUE |\n| 208 | O | 3 | 1 | 1 | 3 | 1 | 5 | 1 | 3 | ⋯ | 2 | 60478 | 0 | 0 | 0 | 0 | 0 | TRUE  | TRUE  | TRUE |\n| 205 | W | 2 | 1 | 1 | 3 | 1 | 5 | 1 | 3 | ⋯ | 2 | 60620 | 0 | 0 | 1 | 0 | 1 | FALSE | TRUE  | TRUE |\n| 278 | O | 3 | 1 | 1 | 3 | 1 | 5 | 1 | 3 | ⋯ | 2 | 60443 | 0 | 0 | 0 | 0 | 0 | FALSE | TRUE  | TRUE |\n| 205 | O | 1 | 1 | 1 | 3 | 1 | 5 | 2 | 1 | ⋯ | 2 | 60304 | 0 | 0 | 0 | 0 | 0 | FALSE | TRUE  | TRUE |\n| 278 | W | 1 | 1 | 2 | 3 | 1 | 5 | 1 | 3 | ⋯ | 2 | 60089 | 0 | 0 | 0 | 0 | 0 | FALSE | TRUE  | TRUE |\n| 203 | W | 3 | 1 | 4 | 3 | 1 | 5 | 1 | 3 | ⋯ | 1 | 60193 | 0 | 0 | 1 | 0 | 0 | FALSE | TRUE  | TRUE |\n| 205 | W | 1 | 1 | 1 | 3 | 2 | 5 | 1 | 1 | ⋯ | 2 | 60660 | 0 | 0 | 0 | 0 | 0 | FALSE | TRUE  | TRUE |\n| 203 | W | 1 | 1 | 3 | 3 | 2 | 5 | 2 | 2 | ⋯ | 1 | 60164 | 0 | 0 | 0 | 0 | 0 | FALSE | TRUE  | TRUE |\n| 204 | T | 3 | 1 | 3 | 3 | 1 | 5 | 1 | 3 | ⋯ | 1 | 60439 | 0 | 0 | 0 | 0 | 0 | FALSE | TRUE  | TRUE |\n| 205 | W | 1 | 1 | 1 | 3 | 1 | 5 | 2 | 2 | ⋯ | 2 | 60104 | 0 | 0 | 1 | 0 | 0 | FALSE | TRUE  | TRUE |\n| 278 | W | 3 | 1 | 3 | 3 | 1 | 5 | 1 | 3 | ⋯ | 2 | 60463 | 0 | 0 | 0 | 0 | 0 | FALSE | TRUE  | TRUE |\n| 295 | W | 1 | 1 | 1 | 3 | 1 | 5 | 1 | 3 | ⋯ | 2 | 60641 | 0 | 0 | 0 | 0 | 0 | FALSE | TRUE  | TRUE |\n| 278 | T | 2 | 1 | 3 | 3 | 1 | 5 | 1 | 3 | ⋯ | 2 | 60062 | 0 | 0 | 0 | 0 | 0 | FALSE | TRUE  | TRUE |\n| 203 | O | 1 | 1 | 3 | 1 | 1 | 5 | 1 | 3 | ⋯ | 1 | 60478 | 0 | 0 | 0 | 0 | 0 | FALSE | TRUE  | TRUE |\n| 278 | W | 2 | 1 | 1 | 1 | 1 | 5 | 1 | 3 | ⋯ | 2 | 60062 | 0 | 0 | 0 | 0 | 0 | FALSE | TRUE  | TRUE |\n| 234 | W | 3 | 1 | 3 | 1 | 1 | 5 | 2 | 3 | ⋯ | 4 | 60459 | 0 | 0 | 0 | 0 | 0 | FALSE | TRUE  | TRUE |\n| 278 | W | 3 | 1 | 3 | 1 | 1 | 5 | 1 | 3 | ⋯ | 2 | 60062 | 0 | 0 | 0 | 0 | 0 | FALSE | TRUE  | TRUE |\n| 204 | O | 2 | 1 | 3 | 1 | 1 | 5 | 2 | 3 | ⋯ | 1 | 60619 | 0 | 0 | 1 | 0 | 0 | FALSE | TRUE  | TRUE |\n| 202 | O | 1 | 1 | 2 | 3 | 1 | 5 | 2 | 3 | ⋯ | 1 | 60638 | 0 | 0 | 0 | 0 | 0 | FALSE | TRUE  | TRUE |\n| 234 | W | 1 | 1 | 3 | 1 | 1 | 5 | 2 | 3 | ⋯ | 4 | 60620 | 0 | 0 | 1 | 0 | 0 | FALSE | FALSE | TRUE |\n| 204 | T | 3 | 1 | 1 | 3 | 1 | 5 | 1 | 1 | ⋯ | 5 | 60630 | 0 | 0 | 0 | 0 | 0 | FALSE | TRUE  | TRUE |\n| 203 | O | 1 | 1 | 2 | 3 | 1 | 5 | 2 | 3 | ⋯ | 1 | 60008 | 0 | 0 | 0 | 0 | 0 | FALSE | TRUE  | TRUE |\n| 203 | W | 1 | 1 | 1 | 1 | 2 | 5 | 1 | 3 | ⋯ | 1 | 60419 | 0 | 0 | 0 | 0 | 0 | FALSE | TRUE  | TRUE |\n| 295 | W | 2 | 1 | 2 | 3 | 1 | 5 | 1 | 3 | ⋯ | 3 | 60605 | 0 | 0 | 0 | 0 | 0 | FALSE | TRUE  | TRUE |\n| 204 | W | 2 | 1 | 1 | 3 | 1 | 5 | 1 | 2 | ⋯ | 5 | 60010 | 0 | 0 | 0 | 0 | 0 | FALSE | TRUE  | TRUE |\n| 202 | W | 2 | 1 | 4 | 3 | 1 | 5 | 2 | 2 | ⋯ | 1 | 60459 | 0 | 0 | 0 | 0 | 0 | FALSE | TRUE  | TRUE |\n| 278 | T | 2 | 1 | 1 | 3 | 1 | 5 | 1 | 3 | ⋯ | 2 | 60068 | 0 | 0 | 1 | 0 | 0 | FALSE | TRUE  | TRUE |\n| 206 | W | 3 | 1 | 1 | 3 | 2 | 5 | 1 | 3 | ⋯ | 2 | 60707 | 0 | 0 | 0 | 0 | 0 | FALSE | TRUE  | TRUE |\n| 211 | W | 2 | 1 | 1 | 3 | 2 | 5 | 2 | 3 | ⋯ | 2 | 60804 | 0 | 0 | 0 | 0 | 0 | FALSE | TRUE  | TRUE |\n\n",
            "text/latex": "A data.frame: 10000 × 29\n\\begin{tabular}{lllllllllllllllllllll}\n meta\\_class & meta\\_deed\\_type & char\\_ext\\_wall & char\\_roof\\_cnst & char\\_bsmt & char\\_bsmt\\_fin & char\\_heat & char\\_oheat & char\\_air & char\\_attic\\_type & ⋯ & char\\_type\\_resd & geo\\_property\\_zip & geo\\_ohare\\_noise & geo\\_floodplain & geo\\_fs\\_flood\\_risk\\_direction & geo\\_withinmr100 & geo\\_withinmr101300 & ind\\_large\\_home & ind\\_garage & ind\\_arms\\_length\\\\\n <chr> & <chr> & <chr> & <chr> & <chr> & <chr> & <chr> & <chr> & <chr> & <chr> & ⋯ & <chr> & <chr> & <chr> & <chr> & <chr> & <chr> & <chr> & <chr> & <chr> & <chr>\\\\\n\\hline\n\t 203 & W & 1 & 1 & 3 & 1 & 1 & 5 & 1 & 3 & ⋯ & 1 & 60133 & 0 & 0 & 0  & 0 & 0 & FALSE & TRUE  & TRUE\\\\\n\t 207 & O & 1 & 1 & 2 & 3 & 1 & 5 & 1 & 3 & ⋯ & 2 & 60067 & 0 & 0 & 0  & 0 & 0 & FALSE & TRUE  & TRUE\\\\\n\t 203 & W & 2 & 1 & 1 & 3 & 1 & 5 & 1 & 3 & ⋯ & 1 & 60805 & 0 & 0 & 1  & 0 & 0 & FALSE & TRUE  & TRUE\\\\\n\t 211 & O & 1 & 1 & 2 & 3 & 1 & 5 & 2 & 3 & ⋯ & 2 & 60629 & 0 & 0 & 0  & 0 & 0 & FALSE & FALSE & TRUE\\\\\n\t 278 & W & 3 & 1 & 3 & 3 & 1 & 5 & 1 & 3 & ⋯ & 2 & 60462 & 0 & 0 & -1 & 0 & 0 & FALSE & TRUE  & TRUE\\\\\n\t 211 & W & 2 & 1 & 1 & 3 & 1 & 2 & 2 & 3 & ⋯ & 2 & 60619 & 0 & 0 & 0  & 0 & 0 & FALSE & FALSE & TRUE\\\\\n\t 234 & W & 3 & 1 & 3 & 1 & 1 & 5 & 2 & 3 & ⋯ & 4 & 60452 & 0 & 0 & 0  & 0 & 0 & FALSE & TRUE  & TRUE\\\\\n\t 205 & W & 2 & 1 & 1 & 3 & 2 & 5 & 1 & 1 & ⋯ & 2 & 60201 & 0 & 0 & 0  & 0 & 0 & FALSE & TRUE  & TRUE\\\\\n\t 207 & W & 3 & 1 & 3 & 3 & 1 & 5 & 1 & 3 & ⋯ & 2 & 60453 & 0 & 0 & 1  & 0 & 0 & FALSE & TRUE  & TRUE\\\\\n\t 208 & W & 3 & 1 & 3 & 3 & 1 & 5 & 1 & 3 & ⋯ & 2 & 60467 & 0 & 0 & 0  & 0 & 0 & TRUE  & TRUE  & TRUE\\\\\n\t 203 & W & 1 & 1 & 1 & 3 & 1 & 5 & 2 & 1 & ⋯ & 5 & 60628 & 0 & 0 & 0  & 0 & 0 & FALSE & FALSE & TRUE\\\\\n\t 278 & W & 2 & 1 & 1 & 1 & 1 & 5 & 1 & 3 & ⋯ & 2 & 60707 & 0 & 0 & 0  & 0 & 0 & FALSE & TRUE  & TRUE\\\\\n\t 202 & W & 2 & 6 & 1 & 3 & 1 & 5 & 2 & 2 & ⋯ & 1 & 60620 & 0 & 0 & 0  & 0 & 0 & FALSE & TRUE  & TRUE\\\\\n\t 203 & O & 3 & 1 & 1 & 3 & 1 & 5 & 1 & 2 & ⋯ & 5 & 60804 & 0 & 0 & 0  & 0 & 0 & FALSE & TRUE  & TRUE\\\\\n\t 203 & W & 1 & 1 & 1 & 3 & 1 & 5 & 1 & 1 & ⋯ & 5 & 60202 & 0 & 0 & 1  & 0 & 0 & FALSE & TRUE  & TRUE\\\\\n\t 203 & W & 2 & 1 & 3 & 1 & 1 & 5 & 2 & 1 & ⋯ & 1 & 60620 & 0 & 0 & 0  & 0 & 0 & FALSE & TRUE  & TRUE\\\\\n\t 202 & W & 3 & 1 & 3 & 1 & 1 & 5 & 2 & 2 & ⋯ & 1 & 60619 & 0 & 0 & 0  & 0 & 0 & FALSE & TRUE  & TRUE\\\\\n\t 203 & T & 2 & 1 & 1 & 1 & 1 & 5 & 2 & 3 & ⋯ & 1 & 60714 & 0 & 0 & 0  & 1 & 0 & FALSE & TRUE  & TRUE\\\\\n\t 211 & W & 1 & 1 & 2 & 3 & 1 & 5 & 2 & 3 & ⋯ & 2 & 60651 & 0 & 0 & 0  & 0 & 0 & FALSE & TRUE  & TRUE\\\\\n\t 203 & O & 3 & 1 & 4 & 3 & 1 & 5 & 1 & 3 & ⋯ & 1 & 60453 & 0 & 0 & 0  & 0 & 0 & FALSE & TRUE  & TRUE\\\\\n\t 211 & W & 1 & 1 & 1 & 3 & 2 & 5 & 2 & 3 & ⋯ & 2 & 60616 & 0 & 0 & 0  & 0 & 0 & FALSE & TRUE  & TRUE\\\\\n\t 202 & T & 2 & 1 & 1 & 3 & 1 & 5 & 1 & 3 & ⋯ & 1 & 60617 & 0 & 0 & 0  & 0 & 0 & FALSE & TRUE  & TRUE\\\\\n\t 202 & T & 2 & 1 & 1 & 1 & 2 & 5 & 2 & 3 & ⋯ & 1 & 60638 & 0 & 0 & 0  & 0 & 0 & FALSE & TRUE  & TRUE\\\\\n\t 211 & W & 1 & 1 & 1 & 2 & 1 & 5 & 2 & 1 & ⋯ & 5 & 60657 & 0 & 0 & 0  & 0 & 0 & FALSE & TRUE  & TRUE\\\\\n\t 278 & W & 3 & 1 & 3 & 1 & 1 & 5 & 1 & 3 & ⋯ & 2 & 60712 & 0 & 0 & 0  & 0 & 0 & FALSE & TRUE  & TRUE\\\\\n\t 211 & W & 1 & 1 & 2 & 3 & 1 & 5 & 2 & 3 & ⋯ & 2 & 60624 & 0 & 0 & 0  & 0 & 0 & FALSE & TRUE  & TRUE\\\\\n\t 205 & W & 2 & 1 & 1 & 1 & 1 & 5 & 1 & 2 & ⋯ & 2 & 60162 & 0 & 0 & 0  & 0 & 0 & FALSE & TRUE  & TRUE\\\\\n\t 206 & T & 2 & 4 & 3 & 3 & 2 & 5 & 2 & 2 & ⋯ & 2 & 60022 & 0 & 0 & 0  & 0 & 1 & FALSE & TRUE  & TRUE\\\\\n\t 202 & O & 1 & 1 & 1 & 3 & 1 & 5 & 2 & 2 & ⋯ & 1 & 60636 & 0 & 0 & 0  & 0 & 0 & FALSE & TRUE  & TRUE\\\\\n\t 203 & W & 2 & 1 & 1 & 3 & 1 & 5 & 2 & 3 & ⋯ & 1 & 60617 & 0 & 0 & 0  & 0 & 0 & FALSE & FALSE & TRUE\\\\\n\t ⋮ & ⋮ & ⋮ & ⋮ & ⋮ & ⋮ & ⋮ & ⋮ & ⋮ & ⋮ & ⋱ & ⋮ & ⋮ & ⋮ & ⋮ & ⋮ & ⋮ & ⋮ & ⋮ & ⋮ & ⋮\\\\\n\t 203 & W & 1 & 2 & 1 & 1 & 1 & 5 & 2 & 1 & ⋯ & 1 & 60636 & 0 & 0 & 0 & 0 & 0 & FALSE & FALSE & TRUE\\\\\n\t 208 & O & 3 & 1 & 1 & 3 & 1 & 5 & 1 & 3 & ⋯ & 2 & 60478 & 0 & 0 & 0 & 0 & 0 & TRUE  & TRUE  & TRUE\\\\\n\t 205 & W & 2 & 1 & 1 & 3 & 1 & 5 & 1 & 3 & ⋯ & 2 & 60620 & 0 & 0 & 1 & 0 & 1 & FALSE & TRUE  & TRUE\\\\\n\t 278 & O & 3 & 1 & 1 & 3 & 1 & 5 & 1 & 3 & ⋯ & 2 & 60443 & 0 & 0 & 0 & 0 & 0 & FALSE & TRUE  & TRUE\\\\\n\t 205 & O & 1 & 1 & 1 & 3 & 1 & 5 & 2 & 1 & ⋯ & 2 & 60304 & 0 & 0 & 0 & 0 & 0 & FALSE & TRUE  & TRUE\\\\\n\t 278 & W & 1 & 1 & 2 & 3 & 1 & 5 & 1 & 3 & ⋯ & 2 & 60089 & 0 & 0 & 0 & 0 & 0 & FALSE & TRUE  & TRUE\\\\\n\t 203 & W & 3 & 1 & 4 & 3 & 1 & 5 & 1 & 3 & ⋯ & 1 & 60193 & 0 & 0 & 1 & 0 & 0 & FALSE & TRUE  & TRUE\\\\\n\t 205 & W & 1 & 1 & 1 & 3 & 2 & 5 & 1 & 1 & ⋯ & 2 & 60660 & 0 & 0 & 0 & 0 & 0 & FALSE & TRUE  & TRUE\\\\\n\t 203 & W & 1 & 1 & 3 & 3 & 2 & 5 & 2 & 2 & ⋯ & 1 & 60164 & 0 & 0 & 0 & 0 & 0 & FALSE & TRUE  & TRUE\\\\\n\t 204 & T & 3 & 1 & 3 & 3 & 1 & 5 & 1 & 3 & ⋯ & 1 & 60439 & 0 & 0 & 0 & 0 & 0 & FALSE & TRUE  & TRUE\\\\\n\t 205 & W & 1 & 1 & 1 & 3 & 1 & 5 & 2 & 2 & ⋯ & 2 & 60104 & 0 & 0 & 1 & 0 & 0 & FALSE & TRUE  & TRUE\\\\\n\t 278 & W & 3 & 1 & 3 & 3 & 1 & 5 & 1 & 3 & ⋯ & 2 & 60463 & 0 & 0 & 0 & 0 & 0 & FALSE & TRUE  & TRUE\\\\\n\t 295 & W & 1 & 1 & 1 & 3 & 1 & 5 & 1 & 3 & ⋯ & 2 & 60641 & 0 & 0 & 0 & 0 & 0 & FALSE & TRUE  & TRUE\\\\\n\t 278 & T & 2 & 1 & 3 & 3 & 1 & 5 & 1 & 3 & ⋯ & 2 & 60062 & 0 & 0 & 0 & 0 & 0 & FALSE & TRUE  & TRUE\\\\\n\t 203 & O & 1 & 1 & 3 & 1 & 1 & 5 & 1 & 3 & ⋯ & 1 & 60478 & 0 & 0 & 0 & 0 & 0 & FALSE & TRUE  & TRUE\\\\\n\t 278 & W & 2 & 1 & 1 & 1 & 1 & 5 & 1 & 3 & ⋯ & 2 & 60062 & 0 & 0 & 0 & 0 & 0 & FALSE & TRUE  & TRUE\\\\\n\t 234 & W & 3 & 1 & 3 & 1 & 1 & 5 & 2 & 3 & ⋯ & 4 & 60459 & 0 & 0 & 0 & 0 & 0 & FALSE & TRUE  & TRUE\\\\\n\t 278 & W & 3 & 1 & 3 & 1 & 1 & 5 & 1 & 3 & ⋯ & 2 & 60062 & 0 & 0 & 0 & 0 & 0 & FALSE & TRUE  & TRUE\\\\\n\t 204 & O & 2 & 1 & 3 & 1 & 1 & 5 & 2 & 3 & ⋯ & 1 & 60619 & 0 & 0 & 1 & 0 & 0 & FALSE & TRUE  & TRUE\\\\\n\t 202 & O & 1 & 1 & 2 & 3 & 1 & 5 & 2 & 3 & ⋯ & 1 & 60638 & 0 & 0 & 0 & 0 & 0 & FALSE & TRUE  & TRUE\\\\\n\t 234 & W & 1 & 1 & 3 & 1 & 1 & 5 & 2 & 3 & ⋯ & 4 & 60620 & 0 & 0 & 1 & 0 & 0 & FALSE & FALSE & TRUE\\\\\n\t 204 & T & 3 & 1 & 1 & 3 & 1 & 5 & 1 & 1 & ⋯ & 5 & 60630 & 0 & 0 & 0 & 0 & 0 & FALSE & TRUE  & TRUE\\\\\n\t 203 & O & 1 & 1 & 2 & 3 & 1 & 5 & 2 & 3 & ⋯ & 1 & 60008 & 0 & 0 & 0 & 0 & 0 & FALSE & TRUE  & TRUE\\\\\n\t 203 & W & 1 & 1 & 1 & 1 & 2 & 5 & 1 & 3 & ⋯ & 1 & 60419 & 0 & 0 & 0 & 0 & 0 & FALSE & TRUE  & TRUE\\\\\n\t 295 & W & 2 & 1 & 2 & 3 & 1 & 5 & 1 & 3 & ⋯ & 3 & 60605 & 0 & 0 & 0 & 0 & 0 & FALSE & TRUE  & TRUE\\\\\n\t 204 & W & 2 & 1 & 1 & 3 & 1 & 5 & 1 & 2 & ⋯ & 5 & 60010 & 0 & 0 & 0 & 0 & 0 & FALSE & TRUE  & TRUE\\\\\n\t 202 & W & 2 & 1 & 4 & 3 & 1 & 5 & 2 & 2 & ⋯ & 1 & 60459 & 0 & 0 & 0 & 0 & 0 & FALSE & TRUE  & TRUE\\\\\n\t 278 & T & 2 & 1 & 1 & 3 & 1 & 5 & 1 & 3 & ⋯ & 2 & 60068 & 0 & 0 & 1 & 0 & 0 & FALSE & TRUE  & TRUE\\\\\n\t 206 & W & 3 & 1 & 1 & 3 & 2 & 5 & 1 & 3 & ⋯ & 2 & 60707 & 0 & 0 & 0 & 0 & 0 & FALSE & TRUE  & TRUE\\\\\n\t 211 & W & 2 & 1 & 1 & 3 & 2 & 5 & 2 & 3 & ⋯ & 2 & 60804 & 0 & 0 & 0 & 0 & 0 & FALSE & TRUE  & TRUE\\\\\n\\end{tabular}\n",
            "text/plain": [
              "      meta_class meta_deed_type char_ext_wall char_roof_cnst char_bsmt\n",
              "1     203        W              1             1              3        \n",
              "2     207        O              1             1              2        \n",
              "3     203        W              2             1              1        \n",
              "4     211        O              1             1              2        \n",
              "5     278        W              3             1              3        \n",
              "6     211        W              2             1              1        \n",
              "7     234        W              3             1              3        \n",
              "8     205        W              2             1              1        \n",
              "9     207        W              3             1              3        \n",
              "10    208        W              3             1              3        \n",
              "11    203        W              1             1              1        \n",
              "12    278        W              2             1              1        \n",
              "13    202        W              2             6              1        \n",
              "14    203        O              3             1              1        \n",
              "15    203        W              1             1              1        \n",
              "16    203        W              2             1              3        \n",
              "17    202        W              3             1              3        \n",
              "18    203        T              2             1              1        \n",
              "19    211        W              1             1              2        \n",
              "20    203        O              3             1              4        \n",
              "21    211        W              1             1              1        \n",
              "22    202        T              2             1              1        \n",
              "23    202        T              2             1              1        \n",
              "24    211        W              1             1              1        \n",
              "25    278        W              3             1              3        \n",
              "26    211        W              1             1              2        \n",
              "27    205        W              2             1              1        \n",
              "28    206        T              2             4              3        \n",
              "29    202        O              1             1              1        \n",
              "30    203        W              2             1              1        \n",
              "⋮     ⋮          ⋮              ⋮             ⋮              ⋮        \n",
              "9971  203        W              1             2              1        \n",
              "9972  208        O              3             1              1        \n",
              "9973  205        W              2             1              1        \n",
              "9974  278        O              3             1              1        \n",
              "9975  205        O              1             1              1        \n",
              "9976  278        W              1             1              2        \n",
              "9977  203        W              3             1              4        \n",
              "9978  205        W              1             1              1        \n",
              "9979  203        W              1             1              3        \n",
              "9980  204        T              3             1              3        \n",
              "9981  205        W              1             1              1        \n",
              "9982  278        W              3             1              3        \n",
              "9983  295        W              1             1              1        \n",
              "9984  278        T              2             1              3        \n",
              "9985  203        O              1             1              3        \n",
              "9986  278        W              2             1              1        \n",
              "9987  234        W              3             1              3        \n",
              "9988  278        W              3             1              3        \n",
              "9989  204        O              2             1              3        \n",
              "9990  202        O              1             1              2        \n",
              "9991  234        W              1             1              3        \n",
              "9992  204        T              3             1              1        \n",
              "9993  203        O              1             1              2        \n",
              "9994  203        W              1             1              1        \n",
              "9995  295        W              2             1              2        \n",
              "9996  204        W              2             1              1        \n",
              "9997  202        W              2             1              4        \n",
              "9998  278        T              2             1              1        \n",
              "9999  206        W              3             1              1        \n",
              "10000 211        W              2             1              1        \n",
              "      char_bsmt_fin char_heat char_oheat char_air char_attic_type ⋯\n",
              "1     1             1         5          1        3               ⋯\n",
              "2     3             1         5          1        3               ⋯\n",
              "3     3             1         5          1        3               ⋯\n",
              "4     3             1         5          2        3               ⋯\n",
              "5     3             1         5          1        3               ⋯\n",
              "6     3             1         2          2        3               ⋯\n",
              "7     1             1         5          2        3               ⋯\n",
              "8     3             2         5          1        1               ⋯\n",
              "9     3             1         5          1        3               ⋯\n",
              "10    3             1         5          1        3               ⋯\n",
              "11    3             1         5          2        1               ⋯\n",
              "12    1             1         5          1        3               ⋯\n",
              "13    3             1         5          2        2               ⋯\n",
              "14    3             1         5          1        2               ⋯\n",
              "15    3             1         5          1        1               ⋯\n",
              "16    1             1         5          2        1               ⋯\n",
              "17    1             1         5          2        2               ⋯\n",
              "18    1             1         5          2        3               ⋯\n",
              "19    3             1         5          2        3               ⋯\n",
              "20    3             1         5          1        3               ⋯\n",
              "21    3             2         5          2        3               ⋯\n",
              "22    3             1         5          1        3               ⋯\n",
              "23    1             2         5          2        3               ⋯\n",
              "24    2             1         5          2        1               ⋯\n",
              "25    1             1         5          1        3               ⋯\n",
              "26    3             1         5          2        3               ⋯\n",
              "27    1             1         5          1        2               ⋯\n",
              "28    3             2         5          2        2               ⋯\n",
              "29    3             1         5          2        2               ⋯\n",
              "30    3             1         5          2        3               ⋯\n",
              "⋮     ⋮             ⋮         ⋮          ⋮        ⋮               ⋱\n",
              "9971  1             1         5          2        1               ⋯\n",
              "9972  3             1         5          1        3               ⋯\n",
              "9973  3             1         5          1        3               ⋯\n",
              "9974  3             1         5          1        3               ⋯\n",
              "9975  3             1         5          2        1               ⋯\n",
              "9976  3             1         5          1        3               ⋯\n",
              "9977  3             1         5          1        3               ⋯\n",
              "9978  3             2         5          1        1               ⋯\n",
              "9979  3             2         5          2        2               ⋯\n",
              "9980  3             1         5          1        3               ⋯\n",
              "9981  3             1         5          2        2               ⋯\n",
              "9982  3             1         5          1        3               ⋯\n",
              "9983  3             1         5          1        3               ⋯\n",
              "9984  3             1         5          1        3               ⋯\n",
              "9985  1             1         5          1        3               ⋯\n",
              "9986  1             1         5          1        3               ⋯\n",
              "9987  1             1         5          2        3               ⋯\n",
              "9988  1             1         5          1        3               ⋯\n",
              "9989  1             1         5          2        3               ⋯\n",
              "9990  3             1         5          2        3               ⋯\n",
              "9991  1             1         5          2        3               ⋯\n",
              "9992  3             1         5          1        1               ⋯\n",
              "9993  3             1         5          2        3               ⋯\n",
              "9994  1             2         5          1        3               ⋯\n",
              "9995  3             1         5          1        3               ⋯\n",
              "9996  3             1         5          1        2               ⋯\n",
              "9997  3             1         5          2        2               ⋯\n",
              "9998  3             1         5          1        3               ⋯\n",
              "9999  3             2         5          1        3               ⋯\n",
              "10000 3             2         5          2        3               ⋯\n",
              "      char_type_resd geo_property_zip geo_ohare_noise geo_floodplain\n",
              "1     1              60133            0               0             \n",
              "2     2              60067            0               0             \n",
              "3     1              60805            0               0             \n",
              "4     2              60629            0               0             \n",
              "5     2              60462            0               0             \n",
              "6     2              60619            0               0             \n",
              "7     4              60452            0               0             \n",
              "8     2              60201            0               0             \n",
              "9     2              60453            0               0             \n",
              "10    2              60467            0               0             \n",
              "11    5              60628            0               0             \n",
              "12    2              60707            0               0             \n",
              "13    1              60620            0               0             \n",
              "14    5              60804            0               0             \n",
              "15    5              60202            0               0             \n",
              "16    1              60620            0               0             \n",
              "17    1              60619            0               0             \n",
              "18    1              60714            0               0             \n",
              "19    2              60651            0               0             \n",
              "20    1              60453            0               0             \n",
              "21    2              60616            0               0             \n",
              "22    1              60617            0               0             \n",
              "23    1              60638            0               0             \n",
              "24    5              60657            0               0             \n",
              "25    2              60712            0               0             \n",
              "26    2              60624            0               0             \n",
              "27    2              60162            0               0             \n",
              "28    2              60022            0               0             \n",
              "29    1              60636            0               0             \n",
              "30    1              60617            0               0             \n",
              "⋮     ⋮              ⋮                ⋮               ⋮             \n",
              "9971  1              60636            0               0             \n",
              "9972  2              60478            0               0             \n",
              "9973  2              60620            0               0             \n",
              "9974  2              60443            0               0             \n",
              "9975  2              60304            0               0             \n",
              "9976  2              60089            0               0             \n",
              "9977  1              60193            0               0             \n",
              "9978  2              60660            0               0             \n",
              "9979  1              60164            0               0             \n",
              "9980  1              60439            0               0             \n",
              "9981  2              60104            0               0             \n",
              "9982  2              60463            0               0             \n",
              "9983  2              60641            0               0             \n",
              "9984  2              60062            0               0             \n",
              "9985  1              60478            0               0             \n",
              "9986  2              60062            0               0             \n",
              "9987  4              60459            0               0             \n",
              "9988  2              60062            0               0             \n",
              "9989  1              60619            0               0             \n",
              "9990  1              60638            0               0             \n",
              "9991  4              60620            0               0             \n",
              "9992  5              60630            0               0             \n",
              "9993  1              60008            0               0             \n",
              "9994  1              60419            0               0             \n",
              "9995  3              60605            0               0             \n",
              "9996  5              60010            0               0             \n",
              "9997  1              60459            0               0             \n",
              "9998  2              60068            0               0             \n",
              "9999  2              60707            0               0             \n",
              "10000 2              60804            0               0             \n",
              "      geo_fs_flood_risk_direction geo_withinmr100 geo_withinmr101300\n",
              "1     0                           0               0                 \n",
              "2     0                           0               0                 \n",
              "3     1                           0               0                 \n",
              "4     0                           0               0                 \n",
              "5     -1                          0               0                 \n",
              "6     0                           0               0                 \n",
              "7     0                           0               0                 \n",
              "8     0                           0               0                 \n",
              "9     1                           0               0                 \n",
              "10    0                           0               0                 \n",
              "11    0                           0               0                 \n",
              "12    0                           0               0                 \n",
              "13    0                           0               0                 \n",
              "14    0                           0               0                 \n",
              "15    1                           0               0                 \n",
              "16    0                           0               0                 \n",
              "17    0                           0               0                 \n",
              "18    0                           1               0                 \n",
              "19    0                           0               0                 \n",
              "20    0                           0               0                 \n",
              "21    0                           0               0                 \n",
              "22    0                           0               0                 \n",
              "23    0                           0               0                 \n",
              "24    0                           0               0                 \n",
              "25    0                           0               0                 \n",
              "26    0                           0               0                 \n",
              "27    0                           0               0                 \n",
              "28    0                           0               1                 \n",
              "29    0                           0               0                 \n",
              "30    0                           0               0                 \n",
              "⋮     ⋮                           ⋮               ⋮                 \n",
              "9971  0                           0               0                 \n",
              "9972  0                           0               0                 \n",
              "9973  1                           0               1                 \n",
              "9974  0                           0               0                 \n",
              "9975  0                           0               0                 \n",
              "9976  0                           0               0                 \n",
              "9977  1                           0               0                 \n",
              "9978  0                           0               0                 \n",
              "9979  0                           0               0                 \n",
              "9980  0                           0               0                 \n",
              "9981  1                           0               0                 \n",
              "9982  0                           0               0                 \n",
              "9983  0                           0               0                 \n",
              "9984  0                           0               0                 \n",
              "9985  0                           0               0                 \n",
              "9986  0                           0               0                 \n",
              "9987  0                           0               0                 \n",
              "9988  0                           0               0                 \n",
              "9989  1                           0               0                 \n",
              "9990  0                           0               0                 \n",
              "9991  1                           0               0                 \n",
              "9992  0                           0               0                 \n",
              "9993  0                           0               0                 \n",
              "9994  0                           0               0                 \n",
              "9995  0                           0               0                 \n",
              "9996  0                           0               0                 \n",
              "9997  0                           0               0                 \n",
              "9998  1                           0               0                 \n",
              "9999  0                           0               0                 \n",
              "10000 0                           0               0                 \n",
              "      ind_large_home ind_garage ind_arms_length\n",
              "1     FALSE          TRUE       TRUE           \n",
              "2     FALSE          TRUE       TRUE           \n",
              "3     FALSE          TRUE       TRUE           \n",
              "4     FALSE          FALSE      TRUE           \n",
              "5     FALSE          TRUE       TRUE           \n",
              "6     FALSE          FALSE      TRUE           \n",
              "7     FALSE          TRUE       TRUE           \n",
              "8     FALSE          TRUE       TRUE           \n",
              "9     FALSE          TRUE       TRUE           \n",
              "10    TRUE           TRUE       TRUE           \n",
              "11    FALSE          FALSE      TRUE           \n",
              "12    FALSE          TRUE       TRUE           \n",
              "13    FALSE          TRUE       TRUE           \n",
              "14    FALSE          TRUE       TRUE           \n",
              "15    FALSE          TRUE       TRUE           \n",
              "16    FALSE          TRUE       TRUE           \n",
              "17    FALSE          TRUE       TRUE           \n",
              "18    FALSE          TRUE       TRUE           \n",
              "19    FALSE          TRUE       TRUE           \n",
              "20    FALSE          TRUE       TRUE           \n",
              "21    FALSE          TRUE       TRUE           \n",
              "22    FALSE          TRUE       TRUE           \n",
              "23    FALSE          TRUE       TRUE           \n",
              "24    FALSE          TRUE       TRUE           \n",
              "25    FALSE          TRUE       TRUE           \n",
              "26    FALSE          TRUE       TRUE           \n",
              "27    FALSE          TRUE       TRUE           \n",
              "28    FALSE          TRUE       TRUE           \n",
              "29    FALSE          TRUE       TRUE           \n",
              "30    FALSE          FALSE      TRUE           \n",
              "⋮     ⋮              ⋮          ⋮              \n",
              "9971  FALSE          FALSE      TRUE           \n",
              "9972  TRUE           TRUE       TRUE           \n",
              "9973  FALSE          TRUE       TRUE           \n",
              "9974  FALSE          TRUE       TRUE           \n",
              "9975  FALSE          TRUE       TRUE           \n",
              "9976  FALSE          TRUE       TRUE           \n",
              "9977  FALSE          TRUE       TRUE           \n",
              "9978  FALSE          TRUE       TRUE           \n",
              "9979  FALSE          TRUE       TRUE           \n",
              "9980  FALSE          TRUE       TRUE           \n",
              "9981  FALSE          TRUE       TRUE           \n",
              "9982  FALSE          TRUE       TRUE           \n",
              "9983  FALSE          TRUE       TRUE           \n",
              "9984  FALSE          TRUE       TRUE           \n",
              "9985  FALSE          TRUE       TRUE           \n",
              "9986  FALSE          TRUE       TRUE           \n",
              "9987  FALSE          TRUE       TRUE           \n",
              "9988  FALSE          TRUE       TRUE           \n",
              "9989  FALSE          TRUE       TRUE           \n",
              "9990  FALSE          TRUE       TRUE           \n",
              "9991  FALSE          FALSE      TRUE           \n",
              "9992  FALSE          TRUE       TRUE           \n",
              "9993  FALSE          TRUE       TRUE           \n",
              "9994  FALSE          TRUE       TRUE           \n",
              "9995  FALSE          TRUE       TRUE           \n",
              "9996  FALSE          TRUE       TRUE           \n",
              "9997  FALSE          TRUE       TRUE           \n",
              "9998  FALSE          TRUE       TRUE           \n",
              "9999  FALSE          TRUE       TRUE           \n",
              "10000 FALSE          TRUE       TRUE           "
            ]
          },
          "metadata": {}
        }
      ],
      "source": [
        "# fill NAs with mode for categorical features\n",
        "Na_mode <- function(sample_series) {\n",
        "    unique_samples <- unique(sample_series)\n",
        "    unique_samples[which.max(tabulate(match(sample_series, unique_samples)))]\n",
        "    }\n",
        "\n",
        "train_cat %>% mutate_all(~ifelse(is.na(.x), Na_mode(.x), .x))\n",
        "predict_cat %>% mutate_all(~ifelse(is.na(.x), Na_mode(.x), .x))"
      ]
    },
    {
      "cell_type": "code",
      "execution_count": null,
      "metadata": {
        "id": "7QsbqS0P2bFT",
        "colab": {
          "base_uri": "https://localhost:8080/",
          "height": 1000
        },
        "outputId": "4005220a-e611-4348-9d8a-ca53957d2388"
      },
      "outputs": [
        {
          "output_type": "display_data",
          "data": {
            "text/html": [
              "<table class=\"dataframe\">\n",
              "<caption>A data.frame: 50000 × 22</caption>\n",
              "<thead>\n",
              "\t<tr><th scope=col>sale_price</th><th scope=col>meta_nbhd</th><th scope=col>meta_certified_est_bldg</th><th scope=col>meta_certified_est_land</th><th scope=col>char_hd_sf</th><th scope=col>char_age</th><th scope=col>char_rooms</th><th scope=col>char_beds</th><th scope=col>char_frpl</th><th scope=col>char_fbath</th><th scope=col>⋯</th><th scope=col>char_bldg_sf</th><th scope=col>geo_tract_pop</th><th scope=col>geo_white_perc</th><th scope=col>geo_black_perc</th><th scope=col>geo_asian_perc</th><th scope=col>geo_his_perc</th><th scope=col>geo_other_perc</th><th scope=col>geo_fs_flood_factor</th><th scope=col>econ_tax_rate</th><th scope=col>econ_midincome</th></tr>\n",
              "\t<tr><th scope=col>&lt;int&gt;</th><th scope=col>&lt;int&gt;</th><th scope=col>&lt;int&gt;</th><th scope=col>&lt;int&gt;</th><th scope=col>&lt;int&gt;</th><th scope=col>&lt;int&gt;</th><th scope=col>&lt;int&gt;</th><th scope=col>&lt;int&gt;</th><th scope=col>&lt;dbl&gt;</th><th scope=col>&lt;int&gt;</th><th scope=col>⋯</th><th scope=col>&lt;int&gt;</th><th scope=col>&lt;dbl&gt;</th><th scope=col>&lt;dbl&gt;</th><th scope=col>&lt;dbl&gt;</th><th scope=col>&lt;dbl&gt;</th><th scope=col>&lt;dbl&gt;</th><th scope=col>&lt;dbl&gt;</th><th scope=col>&lt;dbl&gt;</th><th scope=col>&lt;dbl&gt;</th><th scope=col>&lt;dbl&gt;</th></tr>\n",
              "</thead>\n",
              "<tbody>\n",
              "\t<tr><td> 291000</td><td>31102</td><td>276700</td><td> 35880</td><td> 6525</td><td> 37</td><td> 8</td><td>4</td><td>1</td><td>2</td><td>⋯</td><td>2480</td><td>3558.000</td><td>0.437324340</td><td>0.265317594</td><td>0.041877459</td><td>0.245924677</td><td>0.019111861</td><td>1.000000</td><td> 9.237000</td><td> 76042.00</td></tr>\n",
              "\t<tr><td>1035000</td><td>25200</td><td>602590</td><td>239580</td><td>47916</td><td> 65</td><td> 8</td><td>3</td><td>3</td><td>4</td><td>⋯</td><td>3666</td><td>5742.000</td><td>0.865029606</td><td>0.000000000</td><td>0.125043539</td><td>0.007314525</td><td>0.005224660</td><td>1.000000</td><td> 8.077000</td><td>140789.00</td></tr>\n",
              "\t<tr><td> 235000</td><td>70130</td><td>116690</td><td> 44500</td><td> 4945</td><td> 65</td><td> 7</td><td>3</td><td>1</td><td>1</td><td>⋯</td><td>1794</td><td>5584.000</td><td>0.016475645</td><td>0.961855301</td><td>0.000000000</td><td>0.018087393</td><td>0.007163324</td><td>3.000000</td><td> 6.803000</td><td> 50426.00</td></tr>\n",
              "\t<tr><td> 280500</td><td>35040</td><td>207290</td><td> 42610</td><td>11364</td><td> 46</td><td> 6</td><td>3</td><td>0</td><td>1</td><td>⋯</td><td>1251</td><td>2698.000</td><td>0.637879911</td><td>0.003706449</td><td>0.157894737</td><td>0.158636027</td><td>0.074870274</td><td>1.000000</td><td>10.857000</td><td>107174.00</td></tr>\n",
              "\t<tr><td> 369000</td><td>71430</td><td>250800</td><td> 48050</td><td> 3844</td><td> 32</td><td> 7</td><td>3</td><td>0</td><td>2</td><td>⋯</td><td>1724</td><td>5720.000</td><td>0.643881119</td><td>0.000000000</td><td>0.082692308</td><td>0.248251748</td><td>0.045804196</td><td>1.000000</td><td> 6.790000</td><td> 81014.00</td></tr>\n",
              "\t<tr><td> 510000</td><td>19032</td><td>368720</td><td> 25080</td><td> 6272</td><td> 11</td><td> 9</td><td>5</td><td>1</td><td>2</td><td>⋯</td><td>3562</td><td>5663.000</td><td>0.885573018</td><td>0.012714109</td><td>0.033727706</td><td>0.049267173</td><td>0.037435988</td><td>1.000000</td><td> 8.877000</td><td>106656.00</td></tr>\n",
              "\t<tr><td> 495000</td><td>22085</td><td>265510</td><td> 99060</td><td>12782</td><td> 60</td><td> 6</td><td>4</td><td>0</td><td>2</td><td>⋯</td><td>1560</td><td>3920.000</td><td>0.662244898</td><td>0.016836735</td><td>0.183163265</td><td>0.112500000</td><td>0.048724490</td><td>6.000000</td><td> 9.052000</td><td>101552.00</td></tr>\n",
              "\t<tr><td> 116000</td><td>70080</td><td> 59050</td><td> 29280</td><td> 3660</td><td> 96</td><td> 4</td><td>2</td><td>0</td><td>1</td><td>⋯</td><td> 616</td><td>6004.000</td><td>0.007661559</td><td>0.959526982</td><td>0.013324450</td><td>0.009160560</td><td>0.017821452</td><td>1.000000</td><td> 7.145000</td><td> 42766.00</td></tr>\n",
              "\t<tr><td> 500000</td><td>29011</td><td>403690</td><td> 96310</td><td>55038</td><td> 26</td><td> 9</td><td>4</td><td>1</td><td>2</td><td>⋯</td><td>3461</td><td>7375.000</td><td>0.662779661</td><td>0.027254237</td><td>0.118779661</td><td>0.152135593</td><td>0.074711864</td><td>1.000000</td><td> 7.806000</td><td> 67773.00</td></tr>\n",
              "\t<tr><td> 170000</td><td>11010</td><td>140850</td><td> 47940</td><td> 4080</td><td> 67</td><td> 7</td><td>4</td><td>0</td><td>1</td><td>⋯</td><td>1422</td><td>4207.000</td><td>0.171381032</td><td>0.066318041</td><td>0.050867602</td><td>0.684097932</td><td>0.043974329</td><td>1.000000</td><td>15.089000</td><td> 58015.00</td></tr>\n",
              "\t<tr><td> 329000</td><td>71410</td><td>229060</td><td> 92400</td><td> 6600</td><td> 91</td><td> 5</td><td>2</td><td>1</td><td>1</td><td>⋯</td><td>1167</td><td>6872.000</td><td>0.824214203</td><td>0.023719441</td><td>0.018335274</td><td>0.110448196</td><td>0.044237485</td><td>1.000000</td><td> 6.808000</td><td> 74201.00</td></tr>\n",
              "\t<tr><td> 116000</td><td>77013</td><td>135470</td><td> 33370</td><td> 4450</td><td>113</td><td> 6</td><td>4</td><td>0</td><td>2</td><td>⋯</td><td>2394</td><td>4466.000</td><td>0.025750112</td><td>0.919390954</td><td>0.000000000</td><td>0.052395880</td><td>0.004926108</td><td>1.000000</td><td> 6.867000</td><td> 21281.00</td></tr>\n",
              "\t<tr><td> 131000</td><td>37150</td><td> 95930</td><td> 31210</td><td> 8324</td><td> 51</td><td> 7</td><td>3</td><td>0</td><td>1</td><td>⋯</td><td>1344</td><td>3183.000</td><td>0.124096764</td><td>0.836003770</td><td>0.002827521</td><td>0.037071945</td><td>0.000000000</td><td>1.000000</td><td>17.193000</td><td> 72500.00</td></tr>\n",
              "\t<tr><td>  55000</td><td>72323</td><td> 99570</td><td> 30070</td><td> 5012</td><td> 47</td><td> 7</td><td>3</td><td>0</td><td>1</td><td>⋯</td><td>1272</td><td>3814.000</td><td>0.004719455</td><td>0.940482433</td><td>0.000000000</td><td>0.038804405</td><td>0.031987415</td><td>1.000000</td><td> 6.848000</td><td> 40692.00</td></tr>\n",
              "\t<tr><td> 638500</td><td>77051</td><td> 89980</td><td> 93750</td><td> 3125</td><td>112</td><td>10</td><td>4</td><td>0</td><td>2</td><td>⋯</td><td>2403</td><td>4831.609</td><td>0.462133840</td><td>0.233281139</td><td>0.061680484</td><td>0.223711872</td><td>0.035489507</td><td>1.756718</td><td> 7.145000</td><td> 74481.46</td></tr>\n",
              "\t<tr><td> 210000</td><td>16062</td><td>173710</td><td> 28450</td><td> 7587</td><td> 55</td><td> 6</td><td>3</td><td>0</td><td>1</td><td>⋯</td><td>1308</td><td>6921.000</td><td>0.769686461</td><td>0.017194047</td><td>0.067186823</td><td>0.133506719</td><td>0.023118047</td><td>1.000000</td><td> 9.690000</td><td> 81938.00</td></tr>\n",
              "\t<tr><td> 161000</td><td>13240</td><td>112090</td><td> 27570</td><td>10029</td><td> 51</td><td> 7</td><td>4</td><td>0</td><td>2</td><td>⋯</td><td>2181</td><td>5893.000</td><td>0.065671135</td><td>0.879687765</td><td>0.047683693</td><td>0.006957407</td><td>0.000000000</td><td>6.000000</td><td>23.387000</td><td> 62602.00</td></tr>\n",
              "\t<tr><td> 209000</td><td>20050</td><td>200340</td><td> 22500</td><td> 7500</td><td> 61</td><td> 5</td><td>3</td><td>1</td><td>2</td><td>⋯</td><td>1800</td><td>4666.000</td><td>0.267895414</td><td>0.022717531</td><td>0.010072868</td><td>0.688169739</td><td>0.022288898</td><td>1.000000</td><td>13.756000</td><td> 66655.00</td></tr>\n",
              "\t<tr><td> 455000</td><td>21011</td><td>397500</td><td> 57750</td><td> 6600</td><td> 62</td><td> 7</td><td>2</td><td>0</td><td>1</td><td>⋯</td><td>1875</td><td>2196.000</td><td>0.693533698</td><td>0.007741348</td><td>0.193533698</td><td>0.096539162</td><td>0.017304189</td><td>1.000000</td><td> 7.080175</td><td>218000.00</td></tr>\n",
              "\t<tr><td> 295000</td><td>29070</td><td>251220</td><td> 41170</td><td> 9150</td><td> 56</td><td> 7</td><td>4</td><td>0</td><td>2</td><td>⋯</td><td>1592</td><td>7272.000</td><td>0.700220022</td><td>0.022964796</td><td>0.116886689</td><td>0.151540154</td><td>0.016776678</td><td>6.000000</td><td>10.291000</td><td> 95089.00</td></tr>\n",
              "\t<tr><td> 327000</td><td>16062</td><td>273350</td><td> 73730</td><td>16385</td><td> 41</td><td> 8</td><td>4</td><td>1</td><td>2</td><td>⋯</td><td>2809</td><td>6921.000</td><td>0.769686461</td><td>0.017194047</td><td>0.067186823</td><td>0.133506719</td><td>0.023118047</td><td>1.000000</td><td> 9.076000</td><td> 81938.00</td></tr>\n",
              "\t<tr><td> 330000</td><td>71430</td><td>289450</td><td> 62000</td><td> 4960</td><td> 72</td><td> 6</td><td>3</td><td>0</td><td>2</td><td>⋯</td><td>1473</td><td>5720.000</td><td>0.643881119</td><td>0.000000000</td><td>0.082692308</td><td>0.248251748</td><td>0.045804196</td><td>1.000000</td><td> 6.790000</td><td> 81014.00</td></tr>\n",
              "\t<tr><td> 706500</td><td>77052</td><td>469730</td><td> 75400</td><td> 3016</td><td>105</td><td>20</td><td>9</td><td>0</td><td>3</td><td>⋯</td><td>5130</td><td>3306.000</td><td>0.801572898</td><td>0.018451301</td><td>0.053236540</td><td>0.099818512</td><td>0.053841500</td><td>1.000000</td><td> 6.396000</td><td> 93980.00</td></tr>\n",
              "\t<tr><td> 227500</td><td>39290</td><td>170040</td><td> 30810</td><td> 7250</td><td> 27</td><td> 8</td><td>3</td><td>0</td><td>2</td><td>⋯</td><td>2116</td><td>4691.000</td><td>0.719889149</td><td>0.036026434</td><td>0.021317416</td><td>0.220422085</td><td>0.004689832</td><td>1.000000</td><td>12.898000</td><td> 68208.00</td></tr>\n",
              "\t<tr><td> 135000</td><td>13314</td><td> 91030</td><td> 20950</td><td> 7619</td><td> 66</td><td> 4</td><td>2</td><td>0</td><td>1</td><td>⋯</td><td>1008</td><td>5565.000</td><td>0.563522013</td><td>0.120575022</td><td>0.007547170</td><td>0.278346810</td><td>0.060017969</td><td>1.000000</td><td>14.685000</td><td> 52978.00</td></tr>\n",
              "\t<tr><td> 775000</td><td>71110</td><td>509180</td><td>118120</td><td> 5625</td><td>102</td><td> 9</td><td>6</td><td>0</td><td>3</td><td>⋯</td><td>3656</td><td>1829.000</td><td>0.697648989</td><td>0.035538546</td><td>0.051940951</td><td>0.138873701</td><td>0.151995626</td><td>6.000000</td><td> 6.867000</td><td> 76809.00</td></tr>\n",
              "\t<tr><td> 101000</td><td>15080</td><td>101580</td><td> 26460</td><td> 3780</td><td> 68</td><td> 6</td><td>3</td><td>0</td><td>1</td><td>⋯</td><td>1165</td><td>7973.000</td><td>0.166185877</td><td>0.017559263</td><td>0.011413521</td><td>0.803085413</td><td>0.003511853</td><td>1.000000</td><td>14.038000</td><td> 44867.00</td></tr>\n",
              "\t<tr><td>  99000</td><td>39100</td><td>136830</td><td> 22680</td><td> 5040</td><td> 56</td><td> 5</td><td>3</td><td>0</td><td>1</td><td>⋯</td><td>1132</td><td>5195.000</td><td>0.670259865</td><td>0.170356112</td><td>0.027718961</td><td>0.109143407</td><td>0.024831569</td><td>1.000000</td><td>12.360000</td><td> 71393.00</td></tr>\n",
              "\t<tr><td> 170000</td><td>72431</td><td>215440</td><td> 47500</td><td> 5000</td><td> 72</td><td> 6</td><td>4</td><td>1</td><td>1</td><td>⋯</td><td>1476</td><td>1963.000</td><td>0.888945492</td><td>0.049923586</td><td>0.001528273</td><td>0.043810494</td><td>0.023433520</td><td>1.000000</td><td> 6.803000</td><td> 98281.00</td></tr>\n",
              "\t<tr><td> 475000</td><td>23141</td><td>369120</td><td> 61680</td><td> 2570</td><td> 57</td><td> 4</td><td>2</td><td>1</td><td>2</td><td>⋯</td><td> 910</td><td>3503.000</td><td>0.852697688</td><td>0.006851270</td><td>0.076220383</td><td>0.039680274</td><td>0.049100771</td><td>1.000000</td><td> 8.173000</td><td>194423.00</td></tr>\n",
              "\t<tr><td>⋮</td><td>⋮</td><td>⋮</td><td>⋮</td><td>⋮</td><td>⋮</td><td>⋮</td><td>⋮</td><td>⋮</td><td>⋮</td><td>⋱</td><td>⋮</td><td>⋮</td><td>⋮</td><td>⋮</td><td>⋮</td><td>⋮</td><td>⋮</td><td>⋮</td><td>⋮</td><td>⋮</td></tr>\n",
              "\t<tr><td>248000</td><td>18012</td><td>194790</td><td> 34780</td><td> 6050</td><td> 23</td><td> 6</td><td> 3</td><td>1</td><td>1</td><td>⋯</td><td>1802</td><td>12447</td><td>0.544629228</td><td>0.020245842</td><td>0.263517313</td><td>0.140837150</td><td>0.049971881</td><td>1</td><td>12.649</td><td> 97684</td></tr>\n",
              "\t<tr><td>162500</td><td>70111</td><td>135100</td><td> 33810</td><td> 4830</td><td> 76</td><td> 6</td><td> 3</td><td>0</td><td>1</td><td>⋯</td><td>1495</td><td> 4577</td><td>0.006772995</td><td>0.973781953</td><td>0.000000000</td><td>0.000000000</td><td>0.038890103</td><td>6</td><td> 7.145</td><td> 53594</td></tr>\n",
              "\t<tr><td> 63500</td><td>18060</td><td> 93630</td><td> 10430</td><td> 1098</td><td> 44</td><td> 5</td><td> 2</td><td>0</td><td>1</td><td>⋯</td><td> 839</td><td> 2365</td><td>0.322621564</td><td>0.090486258</td><td>0.134460888</td><td>0.424947146</td><td>0.052431290</td><td>1</td><td>12.716</td><td> 62063</td></tr>\n",
              "\t<tr><td>849990</td><td>73070</td><td>561220</td><td>143750</td><td> 3125</td><td>109</td><td> 7</td><td> 4</td><td>0</td><td>2</td><td>⋯</td><td>1560</td><td> 6069</td><td>0.834733894</td><td>0.005767013</td><td>0.028505520</td><td>0.075465480</td><td>0.111056187</td><td>1</td><td> 6.867</td><td>133845</td></tr>\n",
              "\t<tr><td>232000</td><td>18020</td><td>147560</td><td> 28410</td><td> 9470</td><td> 47</td><td> 7</td><td> 3</td><td>0</td><td>1</td><td>⋯</td><td>1422</td><td> 6495</td><td>0.279907621</td><td>0.021247113</td><td>0.086374134</td><td>0.583987683</td><td>0.056966898</td><td>1</td><td>11.724</td><td> 74792</td></tr>\n",
              "\t<tr><td>110000</td><td>72282</td><td>101640</td><td> 24760</td><td> 3810</td><td> 51</td><td> 5</td><td> 2</td><td>0</td><td>1</td><td>⋯</td><td>1115</td><td> 2559</td><td>0.000000000</td><td>0.970691676</td><td>0.000000000</td><td>0.023055881</td><td>0.010160219</td><td>2</td><td> 7.162</td><td> 47022</td></tr>\n",
              "\t<tr><td>  8000</td><td>72330</td><td> 42440</td><td> 16870</td><td> 3750</td><td>101</td><td> 3</td><td> 2</td><td>0</td><td>1</td><td>⋯</td><td> 792</td><td> 4239</td><td>0.013446568</td><td>0.964142486</td><td>0.002830856</td><td>0.004246285</td><td>0.019815994</td><td>3</td><td> 6.848</td><td> 24727</td></tr>\n",
              "\t<tr><td>375000</td><td>71180</td><td>284780</td><td> 48750</td><td> 3750</td><td>117</td><td> 6</td><td> 3</td><td>0</td><td>1</td><td>⋯</td><td>1560</td><td> 2927</td><td>0.169115135</td><td>0.006149641</td><td>0.008199522</td><td>0.802869833</td><td>0.027331739</td><td>1</td><td> 6.808</td><td> 56667</td></tr>\n",
              "\t<tr><td>490000</td><td>38051</td><td>451190</td><td> 21110</td><td> 3249</td><td> 35</td><td>30</td><td>18</td><td>0</td><td>6</td><td>⋯</td><td>6627</td><td> 3494</td><td>0.638809388</td><td>0.018317115</td><td>0.109330280</td><td>0.217515741</td><td>0.032054951</td><td>1</td><td>11.860</td><td> 65243</td></tr>\n",
              "\t<tr><td>439500</td><td>21071</td><td>313550</td><td> 63000</td><td>10500</td><td> 52</td><td> 6</td><td> 3</td><td>1</td><td>1</td><td>⋯</td><td>1770</td><td> 7043</td><td>0.879596763</td><td>0.010506886</td><td>0.061195513</td><td>0.035070283</td><td>0.024563396</td><td>6</td><td> 8.831</td><td>100339</td></tr>\n",
              "\t<tr><td>636000</td><td>77060</td><td> 62650</td><td>141050</td><td> 3100</td><td>131</td><td> 6</td><td> 3</td><td>0</td><td>2</td><td>⋯</td><td>2233</td><td> 1797</td><td>0.613244296</td><td>0.025598219</td><td>0.100723428</td><td>0.219810796</td><td>0.081246522</td><td>9</td><td> 6.786</td><td>106339</td></tr>\n",
              "\t<tr><td>229900</td><td>12022</td><td>177330</td><td> 28790</td><td> 8228</td><td> 48</td><td> 8</td><td> 4</td><td>1</td><td>2</td><td>⋯</td><td>2500</td><td> 4663</td><td>0.364572164</td><td>0.529487454</td><td>0.007720352</td><td>0.044392022</td><td>0.097362213</td><td>1</td><td>17.234</td><td> 92630</td></tr>\n",
              "\t<tr><td>255000</td><td>34020</td><td>274500</td><td> 95550</td><td>13650</td><td> 93</td><td> 8</td><td> 4</td><td>0</td><td>2</td><td>⋯</td><td>2012</td><td> 3616</td><td>0.842643805</td><td>0.011615044</td><td>0.009955752</td><td>0.129977876</td><td>0.011615044</td><td>1</td><td>11.719</td><td>125486</td></tr>\n",
              "\t<tr><td>650000</td><td>73032</td><td> 37000</td><td>146400</td><td> 3050</td><td>107</td><td> 7</td><td> 4</td><td>0</td><td>4</td><td>⋯</td><td>2750</td><td> 5059</td><td>0.652698162</td><td>0.020162087</td><td>0.082229690</td><td>0.207946234</td><td>0.073927654</td><td>1</td><td> 7.722</td><td> 68304</td></tr>\n",
              "\t<tr><td>270000</td><td>22141</td><td>211600</td><td> 55820</td><td> 7700</td><td> 66</td><td> 6</td><td> 3</td><td>2</td><td>1</td><td>⋯</td><td> 807</td><td> 5094</td><td>0.880447585</td><td>0.000000000</td><td>0.021201413</td><td>0.088142913</td><td>0.020416176</td><td>6</td><td> 8.717</td><td>113576</td></tr>\n",
              "\t<tr><td>325000</td><td>24081</td><td>238590</td><td> 63310</td><td> 6665</td><td> 65</td><td> 6</td><td> 4</td><td>1</td><td>2</td><td>⋯</td><td>1489</td><td> 3390</td><td>0.540707965</td><td>0.025073746</td><td>0.334513274</td><td>0.055752212</td><td>0.085545723</td><td>1</td><td>12.155</td><td>112565</td></tr>\n",
              "\t<tr><td> 70000</td><td>21091</td><td>215280</td><td> 18750</td><td> 3750</td><td> 11</td><td> 9</td><td> 5</td><td>0</td><td>2</td><td>⋯</td><td>2808</td><td> 5715</td><td>0.090988626</td><td>0.111111111</td><td>0.015573053</td><td>0.777952756</td><td>0.008748906</td><td>1</td><td>16.436</td><td> 41144</td></tr>\n",
              "\t<tr><td>199000</td><td>20080</td><td>151460</td><td> 28870</td><td> 4125</td><td> 93</td><td> 6</td><td> 3</td><td>0</td><td>1</td><td>⋯</td><td>1176</td><td> 6466</td><td>0.585060315</td><td>0.061552737</td><td>0.039591710</td><td>0.313795237</td><td>0.000000000</td><td>1</td><td> 9.154</td><td> 52871</td></tr>\n",
              "\t<tr><td>  7500</td><td>72330</td><td> 58350</td><td> 23060</td><td> 4612</td><td>117</td><td> 7</td><td> 3</td><td>0</td><td>2</td><td>⋯</td><td> 752</td><td> 5973</td><td>0.001506781</td><td>0.967520509</td><td>0.000000000</td><td>0.007199062</td><td>0.047547296</td><td>1</td><td> 6.825</td><td> 39231</td></tr>\n",
              "\t<tr><td> 48000</td><td>37024</td><td> 79320</td><td> 15310</td><td> 4375</td><td> 78</td><td> 5</td><td> 3</td><td>1</td><td>1</td><td>⋯</td><td>1276</td><td> 6077</td><td>0.039657726</td><td>0.877735725</td><td>0.003784762</td><td>0.048708244</td><td>0.060227086</td><td>1</td><td>28.751</td><td> 38269</td></tr>\n",
              "\t<tr><td>265900</td><td>22031</td><td>266680</td><td> 65620</td><td> 9375</td><td> 59</td><td> 7</td><td> 4</td><td>0</td><td>2</td><td>⋯</td><td>1777</td><td> 2453</td><td>0.434162250</td><td>0.060334285</td><td>0.280065226</td><td>0.213615980</td><td>0.020383204</td><td>6</td><td>10.274</td><td> 51667</td></tr>\n",
              "\t<tr><td>252000</td><td>22030</td><td>189320</td><td> 38960</td><td> 7085</td><td> 65</td><td> 5</td><td> 3</td><td>0</td><td>1</td><td>⋯</td><td>1266</td><td> 3286</td><td>0.732501522</td><td>0.012172855</td><td>0.163724893</td><td>0.076688984</td><td>0.029823494</td><td>1</td><td> 9.913</td><td> 72946</td></tr>\n",
              "\t<tr><td>525000</td><td>21151</td><td>430550</td><td>152340</td><td>14863</td><td> 17</td><td> 9</td><td> 4</td><td>1</td><td>2</td><td>⋯</td><td>2761</td><td> 7653</td><td>0.773030184</td><td>0.008493401</td><td>0.053704430</td><td>0.133542402</td><td>0.058800470</td><td>1</td><td> 8.136</td><td>106317</td></tr>\n",
              "\t<tr><td> 20000</td><td>70030</td><td>144000</td><td> 39060</td><td> 3125</td><td>141</td><td>10</td><td> 5</td><td>0</td><td>3</td><td>⋯</td><td>2012</td><td> 4229</td><td>0.006148026</td><td>0.957436746</td><td>0.000000000</td><td>0.003310475</td><td>0.062662568</td><td>1</td><td> 6.786</td><td> 27554</td></tr>\n",
              "\t<tr><td>160000</td><td>39151</td><td>110550</td><td> 24000</td><td> 6000</td><td> 55</td><td> 7</td><td> 3</td><td>0</td><td>1</td><td>⋯</td><td>1346</td><td> 4444</td><td>0.786003600</td><td>0.038028803</td><td>0.008775878</td><td>0.157065707</td><td>0.020252025</td><td>1</td><td>15.802</td><td> 49702</td></tr>\n",
              "\t<tr><td>120000</td><td>31020</td><td> 82990</td><td> 19840</td><td> 4410</td><td> 62</td><td> 4</td><td> 2</td><td>0</td><td>1</td><td>⋯</td><td> 980</td><td> 5922</td><td>0.039175954</td><td>0.676122931</td><td>0.020432286</td><td>0.259540696</td><td>0.009456265</td><td>4</td><td>19.867</td><td> 61484</td></tr>\n",
              "\t<tr><td>364000</td><td>71070</td><td>422070</td><td> 52500</td><td> 3750</td><td> 16</td><td> 8</td><td> 4</td><td>1</td><td>2</td><td>⋯</td><td>2068</td><td> 3919</td><td>0.342179127</td><td>0.028068385</td><td>0.020923705</td><td>0.587649911</td><td>0.039550906</td><td>1</td><td> 6.833</td><td> 47931</td></tr>\n",
              "\t<tr><td>635000</td><td>23100</td><td>485910</td><td>107450</td><td> 9344</td><td> 67</td><td> 8</td><td> 4</td><td>2</td><td>2</td><td>⋯</td><td>2200</td><td> 4406</td><td>0.612800726</td><td>0.014298684</td><td>0.288924194</td><td>0.052882433</td><td>0.062187926</td><td>3</td><td> 8.895</td><td>125404</td></tr>\n",
              "\t<tr><td>262000</td><td>20080</td><td>219570</td><td> 34560</td><td> 3840</td><td> 92</td><td> 6</td><td> 3</td><td>1</td><td>1</td><td>⋯</td><td>1231</td><td> 5102</td><td>0.675813407</td><td>0.020580165</td><td>0.065660525</td><td>0.228537828</td><td>0.018816151</td><td>1</td><td>11.154</td><td> 73462</td></tr>\n",
              "\t<tr><td>145875</td><td>13130</td><td>136500</td><td> 35510</td><td> 9470</td><td> 57</td><td> 6</td><td> 3</td><td>0</td><td>1</td><td>⋯</td><td>1283</td><td> 7647</td><td>0.838760298</td><td>0.027069439</td><td>0.026807899</td><td>0.096508435</td><td>0.021707859</td><td>1</td><td>13.604</td><td> 66024</td></tr>\n",
              "</tbody>\n",
              "</table>\n"
            ],
            "text/markdown": "\nA data.frame: 50000 × 22\n\n| sale_price &lt;int&gt; | meta_nbhd &lt;int&gt; | meta_certified_est_bldg &lt;int&gt; | meta_certified_est_land &lt;int&gt; | char_hd_sf &lt;int&gt; | char_age &lt;int&gt; | char_rooms &lt;int&gt; | char_beds &lt;int&gt; | char_frpl &lt;dbl&gt; | char_fbath &lt;int&gt; | ⋯ ⋯ | char_bldg_sf &lt;int&gt; | geo_tract_pop &lt;dbl&gt; | geo_white_perc &lt;dbl&gt; | geo_black_perc &lt;dbl&gt; | geo_asian_perc &lt;dbl&gt; | geo_his_perc &lt;dbl&gt; | geo_other_perc &lt;dbl&gt; | geo_fs_flood_factor &lt;dbl&gt; | econ_tax_rate &lt;dbl&gt; | econ_midincome &lt;dbl&gt; |\n|---|---|---|---|---|---|---|---|---|---|---|---|---|---|---|---|---|---|---|---|---|\n|  291000 | 31102 | 276700 |  35880 |  6525 |  37 |  8 | 4 | 1 | 2 | ⋯ | 2480 | 3558.000 | 0.437324340 | 0.265317594 | 0.041877459 | 0.245924677 | 0.019111861 | 1.000000 |  9.237000 |  76042.00 |\n| 1035000 | 25200 | 602590 | 239580 | 47916 |  65 |  8 | 3 | 3 | 4 | ⋯ | 3666 | 5742.000 | 0.865029606 | 0.000000000 | 0.125043539 | 0.007314525 | 0.005224660 | 1.000000 |  8.077000 | 140789.00 |\n|  235000 | 70130 | 116690 |  44500 |  4945 |  65 |  7 | 3 | 1 | 1 | ⋯ | 1794 | 5584.000 | 0.016475645 | 0.961855301 | 0.000000000 | 0.018087393 | 0.007163324 | 3.000000 |  6.803000 |  50426.00 |\n|  280500 | 35040 | 207290 |  42610 | 11364 |  46 |  6 | 3 | 0 | 1 | ⋯ | 1251 | 2698.000 | 0.637879911 | 0.003706449 | 0.157894737 | 0.158636027 | 0.074870274 | 1.000000 | 10.857000 | 107174.00 |\n|  369000 | 71430 | 250800 |  48050 |  3844 |  32 |  7 | 3 | 0 | 2 | ⋯ | 1724 | 5720.000 | 0.643881119 | 0.000000000 | 0.082692308 | 0.248251748 | 0.045804196 | 1.000000 |  6.790000 |  81014.00 |\n|  510000 | 19032 | 368720 |  25080 |  6272 |  11 |  9 | 5 | 1 | 2 | ⋯ | 3562 | 5663.000 | 0.885573018 | 0.012714109 | 0.033727706 | 0.049267173 | 0.037435988 | 1.000000 |  8.877000 | 106656.00 |\n|  495000 | 22085 | 265510 |  99060 | 12782 |  60 |  6 | 4 | 0 | 2 | ⋯ | 1560 | 3920.000 | 0.662244898 | 0.016836735 | 0.183163265 | 0.112500000 | 0.048724490 | 6.000000 |  9.052000 | 101552.00 |\n|  116000 | 70080 |  59050 |  29280 |  3660 |  96 |  4 | 2 | 0 | 1 | ⋯ |  616 | 6004.000 | 0.007661559 | 0.959526982 | 0.013324450 | 0.009160560 | 0.017821452 | 1.000000 |  7.145000 |  42766.00 |\n|  500000 | 29011 | 403690 |  96310 | 55038 |  26 |  9 | 4 | 1 | 2 | ⋯ | 3461 | 7375.000 | 0.662779661 | 0.027254237 | 0.118779661 | 0.152135593 | 0.074711864 | 1.000000 |  7.806000 |  67773.00 |\n|  170000 | 11010 | 140850 |  47940 |  4080 |  67 |  7 | 4 | 0 | 1 | ⋯ | 1422 | 4207.000 | 0.171381032 | 0.066318041 | 0.050867602 | 0.684097932 | 0.043974329 | 1.000000 | 15.089000 |  58015.00 |\n|  329000 | 71410 | 229060 |  92400 |  6600 |  91 |  5 | 2 | 1 | 1 | ⋯ | 1167 | 6872.000 | 0.824214203 | 0.023719441 | 0.018335274 | 0.110448196 | 0.044237485 | 1.000000 |  6.808000 |  74201.00 |\n|  116000 | 77013 | 135470 |  33370 |  4450 | 113 |  6 | 4 | 0 | 2 | ⋯ | 2394 | 4466.000 | 0.025750112 | 0.919390954 | 0.000000000 | 0.052395880 | 0.004926108 | 1.000000 |  6.867000 |  21281.00 |\n|  131000 | 37150 |  95930 |  31210 |  8324 |  51 |  7 | 3 | 0 | 1 | ⋯ | 1344 | 3183.000 | 0.124096764 | 0.836003770 | 0.002827521 | 0.037071945 | 0.000000000 | 1.000000 | 17.193000 |  72500.00 |\n|   55000 | 72323 |  99570 |  30070 |  5012 |  47 |  7 | 3 | 0 | 1 | ⋯ | 1272 | 3814.000 | 0.004719455 | 0.940482433 | 0.000000000 | 0.038804405 | 0.031987415 | 1.000000 |  6.848000 |  40692.00 |\n|  638500 | 77051 |  89980 |  93750 |  3125 | 112 | 10 | 4 | 0 | 2 | ⋯ | 2403 | 4831.609 | 0.462133840 | 0.233281139 | 0.061680484 | 0.223711872 | 0.035489507 | 1.756718 |  7.145000 |  74481.46 |\n|  210000 | 16062 | 173710 |  28450 |  7587 |  55 |  6 | 3 | 0 | 1 | ⋯ | 1308 | 6921.000 | 0.769686461 | 0.017194047 | 0.067186823 | 0.133506719 | 0.023118047 | 1.000000 |  9.690000 |  81938.00 |\n|  161000 | 13240 | 112090 |  27570 | 10029 |  51 |  7 | 4 | 0 | 2 | ⋯ | 2181 | 5893.000 | 0.065671135 | 0.879687765 | 0.047683693 | 0.006957407 | 0.000000000 | 6.000000 | 23.387000 |  62602.00 |\n|  209000 | 20050 | 200340 |  22500 |  7500 |  61 |  5 | 3 | 1 | 2 | ⋯ | 1800 | 4666.000 | 0.267895414 | 0.022717531 | 0.010072868 | 0.688169739 | 0.022288898 | 1.000000 | 13.756000 |  66655.00 |\n|  455000 | 21011 | 397500 |  57750 |  6600 |  62 |  7 | 2 | 0 | 1 | ⋯ | 1875 | 2196.000 | 0.693533698 | 0.007741348 | 0.193533698 | 0.096539162 | 0.017304189 | 1.000000 |  7.080175 | 218000.00 |\n|  295000 | 29070 | 251220 |  41170 |  9150 |  56 |  7 | 4 | 0 | 2 | ⋯ | 1592 | 7272.000 | 0.700220022 | 0.022964796 | 0.116886689 | 0.151540154 | 0.016776678 | 6.000000 | 10.291000 |  95089.00 |\n|  327000 | 16062 | 273350 |  73730 | 16385 |  41 |  8 | 4 | 1 | 2 | ⋯ | 2809 | 6921.000 | 0.769686461 | 0.017194047 | 0.067186823 | 0.133506719 | 0.023118047 | 1.000000 |  9.076000 |  81938.00 |\n|  330000 | 71430 | 289450 |  62000 |  4960 |  72 |  6 | 3 | 0 | 2 | ⋯ | 1473 | 5720.000 | 0.643881119 | 0.000000000 | 0.082692308 | 0.248251748 | 0.045804196 | 1.000000 |  6.790000 |  81014.00 |\n|  706500 | 77052 | 469730 |  75400 |  3016 | 105 | 20 | 9 | 0 | 3 | ⋯ | 5130 | 3306.000 | 0.801572898 | 0.018451301 | 0.053236540 | 0.099818512 | 0.053841500 | 1.000000 |  6.396000 |  93980.00 |\n|  227500 | 39290 | 170040 |  30810 |  7250 |  27 |  8 | 3 | 0 | 2 | ⋯ | 2116 | 4691.000 | 0.719889149 | 0.036026434 | 0.021317416 | 0.220422085 | 0.004689832 | 1.000000 | 12.898000 |  68208.00 |\n|  135000 | 13314 |  91030 |  20950 |  7619 |  66 |  4 | 2 | 0 | 1 | ⋯ | 1008 | 5565.000 | 0.563522013 | 0.120575022 | 0.007547170 | 0.278346810 | 0.060017969 | 1.000000 | 14.685000 |  52978.00 |\n|  775000 | 71110 | 509180 | 118120 |  5625 | 102 |  9 | 6 | 0 | 3 | ⋯ | 3656 | 1829.000 | 0.697648989 | 0.035538546 | 0.051940951 | 0.138873701 | 0.151995626 | 6.000000 |  6.867000 |  76809.00 |\n|  101000 | 15080 | 101580 |  26460 |  3780 |  68 |  6 | 3 | 0 | 1 | ⋯ | 1165 | 7973.000 | 0.166185877 | 0.017559263 | 0.011413521 | 0.803085413 | 0.003511853 | 1.000000 | 14.038000 |  44867.00 |\n|   99000 | 39100 | 136830 |  22680 |  5040 |  56 |  5 | 3 | 0 | 1 | ⋯ | 1132 | 5195.000 | 0.670259865 | 0.170356112 | 0.027718961 | 0.109143407 | 0.024831569 | 1.000000 | 12.360000 |  71393.00 |\n|  170000 | 72431 | 215440 |  47500 |  5000 |  72 |  6 | 4 | 1 | 1 | ⋯ | 1476 | 1963.000 | 0.888945492 | 0.049923586 | 0.001528273 | 0.043810494 | 0.023433520 | 1.000000 |  6.803000 |  98281.00 |\n|  475000 | 23141 | 369120 |  61680 |  2570 |  57 |  4 | 2 | 1 | 2 | ⋯ |  910 | 3503.000 | 0.852697688 | 0.006851270 | 0.076220383 | 0.039680274 | 0.049100771 | 1.000000 |  8.173000 | 194423.00 |\n| ⋮ | ⋮ | ⋮ | ⋮ | ⋮ | ⋮ | ⋮ | ⋮ | ⋮ | ⋮ | ⋱ | ⋮ | ⋮ | ⋮ | ⋮ | ⋮ | ⋮ | ⋮ | ⋮ | ⋮ | ⋮ |\n| 248000 | 18012 | 194790 |  34780 |  6050 |  23 |  6 |  3 | 1 | 1 | ⋯ | 1802 | 12447 | 0.544629228 | 0.020245842 | 0.263517313 | 0.140837150 | 0.049971881 | 1 | 12.649 |  97684 |\n| 162500 | 70111 | 135100 |  33810 |  4830 |  76 |  6 |  3 | 0 | 1 | ⋯ | 1495 |  4577 | 0.006772995 | 0.973781953 | 0.000000000 | 0.000000000 | 0.038890103 | 6 |  7.145 |  53594 |\n|  63500 | 18060 |  93630 |  10430 |  1098 |  44 |  5 |  2 | 0 | 1 | ⋯ |  839 |  2365 | 0.322621564 | 0.090486258 | 0.134460888 | 0.424947146 | 0.052431290 | 1 | 12.716 |  62063 |\n| 849990 | 73070 | 561220 | 143750 |  3125 | 109 |  7 |  4 | 0 | 2 | ⋯ | 1560 |  6069 | 0.834733894 | 0.005767013 | 0.028505520 | 0.075465480 | 0.111056187 | 1 |  6.867 | 133845 |\n| 232000 | 18020 | 147560 |  28410 |  9470 |  47 |  7 |  3 | 0 | 1 | ⋯ | 1422 |  6495 | 0.279907621 | 0.021247113 | 0.086374134 | 0.583987683 | 0.056966898 | 1 | 11.724 |  74792 |\n| 110000 | 72282 | 101640 |  24760 |  3810 |  51 |  5 |  2 | 0 | 1 | ⋯ | 1115 |  2559 | 0.000000000 | 0.970691676 | 0.000000000 | 0.023055881 | 0.010160219 | 2 |  7.162 |  47022 |\n|   8000 | 72330 |  42440 |  16870 |  3750 | 101 |  3 |  2 | 0 | 1 | ⋯ |  792 |  4239 | 0.013446568 | 0.964142486 | 0.002830856 | 0.004246285 | 0.019815994 | 3 |  6.848 |  24727 |\n| 375000 | 71180 | 284780 |  48750 |  3750 | 117 |  6 |  3 | 0 | 1 | ⋯ | 1560 |  2927 | 0.169115135 | 0.006149641 | 0.008199522 | 0.802869833 | 0.027331739 | 1 |  6.808 |  56667 |\n| 490000 | 38051 | 451190 |  21110 |  3249 |  35 | 30 | 18 | 0 | 6 | ⋯ | 6627 |  3494 | 0.638809388 | 0.018317115 | 0.109330280 | 0.217515741 | 0.032054951 | 1 | 11.860 |  65243 |\n| 439500 | 21071 | 313550 |  63000 | 10500 |  52 |  6 |  3 | 1 | 1 | ⋯ | 1770 |  7043 | 0.879596763 | 0.010506886 | 0.061195513 | 0.035070283 | 0.024563396 | 6 |  8.831 | 100339 |\n| 636000 | 77060 |  62650 | 141050 |  3100 | 131 |  6 |  3 | 0 | 2 | ⋯ | 2233 |  1797 | 0.613244296 | 0.025598219 | 0.100723428 | 0.219810796 | 0.081246522 | 9 |  6.786 | 106339 |\n| 229900 | 12022 | 177330 |  28790 |  8228 |  48 |  8 |  4 | 1 | 2 | ⋯ | 2500 |  4663 | 0.364572164 | 0.529487454 | 0.007720352 | 0.044392022 | 0.097362213 | 1 | 17.234 |  92630 |\n| 255000 | 34020 | 274500 |  95550 | 13650 |  93 |  8 |  4 | 0 | 2 | ⋯ | 2012 |  3616 | 0.842643805 | 0.011615044 | 0.009955752 | 0.129977876 | 0.011615044 | 1 | 11.719 | 125486 |\n| 650000 | 73032 |  37000 | 146400 |  3050 | 107 |  7 |  4 | 0 | 4 | ⋯ | 2750 |  5059 | 0.652698162 | 0.020162087 | 0.082229690 | 0.207946234 | 0.073927654 | 1 |  7.722 |  68304 |\n| 270000 | 22141 | 211600 |  55820 |  7700 |  66 |  6 |  3 | 2 | 1 | ⋯ |  807 |  5094 | 0.880447585 | 0.000000000 | 0.021201413 | 0.088142913 | 0.020416176 | 6 |  8.717 | 113576 |\n| 325000 | 24081 | 238590 |  63310 |  6665 |  65 |  6 |  4 | 1 | 2 | ⋯ | 1489 |  3390 | 0.540707965 | 0.025073746 | 0.334513274 | 0.055752212 | 0.085545723 | 1 | 12.155 | 112565 |\n|  70000 | 21091 | 215280 |  18750 |  3750 |  11 |  9 |  5 | 0 | 2 | ⋯ | 2808 |  5715 | 0.090988626 | 0.111111111 | 0.015573053 | 0.777952756 | 0.008748906 | 1 | 16.436 |  41144 |\n| 199000 | 20080 | 151460 |  28870 |  4125 |  93 |  6 |  3 | 0 | 1 | ⋯ | 1176 |  6466 | 0.585060315 | 0.061552737 | 0.039591710 | 0.313795237 | 0.000000000 | 1 |  9.154 |  52871 |\n|   7500 | 72330 |  58350 |  23060 |  4612 | 117 |  7 |  3 | 0 | 2 | ⋯ |  752 |  5973 | 0.001506781 | 0.967520509 | 0.000000000 | 0.007199062 | 0.047547296 | 1 |  6.825 |  39231 |\n|  48000 | 37024 |  79320 |  15310 |  4375 |  78 |  5 |  3 | 1 | 1 | ⋯ | 1276 |  6077 | 0.039657726 | 0.877735725 | 0.003784762 | 0.048708244 | 0.060227086 | 1 | 28.751 |  38269 |\n| 265900 | 22031 | 266680 |  65620 |  9375 |  59 |  7 |  4 | 0 | 2 | ⋯ | 1777 |  2453 | 0.434162250 | 0.060334285 | 0.280065226 | 0.213615980 | 0.020383204 | 6 | 10.274 |  51667 |\n| 252000 | 22030 | 189320 |  38960 |  7085 |  65 |  5 |  3 | 0 | 1 | ⋯ | 1266 |  3286 | 0.732501522 | 0.012172855 | 0.163724893 | 0.076688984 | 0.029823494 | 1 |  9.913 |  72946 |\n| 525000 | 21151 | 430550 | 152340 | 14863 |  17 |  9 |  4 | 1 | 2 | ⋯ | 2761 |  7653 | 0.773030184 | 0.008493401 | 0.053704430 | 0.133542402 | 0.058800470 | 1 |  8.136 | 106317 |\n|  20000 | 70030 | 144000 |  39060 |  3125 | 141 | 10 |  5 | 0 | 3 | ⋯ | 2012 |  4229 | 0.006148026 | 0.957436746 | 0.000000000 | 0.003310475 | 0.062662568 | 1 |  6.786 |  27554 |\n| 160000 | 39151 | 110550 |  24000 |  6000 |  55 |  7 |  3 | 0 | 1 | ⋯ | 1346 |  4444 | 0.786003600 | 0.038028803 | 0.008775878 | 0.157065707 | 0.020252025 | 1 | 15.802 |  49702 |\n| 120000 | 31020 |  82990 |  19840 |  4410 |  62 |  4 |  2 | 0 | 1 | ⋯ |  980 |  5922 | 0.039175954 | 0.676122931 | 0.020432286 | 0.259540696 | 0.009456265 | 4 | 19.867 |  61484 |\n| 364000 | 71070 | 422070 |  52500 |  3750 |  16 |  8 |  4 | 1 | 2 | ⋯ | 2068 |  3919 | 0.342179127 | 0.028068385 | 0.020923705 | 0.587649911 | 0.039550906 | 1 |  6.833 |  47931 |\n| 635000 | 23100 | 485910 | 107450 |  9344 |  67 |  8 |  4 | 2 | 2 | ⋯ | 2200 |  4406 | 0.612800726 | 0.014298684 | 0.288924194 | 0.052882433 | 0.062187926 | 3 |  8.895 | 125404 |\n| 262000 | 20080 | 219570 |  34560 |  3840 |  92 |  6 |  3 | 1 | 1 | ⋯ | 1231 |  5102 | 0.675813407 | 0.020580165 | 0.065660525 | 0.228537828 | 0.018816151 | 1 | 11.154 |  73462 |\n| 145875 | 13130 | 136500 |  35510 |  9470 |  57 |  6 |  3 | 0 | 1 | ⋯ | 1283 |  7647 | 0.838760298 | 0.027069439 | 0.026807899 | 0.096508435 | 0.021707859 | 1 | 13.604 |  66024 |\n\n",
            "text/latex": "A data.frame: 50000 × 22\n\\begin{tabular}{lllllllllllllllllllll}\n sale\\_price & meta\\_nbhd & meta\\_certified\\_est\\_bldg & meta\\_certified\\_est\\_land & char\\_hd\\_sf & char\\_age & char\\_rooms & char\\_beds & char\\_frpl & char\\_fbath & ⋯ & char\\_bldg\\_sf & geo\\_tract\\_pop & geo\\_white\\_perc & geo\\_black\\_perc & geo\\_asian\\_perc & geo\\_his\\_perc & geo\\_other\\_perc & geo\\_fs\\_flood\\_factor & econ\\_tax\\_rate & econ\\_midincome\\\\\n <int> & <int> & <int> & <int> & <int> & <int> & <int> & <int> & <dbl> & <int> & ⋯ & <int> & <dbl> & <dbl> & <dbl> & <dbl> & <dbl> & <dbl> & <dbl> & <dbl> & <dbl>\\\\\n\\hline\n\t  291000 & 31102 & 276700 &  35880 &  6525 &  37 &  8 & 4 & 1 & 2 & ⋯ & 2480 & 3558.000 & 0.437324340 & 0.265317594 & 0.041877459 & 0.245924677 & 0.019111861 & 1.000000 &  9.237000 &  76042.00\\\\\n\t 1035000 & 25200 & 602590 & 239580 & 47916 &  65 &  8 & 3 & 3 & 4 & ⋯ & 3666 & 5742.000 & 0.865029606 & 0.000000000 & 0.125043539 & 0.007314525 & 0.005224660 & 1.000000 &  8.077000 & 140789.00\\\\\n\t  235000 & 70130 & 116690 &  44500 &  4945 &  65 &  7 & 3 & 1 & 1 & ⋯ & 1794 & 5584.000 & 0.016475645 & 0.961855301 & 0.000000000 & 0.018087393 & 0.007163324 & 3.000000 &  6.803000 &  50426.00\\\\\n\t  280500 & 35040 & 207290 &  42610 & 11364 &  46 &  6 & 3 & 0 & 1 & ⋯ & 1251 & 2698.000 & 0.637879911 & 0.003706449 & 0.157894737 & 0.158636027 & 0.074870274 & 1.000000 & 10.857000 & 107174.00\\\\\n\t  369000 & 71430 & 250800 &  48050 &  3844 &  32 &  7 & 3 & 0 & 2 & ⋯ & 1724 & 5720.000 & 0.643881119 & 0.000000000 & 0.082692308 & 0.248251748 & 0.045804196 & 1.000000 &  6.790000 &  81014.00\\\\\n\t  510000 & 19032 & 368720 &  25080 &  6272 &  11 &  9 & 5 & 1 & 2 & ⋯ & 3562 & 5663.000 & 0.885573018 & 0.012714109 & 0.033727706 & 0.049267173 & 0.037435988 & 1.000000 &  8.877000 & 106656.00\\\\\n\t  495000 & 22085 & 265510 &  99060 & 12782 &  60 &  6 & 4 & 0 & 2 & ⋯ & 1560 & 3920.000 & 0.662244898 & 0.016836735 & 0.183163265 & 0.112500000 & 0.048724490 & 6.000000 &  9.052000 & 101552.00\\\\\n\t  116000 & 70080 &  59050 &  29280 &  3660 &  96 &  4 & 2 & 0 & 1 & ⋯ &  616 & 6004.000 & 0.007661559 & 0.959526982 & 0.013324450 & 0.009160560 & 0.017821452 & 1.000000 &  7.145000 &  42766.00\\\\\n\t  500000 & 29011 & 403690 &  96310 & 55038 &  26 &  9 & 4 & 1 & 2 & ⋯ & 3461 & 7375.000 & 0.662779661 & 0.027254237 & 0.118779661 & 0.152135593 & 0.074711864 & 1.000000 &  7.806000 &  67773.00\\\\\n\t  170000 & 11010 & 140850 &  47940 &  4080 &  67 &  7 & 4 & 0 & 1 & ⋯ & 1422 & 4207.000 & 0.171381032 & 0.066318041 & 0.050867602 & 0.684097932 & 0.043974329 & 1.000000 & 15.089000 &  58015.00\\\\\n\t  329000 & 71410 & 229060 &  92400 &  6600 &  91 &  5 & 2 & 1 & 1 & ⋯ & 1167 & 6872.000 & 0.824214203 & 0.023719441 & 0.018335274 & 0.110448196 & 0.044237485 & 1.000000 &  6.808000 &  74201.00\\\\\n\t  116000 & 77013 & 135470 &  33370 &  4450 & 113 &  6 & 4 & 0 & 2 & ⋯ & 2394 & 4466.000 & 0.025750112 & 0.919390954 & 0.000000000 & 0.052395880 & 0.004926108 & 1.000000 &  6.867000 &  21281.00\\\\\n\t  131000 & 37150 &  95930 &  31210 &  8324 &  51 &  7 & 3 & 0 & 1 & ⋯ & 1344 & 3183.000 & 0.124096764 & 0.836003770 & 0.002827521 & 0.037071945 & 0.000000000 & 1.000000 & 17.193000 &  72500.00\\\\\n\t   55000 & 72323 &  99570 &  30070 &  5012 &  47 &  7 & 3 & 0 & 1 & ⋯ & 1272 & 3814.000 & 0.004719455 & 0.940482433 & 0.000000000 & 0.038804405 & 0.031987415 & 1.000000 &  6.848000 &  40692.00\\\\\n\t  638500 & 77051 &  89980 &  93750 &  3125 & 112 & 10 & 4 & 0 & 2 & ⋯ & 2403 & 4831.609 & 0.462133840 & 0.233281139 & 0.061680484 & 0.223711872 & 0.035489507 & 1.756718 &  7.145000 &  74481.46\\\\\n\t  210000 & 16062 & 173710 &  28450 &  7587 &  55 &  6 & 3 & 0 & 1 & ⋯ & 1308 & 6921.000 & 0.769686461 & 0.017194047 & 0.067186823 & 0.133506719 & 0.023118047 & 1.000000 &  9.690000 &  81938.00\\\\\n\t  161000 & 13240 & 112090 &  27570 & 10029 &  51 &  7 & 4 & 0 & 2 & ⋯ & 2181 & 5893.000 & 0.065671135 & 0.879687765 & 0.047683693 & 0.006957407 & 0.000000000 & 6.000000 & 23.387000 &  62602.00\\\\\n\t  209000 & 20050 & 200340 &  22500 &  7500 &  61 &  5 & 3 & 1 & 2 & ⋯ & 1800 & 4666.000 & 0.267895414 & 0.022717531 & 0.010072868 & 0.688169739 & 0.022288898 & 1.000000 & 13.756000 &  66655.00\\\\\n\t  455000 & 21011 & 397500 &  57750 &  6600 &  62 &  7 & 2 & 0 & 1 & ⋯ & 1875 & 2196.000 & 0.693533698 & 0.007741348 & 0.193533698 & 0.096539162 & 0.017304189 & 1.000000 &  7.080175 & 218000.00\\\\\n\t  295000 & 29070 & 251220 &  41170 &  9150 &  56 &  7 & 4 & 0 & 2 & ⋯ & 1592 & 7272.000 & 0.700220022 & 0.022964796 & 0.116886689 & 0.151540154 & 0.016776678 & 6.000000 & 10.291000 &  95089.00\\\\\n\t  327000 & 16062 & 273350 &  73730 & 16385 &  41 &  8 & 4 & 1 & 2 & ⋯ & 2809 & 6921.000 & 0.769686461 & 0.017194047 & 0.067186823 & 0.133506719 & 0.023118047 & 1.000000 &  9.076000 &  81938.00\\\\\n\t  330000 & 71430 & 289450 &  62000 &  4960 &  72 &  6 & 3 & 0 & 2 & ⋯ & 1473 & 5720.000 & 0.643881119 & 0.000000000 & 0.082692308 & 0.248251748 & 0.045804196 & 1.000000 &  6.790000 &  81014.00\\\\\n\t  706500 & 77052 & 469730 &  75400 &  3016 & 105 & 20 & 9 & 0 & 3 & ⋯ & 5130 & 3306.000 & 0.801572898 & 0.018451301 & 0.053236540 & 0.099818512 & 0.053841500 & 1.000000 &  6.396000 &  93980.00\\\\\n\t  227500 & 39290 & 170040 &  30810 &  7250 &  27 &  8 & 3 & 0 & 2 & ⋯ & 2116 & 4691.000 & 0.719889149 & 0.036026434 & 0.021317416 & 0.220422085 & 0.004689832 & 1.000000 & 12.898000 &  68208.00\\\\\n\t  135000 & 13314 &  91030 &  20950 &  7619 &  66 &  4 & 2 & 0 & 1 & ⋯ & 1008 & 5565.000 & 0.563522013 & 0.120575022 & 0.007547170 & 0.278346810 & 0.060017969 & 1.000000 & 14.685000 &  52978.00\\\\\n\t  775000 & 71110 & 509180 & 118120 &  5625 & 102 &  9 & 6 & 0 & 3 & ⋯ & 3656 & 1829.000 & 0.697648989 & 0.035538546 & 0.051940951 & 0.138873701 & 0.151995626 & 6.000000 &  6.867000 &  76809.00\\\\\n\t  101000 & 15080 & 101580 &  26460 &  3780 &  68 &  6 & 3 & 0 & 1 & ⋯ & 1165 & 7973.000 & 0.166185877 & 0.017559263 & 0.011413521 & 0.803085413 & 0.003511853 & 1.000000 & 14.038000 &  44867.00\\\\\n\t   99000 & 39100 & 136830 &  22680 &  5040 &  56 &  5 & 3 & 0 & 1 & ⋯ & 1132 & 5195.000 & 0.670259865 & 0.170356112 & 0.027718961 & 0.109143407 & 0.024831569 & 1.000000 & 12.360000 &  71393.00\\\\\n\t  170000 & 72431 & 215440 &  47500 &  5000 &  72 &  6 & 4 & 1 & 1 & ⋯ & 1476 & 1963.000 & 0.888945492 & 0.049923586 & 0.001528273 & 0.043810494 & 0.023433520 & 1.000000 &  6.803000 &  98281.00\\\\\n\t  475000 & 23141 & 369120 &  61680 &  2570 &  57 &  4 & 2 & 1 & 2 & ⋯ &  910 & 3503.000 & 0.852697688 & 0.006851270 & 0.076220383 & 0.039680274 & 0.049100771 & 1.000000 &  8.173000 & 194423.00\\\\\n\t ⋮ & ⋮ & ⋮ & ⋮ & ⋮ & ⋮ & ⋮ & ⋮ & ⋮ & ⋮ & ⋱ & ⋮ & ⋮ & ⋮ & ⋮ & ⋮ & ⋮ & ⋮ & ⋮ & ⋮ & ⋮\\\\\n\t 248000 & 18012 & 194790 &  34780 &  6050 &  23 &  6 &  3 & 1 & 1 & ⋯ & 1802 & 12447 & 0.544629228 & 0.020245842 & 0.263517313 & 0.140837150 & 0.049971881 & 1 & 12.649 &  97684\\\\\n\t 162500 & 70111 & 135100 &  33810 &  4830 &  76 &  6 &  3 & 0 & 1 & ⋯ & 1495 &  4577 & 0.006772995 & 0.973781953 & 0.000000000 & 0.000000000 & 0.038890103 & 6 &  7.145 &  53594\\\\\n\t  63500 & 18060 &  93630 &  10430 &  1098 &  44 &  5 &  2 & 0 & 1 & ⋯ &  839 &  2365 & 0.322621564 & 0.090486258 & 0.134460888 & 0.424947146 & 0.052431290 & 1 & 12.716 &  62063\\\\\n\t 849990 & 73070 & 561220 & 143750 &  3125 & 109 &  7 &  4 & 0 & 2 & ⋯ & 1560 &  6069 & 0.834733894 & 0.005767013 & 0.028505520 & 0.075465480 & 0.111056187 & 1 &  6.867 & 133845\\\\\n\t 232000 & 18020 & 147560 &  28410 &  9470 &  47 &  7 &  3 & 0 & 1 & ⋯ & 1422 &  6495 & 0.279907621 & 0.021247113 & 0.086374134 & 0.583987683 & 0.056966898 & 1 & 11.724 &  74792\\\\\n\t 110000 & 72282 & 101640 &  24760 &  3810 &  51 &  5 &  2 & 0 & 1 & ⋯ & 1115 &  2559 & 0.000000000 & 0.970691676 & 0.000000000 & 0.023055881 & 0.010160219 & 2 &  7.162 &  47022\\\\\n\t   8000 & 72330 &  42440 &  16870 &  3750 & 101 &  3 &  2 & 0 & 1 & ⋯ &  792 &  4239 & 0.013446568 & 0.964142486 & 0.002830856 & 0.004246285 & 0.019815994 & 3 &  6.848 &  24727\\\\\n\t 375000 & 71180 & 284780 &  48750 &  3750 & 117 &  6 &  3 & 0 & 1 & ⋯ & 1560 &  2927 & 0.169115135 & 0.006149641 & 0.008199522 & 0.802869833 & 0.027331739 & 1 &  6.808 &  56667\\\\\n\t 490000 & 38051 & 451190 &  21110 &  3249 &  35 & 30 & 18 & 0 & 6 & ⋯ & 6627 &  3494 & 0.638809388 & 0.018317115 & 0.109330280 & 0.217515741 & 0.032054951 & 1 & 11.860 &  65243\\\\\n\t 439500 & 21071 & 313550 &  63000 & 10500 &  52 &  6 &  3 & 1 & 1 & ⋯ & 1770 &  7043 & 0.879596763 & 0.010506886 & 0.061195513 & 0.035070283 & 0.024563396 & 6 &  8.831 & 100339\\\\\n\t 636000 & 77060 &  62650 & 141050 &  3100 & 131 &  6 &  3 & 0 & 2 & ⋯ & 2233 &  1797 & 0.613244296 & 0.025598219 & 0.100723428 & 0.219810796 & 0.081246522 & 9 &  6.786 & 106339\\\\\n\t 229900 & 12022 & 177330 &  28790 &  8228 &  48 &  8 &  4 & 1 & 2 & ⋯ & 2500 &  4663 & 0.364572164 & 0.529487454 & 0.007720352 & 0.044392022 & 0.097362213 & 1 & 17.234 &  92630\\\\\n\t 255000 & 34020 & 274500 &  95550 & 13650 &  93 &  8 &  4 & 0 & 2 & ⋯ & 2012 &  3616 & 0.842643805 & 0.011615044 & 0.009955752 & 0.129977876 & 0.011615044 & 1 & 11.719 & 125486\\\\\n\t 650000 & 73032 &  37000 & 146400 &  3050 & 107 &  7 &  4 & 0 & 4 & ⋯ & 2750 &  5059 & 0.652698162 & 0.020162087 & 0.082229690 & 0.207946234 & 0.073927654 & 1 &  7.722 &  68304\\\\\n\t 270000 & 22141 & 211600 &  55820 &  7700 &  66 &  6 &  3 & 2 & 1 & ⋯ &  807 &  5094 & 0.880447585 & 0.000000000 & 0.021201413 & 0.088142913 & 0.020416176 & 6 &  8.717 & 113576\\\\\n\t 325000 & 24081 & 238590 &  63310 &  6665 &  65 &  6 &  4 & 1 & 2 & ⋯ & 1489 &  3390 & 0.540707965 & 0.025073746 & 0.334513274 & 0.055752212 & 0.085545723 & 1 & 12.155 & 112565\\\\\n\t  70000 & 21091 & 215280 &  18750 &  3750 &  11 &  9 &  5 & 0 & 2 & ⋯ & 2808 &  5715 & 0.090988626 & 0.111111111 & 0.015573053 & 0.777952756 & 0.008748906 & 1 & 16.436 &  41144\\\\\n\t 199000 & 20080 & 151460 &  28870 &  4125 &  93 &  6 &  3 & 0 & 1 & ⋯ & 1176 &  6466 & 0.585060315 & 0.061552737 & 0.039591710 & 0.313795237 & 0.000000000 & 1 &  9.154 &  52871\\\\\n\t   7500 & 72330 &  58350 &  23060 &  4612 & 117 &  7 &  3 & 0 & 2 & ⋯ &  752 &  5973 & 0.001506781 & 0.967520509 & 0.000000000 & 0.007199062 & 0.047547296 & 1 &  6.825 &  39231\\\\\n\t  48000 & 37024 &  79320 &  15310 &  4375 &  78 &  5 &  3 & 1 & 1 & ⋯ & 1276 &  6077 & 0.039657726 & 0.877735725 & 0.003784762 & 0.048708244 & 0.060227086 & 1 & 28.751 &  38269\\\\\n\t 265900 & 22031 & 266680 &  65620 &  9375 &  59 &  7 &  4 & 0 & 2 & ⋯ & 1777 &  2453 & 0.434162250 & 0.060334285 & 0.280065226 & 0.213615980 & 0.020383204 & 6 & 10.274 &  51667\\\\\n\t 252000 & 22030 & 189320 &  38960 &  7085 &  65 &  5 &  3 & 0 & 1 & ⋯ & 1266 &  3286 & 0.732501522 & 0.012172855 & 0.163724893 & 0.076688984 & 0.029823494 & 1 &  9.913 &  72946\\\\\n\t 525000 & 21151 & 430550 & 152340 & 14863 &  17 &  9 &  4 & 1 & 2 & ⋯ & 2761 &  7653 & 0.773030184 & 0.008493401 & 0.053704430 & 0.133542402 & 0.058800470 & 1 &  8.136 & 106317\\\\\n\t  20000 & 70030 & 144000 &  39060 &  3125 & 141 & 10 &  5 & 0 & 3 & ⋯ & 2012 &  4229 & 0.006148026 & 0.957436746 & 0.000000000 & 0.003310475 & 0.062662568 & 1 &  6.786 &  27554\\\\\n\t 160000 & 39151 & 110550 &  24000 &  6000 &  55 &  7 &  3 & 0 & 1 & ⋯ & 1346 &  4444 & 0.786003600 & 0.038028803 & 0.008775878 & 0.157065707 & 0.020252025 & 1 & 15.802 &  49702\\\\\n\t 120000 & 31020 &  82990 &  19840 &  4410 &  62 &  4 &  2 & 0 & 1 & ⋯ &  980 &  5922 & 0.039175954 & 0.676122931 & 0.020432286 & 0.259540696 & 0.009456265 & 4 & 19.867 &  61484\\\\\n\t 364000 & 71070 & 422070 &  52500 &  3750 &  16 &  8 &  4 & 1 & 2 & ⋯ & 2068 &  3919 & 0.342179127 & 0.028068385 & 0.020923705 & 0.587649911 & 0.039550906 & 1 &  6.833 &  47931\\\\\n\t 635000 & 23100 & 485910 & 107450 &  9344 &  67 &  8 &  4 & 2 & 2 & ⋯ & 2200 &  4406 & 0.612800726 & 0.014298684 & 0.288924194 & 0.052882433 & 0.062187926 & 3 &  8.895 & 125404\\\\\n\t 262000 & 20080 & 219570 &  34560 &  3840 &  92 &  6 &  3 & 1 & 1 & ⋯ & 1231 &  5102 & 0.675813407 & 0.020580165 & 0.065660525 & 0.228537828 & 0.018816151 & 1 & 11.154 &  73462\\\\\n\t 145875 & 13130 & 136500 &  35510 &  9470 &  57 &  6 &  3 & 0 & 1 & ⋯ & 1283 &  7647 & 0.838760298 & 0.027069439 & 0.026807899 & 0.096508435 & 0.021707859 & 1 & 13.604 &  66024\\\\\n\\end{tabular}\n",
            "text/plain": [
              "      sale_price meta_nbhd meta_certified_est_bldg meta_certified_est_land\n",
              "1      291000    31102     276700                   35880                 \n",
              "2     1035000    25200     602590                  239580                 \n",
              "3      235000    70130     116690                   44500                 \n",
              "4      280500    35040     207290                   42610                 \n",
              "5      369000    71430     250800                   48050                 \n",
              "6      510000    19032     368720                   25080                 \n",
              "7      495000    22085     265510                   99060                 \n",
              "8      116000    70080      59050                   29280                 \n",
              "9      500000    29011     403690                   96310                 \n",
              "10     170000    11010     140850                   47940                 \n",
              "11     329000    71410     229060                   92400                 \n",
              "12     116000    77013     135470                   33370                 \n",
              "13     131000    37150      95930                   31210                 \n",
              "14      55000    72323      99570                   30070                 \n",
              "15     638500    77051      89980                   93750                 \n",
              "16     210000    16062     173710                   28450                 \n",
              "17     161000    13240     112090                   27570                 \n",
              "18     209000    20050     200340                   22500                 \n",
              "19     455000    21011     397500                   57750                 \n",
              "20     295000    29070     251220                   41170                 \n",
              "21     327000    16062     273350                   73730                 \n",
              "22     330000    71430     289450                   62000                 \n",
              "23     706500    77052     469730                   75400                 \n",
              "24     227500    39290     170040                   30810                 \n",
              "25     135000    13314      91030                   20950                 \n",
              "26     775000    71110     509180                  118120                 \n",
              "27     101000    15080     101580                   26460                 \n",
              "28      99000    39100     136830                   22680                 \n",
              "29     170000    72431     215440                   47500                 \n",
              "30     475000    23141     369120                   61680                 \n",
              "⋮     ⋮          ⋮         ⋮                       ⋮                      \n",
              "49971 248000     18012     194790                   34780                 \n",
              "49972 162500     70111     135100                   33810                 \n",
              "49973  63500     18060      93630                   10430                 \n",
              "49974 849990     73070     561220                  143750                 \n",
              "49975 232000     18020     147560                   28410                 \n",
              "49976 110000     72282     101640                   24760                 \n",
              "49977   8000     72330      42440                   16870                 \n",
              "49978 375000     71180     284780                   48750                 \n",
              "49979 490000     38051     451190                   21110                 \n",
              "49980 439500     21071     313550                   63000                 \n",
              "49981 636000     77060      62650                  141050                 \n",
              "49982 229900     12022     177330                   28790                 \n",
              "49983 255000     34020     274500                   95550                 \n",
              "49984 650000     73032      37000                  146400                 \n",
              "49985 270000     22141     211600                   55820                 \n",
              "49986 325000     24081     238590                   63310                 \n",
              "49987  70000     21091     215280                   18750                 \n",
              "49988 199000     20080     151460                   28870                 \n",
              "49989   7500     72330      58350                   23060                 \n",
              "49990  48000     37024      79320                   15310                 \n",
              "49991 265900     22031     266680                   65620                 \n",
              "49992 252000     22030     189320                   38960                 \n",
              "49993 525000     21151     430550                  152340                 \n",
              "49994  20000     70030     144000                   39060                 \n",
              "49995 160000     39151     110550                   24000                 \n",
              "49996 120000     31020      82990                   19840                 \n",
              "49997 364000     71070     422070                   52500                 \n",
              "49998 635000     23100     485910                  107450                 \n",
              "49999 262000     20080     219570                   34560                 \n",
              "50000 145875     13130     136500                   35510                 \n",
              "      char_hd_sf char_age char_rooms char_beds char_frpl char_fbath ⋯\n",
              "1      6525       37       8         4         1         2          ⋯\n",
              "2     47916       65       8         3         3         4          ⋯\n",
              "3      4945       65       7         3         1         1          ⋯\n",
              "4     11364       46       6         3         0         1          ⋯\n",
              "5      3844       32       7         3         0         2          ⋯\n",
              "6      6272       11       9         5         1         2          ⋯\n",
              "7     12782       60       6         4         0         2          ⋯\n",
              "8      3660       96       4         2         0         1          ⋯\n",
              "9     55038       26       9         4         1         2          ⋯\n",
              "10     4080       67       7         4         0         1          ⋯\n",
              "11     6600       91       5         2         1         1          ⋯\n",
              "12     4450      113       6         4         0         2          ⋯\n",
              "13     8324       51       7         3         0         1          ⋯\n",
              "14     5012       47       7         3         0         1          ⋯\n",
              "15     3125      112      10         4         0         2          ⋯\n",
              "16     7587       55       6         3         0         1          ⋯\n",
              "17    10029       51       7         4         0         2          ⋯\n",
              "18     7500       61       5         3         1         2          ⋯\n",
              "19     6600       62       7         2         0         1          ⋯\n",
              "20     9150       56       7         4         0         2          ⋯\n",
              "21    16385       41       8         4         1         2          ⋯\n",
              "22     4960       72       6         3         0         2          ⋯\n",
              "23     3016      105      20         9         0         3          ⋯\n",
              "24     7250       27       8         3         0         2          ⋯\n",
              "25     7619       66       4         2         0         1          ⋯\n",
              "26     5625      102       9         6         0         3          ⋯\n",
              "27     3780       68       6         3         0         1          ⋯\n",
              "28     5040       56       5         3         0         1          ⋯\n",
              "29     5000       72       6         4         1         1          ⋯\n",
              "30     2570       57       4         2         1         2          ⋯\n",
              "⋮     ⋮          ⋮        ⋮          ⋮         ⋮         ⋮          ⋱\n",
              "49971  6050       23       6          3        1         1          ⋯\n",
              "49972  4830       76       6          3        0         1          ⋯\n",
              "49973  1098       44       5          2        0         1          ⋯\n",
              "49974  3125      109       7          4        0         2          ⋯\n",
              "49975  9470       47       7          3        0         1          ⋯\n",
              "49976  3810       51       5          2        0         1          ⋯\n",
              "49977  3750      101       3          2        0         1          ⋯\n",
              "49978  3750      117       6          3        0         1          ⋯\n",
              "49979  3249       35      30         18        0         6          ⋯\n",
              "49980 10500       52       6          3        1         1          ⋯\n",
              "49981  3100      131       6          3        0         2          ⋯\n",
              "49982  8228       48       8          4        1         2          ⋯\n",
              "49983 13650       93       8          4        0         2          ⋯\n",
              "49984  3050      107       7          4        0         4          ⋯\n",
              "49985  7700       66       6          3        2         1          ⋯\n",
              "49986  6665       65       6          4        1         2          ⋯\n",
              "49987  3750       11       9          5        0         2          ⋯\n",
              "49988  4125       93       6          3        0         1          ⋯\n",
              "49989  4612      117       7          3        0         2          ⋯\n",
              "49990  4375       78       5          3        1         1          ⋯\n",
              "49991  9375       59       7          4        0         2          ⋯\n",
              "49992  7085       65       5          3        0         1          ⋯\n",
              "49993 14863       17       9          4        1         2          ⋯\n",
              "49994  3125      141      10          5        0         3          ⋯\n",
              "49995  6000       55       7          3        0         1          ⋯\n",
              "49996  4410       62       4          2        0         1          ⋯\n",
              "49997  3750       16       8          4        1         2          ⋯\n",
              "49998  9344       67       8          4        2         2          ⋯\n",
              "49999  3840       92       6          3        1         1          ⋯\n",
              "50000  9470       57       6          3        0         1          ⋯\n",
              "      char_bldg_sf geo_tract_pop geo_white_perc geo_black_perc geo_asian_perc\n",
              "1     2480         3558.000      0.437324340    0.265317594    0.041877459   \n",
              "2     3666         5742.000      0.865029606    0.000000000    0.125043539   \n",
              "3     1794         5584.000      0.016475645    0.961855301    0.000000000   \n",
              "4     1251         2698.000      0.637879911    0.003706449    0.157894737   \n",
              "5     1724         5720.000      0.643881119    0.000000000    0.082692308   \n",
              "6     3562         5663.000      0.885573018    0.012714109    0.033727706   \n",
              "7     1560         3920.000      0.662244898    0.016836735    0.183163265   \n",
              "8      616         6004.000      0.007661559    0.959526982    0.013324450   \n",
              "9     3461         7375.000      0.662779661    0.027254237    0.118779661   \n",
              "10    1422         4207.000      0.171381032    0.066318041    0.050867602   \n",
              "11    1167         6872.000      0.824214203    0.023719441    0.018335274   \n",
              "12    2394         4466.000      0.025750112    0.919390954    0.000000000   \n",
              "13    1344         3183.000      0.124096764    0.836003770    0.002827521   \n",
              "14    1272         3814.000      0.004719455    0.940482433    0.000000000   \n",
              "15    2403         4831.609      0.462133840    0.233281139    0.061680484   \n",
              "16    1308         6921.000      0.769686461    0.017194047    0.067186823   \n",
              "17    2181         5893.000      0.065671135    0.879687765    0.047683693   \n",
              "18    1800         4666.000      0.267895414    0.022717531    0.010072868   \n",
              "19    1875         2196.000      0.693533698    0.007741348    0.193533698   \n",
              "20    1592         7272.000      0.700220022    0.022964796    0.116886689   \n",
              "21    2809         6921.000      0.769686461    0.017194047    0.067186823   \n",
              "22    1473         5720.000      0.643881119    0.000000000    0.082692308   \n",
              "23    5130         3306.000      0.801572898    0.018451301    0.053236540   \n",
              "24    2116         4691.000      0.719889149    0.036026434    0.021317416   \n",
              "25    1008         5565.000      0.563522013    0.120575022    0.007547170   \n",
              "26    3656         1829.000      0.697648989    0.035538546    0.051940951   \n",
              "27    1165         7973.000      0.166185877    0.017559263    0.011413521   \n",
              "28    1132         5195.000      0.670259865    0.170356112    0.027718961   \n",
              "29    1476         1963.000      0.888945492    0.049923586    0.001528273   \n",
              "30     910         3503.000      0.852697688    0.006851270    0.076220383   \n",
              "⋮     ⋮            ⋮             ⋮              ⋮              ⋮             \n",
              "49971 1802         12447         0.544629228    0.020245842    0.263517313   \n",
              "49972 1495          4577         0.006772995    0.973781953    0.000000000   \n",
              "49973  839          2365         0.322621564    0.090486258    0.134460888   \n",
              "49974 1560          6069         0.834733894    0.005767013    0.028505520   \n",
              "49975 1422          6495         0.279907621    0.021247113    0.086374134   \n",
              "49976 1115          2559         0.000000000    0.970691676    0.000000000   \n",
              "49977  792          4239         0.013446568    0.964142486    0.002830856   \n",
              "49978 1560          2927         0.169115135    0.006149641    0.008199522   \n",
              "49979 6627          3494         0.638809388    0.018317115    0.109330280   \n",
              "49980 1770          7043         0.879596763    0.010506886    0.061195513   \n",
              "49981 2233          1797         0.613244296    0.025598219    0.100723428   \n",
              "49982 2500          4663         0.364572164    0.529487454    0.007720352   \n",
              "49983 2012          3616         0.842643805    0.011615044    0.009955752   \n",
              "49984 2750          5059         0.652698162    0.020162087    0.082229690   \n",
              "49985  807          5094         0.880447585    0.000000000    0.021201413   \n",
              "49986 1489          3390         0.540707965    0.025073746    0.334513274   \n",
              "49987 2808          5715         0.090988626    0.111111111    0.015573053   \n",
              "49988 1176          6466         0.585060315    0.061552737    0.039591710   \n",
              "49989  752          5973         0.001506781    0.967520509    0.000000000   \n",
              "49990 1276          6077         0.039657726    0.877735725    0.003784762   \n",
              "49991 1777          2453         0.434162250    0.060334285    0.280065226   \n",
              "49992 1266          3286         0.732501522    0.012172855    0.163724893   \n",
              "49993 2761          7653         0.773030184    0.008493401    0.053704430   \n",
              "49994 2012          4229         0.006148026    0.957436746    0.000000000   \n",
              "49995 1346          4444         0.786003600    0.038028803    0.008775878   \n",
              "49996  980          5922         0.039175954    0.676122931    0.020432286   \n",
              "49997 2068          3919         0.342179127    0.028068385    0.020923705   \n",
              "49998 2200          4406         0.612800726    0.014298684    0.288924194   \n",
              "49999 1231          5102         0.675813407    0.020580165    0.065660525   \n",
              "50000 1283          7647         0.838760298    0.027069439    0.026807899   \n",
              "      geo_his_perc geo_other_perc geo_fs_flood_factor econ_tax_rate\n",
              "1     0.245924677  0.019111861    1.000000             9.237000    \n",
              "2     0.007314525  0.005224660    1.000000             8.077000    \n",
              "3     0.018087393  0.007163324    3.000000             6.803000    \n",
              "4     0.158636027  0.074870274    1.000000            10.857000    \n",
              "5     0.248251748  0.045804196    1.000000             6.790000    \n",
              "6     0.049267173  0.037435988    1.000000             8.877000    \n",
              "7     0.112500000  0.048724490    6.000000             9.052000    \n",
              "8     0.009160560  0.017821452    1.000000             7.145000    \n",
              "9     0.152135593  0.074711864    1.000000             7.806000    \n",
              "10    0.684097932  0.043974329    1.000000            15.089000    \n",
              "11    0.110448196  0.044237485    1.000000             6.808000    \n",
              "12    0.052395880  0.004926108    1.000000             6.867000    \n",
              "13    0.037071945  0.000000000    1.000000            17.193000    \n",
              "14    0.038804405  0.031987415    1.000000             6.848000    \n",
              "15    0.223711872  0.035489507    1.756718             7.145000    \n",
              "16    0.133506719  0.023118047    1.000000             9.690000    \n",
              "17    0.006957407  0.000000000    6.000000            23.387000    \n",
              "18    0.688169739  0.022288898    1.000000            13.756000    \n",
              "19    0.096539162  0.017304189    1.000000             7.080175    \n",
              "20    0.151540154  0.016776678    6.000000            10.291000    \n",
              "21    0.133506719  0.023118047    1.000000             9.076000    \n",
              "22    0.248251748  0.045804196    1.000000             6.790000    \n",
              "23    0.099818512  0.053841500    1.000000             6.396000    \n",
              "24    0.220422085  0.004689832    1.000000            12.898000    \n",
              "25    0.278346810  0.060017969    1.000000            14.685000    \n",
              "26    0.138873701  0.151995626    6.000000             6.867000    \n",
              "27    0.803085413  0.003511853    1.000000            14.038000    \n",
              "28    0.109143407  0.024831569    1.000000            12.360000    \n",
              "29    0.043810494  0.023433520    1.000000             6.803000    \n",
              "30    0.039680274  0.049100771    1.000000             8.173000    \n",
              "⋮     ⋮            ⋮              ⋮                   ⋮            \n",
              "49971 0.140837150  0.049971881    1                   12.649       \n",
              "49972 0.000000000  0.038890103    6                    7.145       \n",
              "49973 0.424947146  0.052431290    1                   12.716       \n",
              "49974 0.075465480  0.111056187    1                    6.867       \n",
              "49975 0.583987683  0.056966898    1                   11.724       \n",
              "49976 0.023055881  0.010160219    2                    7.162       \n",
              "49977 0.004246285  0.019815994    3                    6.848       \n",
              "49978 0.802869833  0.027331739    1                    6.808       \n",
              "49979 0.217515741  0.032054951    1                   11.860       \n",
              "49980 0.035070283  0.024563396    6                    8.831       \n",
              "49981 0.219810796  0.081246522    9                    6.786       \n",
              "49982 0.044392022  0.097362213    1                   17.234       \n",
              "49983 0.129977876  0.011615044    1                   11.719       \n",
              "49984 0.207946234  0.073927654    1                    7.722       \n",
              "49985 0.088142913  0.020416176    6                    8.717       \n",
              "49986 0.055752212  0.085545723    1                   12.155       \n",
              "49987 0.777952756  0.008748906    1                   16.436       \n",
              "49988 0.313795237  0.000000000    1                    9.154       \n",
              "49989 0.007199062  0.047547296    1                    6.825       \n",
              "49990 0.048708244  0.060227086    1                   28.751       \n",
              "49991 0.213615980  0.020383204    6                   10.274       \n",
              "49992 0.076688984  0.029823494    1                    9.913       \n",
              "49993 0.133542402  0.058800470    1                    8.136       \n",
              "49994 0.003310475  0.062662568    1                    6.786       \n",
              "49995 0.157065707  0.020252025    1                   15.802       \n",
              "49996 0.259540696  0.009456265    4                   19.867       \n",
              "49997 0.587649911  0.039550906    1                    6.833       \n",
              "49998 0.052882433  0.062187926    3                    8.895       \n",
              "49999 0.228537828  0.018816151    1                   11.154       \n",
              "50000 0.096508435  0.021707859    1                   13.604       \n",
              "      econ_midincome\n",
              "1      76042.00     \n",
              "2     140789.00     \n",
              "3      50426.00     \n",
              "4     107174.00     \n",
              "5      81014.00     \n",
              "6     106656.00     \n",
              "7     101552.00     \n",
              "8      42766.00     \n",
              "9      67773.00     \n",
              "10     58015.00     \n",
              "11     74201.00     \n",
              "12     21281.00     \n",
              "13     72500.00     \n",
              "14     40692.00     \n",
              "15     74481.46     \n",
              "16     81938.00     \n",
              "17     62602.00     \n",
              "18     66655.00     \n",
              "19    218000.00     \n",
              "20     95089.00     \n",
              "21     81938.00     \n",
              "22     81014.00     \n",
              "23     93980.00     \n",
              "24     68208.00     \n",
              "25     52978.00     \n",
              "26     76809.00     \n",
              "27     44867.00     \n",
              "28     71393.00     \n",
              "29     98281.00     \n",
              "30    194423.00     \n",
              "⋮     ⋮             \n",
              "49971  97684        \n",
              "49972  53594        \n",
              "49973  62063        \n",
              "49974 133845        \n",
              "49975  74792        \n",
              "49976  47022        \n",
              "49977  24727        \n",
              "49978  56667        \n",
              "49979  65243        \n",
              "49980 100339        \n",
              "49981 106339        \n",
              "49982  92630        \n",
              "49983 125486        \n",
              "49984  68304        \n",
              "49985 113576        \n",
              "49986 112565        \n",
              "49987  41144        \n",
              "49988  52871        \n",
              "49989  39231        \n",
              "49990  38269        \n",
              "49991  51667        \n",
              "49992  72946        \n",
              "49993 106317        \n",
              "49994  27554        \n",
              "49995  49702        \n",
              "49996  61484        \n",
              "49997  47931        \n",
              "49998 125404        \n",
              "49999  73462        \n",
              "50000  66024        "
            ]
          },
          "metadata": {}
        },
        {
          "output_type": "display_data",
          "data": {
            "text/html": [
              "<table class=\"dataframe\">\n",
              "<caption>A data.frame: 10000 × 22</caption>\n",
              "<thead>\n",
              "\t<tr><th scope=col>pid</th><th scope=col>meta_nbhd</th><th scope=col>meta_certified_est_bldg</th><th scope=col>meta_certified_est_land</th><th scope=col>char_hd_sf</th><th scope=col>char_age</th><th scope=col>char_rooms</th><th scope=col>char_beds</th><th scope=col>char_frpl</th><th scope=col>char_fbath</th><th scope=col>⋯</th><th scope=col>char_bldg_sf</th><th scope=col>geo_tract_pop</th><th scope=col>geo_white_perc</th><th scope=col>geo_black_perc</th><th scope=col>geo_asian_perc</th><th scope=col>geo_his_perc</th><th scope=col>geo_other_perc</th><th scope=col>geo_fs_flood_factor</th><th scope=col>econ_tax_rate</th><th scope=col>econ_midincome</th></tr>\n",
              "\t<tr><th scope=col>&lt;int&gt;</th><th scope=col>&lt;int&gt;</th><th scope=col>&lt;int&gt;</th><th scope=col>&lt;int&gt;</th><th scope=col>&lt;int&gt;</th><th scope=col>&lt;int&gt;</th><th scope=col>&lt;int&gt;</th><th scope=col>&lt;int&gt;</th><th scope=col>&lt;dbl&gt;</th><th scope=col>&lt;int&gt;</th><th scope=col>⋯</th><th scope=col>&lt;int&gt;</th><th scope=col>&lt;int&gt;</th><th scope=col>&lt;dbl&gt;</th><th scope=col>&lt;dbl&gt;</th><th scope=col>&lt;dbl&gt;</th><th scope=col>&lt;dbl&gt;</th><th scope=col>&lt;dbl&gt;</th><th scope=col>&lt;int&gt;</th><th scope=col>&lt;dbl&gt;</th><th scope=col>&lt;int&gt;</th></tr>\n",
              "</thead>\n",
              "<tbody>\n",
              "\t<tr><td> 1</td><td>35030</td><td>181470</td><td> 33110</td><td> 7791</td><td> 52</td><td> 5</td><td>4</td><td>0</td><td>2</td><td>⋯</td><td>1390</td><td>4056</td><td>0.529585799</td><td>0.018984221</td><td>0.055719921</td><td>0.337524655</td><td>0.116370809</td><td>1</td><td>10.763000</td><td> 73313</td></tr>\n",
              "\t<tr><td> 2</td><td>29060</td><td>328800</td><td>  8420</td><td> 2408</td><td>  5</td><td> 7</td><td>3</td><td>0</td><td>2</td><td>⋯</td><td>1900</td><td>2855</td><td>0.776532399</td><td>0.007005254</td><td>0.079159370</td><td>0.119089317</td><td>0.036427320</td><td>1</td><td> 9.835000</td><td> 91122</td></tr>\n",
              "\t<tr><td> 3</td><td>39080</td><td>195750</td><td> 29760</td><td> 4960</td><td> 73</td><td> 5</td><td>2</td><td>1</td><td>1</td><td>⋯</td><td>1023</td><td>4691</td><td>0.793007887</td><td>0.191856747</td><td>0.000000000</td><td>0.015135366</td><td>0.000000000</td><td>3</td><td>13.318000</td><td> 87500</td></tr>\n",
              "\t<tr><td> 4</td><td>72150</td><td> 81620</td><td> 30240</td><td> 3780</td><td> 94</td><td> 7</td><td>4</td><td>0</td><td>2</td><td>⋯</td><td>2458</td><td>5157</td><td>0.005235602</td><td>0.857669188</td><td>0.001745201</td><td>0.123715338</td><td>0.023269343</td><td>1</td><td> 6.934000</td><td> 31310</td></tr>\n",
              "\t<tr><td> 5</td><td>28036</td><td>216050</td><td> 95980</td><td>17451</td><td> 45</td><td> 7</td><td>4</td><td>1</td><td>2</td><td>⋯</td><td>2439</td><td>7020</td><td>0.862678063</td><td>0.020085470</td><td>0.010398860</td><td>0.073789174</td><td>0.066096866</td><td>6</td><td> 9.413000</td><td> 91250</td></tr>\n",
              "\t<tr><td> 6</td><td>70070</td><td> 96350</td><td> 34370</td><td> 3125</td><td>122</td><td>12</td><td>6</td><td>0</td><td>2</td><td>⋯</td><td>2400</td><td>2435</td><td>0.006160164</td><td>0.953182752</td><td>0.000000000</td><td>0.027104723</td><td>0.024229979</td><td>1</td><td> 6.890000</td><td> 37328</td></tr>\n",
              "\t<tr><td> 7</td><td>13312</td><td>148470</td><td> 33720</td><td> 9635</td><td> 35</td><td> 6</td><td>3</td><td>1</td><td>2</td><td>⋯</td><td>1286</td><td>4834</td><td>0.685353744</td><td>0.082540339</td><td>0.051923873</td><td>0.162184526</td><td>0.035995035</td><td>3</td><td>15.388000</td><td> 63931</td></tr>\n",
              "\t<tr><td> 8</td><td>17120</td><td>607530</td><td> 99990</td><td> 6666</td><td> 96</td><td> 8</td><td>4</td><td>1</td><td>2</td><td>⋯</td><td>2196</td><td>4175</td><td>0.894131737</td><td>0.004550898</td><td>0.036886228</td><td>0.042634731</td><td>0.038802395</td><td>1</td><td> 8.035000</td><td>141250</td></tr>\n",
              "\t<tr><td> 9</td><td>39122</td><td>209220</td><td> 40450</td><td> 6224</td><td> 53</td><td> 6</td><td>3</td><td>0</td><td>1</td><td>⋯</td><td>1884</td><td>4320</td><td>0.696527778</td><td>0.068750000</td><td>0.009722222</td><td>0.200462963</td><td>0.049074074</td><td>6</td><td>11.134000</td><td> 71949</td></tr>\n",
              "\t<tr><td>10</td><td>28100</td><td>459670</td><td>102370</td><td>15750</td><td> 27</td><td> 9</td><td>5</td><td>2</td><td>3</td><td>⋯</td><td>3824</td><td>8884</td><td>0.861548852</td><td>0.012606934</td><td>0.045587573</td><td>0.055718145</td><td>0.049076992</td><td>1</td><td> 9.413000</td><td>105942</td></tr>\n",
              "\t<tr><td>11</td><td>72330</td><td> 75120</td><td> 16910</td><td> 3075</td><td> 98</td><td> 6</td><td>3</td><td>0</td><td>1</td><td>⋯</td><td>1706</td><td>5973</td><td>0.001506781</td><td>0.967520509</td><td>0.000000000</td><td>0.007199062</td><td>0.047547296</td><td>1</td><td> 6.908000</td><td> 39231</td></tr>\n",
              "\t<tr><td>12</td><td>20080</td><td>321330</td><td> 35950</td><td> 3995</td><td> 14</td><td> 7</td><td>4</td><td>1</td><td>4</td><td>⋯</td><td>2463</td><td>3851</td><td>0.516229551</td><td>0.020514152</td><td>0.040249286</td><td>0.403012205</td><td>0.035834848</td><td>1</td><td>10.001000</td><td> 50707</td></tr>\n",
              "\t<tr><td>13</td><td>72282</td><td>110830</td><td> 29760</td><td> 3968</td><td> 96</td><td> 6</td><td>2</td><td>1</td><td>1</td><td>⋯</td><td> 847</td><td>5708</td><td>0.011037141</td><td>0.980028031</td><td>0.004204625</td><td>0.004730203</td><td>0.000000000</td><td>1</td><td> 6.908000</td><td> 27500</td></tr>\n",
              "\t<tr><td>14</td><td>15085</td><td>133950</td><td> 35540</td><td> 3843</td><td> 76</td><td> 6</td><td>3</td><td>0</td><td>1</td><td>⋯</td><td>1654</td><td>5600</td><td>0.116607143</td><td>0.025000000</td><td>0.000000000</td><td>0.858392857</td><td>0.000000000</td><td>1</td><td>16.731000</td><td> 65638</td></tr>\n",
              "\t<tr><td>15</td><td>17080</td><td>301850</td><td> 57450</td><td> 3591</td><td>122</td><td> 5</td><td>2</td><td>0</td><td>1</td><td>⋯</td><td>1320</td><td>2769</td><td>0.783315276</td><td>0.059588299</td><td>0.058504875</td><td>0.054532322</td><td>0.074756230</td><td>3</td><td> 8.035000</td><td>101364</td></tr>\n",
              "\t<tr><td>16</td><td>72221</td><td> 88300</td><td> 24770</td><td> 3812</td><td> 69</td><td> 7</td><td>3</td><td>0</td><td>1</td><td>⋯</td><td>1029</td><td>2310</td><td>0.000000000</td><td>0.969696970</td><td>0.002597403</td><td>0.027705628</td><td>0.000000000</td><td>1</td><td> 6.873317</td><td> 41985</td></tr>\n",
              "\t<tr><td>17</td><td>70091</td><td> 67830</td><td> 49860</td><td> 5541</td><td> 64</td><td> 7</td><td>3</td><td>0</td><td>1</td><td>⋯</td><td> 870</td><td>6004</td><td>0.007661559</td><td>0.959526982</td><td>0.013324450</td><td>0.009160560</td><td>0.017821452</td><td>1</td><td> 6.883865</td><td> 42766</td></tr>\n",
              "\t<tr><td>18</td><td>24081</td><td>194740</td><td> 74770</td><td> 7871</td><td> 66</td><td> 6</td><td>3</td><td>0</td><td>2</td><td>⋯</td><td>1234</td><td>5429</td><td>0.627555719</td><td>0.000552588</td><td>0.257874378</td><td>0.105728495</td><td>0.016577639</td><td>1</td><td> 7.250000</td><td> 70169</td></tr>\n",
              "\t<tr><td>19</td><td>77040</td><td>114600</td><td> 38180</td><td> 3250</td><td>103</td><td> 6</td><td>4</td><td>0</td><td>2</td><td>⋯</td><td>1972</td><td>2291</td><td>0.163683981</td><td>0.297686600</td><td>0.005674378</td><td>0.529026626</td><td>0.007856831</td><td>1</td><td> 6.890000</td><td> 43571</td></tr>\n",
              "\t<tr><td>20</td><td>39080</td><td>109000</td><td> 47970</td><td> 7995</td><td> 68</td><td> 5</td><td>3</td><td>0</td><td>1</td><td>⋯</td><td>1045</td><td>3370</td><td>0.732640950</td><td>0.058753709</td><td>0.008011869</td><td>0.195252226</td><td>0.010682493</td><td>1</td><td>13.148000</td><td> 64646</td></tr>\n",
              "\t<tr><td>21</td><td>76030</td><td>172870</td><td>130940</td><td> 2976</td><td>157</td><td>12</td><td>4</td><td>0</td><td>2</td><td>⋯</td><td>2080</td><td>4413</td><td>0.209381373</td><td>0.014955812</td><td>0.623612055</td><td>0.149784727</td><td>0.004532064</td><td>1</td><td> 6.890000</td><td> 34127</td></tr>\n",
              "\t<tr><td>22</td><td>70130</td><td> 76470</td><td> 42180</td><td> 4687</td><td> 69</td><td> 5</td><td>2</td><td>0</td><td>1</td><td>⋯</td><td> 864</td><td>5584</td><td>0.016475645</td><td>0.961855301</td><td>0.000000000</td><td>0.018087393</td><td>0.007163324</td><td>1</td><td> 6.908000</td><td> 50426</td></tr>\n",
              "\t<tr><td>23</td><td>72380</td><td>131500</td><td> 37500</td><td> 3750</td><td>107</td><td> 9</td><td>4</td><td>0</td><td>2</td><td>⋯</td><td> 956</td><td>4022</td><td>0.411984088</td><td>0.015415216</td><td>0.006961711</td><td>0.561163600</td><td>0.008950771</td><td>1</td><td> 6.934000</td><td> 44085</td></tr>\n",
              "\t<tr><td>24</td><td>73120</td><td>422430</td><td>180000</td><td> 3000</td><td>142</td><td> 8</td><td>5</td><td>0</td><td>3</td><td>⋯</td><td>2120</td><td>3625</td><td>0.817103448</td><td>0.014620690</td><td>0.067310345</td><td>0.069241379</td><td>0.059586207</td><td>1</td><td> 6.890000</td><td>143667</td></tr>\n",
              "\t<tr><td>25</td><td>24102</td><td>450030</td><td>130680</td><td>11880</td><td> 46</td><td> 9</td><td>6</td><td>1</td><td>2</td><td>⋯</td><td>3472</td><td>4052</td><td>0.623642646</td><td>0.000000000</td><td>0.300098717</td><td>0.066880553</td><td>0.014313919</td><td>1</td><td> 8.872000</td><td>105132</td></tr>\n",
              "\t<tr><td>26</td><td>77102</td><td> 93070</td><td> 36710</td><td> 3125</td><td>117</td><td> 6</td><td>4</td><td>0</td><td>2</td><td>⋯</td><td>2396</td><td>2150</td><td>0.004186047</td><td>0.947906977</td><td>0.025581395</td><td>0.022325581</td><td>0.000000000</td><td>1</td><td> 6.913000</td><td> 25625</td></tr>\n",
              "\t<tr><td>27</td><td>31080</td><td>160970</td><td> 31820</td><td> 6700</td><td> 74</td><td> 6</td><td>3</td><td>0</td><td>1</td><td>⋯</td><td>1260</td><td>5989</td><td>0.184170980</td><td>0.474870596</td><td>0.003339456</td><td>0.327433628</td><td>0.020370680</td><td>1</td><td>15.180000</td><td> 54597</td></tr>\n",
              "\t<tr><td>28</td><td>23021</td><td>557130</td><td>389760</td><td>18560</td><td> 92</td><td>11</td><td>3</td><td>1</td><td>3</td><td>⋯</td><td>3256</td><td>2498</td><td>0.919135308</td><td>0.000000000</td><td>0.047237790</td><td>0.020016013</td><td>0.027221777</td><td>1</td><td> 8.481000</td><td>250001</td></tr>\n",
              "\t<tr><td>29</td><td>72121</td><td> 36790</td><td> 20310</td><td> 3125</td><td>102</td><td> 5</td><td>2</td><td>0</td><td>1</td><td>⋯</td><td> 861</td><td>4064</td><td>0.007135827</td><td>0.969980315</td><td>0.000000000</td><td>0.006643701</td><td>0.032480315</td><td>1</td><td> 6.873317</td><td> 43063</td></tr>\n",
              "\t<tr><td>30</td><td>70240</td><td> 88570</td><td> 20310</td><td> 3125</td><td> 58</td><td> 5</td><td>2</td><td>0</td><td>1</td><td>⋯</td><td>1040</td><td>2809</td><td>0.227839089</td><td>0.000000000</td><td>0.011035956</td><td>0.761124956</td><td>0.000000000</td><td>1</td><td> 6.908000</td><td> 44738</td></tr>\n",
              "\t<tr><td>⋮</td><td>⋮</td><td>⋮</td><td>⋮</td><td>⋮</td><td>⋮</td><td>⋮</td><td>⋮</td><td>⋮</td><td>⋮</td><td>⋱</td><td>⋮</td><td>⋮</td><td>⋮</td><td>⋮</td><td>⋮</td><td>⋮</td><td>⋮</td><td>⋮</td><td>⋮</td><td>⋮</td></tr>\n",
              "\t<tr><td> 9971</td><td>72170</td><td> 38200</td><td> 23430</td><td> 3125</td><td>107</td><td> 5</td><td>3</td><td>0</td><td>2</td><td>⋯</td><td>1029</td><td> 1256</td><td>0.002388535</td><td>0.909235669</td><td>0.000000000</td><td>0.054140127</td><td>0.066082803</td><td>1</td><td> 6.873317</td><td> 32163</td></tr>\n",
              "\t<tr><td> 9972</td><td>32161</td><td>197290</td><td> 95770</td><td>19155</td><td> 15</td><td> 8</td><td>4</td><td>1</td><td>2</td><td>⋯</td><td>3819</td><td> 9088</td><td>0.249669894</td><td>0.597931338</td><td>0.011553697</td><td>0.120268486</td><td>0.035101232</td><td>1</td><td>27.219000</td><td> 77098</td></tr>\n",
              "\t<tr><td> 9973</td><td>72282</td><td> 75500</td><td> 27900</td><td> 3720</td><td> 73</td><td> 5</td><td>3</td><td>0</td><td>1</td><td>⋯</td><td>1168</td><td> 3115</td><td>0.005457464</td><td>0.966613162</td><td>0.024398074</td><td>0.003531300</td><td>0.000000000</td><td>6</td><td> 6.873317</td><td> 39097</td></tr>\n",
              "\t<tr><td> 9974</td><td>32222</td><td>185250</td><td> 46500</td><td> 9791</td><td> 16</td><td> 8</td><td>4</td><td>1</td><td>3</td><td>⋯</td><td>3052</td><td> 6900</td><td>0.069710145</td><td>0.833913043</td><td>0.024057971</td><td>0.049855072</td><td>0.044927536</td><td>1</td><td>18.737000</td><td> 85750</td></tr>\n",
              "\t<tr><td> 9975</td><td>27050</td><td>327560</td><td> 53200</td><td> 5320</td><td>110</td><td> 8</td><td>4</td><td>1</td><td>1</td><td>⋯</td><td>1776</td><td> 4008</td><td>0.647205589</td><td>0.212574850</td><td>0.002994012</td><td>0.125748503</td><td>0.022455090</td><td>1</td><td>13.157000</td><td>104792</td></tr>\n",
              "\t<tr><td> 9976</td><td>38031</td><td>288170</td><td> 48940</td><td> 8513</td><td> 49</td><td> 9</td><td>5</td><td>0</td><td>3</td><td>⋯</td><td>2924</td><td> 4918</td><td>0.787921919</td><td>0.012403416</td><td>0.120577471</td><td>0.071980480</td><td>0.014233428</td><td>1</td><td>10.618000</td><td>105991</td></tr>\n",
              "\t<tr><td> 9977</td><td>35040</td><td>193440</td><td> 41280</td><td> 8691</td><td> 47</td><td> 6</td><td>3</td><td>1</td><td>1</td><td>⋯</td><td>1496</td><td> 2698</td><td>0.637879911</td><td>0.003706449</td><td>0.157894737</td><td>0.158636027</td><td>0.074870274</td><td>6</td><td> 9.172190</td><td>107174</td></tr>\n",
              "\t<tr><td> 9978</td><td>73022</td><td>375430</td><td>186960</td><td> 4920</td><td>112</td><td> 7</td><td>4</td><td>0</td><td>1</td><td>⋯</td><td>1930</td><td> 5444</td><td>0.770940485</td><td>0.067229978</td><td>0.025349008</td><td>0.115540044</td><td>0.038574578</td><td>1</td><td> 6.890000</td><td> 65810</td></tr>\n",
              "\t<tr><td> 9979</td><td>20050</td><td>103870</td><td> 53550</td><td>15300</td><td> 64</td><td> 5</td><td>3</td><td>0</td><td>1</td><td>⋯</td><td>1037</td><td> 4666</td><td>0.267895414</td><td>0.022717531</td><td>0.010072868</td><td>0.688169739</td><td>0.022288898</td><td>1</td><td>11.119000</td><td> 66655</td></tr>\n",
              "\t<tr><td> 9980</td><td>19060</td><td>317000</td><td> 67650</td><td>11766</td><td> 25</td><td> 7</td><td>3</td><td>1</td><td>3</td><td>⋯</td><td>2583</td><td> 5663</td><td>0.885573018</td><td>0.012714109</td><td>0.033727706</td><td>0.049267173</td><td>0.037435988</td><td>1</td><td> 7.932000</td><td>106656</td></tr>\n",
              "\t<tr><td> 9981</td><td>31020</td><td>158920</td><td> 24250</td><td> 4410</td><td> 69</td><td> 6</td><td>4</td><td>0</td><td>2</td><td>⋯</td><td>1544</td><td> 5922</td><td>0.039175954</td><td>0.676122931</td><td>0.020432286</td><td>0.259540696</td><td>0.009456265</td><td>6</td><td>19.016000</td><td> 61484</td></tr>\n",
              "\t<tr><td> 9982</td><td>39260</td><td>256400</td><td> 87710</td><td>15949</td><td> 41</td><td> 8</td><td>4</td><td>1</td><td>2</td><td>⋯</td><td>2441</td><td> 3765</td><td>0.884196547</td><td>0.007702523</td><td>0.030810093</td><td>0.077290837</td><td>0.000000000</td><td>1</td><td>11.361000</td><td> 86944</td></tr>\n",
              "\t<tr><td> 9983</td><td>71120</td><td>279420</td><td> 16870</td><td> 1164</td><td> 21</td><td> 6</td><td>3</td><td>1</td><td>2</td><td>⋯</td><td>1148</td><td> 2043</td><td>0.632892805</td><td>0.067547724</td><td>0.084189917</td><td>0.159079785</td><td>0.108663730</td><td>1</td><td> 6.913000</td><td>116563</td></tr>\n",
              "\t<tr><td> 9984</td><td>25200</td><td>694090</td><td> 28620</td><td> 2793</td><td> 20</td><td> 6</td><td>3</td><td>1</td><td>2</td><td>⋯</td><td>3043</td><td> 5742</td><td>0.865029606</td><td>0.000000000</td><td>0.125043539</td><td>0.007314525</td><td>0.005224660</td><td>1</td><td> 7.291000</td><td>140789</td></tr>\n",
              "\t<tr><td> 9985</td><td>32010</td><td> 63870</td><td> 29460</td><td> 8418</td><td> 50</td><td> 6</td><td>3</td><td>0</td><td>2</td><td>⋯</td><td>1326</td><td> 9088</td><td>0.249669894</td><td>0.597931338</td><td>0.011553697</td><td>0.120268486</td><td>0.035101232</td><td>1</td><td>27.219000</td><td> 77098</td></tr>\n",
              "\t<tr><td> 9986</td><td>25072</td><td>564110</td><td>105780</td><td>10075</td><td> 16</td><td> 9</td><td>4</td><td>1</td><td>3</td><td>⋯</td><td>2913</td><td> 3876</td><td>0.840299278</td><td>0.000000000</td><td>0.118163055</td><td>0.030185759</td><td>0.022703818</td><td>1</td><td> 7.724000</td><td>165972</td></tr>\n",
              "\t<tr><td> 9987</td><td>36050</td><td>136320</td><td> 65830</td><td> 7980</td><td> 49</td><td> 7</td><td>3</td><td>0</td><td>2</td><td>⋯</td><td>1262</td><td> 5253</td><td>0.593565582</td><td>0.029316581</td><td>0.016561965</td><td>0.346659052</td><td>0.018465639</td><td>1</td><td>12.287000</td><td> 54625</td></tr>\n",
              "\t<tr><td> 9988</td><td>25052</td><td>300180</td><td>259630</td><td>19972</td><td> 54</td><td> 9</td><td>5</td><td>1</td><td>2</td><td>⋯</td><td>2510</td><td> 6915</td><td>0.708893709</td><td>0.002603037</td><td>0.249313087</td><td>0.024150398</td><td>0.030079537</td><td>1</td><td> 7.724000</td><td>119766</td></tr>\n",
              "\t<tr><td> 9989</td><td>70111</td><td> 67680</td><td>128150</td><td>16019</td><td> 64</td><td> 9</td><td>5</td><td>1</td><td>2</td><td>⋯</td><td>2645</td><td> 2707</td><td>0.007388253</td><td>0.907277429</td><td>0.000000000</td><td>0.070927226</td><td>0.028814185</td><td>2</td><td> 6.883865</td><td> 39853</td></tr>\n",
              "\t<tr><td> 9990</td><td>72380</td><td>133990</td><td> 50000</td><td> 5000</td><td> 67</td><td> 4</td><td>2</td><td>0</td><td>1</td><td>⋯</td><td> 865</td><td> 3701</td><td>0.540934882</td><td>0.021615780</td><td>0.002701972</td><td>0.372331802</td><td>0.124831127</td><td>1</td><td> 6.934000</td><td> 68902</td></tr>\n",
              "\t<tr><td> 9991</td><td>72282</td><td> 47880</td><td> 28120</td><td> 3750</td><td> 57</td><td> 4</td><td>2</td><td>0</td><td>1</td><td>⋯</td><td>1027</td><td> 2695</td><td>0.004823748</td><td>0.981076067</td><td>0.000000000</td><td>0.008534323</td><td>0.009276438</td><td>5</td><td> 6.908000</td><td> 51313</td></tr>\n",
              "\t<tr><td> 9992</td><td>71402</td><td>261300</td><td>107880</td><td> 7440</td><td>102</td><td> 6</td><td>3</td><td>1</td><td>1</td><td>⋯</td><td>2141</td><td> 4467</td><td>0.617640475</td><td>0.004701142</td><td>0.086187598</td><td>0.263711663</td><td>0.054175062</td><td>1</td><td> 6.894000</td><td> 69736</td></tr>\n",
              "\t<tr><td> 9993</td><td>29100</td><td>168970</td><td> 32560</td><td>10020</td><td> 66</td><td> 6</td><td>3</td><td>0</td><td>1</td><td>⋯</td><td>1423</td><td> 3437</td><td>0.729124236</td><td>0.007273785</td><td>0.018329939</td><td>0.233052080</td><td>0.022112307</td><td>1</td><td> 9.977000</td><td> 91010</td></tr>\n",
              "\t<tr><td> 9994</td><td>37021</td><td> 69990</td><td> 18600</td><td> 4960</td><td> 65</td><td> 6</td><td>3</td><td>0</td><td>1</td><td>⋯</td><td>1184</td><td> 3828</td><td>0.024294671</td><td>0.950365726</td><td>0.003918495</td><td>0.018808777</td><td>0.002612330</td><td>3</td><td>30.059000</td><td> 53910</td></tr>\n",
              "\t<tr><td> 9995</td><td>76012</td><td>470790</td><td>118720</td><td>  848</td><td> 27</td><td> 6</td><td>2</td><td>1</td><td>2</td><td>⋯</td><td>2028</td><td>19889</td><td>0.488662075</td><td>0.227110463</td><td>0.206848006</td><td>0.045100307</td><td>0.061239881</td><td>1</td><td> 6.890000</td><td>102303</td></tr>\n",
              "\t<tr><td> 9996</td><td>29013</td><td>506880</td><td> 47130</td><td>17139</td><td> 50</td><td> 9</td><td>6</td><td>1</td><td>2</td><td>⋯</td><td>3394</td><td> 7375</td><td>0.662779661</td><td>0.027254237</td><td>0.118779661</td><td>0.152135593</td><td>0.074711864</td><td>1</td><td> 7.317000</td><td> 67773</td></tr>\n",
              "\t<tr><td> 9997</td><td>36050</td><td> 96300</td><td> 42610</td><td> 5166</td><td> 63</td><td> 5</td><td>2</td><td>0</td><td>1</td><td>⋯</td><td> 983</td><td> 5345</td><td>0.452198316</td><td>0.040224509</td><td>0.014218896</td><td>0.489429373</td><td>0.007857811</td><td>1</td><td>12.287000</td><td> 73646</td></tr>\n",
              "\t<tr><td> 9998</td><td>22111</td><td>295860</td><td> 61710</td><td> 7260</td><td> 55</td><td> 7</td><td>4</td><td>1</td><td>2</td><td>⋯</td><td>2176</td><td> 4146</td><td>0.738543174</td><td>0.003859141</td><td>0.126869272</td><td>0.106126387</td><td>0.047515678</td><td>4</td><td> 8.938000</td><td> 81250</td></tr>\n",
              "\t<tr><td> 9999</td><td>71200</td><td>231790</td><td>124370</td><td> 9950</td><td> 68</td><td>10</td><td>5</td><td>0</td><td>4</td><td>⋯</td><td>2710</td><td> 7452</td><td>0.357890499</td><td>0.316827697</td><td>0.030730005</td><td>0.257783145</td><td>0.070987654</td><td>1</td><td> 6.894000</td><td> 90058</td></tr>\n",
              "\t<tr><td>10000</td><td>15015</td><td>162270</td><td> 39930</td><td> 3993</td><td> 97</td><td>12</td><td>5</td><td>0</td><td>2</td><td>⋯</td><td>2374</td><td> 6490</td><td>0.042835131</td><td>0.039445300</td><td>0.015254237</td><td>0.894298921</td><td>0.009553159</td><td>1</td><td>16.731000</td><td> 55168</td></tr>\n",
              "</tbody>\n",
              "</table>\n"
            ],
            "text/markdown": "\nA data.frame: 10000 × 22\n\n| pid &lt;int&gt; | meta_nbhd &lt;int&gt; | meta_certified_est_bldg &lt;int&gt; | meta_certified_est_land &lt;int&gt; | char_hd_sf &lt;int&gt; | char_age &lt;int&gt; | char_rooms &lt;int&gt; | char_beds &lt;int&gt; | char_frpl &lt;dbl&gt; | char_fbath &lt;int&gt; | ⋯ ⋯ | char_bldg_sf &lt;int&gt; | geo_tract_pop &lt;int&gt; | geo_white_perc &lt;dbl&gt; | geo_black_perc &lt;dbl&gt; | geo_asian_perc &lt;dbl&gt; | geo_his_perc &lt;dbl&gt; | geo_other_perc &lt;dbl&gt; | geo_fs_flood_factor &lt;int&gt; | econ_tax_rate &lt;dbl&gt; | econ_midincome &lt;int&gt; |\n|---|---|---|---|---|---|---|---|---|---|---|---|---|---|---|---|---|---|---|---|---|\n|  1 | 35030 | 181470 |  33110 |  7791 |  52 |  5 | 4 | 0 | 2 | ⋯ | 1390 | 4056 | 0.529585799 | 0.018984221 | 0.055719921 | 0.337524655 | 0.116370809 | 1 | 10.763000 |  73313 |\n|  2 | 29060 | 328800 |   8420 |  2408 |   5 |  7 | 3 | 0 | 2 | ⋯ | 1900 | 2855 | 0.776532399 | 0.007005254 | 0.079159370 | 0.119089317 | 0.036427320 | 1 |  9.835000 |  91122 |\n|  3 | 39080 | 195750 |  29760 |  4960 |  73 |  5 | 2 | 1 | 1 | ⋯ | 1023 | 4691 | 0.793007887 | 0.191856747 | 0.000000000 | 0.015135366 | 0.000000000 | 3 | 13.318000 |  87500 |\n|  4 | 72150 |  81620 |  30240 |  3780 |  94 |  7 | 4 | 0 | 2 | ⋯ | 2458 | 5157 | 0.005235602 | 0.857669188 | 0.001745201 | 0.123715338 | 0.023269343 | 1 |  6.934000 |  31310 |\n|  5 | 28036 | 216050 |  95980 | 17451 |  45 |  7 | 4 | 1 | 2 | ⋯ | 2439 | 7020 | 0.862678063 | 0.020085470 | 0.010398860 | 0.073789174 | 0.066096866 | 6 |  9.413000 |  91250 |\n|  6 | 70070 |  96350 |  34370 |  3125 | 122 | 12 | 6 | 0 | 2 | ⋯ | 2400 | 2435 | 0.006160164 | 0.953182752 | 0.000000000 | 0.027104723 | 0.024229979 | 1 |  6.890000 |  37328 |\n|  7 | 13312 | 148470 |  33720 |  9635 |  35 |  6 | 3 | 1 | 2 | ⋯ | 1286 | 4834 | 0.685353744 | 0.082540339 | 0.051923873 | 0.162184526 | 0.035995035 | 3 | 15.388000 |  63931 |\n|  8 | 17120 | 607530 |  99990 |  6666 |  96 |  8 | 4 | 1 | 2 | ⋯ | 2196 | 4175 | 0.894131737 | 0.004550898 | 0.036886228 | 0.042634731 | 0.038802395 | 1 |  8.035000 | 141250 |\n|  9 | 39122 | 209220 |  40450 |  6224 |  53 |  6 | 3 | 0 | 1 | ⋯ | 1884 | 4320 | 0.696527778 | 0.068750000 | 0.009722222 | 0.200462963 | 0.049074074 | 6 | 11.134000 |  71949 |\n| 10 | 28100 | 459670 | 102370 | 15750 |  27 |  9 | 5 | 2 | 3 | ⋯ | 3824 | 8884 | 0.861548852 | 0.012606934 | 0.045587573 | 0.055718145 | 0.049076992 | 1 |  9.413000 | 105942 |\n| 11 | 72330 |  75120 |  16910 |  3075 |  98 |  6 | 3 | 0 | 1 | ⋯ | 1706 | 5973 | 0.001506781 | 0.967520509 | 0.000000000 | 0.007199062 | 0.047547296 | 1 |  6.908000 |  39231 |\n| 12 | 20080 | 321330 |  35950 |  3995 |  14 |  7 | 4 | 1 | 4 | ⋯ | 2463 | 3851 | 0.516229551 | 0.020514152 | 0.040249286 | 0.403012205 | 0.035834848 | 1 | 10.001000 |  50707 |\n| 13 | 72282 | 110830 |  29760 |  3968 |  96 |  6 | 2 | 1 | 1 | ⋯ |  847 | 5708 | 0.011037141 | 0.980028031 | 0.004204625 | 0.004730203 | 0.000000000 | 1 |  6.908000 |  27500 |\n| 14 | 15085 | 133950 |  35540 |  3843 |  76 |  6 | 3 | 0 | 1 | ⋯ | 1654 | 5600 | 0.116607143 | 0.025000000 | 0.000000000 | 0.858392857 | 0.000000000 | 1 | 16.731000 |  65638 |\n| 15 | 17080 | 301850 |  57450 |  3591 | 122 |  5 | 2 | 0 | 1 | ⋯ | 1320 | 2769 | 0.783315276 | 0.059588299 | 0.058504875 | 0.054532322 | 0.074756230 | 3 |  8.035000 | 101364 |\n| 16 | 72221 |  88300 |  24770 |  3812 |  69 |  7 | 3 | 0 | 1 | ⋯ | 1029 | 2310 | 0.000000000 | 0.969696970 | 0.002597403 | 0.027705628 | 0.000000000 | 1 |  6.873317 |  41985 |\n| 17 | 70091 |  67830 |  49860 |  5541 |  64 |  7 | 3 | 0 | 1 | ⋯ |  870 | 6004 | 0.007661559 | 0.959526982 | 0.013324450 | 0.009160560 | 0.017821452 | 1 |  6.883865 |  42766 |\n| 18 | 24081 | 194740 |  74770 |  7871 |  66 |  6 | 3 | 0 | 2 | ⋯ | 1234 | 5429 | 0.627555719 | 0.000552588 | 0.257874378 | 0.105728495 | 0.016577639 | 1 |  7.250000 |  70169 |\n| 19 | 77040 | 114600 |  38180 |  3250 | 103 |  6 | 4 | 0 | 2 | ⋯ | 1972 | 2291 | 0.163683981 | 0.297686600 | 0.005674378 | 0.529026626 | 0.007856831 | 1 |  6.890000 |  43571 |\n| 20 | 39080 | 109000 |  47970 |  7995 |  68 |  5 | 3 | 0 | 1 | ⋯ | 1045 | 3370 | 0.732640950 | 0.058753709 | 0.008011869 | 0.195252226 | 0.010682493 | 1 | 13.148000 |  64646 |\n| 21 | 76030 | 172870 | 130940 |  2976 | 157 | 12 | 4 | 0 | 2 | ⋯ | 2080 | 4413 | 0.209381373 | 0.014955812 | 0.623612055 | 0.149784727 | 0.004532064 | 1 |  6.890000 |  34127 |\n| 22 | 70130 |  76470 |  42180 |  4687 |  69 |  5 | 2 | 0 | 1 | ⋯ |  864 | 5584 | 0.016475645 | 0.961855301 | 0.000000000 | 0.018087393 | 0.007163324 | 1 |  6.908000 |  50426 |\n| 23 | 72380 | 131500 |  37500 |  3750 | 107 |  9 | 4 | 0 | 2 | ⋯ |  956 | 4022 | 0.411984088 | 0.015415216 | 0.006961711 | 0.561163600 | 0.008950771 | 1 |  6.934000 |  44085 |\n| 24 | 73120 | 422430 | 180000 |  3000 | 142 |  8 | 5 | 0 | 3 | ⋯ | 2120 | 3625 | 0.817103448 | 0.014620690 | 0.067310345 | 0.069241379 | 0.059586207 | 1 |  6.890000 | 143667 |\n| 25 | 24102 | 450030 | 130680 | 11880 |  46 |  9 | 6 | 1 | 2 | ⋯ | 3472 | 4052 | 0.623642646 | 0.000000000 | 0.300098717 | 0.066880553 | 0.014313919 | 1 |  8.872000 | 105132 |\n| 26 | 77102 |  93070 |  36710 |  3125 | 117 |  6 | 4 | 0 | 2 | ⋯ | 2396 | 2150 | 0.004186047 | 0.947906977 | 0.025581395 | 0.022325581 | 0.000000000 | 1 |  6.913000 |  25625 |\n| 27 | 31080 | 160970 |  31820 |  6700 |  74 |  6 | 3 | 0 | 1 | ⋯ | 1260 | 5989 | 0.184170980 | 0.474870596 | 0.003339456 | 0.327433628 | 0.020370680 | 1 | 15.180000 |  54597 |\n| 28 | 23021 | 557130 | 389760 | 18560 |  92 | 11 | 3 | 1 | 3 | ⋯ | 3256 | 2498 | 0.919135308 | 0.000000000 | 0.047237790 | 0.020016013 | 0.027221777 | 1 |  8.481000 | 250001 |\n| 29 | 72121 |  36790 |  20310 |  3125 | 102 |  5 | 2 | 0 | 1 | ⋯ |  861 | 4064 | 0.007135827 | 0.969980315 | 0.000000000 | 0.006643701 | 0.032480315 | 1 |  6.873317 |  43063 |\n| 30 | 70240 |  88570 |  20310 |  3125 |  58 |  5 | 2 | 0 | 1 | ⋯ | 1040 | 2809 | 0.227839089 | 0.000000000 | 0.011035956 | 0.761124956 | 0.000000000 | 1 |  6.908000 |  44738 |\n| ⋮ | ⋮ | ⋮ | ⋮ | ⋮ | ⋮ | ⋮ | ⋮ | ⋮ | ⋮ | ⋱ | ⋮ | ⋮ | ⋮ | ⋮ | ⋮ | ⋮ | ⋮ | ⋮ | ⋮ | ⋮ |\n|  9971 | 72170 |  38200 |  23430 |  3125 | 107 |  5 | 3 | 0 | 2 | ⋯ | 1029 |  1256 | 0.002388535 | 0.909235669 | 0.000000000 | 0.054140127 | 0.066082803 | 1 |  6.873317 |  32163 |\n|  9972 | 32161 | 197290 |  95770 | 19155 |  15 |  8 | 4 | 1 | 2 | ⋯ | 3819 |  9088 | 0.249669894 | 0.597931338 | 0.011553697 | 0.120268486 | 0.035101232 | 1 | 27.219000 |  77098 |\n|  9973 | 72282 |  75500 |  27900 |  3720 |  73 |  5 | 3 | 0 | 1 | ⋯ | 1168 |  3115 | 0.005457464 | 0.966613162 | 0.024398074 | 0.003531300 | 0.000000000 | 6 |  6.873317 |  39097 |\n|  9974 | 32222 | 185250 |  46500 |  9791 |  16 |  8 | 4 | 1 | 3 | ⋯ | 3052 |  6900 | 0.069710145 | 0.833913043 | 0.024057971 | 0.049855072 | 0.044927536 | 1 | 18.737000 |  85750 |\n|  9975 | 27050 | 327560 |  53200 |  5320 | 110 |  8 | 4 | 1 | 1 | ⋯ | 1776 |  4008 | 0.647205589 | 0.212574850 | 0.002994012 | 0.125748503 | 0.022455090 | 1 | 13.157000 | 104792 |\n|  9976 | 38031 | 288170 |  48940 |  8513 |  49 |  9 | 5 | 0 | 3 | ⋯ | 2924 |  4918 | 0.787921919 | 0.012403416 | 0.120577471 | 0.071980480 | 0.014233428 | 1 | 10.618000 | 105991 |\n|  9977 | 35040 | 193440 |  41280 |  8691 |  47 |  6 | 3 | 1 | 1 | ⋯ | 1496 |  2698 | 0.637879911 | 0.003706449 | 0.157894737 | 0.158636027 | 0.074870274 | 6 |  9.172190 | 107174 |\n|  9978 | 73022 | 375430 | 186960 |  4920 | 112 |  7 | 4 | 0 | 1 | ⋯ | 1930 |  5444 | 0.770940485 | 0.067229978 | 0.025349008 | 0.115540044 | 0.038574578 | 1 |  6.890000 |  65810 |\n|  9979 | 20050 | 103870 |  53550 | 15300 |  64 |  5 | 3 | 0 | 1 | ⋯ | 1037 |  4666 | 0.267895414 | 0.022717531 | 0.010072868 | 0.688169739 | 0.022288898 | 1 | 11.119000 |  66655 |\n|  9980 | 19060 | 317000 |  67650 | 11766 |  25 |  7 | 3 | 1 | 3 | ⋯ | 2583 |  5663 | 0.885573018 | 0.012714109 | 0.033727706 | 0.049267173 | 0.037435988 | 1 |  7.932000 | 106656 |\n|  9981 | 31020 | 158920 |  24250 |  4410 |  69 |  6 | 4 | 0 | 2 | ⋯ | 1544 |  5922 | 0.039175954 | 0.676122931 | 0.020432286 | 0.259540696 | 0.009456265 | 6 | 19.016000 |  61484 |\n|  9982 | 39260 | 256400 |  87710 | 15949 |  41 |  8 | 4 | 1 | 2 | ⋯ | 2441 |  3765 | 0.884196547 | 0.007702523 | 0.030810093 | 0.077290837 | 0.000000000 | 1 | 11.361000 |  86944 |\n|  9983 | 71120 | 279420 |  16870 |  1164 |  21 |  6 | 3 | 1 | 2 | ⋯ | 1148 |  2043 | 0.632892805 | 0.067547724 | 0.084189917 | 0.159079785 | 0.108663730 | 1 |  6.913000 | 116563 |\n|  9984 | 25200 | 694090 |  28620 |  2793 |  20 |  6 | 3 | 1 | 2 | ⋯ | 3043 |  5742 | 0.865029606 | 0.000000000 | 0.125043539 | 0.007314525 | 0.005224660 | 1 |  7.291000 | 140789 |\n|  9985 | 32010 |  63870 |  29460 |  8418 |  50 |  6 | 3 | 0 | 2 | ⋯ | 1326 |  9088 | 0.249669894 | 0.597931338 | 0.011553697 | 0.120268486 | 0.035101232 | 1 | 27.219000 |  77098 |\n|  9986 | 25072 | 564110 | 105780 | 10075 |  16 |  9 | 4 | 1 | 3 | ⋯ | 2913 |  3876 | 0.840299278 | 0.000000000 | 0.118163055 | 0.030185759 | 0.022703818 | 1 |  7.724000 | 165972 |\n|  9987 | 36050 | 136320 |  65830 |  7980 |  49 |  7 | 3 | 0 | 2 | ⋯ | 1262 |  5253 | 0.593565582 | 0.029316581 | 0.016561965 | 0.346659052 | 0.018465639 | 1 | 12.287000 |  54625 |\n|  9988 | 25052 | 300180 | 259630 | 19972 |  54 |  9 | 5 | 1 | 2 | ⋯ | 2510 |  6915 | 0.708893709 | 0.002603037 | 0.249313087 | 0.024150398 | 0.030079537 | 1 |  7.724000 | 119766 |\n|  9989 | 70111 |  67680 | 128150 | 16019 |  64 |  9 | 5 | 1 | 2 | ⋯ | 2645 |  2707 | 0.007388253 | 0.907277429 | 0.000000000 | 0.070927226 | 0.028814185 | 2 |  6.883865 |  39853 |\n|  9990 | 72380 | 133990 |  50000 |  5000 |  67 |  4 | 2 | 0 | 1 | ⋯ |  865 |  3701 | 0.540934882 | 0.021615780 | 0.002701972 | 0.372331802 | 0.124831127 | 1 |  6.934000 |  68902 |\n|  9991 | 72282 |  47880 |  28120 |  3750 |  57 |  4 | 2 | 0 | 1 | ⋯ | 1027 |  2695 | 0.004823748 | 0.981076067 | 0.000000000 | 0.008534323 | 0.009276438 | 5 |  6.908000 |  51313 |\n|  9992 | 71402 | 261300 | 107880 |  7440 | 102 |  6 | 3 | 1 | 1 | ⋯ | 2141 |  4467 | 0.617640475 | 0.004701142 | 0.086187598 | 0.263711663 | 0.054175062 | 1 |  6.894000 |  69736 |\n|  9993 | 29100 | 168970 |  32560 | 10020 |  66 |  6 | 3 | 0 | 1 | ⋯ | 1423 |  3437 | 0.729124236 | 0.007273785 | 0.018329939 | 0.233052080 | 0.022112307 | 1 |  9.977000 |  91010 |\n|  9994 | 37021 |  69990 |  18600 |  4960 |  65 |  6 | 3 | 0 | 1 | ⋯ | 1184 |  3828 | 0.024294671 | 0.950365726 | 0.003918495 | 0.018808777 | 0.002612330 | 3 | 30.059000 |  53910 |\n|  9995 | 76012 | 470790 | 118720 |   848 |  27 |  6 | 2 | 1 | 2 | ⋯ | 2028 | 19889 | 0.488662075 | 0.227110463 | 0.206848006 | 0.045100307 | 0.061239881 | 1 |  6.890000 | 102303 |\n|  9996 | 29013 | 506880 |  47130 | 17139 |  50 |  9 | 6 | 1 | 2 | ⋯ | 3394 |  7375 | 0.662779661 | 0.027254237 | 0.118779661 | 0.152135593 | 0.074711864 | 1 |  7.317000 |  67773 |\n|  9997 | 36050 |  96300 |  42610 |  5166 |  63 |  5 | 2 | 0 | 1 | ⋯ |  983 |  5345 | 0.452198316 | 0.040224509 | 0.014218896 | 0.489429373 | 0.007857811 | 1 | 12.287000 |  73646 |\n|  9998 | 22111 | 295860 |  61710 |  7260 |  55 |  7 | 4 | 1 | 2 | ⋯ | 2176 |  4146 | 0.738543174 | 0.003859141 | 0.126869272 | 0.106126387 | 0.047515678 | 4 |  8.938000 |  81250 |\n|  9999 | 71200 | 231790 | 124370 |  9950 |  68 | 10 | 5 | 0 | 4 | ⋯ | 2710 |  7452 | 0.357890499 | 0.316827697 | 0.030730005 | 0.257783145 | 0.070987654 | 1 |  6.894000 |  90058 |\n| 10000 | 15015 | 162270 |  39930 |  3993 |  97 | 12 | 5 | 0 | 2 | ⋯ | 2374 |  6490 | 0.042835131 | 0.039445300 | 0.015254237 | 0.894298921 | 0.009553159 | 1 | 16.731000 |  55168 |\n\n",
            "text/latex": "A data.frame: 10000 × 22\n\\begin{tabular}{lllllllllllllllllllll}\n pid & meta\\_nbhd & meta\\_certified\\_est\\_bldg & meta\\_certified\\_est\\_land & char\\_hd\\_sf & char\\_age & char\\_rooms & char\\_beds & char\\_frpl & char\\_fbath & ⋯ & char\\_bldg\\_sf & geo\\_tract\\_pop & geo\\_white\\_perc & geo\\_black\\_perc & geo\\_asian\\_perc & geo\\_his\\_perc & geo\\_other\\_perc & geo\\_fs\\_flood\\_factor & econ\\_tax\\_rate & econ\\_midincome\\\\\n <int> & <int> & <int> & <int> & <int> & <int> & <int> & <int> & <dbl> & <int> & ⋯ & <int> & <int> & <dbl> & <dbl> & <dbl> & <dbl> & <dbl> & <int> & <dbl> & <int>\\\\\n\\hline\n\t  1 & 35030 & 181470 &  33110 &  7791 &  52 &  5 & 4 & 0 & 2 & ⋯ & 1390 & 4056 & 0.529585799 & 0.018984221 & 0.055719921 & 0.337524655 & 0.116370809 & 1 & 10.763000 &  73313\\\\\n\t  2 & 29060 & 328800 &   8420 &  2408 &   5 &  7 & 3 & 0 & 2 & ⋯ & 1900 & 2855 & 0.776532399 & 0.007005254 & 0.079159370 & 0.119089317 & 0.036427320 & 1 &  9.835000 &  91122\\\\\n\t  3 & 39080 & 195750 &  29760 &  4960 &  73 &  5 & 2 & 1 & 1 & ⋯ & 1023 & 4691 & 0.793007887 & 0.191856747 & 0.000000000 & 0.015135366 & 0.000000000 & 3 & 13.318000 &  87500\\\\\n\t  4 & 72150 &  81620 &  30240 &  3780 &  94 &  7 & 4 & 0 & 2 & ⋯ & 2458 & 5157 & 0.005235602 & 0.857669188 & 0.001745201 & 0.123715338 & 0.023269343 & 1 &  6.934000 &  31310\\\\\n\t  5 & 28036 & 216050 &  95980 & 17451 &  45 &  7 & 4 & 1 & 2 & ⋯ & 2439 & 7020 & 0.862678063 & 0.020085470 & 0.010398860 & 0.073789174 & 0.066096866 & 6 &  9.413000 &  91250\\\\\n\t  6 & 70070 &  96350 &  34370 &  3125 & 122 & 12 & 6 & 0 & 2 & ⋯ & 2400 & 2435 & 0.006160164 & 0.953182752 & 0.000000000 & 0.027104723 & 0.024229979 & 1 &  6.890000 &  37328\\\\\n\t  7 & 13312 & 148470 &  33720 &  9635 &  35 &  6 & 3 & 1 & 2 & ⋯ & 1286 & 4834 & 0.685353744 & 0.082540339 & 0.051923873 & 0.162184526 & 0.035995035 & 3 & 15.388000 &  63931\\\\\n\t  8 & 17120 & 607530 &  99990 &  6666 &  96 &  8 & 4 & 1 & 2 & ⋯ & 2196 & 4175 & 0.894131737 & 0.004550898 & 0.036886228 & 0.042634731 & 0.038802395 & 1 &  8.035000 & 141250\\\\\n\t  9 & 39122 & 209220 &  40450 &  6224 &  53 &  6 & 3 & 0 & 1 & ⋯ & 1884 & 4320 & 0.696527778 & 0.068750000 & 0.009722222 & 0.200462963 & 0.049074074 & 6 & 11.134000 &  71949\\\\\n\t 10 & 28100 & 459670 & 102370 & 15750 &  27 &  9 & 5 & 2 & 3 & ⋯ & 3824 & 8884 & 0.861548852 & 0.012606934 & 0.045587573 & 0.055718145 & 0.049076992 & 1 &  9.413000 & 105942\\\\\n\t 11 & 72330 &  75120 &  16910 &  3075 &  98 &  6 & 3 & 0 & 1 & ⋯ & 1706 & 5973 & 0.001506781 & 0.967520509 & 0.000000000 & 0.007199062 & 0.047547296 & 1 &  6.908000 &  39231\\\\\n\t 12 & 20080 & 321330 &  35950 &  3995 &  14 &  7 & 4 & 1 & 4 & ⋯ & 2463 & 3851 & 0.516229551 & 0.020514152 & 0.040249286 & 0.403012205 & 0.035834848 & 1 & 10.001000 &  50707\\\\\n\t 13 & 72282 & 110830 &  29760 &  3968 &  96 &  6 & 2 & 1 & 1 & ⋯ &  847 & 5708 & 0.011037141 & 0.980028031 & 0.004204625 & 0.004730203 & 0.000000000 & 1 &  6.908000 &  27500\\\\\n\t 14 & 15085 & 133950 &  35540 &  3843 &  76 &  6 & 3 & 0 & 1 & ⋯ & 1654 & 5600 & 0.116607143 & 0.025000000 & 0.000000000 & 0.858392857 & 0.000000000 & 1 & 16.731000 &  65638\\\\\n\t 15 & 17080 & 301850 &  57450 &  3591 & 122 &  5 & 2 & 0 & 1 & ⋯ & 1320 & 2769 & 0.783315276 & 0.059588299 & 0.058504875 & 0.054532322 & 0.074756230 & 3 &  8.035000 & 101364\\\\\n\t 16 & 72221 &  88300 &  24770 &  3812 &  69 &  7 & 3 & 0 & 1 & ⋯ & 1029 & 2310 & 0.000000000 & 0.969696970 & 0.002597403 & 0.027705628 & 0.000000000 & 1 &  6.873317 &  41985\\\\\n\t 17 & 70091 &  67830 &  49860 &  5541 &  64 &  7 & 3 & 0 & 1 & ⋯ &  870 & 6004 & 0.007661559 & 0.959526982 & 0.013324450 & 0.009160560 & 0.017821452 & 1 &  6.883865 &  42766\\\\\n\t 18 & 24081 & 194740 &  74770 &  7871 &  66 &  6 & 3 & 0 & 2 & ⋯ & 1234 & 5429 & 0.627555719 & 0.000552588 & 0.257874378 & 0.105728495 & 0.016577639 & 1 &  7.250000 &  70169\\\\\n\t 19 & 77040 & 114600 &  38180 &  3250 & 103 &  6 & 4 & 0 & 2 & ⋯ & 1972 & 2291 & 0.163683981 & 0.297686600 & 0.005674378 & 0.529026626 & 0.007856831 & 1 &  6.890000 &  43571\\\\\n\t 20 & 39080 & 109000 &  47970 &  7995 &  68 &  5 & 3 & 0 & 1 & ⋯ & 1045 & 3370 & 0.732640950 & 0.058753709 & 0.008011869 & 0.195252226 & 0.010682493 & 1 & 13.148000 &  64646\\\\\n\t 21 & 76030 & 172870 & 130940 &  2976 & 157 & 12 & 4 & 0 & 2 & ⋯ & 2080 & 4413 & 0.209381373 & 0.014955812 & 0.623612055 & 0.149784727 & 0.004532064 & 1 &  6.890000 &  34127\\\\\n\t 22 & 70130 &  76470 &  42180 &  4687 &  69 &  5 & 2 & 0 & 1 & ⋯ &  864 & 5584 & 0.016475645 & 0.961855301 & 0.000000000 & 0.018087393 & 0.007163324 & 1 &  6.908000 &  50426\\\\\n\t 23 & 72380 & 131500 &  37500 &  3750 & 107 &  9 & 4 & 0 & 2 & ⋯ &  956 & 4022 & 0.411984088 & 0.015415216 & 0.006961711 & 0.561163600 & 0.008950771 & 1 &  6.934000 &  44085\\\\\n\t 24 & 73120 & 422430 & 180000 &  3000 & 142 &  8 & 5 & 0 & 3 & ⋯ & 2120 & 3625 & 0.817103448 & 0.014620690 & 0.067310345 & 0.069241379 & 0.059586207 & 1 &  6.890000 & 143667\\\\\n\t 25 & 24102 & 450030 & 130680 & 11880 &  46 &  9 & 6 & 1 & 2 & ⋯ & 3472 & 4052 & 0.623642646 & 0.000000000 & 0.300098717 & 0.066880553 & 0.014313919 & 1 &  8.872000 & 105132\\\\\n\t 26 & 77102 &  93070 &  36710 &  3125 & 117 &  6 & 4 & 0 & 2 & ⋯ & 2396 & 2150 & 0.004186047 & 0.947906977 & 0.025581395 & 0.022325581 & 0.000000000 & 1 &  6.913000 &  25625\\\\\n\t 27 & 31080 & 160970 &  31820 &  6700 &  74 &  6 & 3 & 0 & 1 & ⋯ & 1260 & 5989 & 0.184170980 & 0.474870596 & 0.003339456 & 0.327433628 & 0.020370680 & 1 & 15.180000 &  54597\\\\\n\t 28 & 23021 & 557130 & 389760 & 18560 &  92 & 11 & 3 & 1 & 3 & ⋯ & 3256 & 2498 & 0.919135308 & 0.000000000 & 0.047237790 & 0.020016013 & 0.027221777 & 1 &  8.481000 & 250001\\\\\n\t 29 & 72121 &  36790 &  20310 &  3125 & 102 &  5 & 2 & 0 & 1 & ⋯ &  861 & 4064 & 0.007135827 & 0.969980315 & 0.000000000 & 0.006643701 & 0.032480315 & 1 &  6.873317 &  43063\\\\\n\t 30 & 70240 &  88570 &  20310 &  3125 &  58 &  5 & 2 & 0 & 1 & ⋯ & 1040 & 2809 & 0.227839089 & 0.000000000 & 0.011035956 & 0.761124956 & 0.000000000 & 1 &  6.908000 &  44738\\\\\n\t ⋮ & ⋮ & ⋮ & ⋮ & ⋮ & ⋮ & ⋮ & ⋮ & ⋮ & ⋮ & ⋱ & ⋮ & ⋮ & ⋮ & ⋮ & ⋮ & ⋮ & ⋮ & ⋮ & ⋮ & ⋮\\\\\n\t  9971 & 72170 &  38200 &  23430 &  3125 & 107 &  5 & 3 & 0 & 2 & ⋯ & 1029 &  1256 & 0.002388535 & 0.909235669 & 0.000000000 & 0.054140127 & 0.066082803 & 1 &  6.873317 &  32163\\\\\n\t  9972 & 32161 & 197290 &  95770 & 19155 &  15 &  8 & 4 & 1 & 2 & ⋯ & 3819 &  9088 & 0.249669894 & 0.597931338 & 0.011553697 & 0.120268486 & 0.035101232 & 1 & 27.219000 &  77098\\\\\n\t  9973 & 72282 &  75500 &  27900 &  3720 &  73 &  5 & 3 & 0 & 1 & ⋯ & 1168 &  3115 & 0.005457464 & 0.966613162 & 0.024398074 & 0.003531300 & 0.000000000 & 6 &  6.873317 &  39097\\\\\n\t  9974 & 32222 & 185250 &  46500 &  9791 &  16 &  8 & 4 & 1 & 3 & ⋯ & 3052 &  6900 & 0.069710145 & 0.833913043 & 0.024057971 & 0.049855072 & 0.044927536 & 1 & 18.737000 &  85750\\\\\n\t  9975 & 27050 & 327560 &  53200 &  5320 & 110 &  8 & 4 & 1 & 1 & ⋯ & 1776 &  4008 & 0.647205589 & 0.212574850 & 0.002994012 & 0.125748503 & 0.022455090 & 1 & 13.157000 & 104792\\\\\n\t  9976 & 38031 & 288170 &  48940 &  8513 &  49 &  9 & 5 & 0 & 3 & ⋯ & 2924 &  4918 & 0.787921919 & 0.012403416 & 0.120577471 & 0.071980480 & 0.014233428 & 1 & 10.618000 & 105991\\\\\n\t  9977 & 35040 & 193440 &  41280 &  8691 &  47 &  6 & 3 & 1 & 1 & ⋯ & 1496 &  2698 & 0.637879911 & 0.003706449 & 0.157894737 & 0.158636027 & 0.074870274 & 6 &  9.172190 & 107174\\\\\n\t  9978 & 73022 & 375430 & 186960 &  4920 & 112 &  7 & 4 & 0 & 1 & ⋯ & 1930 &  5444 & 0.770940485 & 0.067229978 & 0.025349008 & 0.115540044 & 0.038574578 & 1 &  6.890000 &  65810\\\\\n\t  9979 & 20050 & 103870 &  53550 & 15300 &  64 &  5 & 3 & 0 & 1 & ⋯ & 1037 &  4666 & 0.267895414 & 0.022717531 & 0.010072868 & 0.688169739 & 0.022288898 & 1 & 11.119000 &  66655\\\\\n\t  9980 & 19060 & 317000 &  67650 & 11766 &  25 &  7 & 3 & 1 & 3 & ⋯ & 2583 &  5663 & 0.885573018 & 0.012714109 & 0.033727706 & 0.049267173 & 0.037435988 & 1 &  7.932000 & 106656\\\\\n\t  9981 & 31020 & 158920 &  24250 &  4410 &  69 &  6 & 4 & 0 & 2 & ⋯ & 1544 &  5922 & 0.039175954 & 0.676122931 & 0.020432286 & 0.259540696 & 0.009456265 & 6 & 19.016000 &  61484\\\\\n\t  9982 & 39260 & 256400 &  87710 & 15949 &  41 &  8 & 4 & 1 & 2 & ⋯ & 2441 &  3765 & 0.884196547 & 0.007702523 & 0.030810093 & 0.077290837 & 0.000000000 & 1 & 11.361000 &  86944\\\\\n\t  9983 & 71120 & 279420 &  16870 &  1164 &  21 &  6 & 3 & 1 & 2 & ⋯ & 1148 &  2043 & 0.632892805 & 0.067547724 & 0.084189917 & 0.159079785 & 0.108663730 & 1 &  6.913000 & 116563\\\\\n\t  9984 & 25200 & 694090 &  28620 &  2793 &  20 &  6 & 3 & 1 & 2 & ⋯ & 3043 &  5742 & 0.865029606 & 0.000000000 & 0.125043539 & 0.007314525 & 0.005224660 & 1 &  7.291000 & 140789\\\\\n\t  9985 & 32010 &  63870 &  29460 &  8418 &  50 &  6 & 3 & 0 & 2 & ⋯ & 1326 &  9088 & 0.249669894 & 0.597931338 & 0.011553697 & 0.120268486 & 0.035101232 & 1 & 27.219000 &  77098\\\\\n\t  9986 & 25072 & 564110 & 105780 & 10075 &  16 &  9 & 4 & 1 & 3 & ⋯ & 2913 &  3876 & 0.840299278 & 0.000000000 & 0.118163055 & 0.030185759 & 0.022703818 & 1 &  7.724000 & 165972\\\\\n\t  9987 & 36050 & 136320 &  65830 &  7980 &  49 &  7 & 3 & 0 & 2 & ⋯ & 1262 &  5253 & 0.593565582 & 0.029316581 & 0.016561965 & 0.346659052 & 0.018465639 & 1 & 12.287000 &  54625\\\\\n\t  9988 & 25052 & 300180 & 259630 & 19972 &  54 &  9 & 5 & 1 & 2 & ⋯ & 2510 &  6915 & 0.708893709 & 0.002603037 & 0.249313087 & 0.024150398 & 0.030079537 & 1 &  7.724000 & 119766\\\\\n\t  9989 & 70111 &  67680 & 128150 & 16019 &  64 &  9 & 5 & 1 & 2 & ⋯ & 2645 &  2707 & 0.007388253 & 0.907277429 & 0.000000000 & 0.070927226 & 0.028814185 & 2 &  6.883865 &  39853\\\\\n\t  9990 & 72380 & 133990 &  50000 &  5000 &  67 &  4 & 2 & 0 & 1 & ⋯ &  865 &  3701 & 0.540934882 & 0.021615780 & 0.002701972 & 0.372331802 & 0.124831127 & 1 &  6.934000 &  68902\\\\\n\t  9991 & 72282 &  47880 &  28120 &  3750 &  57 &  4 & 2 & 0 & 1 & ⋯ & 1027 &  2695 & 0.004823748 & 0.981076067 & 0.000000000 & 0.008534323 & 0.009276438 & 5 &  6.908000 &  51313\\\\\n\t  9992 & 71402 & 261300 & 107880 &  7440 & 102 &  6 & 3 & 1 & 1 & ⋯ & 2141 &  4467 & 0.617640475 & 0.004701142 & 0.086187598 & 0.263711663 & 0.054175062 & 1 &  6.894000 &  69736\\\\\n\t  9993 & 29100 & 168970 &  32560 & 10020 &  66 &  6 & 3 & 0 & 1 & ⋯ & 1423 &  3437 & 0.729124236 & 0.007273785 & 0.018329939 & 0.233052080 & 0.022112307 & 1 &  9.977000 &  91010\\\\\n\t  9994 & 37021 &  69990 &  18600 &  4960 &  65 &  6 & 3 & 0 & 1 & ⋯ & 1184 &  3828 & 0.024294671 & 0.950365726 & 0.003918495 & 0.018808777 & 0.002612330 & 3 & 30.059000 &  53910\\\\\n\t  9995 & 76012 & 470790 & 118720 &   848 &  27 &  6 & 2 & 1 & 2 & ⋯ & 2028 & 19889 & 0.488662075 & 0.227110463 & 0.206848006 & 0.045100307 & 0.061239881 & 1 &  6.890000 & 102303\\\\\n\t  9996 & 29013 & 506880 &  47130 & 17139 &  50 &  9 & 6 & 1 & 2 & ⋯ & 3394 &  7375 & 0.662779661 & 0.027254237 & 0.118779661 & 0.152135593 & 0.074711864 & 1 &  7.317000 &  67773\\\\\n\t  9997 & 36050 &  96300 &  42610 &  5166 &  63 &  5 & 2 & 0 & 1 & ⋯ &  983 &  5345 & 0.452198316 & 0.040224509 & 0.014218896 & 0.489429373 & 0.007857811 & 1 & 12.287000 &  73646\\\\\n\t  9998 & 22111 & 295860 &  61710 &  7260 &  55 &  7 & 4 & 1 & 2 & ⋯ & 2176 &  4146 & 0.738543174 & 0.003859141 & 0.126869272 & 0.106126387 & 0.047515678 & 4 &  8.938000 &  81250\\\\\n\t  9999 & 71200 & 231790 & 124370 &  9950 &  68 & 10 & 5 & 0 & 4 & ⋯ & 2710 &  7452 & 0.357890499 & 0.316827697 & 0.030730005 & 0.257783145 & 0.070987654 & 1 &  6.894000 &  90058\\\\\n\t 10000 & 15015 & 162270 &  39930 &  3993 &  97 & 12 & 5 & 0 & 2 & ⋯ & 2374 &  6490 & 0.042835131 & 0.039445300 & 0.015254237 & 0.894298921 & 0.009553159 & 1 & 16.731000 &  55168\\\\\n\\end{tabular}\n",
            "text/plain": [
              "      pid   meta_nbhd meta_certified_est_bldg meta_certified_est_land\n",
              "1      1    35030     181470                   33110                 \n",
              "2      2    29060     328800                    8420                 \n",
              "3      3    39080     195750                   29760                 \n",
              "4      4    72150      81620                   30240                 \n",
              "5      5    28036     216050                   95980                 \n",
              "6      6    70070      96350                   34370                 \n",
              "7      7    13312     148470                   33720                 \n",
              "8      8    17120     607530                   99990                 \n",
              "9      9    39122     209220                   40450                 \n",
              "10    10    28100     459670                  102370                 \n",
              "11    11    72330      75120                   16910                 \n",
              "12    12    20080     321330                   35950                 \n",
              "13    13    72282     110830                   29760                 \n",
              "14    14    15085     133950                   35540                 \n",
              "15    15    17080     301850                   57450                 \n",
              "16    16    72221      88300                   24770                 \n",
              "17    17    70091      67830                   49860                 \n",
              "18    18    24081     194740                   74770                 \n",
              "19    19    77040     114600                   38180                 \n",
              "20    20    39080     109000                   47970                 \n",
              "21    21    76030     172870                  130940                 \n",
              "22    22    70130      76470                   42180                 \n",
              "23    23    72380     131500                   37500                 \n",
              "24    24    73120     422430                  180000                 \n",
              "25    25    24102     450030                  130680                 \n",
              "26    26    77102      93070                   36710                 \n",
              "27    27    31080     160970                   31820                 \n",
              "28    28    23021     557130                  389760                 \n",
              "29    29    72121      36790                   20310                 \n",
              "30    30    70240      88570                   20310                 \n",
              "⋮     ⋮     ⋮         ⋮                       ⋮                      \n",
              "9971   9971 72170      38200                   23430                 \n",
              "9972   9972 32161     197290                   95770                 \n",
              "9973   9973 72282      75500                   27900                 \n",
              "9974   9974 32222     185250                   46500                 \n",
              "9975   9975 27050     327560                   53200                 \n",
              "9976   9976 38031     288170                   48940                 \n",
              "9977   9977 35040     193440                   41280                 \n",
              "9978   9978 73022     375430                  186960                 \n",
              "9979   9979 20050     103870                   53550                 \n",
              "9980   9980 19060     317000                   67650                 \n",
              "9981   9981 31020     158920                   24250                 \n",
              "9982   9982 39260     256400                   87710                 \n",
              "9983   9983 71120     279420                   16870                 \n",
              "9984   9984 25200     694090                   28620                 \n",
              "9985   9985 32010      63870                   29460                 \n",
              "9986   9986 25072     564110                  105780                 \n",
              "9987   9987 36050     136320                   65830                 \n",
              "9988   9988 25052     300180                  259630                 \n",
              "9989   9989 70111      67680                  128150                 \n",
              "9990   9990 72380     133990                   50000                 \n",
              "9991   9991 72282      47880                   28120                 \n",
              "9992   9992 71402     261300                  107880                 \n",
              "9993   9993 29100     168970                   32560                 \n",
              "9994   9994 37021      69990                   18600                 \n",
              "9995   9995 76012     470790                  118720                 \n",
              "9996   9996 29013     506880                   47130                 \n",
              "9997   9997 36050      96300                   42610                 \n",
              "9998   9998 22111     295860                   61710                 \n",
              "9999   9999 71200     231790                  124370                 \n",
              "10000 10000 15015     162270                   39930                 \n",
              "      char_hd_sf char_age char_rooms char_beds char_frpl char_fbath ⋯\n",
              "1      7791       52       5         4         0         2          ⋯\n",
              "2      2408        5       7         3         0         2          ⋯\n",
              "3      4960       73       5         2         1         1          ⋯\n",
              "4      3780       94       7         4         0         2          ⋯\n",
              "5     17451       45       7         4         1         2          ⋯\n",
              "6      3125      122      12         6         0         2          ⋯\n",
              "7      9635       35       6         3         1         2          ⋯\n",
              "8      6666       96       8         4         1         2          ⋯\n",
              "9      6224       53       6         3         0         1          ⋯\n",
              "10    15750       27       9         5         2         3          ⋯\n",
              "11     3075       98       6         3         0         1          ⋯\n",
              "12     3995       14       7         4         1         4          ⋯\n",
              "13     3968       96       6         2         1         1          ⋯\n",
              "14     3843       76       6         3         0         1          ⋯\n",
              "15     3591      122       5         2         0         1          ⋯\n",
              "16     3812       69       7         3         0         1          ⋯\n",
              "17     5541       64       7         3         0         1          ⋯\n",
              "18     7871       66       6         3         0         2          ⋯\n",
              "19     3250      103       6         4         0         2          ⋯\n",
              "20     7995       68       5         3         0         1          ⋯\n",
              "21     2976      157      12         4         0         2          ⋯\n",
              "22     4687       69       5         2         0         1          ⋯\n",
              "23     3750      107       9         4         0         2          ⋯\n",
              "24     3000      142       8         5         0         3          ⋯\n",
              "25    11880       46       9         6         1         2          ⋯\n",
              "26     3125      117       6         4         0         2          ⋯\n",
              "27     6700       74       6         3         0         1          ⋯\n",
              "28    18560       92      11         3         1         3          ⋯\n",
              "29     3125      102       5         2         0         1          ⋯\n",
              "30     3125       58       5         2         0         1          ⋯\n",
              "⋮     ⋮          ⋮        ⋮          ⋮         ⋮         ⋮          ⋱\n",
              "9971   3125      107       5         3         0         2          ⋯\n",
              "9972  19155       15       8         4         1         2          ⋯\n",
              "9973   3720       73       5         3         0         1          ⋯\n",
              "9974   9791       16       8         4         1         3          ⋯\n",
              "9975   5320      110       8         4         1         1          ⋯\n",
              "9976   8513       49       9         5         0         3          ⋯\n",
              "9977   8691       47       6         3         1         1          ⋯\n",
              "9978   4920      112       7         4         0         1          ⋯\n",
              "9979  15300       64       5         3         0         1          ⋯\n",
              "9980  11766       25       7         3         1         3          ⋯\n",
              "9981   4410       69       6         4         0         2          ⋯\n",
              "9982  15949       41       8         4         1         2          ⋯\n",
              "9983   1164       21       6         3         1         2          ⋯\n",
              "9984   2793       20       6         3         1         2          ⋯\n",
              "9985   8418       50       6         3         0         2          ⋯\n",
              "9986  10075       16       9         4         1         3          ⋯\n",
              "9987   7980       49       7         3         0         2          ⋯\n",
              "9988  19972       54       9         5         1         2          ⋯\n",
              "9989  16019       64       9         5         1         2          ⋯\n",
              "9990   5000       67       4         2         0         1          ⋯\n",
              "9991   3750       57       4         2         0         1          ⋯\n",
              "9992   7440      102       6         3         1         1          ⋯\n",
              "9993  10020       66       6         3         0         1          ⋯\n",
              "9994   4960       65       6         3         0         1          ⋯\n",
              "9995    848       27       6         2         1         2          ⋯\n",
              "9996  17139       50       9         6         1         2          ⋯\n",
              "9997   5166       63       5         2         0         1          ⋯\n",
              "9998   7260       55       7         4         1         2          ⋯\n",
              "9999   9950       68      10         5         0         4          ⋯\n",
              "10000  3993       97      12         5         0         2          ⋯\n",
              "      char_bldg_sf geo_tract_pop geo_white_perc geo_black_perc geo_asian_perc\n",
              "1     1390         4056          0.529585799    0.018984221    0.055719921   \n",
              "2     1900         2855          0.776532399    0.007005254    0.079159370   \n",
              "3     1023         4691          0.793007887    0.191856747    0.000000000   \n",
              "4     2458         5157          0.005235602    0.857669188    0.001745201   \n",
              "5     2439         7020          0.862678063    0.020085470    0.010398860   \n",
              "6     2400         2435          0.006160164    0.953182752    0.000000000   \n",
              "7     1286         4834          0.685353744    0.082540339    0.051923873   \n",
              "8     2196         4175          0.894131737    0.004550898    0.036886228   \n",
              "9     1884         4320          0.696527778    0.068750000    0.009722222   \n",
              "10    3824         8884          0.861548852    0.012606934    0.045587573   \n",
              "11    1706         5973          0.001506781    0.967520509    0.000000000   \n",
              "12    2463         3851          0.516229551    0.020514152    0.040249286   \n",
              "13     847         5708          0.011037141    0.980028031    0.004204625   \n",
              "14    1654         5600          0.116607143    0.025000000    0.000000000   \n",
              "15    1320         2769          0.783315276    0.059588299    0.058504875   \n",
              "16    1029         2310          0.000000000    0.969696970    0.002597403   \n",
              "17     870         6004          0.007661559    0.959526982    0.013324450   \n",
              "18    1234         5429          0.627555719    0.000552588    0.257874378   \n",
              "19    1972         2291          0.163683981    0.297686600    0.005674378   \n",
              "20    1045         3370          0.732640950    0.058753709    0.008011869   \n",
              "21    2080         4413          0.209381373    0.014955812    0.623612055   \n",
              "22     864         5584          0.016475645    0.961855301    0.000000000   \n",
              "23     956         4022          0.411984088    0.015415216    0.006961711   \n",
              "24    2120         3625          0.817103448    0.014620690    0.067310345   \n",
              "25    3472         4052          0.623642646    0.000000000    0.300098717   \n",
              "26    2396         2150          0.004186047    0.947906977    0.025581395   \n",
              "27    1260         5989          0.184170980    0.474870596    0.003339456   \n",
              "28    3256         2498          0.919135308    0.000000000    0.047237790   \n",
              "29     861         4064          0.007135827    0.969980315    0.000000000   \n",
              "30    1040         2809          0.227839089    0.000000000    0.011035956   \n",
              "⋮     ⋮            ⋮             ⋮              ⋮              ⋮             \n",
              "9971  1029          1256         0.002388535    0.909235669    0.000000000   \n",
              "9972  3819          9088         0.249669894    0.597931338    0.011553697   \n",
              "9973  1168          3115         0.005457464    0.966613162    0.024398074   \n",
              "9974  3052          6900         0.069710145    0.833913043    0.024057971   \n",
              "9975  1776          4008         0.647205589    0.212574850    0.002994012   \n",
              "9976  2924          4918         0.787921919    0.012403416    0.120577471   \n",
              "9977  1496          2698         0.637879911    0.003706449    0.157894737   \n",
              "9978  1930          5444         0.770940485    0.067229978    0.025349008   \n",
              "9979  1037          4666         0.267895414    0.022717531    0.010072868   \n",
              "9980  2583          5663         0.885573018    0.012714109    0.033727706   \n",
              "9981  1544          5922         0.039175954    0.676122931    0.020432286   \n",
              "9982  2441          3765         0.884196547    0.007702523    0.030810093   \n",
              "9983  1148          2043         0.632892805    0.067547724    0.084189917   \n",
              "9984  3043          5742         0.865029606    0.000000000    0.125043539   \n",
              "9985  1326          9088         0.249669894    0.597931338    0.011553697   \n",
              "9986  2913          3876         0.840299278    0.000000000    0.118163055   \n",
              "9987  1262          5253         0.593565582    0.029316581    0.016561965   \n",
              "9988  2510          6915         0.708893709    0.002603037    0.249313087   \n",
              "9989  2645          2707         0.007388253    0.907277429    0.000000000   \n",
              "9990   865          3701         0.540934882    0.021615780    0.002701972   \n",
              "9991  1027          2695         0.004823748    0.981076067    0.000000000   \n",
              "9992  2141          4467         0.617640475    0.004701142    0.086187598   \n",
              "9993  1423          3437         0.729124236    0.007273785    0.018329939   \n",
              "9994  1184          3828         0.024294671    0.950365726    0.003918495   \n",
              "9995  2028         19889         0.488662075    0.227110463    0.206848006   \n",
              "9996  3394          7375         0.662779661    0.027254237    0.118779661   \n",
              "9997   983          5345         0.452198316    0.040224509    0.014218896   \n",
              "9998  2176          4146         0.738543174    0.003859141    0.126869272   \n",
              "9999  2710          7452         0.357890499    0.316827697    0.030730005   \n",
              "10000 2374          6490         0.042835131    0.039445300    0.015254237   \n",
              "      geo_his_perc geo_other_perc geo_fs_flood_factor econ_tax_rate\n",
              "1     0.337524655  0.116370809    1                   10.763000    \n",
              "2     0.119089317  0.036427320    1                    9.835000    \n",
              "3     0.015135366  0.000000000    3                   13.318000    \n",
              "4     0.123715338  0.023269343    1                    6.934000    \n",
              "5     0.073789174  0.066096866    6                    9.413000    \n",
              "6     0.027104723  0.024229979    1                    6.890000    \n",
              "7     0.162184526  0.035995035    3                   15.388000    \n",
              "8     0.042634731  0.038802395    1                    8.035000    \n",
              "9     0.200462963  0.049074074    6                   11.134000    \n",
              "10    0.055718145  0.049076992    1                    9.413000    \n",
              "11    0.007199062  0.047547296    1                    6.908000    \n",
              "12    0.403012205  0.035834848    1                   10.001000    \n",
              "13    0.004730203  0.000000000    1                    6.908000    \n",
              "14    0.858392857  0.000000000    1                   16.731000    \n",
              "15    0.054532322  0.074756230    3                    8.035000    \n",
              "16    0.027705628  0.000000000    1                    6.873317    \n",
              "17    0.009160560  0.017821452    1                    6.883865    \n",
              "18    0.105728495  0.016577639    1                    7.250000    \n",
              "19    0.529026626  0.007856831    1                    6.890000    \n",
              "20    0.195252226  0.010682493    1                   13.148000    \n",
              "21    0.149784727  0.004532064    1                    6.890000    \n",
              "22    0.018087393  0.007163324    1                    6.908000    \n",
              "23    0.561163600  0.008950771    1                    6.934000    \n",
              "24    0.069241379  0.059586207    1                    6.890000    \n",
              "25    0.066880553  0.014313919    1                    8.872000    \n",
              "26    0.022325581  0.000000000    1                    6.913000    \n",
              "27    0.327433628  0.020370680    1                   15.180000    \n",
              "28    0.020016013  0.027221777    1                    8.481000    \n",
              "29    0.006643701  0.032480315    1                    6.873317    \n",
              "30    0.761124956  0.000000000    1                    6.908000    \n",
              "⋮     ⋮            ⋮              ⋮                   ⋮            \n",
              "9971  0.054140127  0.066082803    1                    6.873317    \n",
              "9972  0.120268486  0.035101232    1                   27.219000    \n",
              "9973  0.003531300  0.000000000    6                    6.873317    \n",
              "9974  0.049855072  0.044927536    1                   18.737000    \n",
              "9975  0.125748503  0.022455090    1                   13.157000    \n",
              "9976  0.071980480  0.014233428    1                   10.618000    \n",
              "9977  0.158636027  0.074870274    6                    9.172190    \n",
              "9978  0.115540044  0.038574578    1                    6.890000    \n",
              "9979  0.688169739  0.022288898    1                   11.119000    \n",
              "9980  0.049267173  0.037435988    1                    7.932000    \n",
              "9981  0.259540696  0.009456265    6                   19.016000    \n",
              "9982  0.077290837  0.000000000    1                   11.361000    \n",
              "9983  0.159079785  0.108663730    1                    6.913000    \n",
              "9984  0.007314525  0.005224660    1                    7.291000    \n",
              "9985  0.120268486  0.035101232    1                   27.219000    \n",
              "9986  0.030185759  0.022703818    1                    7.724000    \n",
              "9987  0.346659052  0.018465639    1                   12.287000    \n",
              "9988  0.024150398  0.030079537    1                    7.724000    \n",
              "9989  0.070927226  0.028814185    2                    6.883865    \n",
              "9990  0.372331802  0.124831127    1                    6.934000    \n",
              "9991  0.008534323  0.009276438    5                    6.908000    \n",
              "9992  0.263711663  0.054175062    1                    6.894000    \n",
              "9993  0.233052080  0.022112307    1                    9.977000    \n",
              "9994  0.018808777  0.002612330    3                   30.059000    \n",
              "9995  0.045100307  0.061239881    1                    6.890000    \n",
              "9996  0.152135593  0.074711864    1                    7.317000    \n",
              "9997  0.489429373  0.007857811    1                   12.287000    \n",
              "9998  0.106126387  0.047515678    4                    8.938000    \n",
              "9999  0.257783145  0.070987654    1                    6.894000    \n",
              "10000 0.894298921  0.009553159    1                   16.731000    \n",
              "      econ_midincome\n",
              "1      73313        \n",
              "2      91122        \n",
              "3      87500        \n",
              "4      31310        \n",
              "5      91250        \n",
              "6      37328        \n",
              "7      63931        \n",
              "8     141250        \n",
              "9      71949        \n",
              "10    105942        \n",
              "11     39231        \n",
              "12     50707        \n",
              "13     27500        \n",
              "14     65638        \n",
              "15    101364        \n",
              "16     41985        \n",
              "17     42766        \n",
              "18     70169        \n",
              "19     43571        \n",
              "20     64646        \n",
              "21     34127        \n",
              "22     50426        \n",
              "23     44085        \n",
              "24    143667        \n",
              "25    105132        \n",
              "26     25625        \n",
              "27     54597        \n",
              "28    250001        \n",
              "29     43063        \n",
              "30     44738        \n",
              "⋮     ⋮             \n",
              "9971   32163        \n",
              "9972   77098        \n",
              "9973   39097        \n",
              "9974   85750        \n",
              "9975  104792        \n",
              "9976  105991        \n",
              "9977  107174        \n",
              "9978   65810        \n",
              "9979   66655        \n",
              "9980  106656        \n",
              "9981   61484        \n",
              "9982   86944        \n",
              "9983  116563        \n",
              "9984  140789        \n",
              "9985   77098        \n",
              "9986  165972        \n",
              "9987   54625        \n",
              "9988  119766        \n",
              "9989   39853        \n",
              "9990   68902        \n",
              "9991   51313        \n",
              "9992   69736        \n",
              "9993   91010        \n",
              "9994   53910        \n",
              "9995  102303        \n",
              "9996   67773        \n",
              "9997   73646        \n",
              "9998   81250        \n",
              "9999   90058        \n",
              "10000  55168        "
            ]
          },
          "metadata": {}
        }
      ],
      "source": [
        "# fill NAs with mean for numerical features\n",
        "train_num %>% mutate_all(~ifelse(is.na(.x), mean(.x, na.rm=T), .x))\n",
        "predict_num %>% mutate_all(~ifelse(is.na(.x), mean(.x, na.rm=T), .x))"
      ]
    },
    {
      "cell_type": "code",
      "execution_count": null,
      "metadata": {
        "id": "rVW3ltGw2SPS",
        "colab": {
          "base_uri": "https://localhost:8080/",
          "height": 52
        },
        "outputId": "1494df16-ceae-4b48-a3ae-1ff36c610a58"
      },
      "outputs": [
        {
          "output_type": "display_data",
          "data": {
            "text/html": [
              "<style>\n",
              ".list-inline {list-style: none; margin:0; padding: 0}\n",
              ".list-inline>li {display: inline-block}\n",
              ".list-inline>li:not(:last-child)::after {content: \"\\00b7\"; padding: 0 .5ex}\n",
              "</style>\n",
              "<ol class=list-inline><li>50000</li><li>51</li></ol>\n"
            ],
            "text/markdown": "1. 50000\n2. 51\n\n\n",
            "text/latex": "\\begin{enumerate*}\n\\item 50000\n\\item 51\n\\end{enumerate*}\n",
            "text/plain": [
              "[1] 50000    51"
            ]
          },
          "metadata": {}
        },
        {
          "output_type": "display_data",
          "data": {
            "text/html": [
              "<style>\n",
              ".list-inline {list-style: none; margin:0; padding: 0}\n",
              ".list-inline>li {display: inline-block}\n",
              ".list-inline>li:not(:last-child)::after {content: \"\\00b7\"; padding: 0 .5ex}\n",
              "</style>\n",
              "<ol class=list-inline><li>10000</li><li>51</li></ol>\n"
            ],
            "text/markdown": "1. 10000\n2. 51\n\n\n",
            "text/latex": "\\begin{enumerate*}\n\\item 10000\n\\item 51\n\\end{enumerate*}\n",
            "text/plain": [
              "[1] 10000    51"
            ]
          },
          "metadata": {}
        }
      ],
      "source": [
        "# combine catgorical features and numeric features\n",
        "historic_property_data <- cbind(train_cat, train_num)       \n",
        "dim(historic_property_data)\n",
        "\n",
        "predict <- cbind(predict_cat, predict_num) \n",
        "dim(predict)"
      ]
    },
    {
      "cell_type": "code",
      "execution_count": null,
      "metadata": {
        "id": "Tlb6DeMpHwfG",
        "colab": {
          "base_uri": "https://localhost:8080/",
          "height": 52
        },
        "outputId": "31d45d14-da0d-48da-e8d6-95957bc68319"
      },
      "outputs": [
        {
          "output_type": "display_data",
          "data": {
            "text/html": [
              "<style>\n",
              ".list-inline {list-style: none; margin:0; padding: 0}\n",
              ".list-inline>li {display: inline-block}\n",
              ".list-inline>li:not(:last-child)::after {content: \"\\00b7\"; padding: 0 .5ex}\n",
              "</style>\n",
              "<ol class=list-inline><li>'2'</li><li>'1'</li><li>'5'</li><li>'4'</li><li>'3'</li><li>NA</li></ol>\n"
            ],
            "text/markdown": "1. '2'\n2. '1'\n3. '5'\n4. '4'\n5. '3'\n6. NA\n\n\n",
            "text/latex": "\\begin{enumerate*}\n\\item '2'\n\\item '1'\n\\item '5'\n\\item '4'\n\\item '3'\n\\item NA\n\\end{enumerate*}\n",
            "text/plain": [
              "[1] \"2\" \"1\" \"5\" \"4\" \"3\" NA "
            ]
          },
          "metadata": {}
        },
        {
          "output_type": "display_data",
          "data": {
            "text/html": [
              "<style>\n",
              ".list-inline {list-style: none; margin:0; padding: 0}\n",
              ".list-inline>li {display: inline-block}\n",
              ".list-inline>li:not(:last-child)::after {content: \"\\00b7\"; padding: 0 .5ex}\n",
              "</style>\n",
              "<ol class=list-inline><li>'1'</li><li>'2'</li><li>'4'</li><li>'5'</li><li>'3'</li><li>NA</li></ol>\n"
            ],
            "text/markdown": "1. '1'\n2. '2'\n3. '4'\n4. '5'\n5. '3'\n6. NA\n\n\n",
            "text/latex": "\\begin{enumerate*}\n\\item '1'\n\\item '2'\n\\item '4'\n\\item '5'\n\\item '3'\n\\item NA\n\\end{enumerate*}\n",
            "text/plain": [
              "[1] \"1\" \"2\" \"4\" \"5\" \"3\" NA "
            ]
          },
          "metadata": {}
        }
      ],
      "source": [
        "# replace redundant categories\n",
        "historic_property_data$char_type_resd[historic_property_data$char_type_resd == '6' |historic_property_data$char_type_resd == '7'] <- '5'     # Replace class values\n",
        "historic_property_data$char_type_resd[historic_property_data$char_type_resd == '8' |historic_property_data$char_type_resd == '9'] <- '5'     # Replace class values\n",
        "unique(historic_property_data$char_type_resd)\n",
        "\n",
        "predict$char_type_resd[predict$char_type_resd == '6' |predict$char_type_resd == '7'] <- '5'   # Replace class values\n",
        "predict$char_type_resd[predict$char_type_resd == '8' |predict$char_type_resd == '9'] <- '5'   # Replace class values\n",
        "unique(predict$char_type_resd)"
      ]
    },
    {
      "cell_type": "code",
      "execution_count": null,
      "metadata": {
        "id": "BZ8B48ZYThwM",
        "colab": {
          "base_uri": "https://localhost:8080/",
          "height": 34
        },
        "outputId": "f6d3c377-7265-4405-aca1-e38796563e11"
      },
      "outputs": [
        {
          "output_type": "display_data",
          "data": {
            "text/html": [
              "<style>\n",
              ".list-inline {list-style: none; margin:0; padding: 0}\n",
              ".list-inline>li {display: inline-block}\n",
              ".list-inline>li:not(:last-child)::after {content: \"\\00b7\"; padding: 0 .5ex}\n",
              "</style>\n",
              "<ol class=list-inline><li>49997</li><li>51</li></ol>\n"
            ],
            "text/markdown": "1. 49997\n2. 51\n\n\n",
            "text/latex": "\\begin{enumerate*}\n\\item 49997\n\\item 51\n\\end{enumerate*}\n",
            "text/plain": [
              "[1] 49997    51"
            ]
          },
          "metadata": {}
        }
      ],
      "source": [
        "# ensure historic data and predict data had the same features\n",
        "historic_property_data <- historic_property_data[!(historic_property_data$geo_property_zip == '60661' | historic_property_data$geo_property_zip == '60658'), ]\n",
        "dim(historic_property_data)"
      ]
    },
    {
      "cell_type": "code",
      "execution_count": null,
      "metadata": {
        "id": "icraNf0WXEmP"
      },
      "outputs": [],
      "source": [
        "# separate categorical and numeric features\n",
        "idx_feat_cat_mask <- grepl('character', sapply(historic_property_data, class))\n",
        "idx_feat_num_mask <- !idx_feat_cat_mask\n",
        "idx_feat_cat <- colnames(historic_property_data)[idx_feat_cat_mask]\n",
        "\n",
        "idx_feat_num_tmp <- colnames(historic_property_data)[idx_feat_num_mask]\n",
        "train_num <- historic_property_data[, idx_feat_num_tmp]\n",
        "train_cat <- historic_property_data[, idx_feat_cat]\n",
        "\n",
        "idx_feat_num_tmp <- colnames(predict)[idx_feat_num_mask]\n",
        "predict_num <- predict[, idx_feat_num_tmp]\n",
        "predict_cat <- predict[, idx_feat_cat]"
      ]
    },
    {
      "cell_type": "code",
      "execution_count": null,
      "metadata": {
        "id": "5zwAhFeS5cjh",
        "colab": {
          "base_uri": "https://localhost:8080/",
          "height": 52
        },
        "outputId": "a5737758-7d04-4d08-83dc-c1528e4130b5"
      },
      "outputs": [
        {
          "output_type": "display_data",
          "data": {
            "text/html": [
              "<style>\n",
              ".list-inline {list-style: none; margin:0; padding: 0}\n",
              ".list-inline>li {display: inline-block}\n",
              ".list-inline>li:not(:last-child)::after {content: \"\\00b7\"; padding: 0 .5ex}\n",
              "</style>\n",
              "<ol class=list-inline><li>49997</li><li>262</li></ol>\n"
            ],
            "text/markdown": "1. 49997\n2. 262\n\n\n",
            "text/latex": "\\begin{enumerate*}\n\\item 49997\n\\item 262\n\\end{enumerate*}\n",
            "text/plain": [
              "[1] 49997   262"
            ]
          },
          "metadata": {}
        },
        {
          "output_type": "display_data",
          "data": {
            "text/html": [
              "<style>\n",
              ".list-inline {list-style: none; margin:0; padding: 0}\n",
              ".list-inline>li {display: inline-block}\n",
              ".list-inline>li:not(:last-child)::after {content: \"\\00b7\"; padding: 0 .5ex}\n",
              "</style>\n",
              "<ol class=list-inline><li>10000</li><li>253</li></ol>\n"
            ],
            "text/markdown": "1. 10000\n2. 253\n\n\n",
            "text/latex": "\\begin{enumerate*}\n\\item 10000\n\\item 253\n\\end{enumerate*}\n",
            "text/plain": [
              "[1] 10000   253"
            ]
          },
          "metadata": {}
        }
      ],
      "source": [
        "# create dummy variables for categorical features\n",
        "train_cat_enc <- dummy_cols(.data=train_cat, remove_first_dummy=T, remove_selected_columns=T)  \n",
        "dim(train_cat_enc)\n",
        "\n",
        "predict_cat_enc <- dummy_cols(.data=predict_cat, remove_first_dummy=T, remove_selected_columns=T)  \n",
        "dim(predict_cat_enc)"
      ]
    },
    {
      "cell_type": "code",
      "execution_count": null,
      "metadata": {
        "id": "L2t0YkdKDbtc",
        "colab": {
          "base_uri": "https://localhost:8080/",
          "height": 52
        },
        "outputId": "b99b20fd-378e-4faf-b7d8-adf1d3d9da5c"
      },
      "outputs": [
        {
          "output_type": "display_data",
          "data": {
            "text/html": [
              "<style>\n",
              ".list-inline {list-style: none; margin:0; padding: 0}\n",
              ".list-inline>li {display: inline-block}\n",
              ".list-inline>li:not(:last-child)::after {content: \"\\00b7\"; padding: 0 .5ex}\n",
              "</style>\n",
              "<ol class=list-inline><li>49997</li><li>284</li></ol>\n"
            ],
            "text/markdown": "1. 49997\n2. 284\n\n\n",
            "text/latex": "\\begin{enumerate*}\n\\item 49997\n\\item 284\n\\end{enumerate*}\n",
            "text/plain": [
              "[1] 49997   284"
            ]
          },
          "metadata": {}
        },
        {
          "output_type": "display_data",
          "data": {
            "text/html": [
              "<style>\n",
              ".list-inline {list-style: none; margin:0; padding: 0}\n",
              ".list-inline>li {display: inline-block}\n",
              ".list-inline>li:not(:last-child)::after {content: \"\\00b7\"; padding: 0 .5ex}\n",
              "</style>\n",
              "<ol class=list-inline><li>10000</li><li>275</li></ol>\n"
            ],
            "text/markdown": "1. 10000\n2. 275\n\n\n",
            "text/latex": "\\begin{enumerate*}\n\\item 10000\n\\item 275\n\\end{enumerate*}\n",
            "text/plain": [
              "[1] 10000   275"
            ]
          },
          "metadata": {}
        }
      ],
      "source": [
        "# combine categorical features and numeric features\n",
        "historic_property_data <- cbind(train_cat_enc, train_num)   \n",
        "dim(historic_property_data)\n",
        "\n",
        "predict <- cbind(predict_cat_enc, predict_num) \n",
        "dim(predict)"
      ]
    },
    {
      "cell_type": "code",
      "execution_count": null,
      "metadata": {
        "id": "Vvnb5WWQR5Vc",
        "colab": {
          "base_uri": "https://localhost:8080/",
          "height": 34
        },
        "outputId": "81b6dcd4-9e80-4538-c342-88ecb84c43e6"
      },
      "outputs": [
        {
          "output_type": "display_data",
          "data": {
            "text/html": [
              "<style>\n",
              ".list-inline {list-style: none; margin:0; padding: 0}\n",
              ".list-inline>li {display: inline-block}\n",
              ".list-inline>li:not(:last-child)::after {content: \"\\00b7\"; padding: 0 .5ex}\n",
              "</style>\n",
              "<ol class=list-inline><li>10000</li><li>274</li></ol>\n"
            ],
            "text/markdown": "1. 10000\n2. 274\n\n\n",
            "text/latex": "\\begin{enumerate*}\n\\item 10000\n\\item 274\n\\end{enumerate*}\n",
            "text/plain": [
              "[1] 10000   274"
            ]
          },
          "metadata": {}
        }
      ],
      "source": [
        "# Train/test split\n",
        "predict_idx <- as.data.frame(predict$pid)                                      \n",
        "colnames(predict_idx) <- 'pid'                                                           \n",
        "predict <- predict[, setdiff(colnames(predict), c('pid'))]   \n",
        "dim(predict)\n"
      ]
    },
    {
      "cell_type": "code",
      "execution_count": null,
      "metadata": {
        "id": "45ANuJr1b0dD",
        "colab": {
          "base_uri": "https://localhost:8080/",
          "height": 52
        },
        "outputId": "01614513-a6a4-43e1-d2c1-ffead986d68c"
      },
      "outputs": [
        {
          "output_type": "display_data",
          "data": {
            "text/html": [
              "<style>\n",
              ".list-inline {list-style: none; margin:0; padding: 0}\n",
              ".list-inline>li {display: inline-block}\n",
              ".list-inline>li:not(:last-child)::after {content: \"\\00b7\"; padding: 0 .5ex}\n",
              "</style>\n",
              "<ol class=list-inline><li>29998</li><li>283</li></ol>\n"
            ],
            "text/markdown": "1. 29998\n2. 283\n\n\n",
            "text/latex": "\\begin{enumerate*}\n\\item 29998\n\\item 283\n\\end{enumerate*}\n",
            "text/plain": [
              "[1] 29998   283"
            ]
          },
          "metadata": {}
        },
        {
          "output_type": "display_data",
          "data": {
            "text/html": [
              "<style>\n",
              ".list-inline {list-style: none; margin:0; padding: 0}\n",
              ".list-inline>li {display: inline-block}\n",
              ".list-inline>li:not(:last-child)::after {content: \"\\00b7\"; padding: 0 .5ex}\n",
              "</style>\n",
              "<ol class=list-inline><li>19999</li><li>283</li></ol>\n"
            ],
            "text/markdown": "1. 19999\n2. 283\n\n\n",
            "text/latex": "\\begin{enumerate*}\n\\item 19999\n\\item 283\n\\end{enumerate*}\n",
            "text/plain": [
              "[1] 19999   283"
            ]
          },
          "metadata": {}
        }
      ],
      "source": [
        "# Train/test split\n",
        "set.seed(917)     \n",
        "\n",
        "train_sample <- sample(c(1:dim(historic_property_data)[1]), dim(historic_property_data)[1]*0.6)  \n",
        "df_train <- historic_property_data[train_sample, ]                                        \n",
        "df_test <- historic_property_data[-train_sample, ]                                        \n",
        "\n",
        "train_y <- as.data.frame(df_train$sale_price)                        \n",
        "colnames(train_y) <- \"sale_price\"                                    \n",
        "train_X <- df_train[, setdiff(colnames(df_train), c('sale_price'))]  \n",
        "dim(train_X)\n",
        "\n",
        "test_y <- as.data.frame(df_test$sale_price)                          \n",
        "colnames(test_y) <- \"sale_price\"                                    \n",
        "test_X <- df_test[, setdiff(colnames(df_test), c('sale_price'))]    \n",
        "dim(test_X)"
      ]
    },
    {
      "cell_type": "code",
      "execution_count": null,
      "metadata": {
        "id": "Uk99aR88Xu7R"
      },
      "outputs": [],
      "source": [
        "# Normalization\n",
        "\n",
        "# X train\n",
        "# train_val <- preProcess(train_X, method=\"range\")    \n",
        "# train_X <- predict(train_val, train_X)           \n",
        "\n",
        "# X test\n",
        "# testX_val <- preProcess(test_X, method=\"range\")     \n",
        "# test_X <- predict(testX_val, test_X)            \n",
        "\n",
        "# Predict\n",
        "# Predict_val <- preProcess(predict, method=\"range\")     \n",
        "# predict <- predict(Predict_val, predict)     "
      ]
    },
    {
      "cell_type": "markdown",
      "metadata": {
        "id": "EruFlkhGjHAN"
      },
      "source": [
        "# Linear Regression"
      ]
    },
    {
      "cell_type": "markdown",
      "metadata": {
        "id": "B7vGydsx3eDK"
      },
      "source": [
        "## Linear regression with all features"
      ]
    },
    {
      "cell_type": "markdown",
      "metadata": {
        "id": "cf8khVzD3pJp"
      },
      "source": [
        "### Fit the lm model "
      ]
    },
    {
      "cell_type": "code",
      "execution_count": null,
      "metadata": {
        "id": "Uqua5CBSqYkO"
      },
      "outputs": [],
      "source": [
        "# fit the model with all predictors  \n",
        "lm_full <- lm(sale_price ~ ., data = df_train)"
      ]
    },
    {
      "cell_type": "code",
      "execution_count": null,
      "metadata": {
        "colab": {
          "base_uri": "https://localhost:8080/",
          "height": 1000
        },
        "id": "8IB4Qbh32tIw",
        "outputId": "e994dba7-0f73-43b0-db53-72068e0ffc3d"
      },
      "outputs": [
        {
          "output_type": "display_data",
          "data": {
            "text/plain": [
              "\n",
              "Call:\n",
              "lm(formula = sale_price ~ ., data = df_train)\n",
              "\n",
              "Residuals:\n",
              "     Min       1Q   Median       3Q      Max \n",
              "-1609004   -47429    -2025    41018  3646884 \n",
              "\n",
              "Coefficients: (32 not defined because of singularities)\n",
              "                                 Estimate Std. Error t value Pr(>|t|)    \n",
              "(Intercept)                    -3.220e+05  3.917e+05  -0.822 0.411024    \n",
              "meta_class_203                 -6.941e+03  4.775e+03  -1.453 0.146110    \n",
              "meta_class_204                 -1.118e+04  6.930e+03  -1.613 0.106849    \n",
              "meta_class_205                  1.012e+04  9.013e+03   1.123 0.261302    \n",
              "meta_class_206                  3.695e+04  1.020e+04   3.621 0.000294 ***\n",
              "meta_class_207                 -1.041e+04  9.997e+03  -1.041 0.297834    \n",
              "meta_class_208                  4.610e+04  1.321e+04   3.490 0.000484 ***\n",
              "meta_class_209                  1.299e+05  1.806e+04   7.193 6.59e-13 ***\n",
              "meta_class_210                 -3.986e+03  1.514e+04  -0.263 0.792369    \n",
              "meta_class_211                 -9.904e+04  2.973e+04  -3.331 0.000867 ***\n",
              "meta_class_212                 -1.492e+05  3.332e+04  -4.478 7.59e-06 ***\n",
              "meta_class_234                 -4.844e+04  7.962e+04  -0.608 0.542929    \n",
              "meta_class_278                  1.437e+03  9.495e+03   0.151 0.879752    \n",
              "meta_class_295                 -2.217e+04  9.091e+03  -2.439 0.014750 *  \n",
              "meta_class_NA                          NA         NA      NA       NA    \n",
              "meta_deed_type_T                3.306e+04  3.854e+03   8.577  < 2e-16 ***\n",
              "meta_deed_type_W                6.124e+04  2.839e+03  21.572  < 2e-16 ***\n",
              "meta_deed_type_NA                      NA         NA      NA       NA    \n",
              "char_ext_wall_2                -3.075e+02  3.147e+03  -0.098 0.922153    \n",
              "char_ext_wall_3                -3.731e+03  3.289e+03  -1.134 0.256621    \n",
              "char_ext_wall_4                 3.967e+03  8.307e+03   0.478 0.632975    \n",
              "char_ext_wall_NA                       NA         NA      NA       NA    \n",
              "char_roof_cnst_2                2.280e+04  4.903e+03   4.651 3.33e-06 ***\n",
              "char_roof_cnst_3                1.287e+05  1.593e+04   8.078 7.00e-16 ***\n",
              "char_roof_cnst_4               -1.978e+04  1.104e+04  -1.791 0.073268 .  \n",
              "char_roof_cnst_5                6.186e+04  1.352e+04   4.575 4.79e-06 ***\n",
              "char_roof_cnst_6                7.498e+04  1.272e+04   5.893 3.86e-09 ***\n",
              "char_roof_cnst_NA                      NA         NA      NA       NA    \n",
              "char_bsmt_2                    -2.341e+03  4.017e+03  -0.583 0.559964    \n",
              "char_bsmt_3                    -1.230e+04  3.224e+03  -3.814 0.000137 ***\n",
              "char_bsmt_4                    -8.376e+03  5.009e+03  -1.672 0.094510 .  \n",
              "char_bsmt_NA                           NA         NA      NA       NA    \n",
              "char_bsmt_fin_2                -4.048e+04  8.380e+03  -4.830 1.37e-06 ***\n",
              "char_bsmt_fin_3                -2.516e+04  2.717e+03  -9.260  < 2e-16 ***\n",
              "char_bsmt_fin_NA                       NA         NA      NA       NA    \n",
              "char_heat_2                    -3.132e+03  3.464e+03  -0.904 0.365865    \n",
              "char_heat_3                    -3.299e+04  1.793e+04  -1.839 0.065888 .  \n",
              "char_heat_4                    -2.247e+04  1.951e+04  -1.151 0.249543    \n",
              "char_heat_NA                           NA         NA      NA       NA    \n",
              "char_oheat_5                   -2.769e+03  6.070e+03  -0.456 0.648322    \n",
              "char_oheat_NA                          NA         NA      NA       NA    \n",
              "char_air_2                     -9.870e+03  2.731e+03  -3.614 0.000302 ***\n",
              "char_air_NA                            NA         NA      NA       NA    \n",
              "char_attic_type_2               1.543e+03  3.961e+03   0.390 0.696845    \n",
              "char_attic_type_3              -9.955e+03  3.617e+03  -2.752 0.005926 ** \n",
              "char_attic_type_NA                     NA         NA      NA       NA    \n",
              "char_tp_plan_2                  1.513e+04  6.356e+03   2.380 0.017302 *  \n",
              "char_tp_plan_NA                        NA         NA      NA       NA    \n",
              "char_cnst_qlty_2                6.092e+04  9.399e+03   6.482 9.29e-11 ***\n",
              "char_cnst_qlty_NA                      NA         NA      NA       NA    \n",
              "char_site_2                    -2.078e+04  1.291e+04  -1.610 0.107418    \n",
              "char_site_3                    -9.295e+04  3.096e+04  -3.002 0.002685 ** \n",
              "char_site_NA                           NA         NA      NA       NA    \n",
              "char_gar1_size_2                2.863e+03  5.258e+03   0.545 0.586054    \n",
              "char_gar1_size_3                5.391e+03  3.226e+03   1.671 0.094733 .  \n",
              "char_gar1_size_4                4.585e+03  5.384e+03   0.852 0.394457    \n",
              "char_gar1_size_5                1.754e+04  6.295e+03   2.786 0.005336 ** \n",
              "char_gar1_size_6                6.852e+03  1.545e+04   0.444 0.657408    \n",
              "char_gar1_size_7                       NA         NA      NA       NA    \n",
              "char_gar1_size_8               -5.165e+04  1.470e+04  -3.515 0.000441 ***\n",
              "char_gar1_size_NA                      NA         NA      NA       NA    \n",
              "char_gar1_cnst_2               -1.376e+03  3.249e+03  -0.423 0.672056    \n",
              "char_gar1_cnst_3                5.520e+03  4.952e+03   1.115 0.265015    \n",
              "char_gar1_cnst_4               -6.247e+04  1.675e+04  -3.729 0.000193 ***\n",
              "char_gar1_cnst_NA                      NA         NA      NA       NA    \n",
              "char_gar1_att_2                 1.009e+04  3.822e+03   2.639 0.008322 ** \n",
              "char_gar1_att_NA                       NA         NA      NA       NA    \n",
              "char_gar1_area_2                2.205e+04  3.831e+03   5.756 8.74e-09 ***\n",
              "char_gar1_area_NA                      NA         NA      NA       NA    \n",
              "char_repair_cnd_2               8.152e+03  9.564e+03   0.852 0.393995    \n",
              "char_repair_cnd_3              -3.009e+03  1.633e+04  -0.184 0.853816    \n",
              "char_repair_cnd_NA                     NA         NA      NA       NA    \n",
              "char_use_2                      7.422e+04  2.883e+04   2.575 0.010046 *  \n",
              "char_use_NA                            NA         NA      NA       NA    \n",
              "char_type_resd_2               -1.744e+04  7.161e+03  -2.435 0.014905 *  \n",
              "char_type_resd_3               -1.230e+04  9.977e+03  -1.233 0.217755    \n",
              "char_type_resd_4                2.934e+04  7.943e+04   0.369 0.711818    \n",
              "char_type_resd_5               -8.368e+03  4.411e+03  -1.897 0.057848 .  \n",
              "char_type_resd_NA                      NA         NA      NA       NA    \n",
              "geo_property_zip_60004          1.630e+04  2.043e+04   0.798 0.424896    \n",
              "geo_property_zip_60005          1.235e+04  2.266e+04   0.545 0.585717    \n",
              "geo_property_zip_60007         -7.095e+03  2.175e+04  -0.326 0.744236    \n",
              "geo_property_zip_60008         -1.095e+04  2.266e+04  -0.483 0.628906    \n",
              "geo_property_zip_60010         -1.111e+03  2.235e+04  -0.050 0.960342    \n",
              "geo_property_zip_60016         -1.473e+04  2.128e+04  -0.692 0.488947    \n",
              "geo_property_zip_60018         -1.975e+04  2.425e+04  -0.814 0.415490    \n",
              "geo_property_zip_60022          1.833e+04  2.530e+04   0.724 0.468910    \n",
              "geo_property_zip_60025          5.823e+04  2.116e+04   2.752 0.005936 ** \n",
              "geo_property_zip_60026          7.005e+04  2.383e+04   2.940 0.003287 ** \n",
              "geo_property_zip_60029         -8.326e+04  7.128e+04  -1.168 0.242800    \n",
              "geo_property_zip_60043          1.073e+05  3.226e+04   3.327 0.000881 ***\n",
              "geo_property_zip_60053          5.105e+03  2.334e+04   0.219 0.826901    \n",
              "geo_property_zip_60056          1.304e+03  2.102e+04   0.062 0.950526    \n",
              "geo_property_zip_60062         -3.218e+03  2.076e+04  -0.155 0.876788    \n",
              "geo_property_zip_60067         -2.072e+04  2.034e+04  -1.018 0.308460    \n",
              "geo_property_zip_60068          2.975e+04  2.115e+04   1.406 0.159679    \n",
              "geo_property_zip_60070         -2.280e+04  2.494e+04  -0.915 0.360466    \n",
              "geo_property_zip_60074         -2.243e+04  2.230e+04  -1.006 0.314318    \n",
              "geo_property_zip_60076          8.944e+03  2.350e+04   0.381 0.703502    \n",
              "geo_property_zip_60077          1.639e+04  2.511e+04   0.652 0.514114    \n",
              "geo_property_zip_60089         -3.300e+04  2.519e+04  -1.310 0.190195    \n",
              "geo_property_zip_60090         -2.766e+03  2.266e+04  -0.122 0.902825    \n",
              "geo_property_zip_60091          2.362e+04  2.181e+04   1.083 0.278653    \n",
              "geo_property_zip_60093          1.065e+05  2.291e+04   4.648 3.38e-06 ***\n",
              "geo_property_zip_60103         -3.814e+04  2.259e+04  -1.689 0.091315 .  \n",
              "geo_property_zip_60104          2.115e+04  2.601e+04   0.813 0.416135    \n",
              "geo_property_zip_60107         -1.825e+04  2.065e+04  -0.884 0.376666    \n",
              "geo_property_zip_60120         -1.701e+04  2.257e+04  -0.754 0.451095    \n",
              "geo_property_zip_60126         -7.908e+03  1.381e+05  -0.057 0.954338    \n",
              "geo_property_zip_60130          3.904e+04  2.571e+04   1.519 0.128877    \n",
              "geo_property_zip_60131         -3.426e+04  2.463e+04  -1.391 0.164167    \n",
              "geo_property_zip_60133         -5.419e+03  2.353e+04  -0.230 0.817850    \n",
              "geo_property_zip_60153         -9.795e+03  2.653e+04  -0.369 0.711940    \n",
              "geo_property_zip_60154          1.526e+03  2.280e+04   0.067 0.946642    \n",
              "geo_property_zip_60155          2.119e+04  3.087e+04   0.687 0.492328    \n",
              "geo_property_zip_60160          1.214e+04  2.723e+04   0.446 0.655751    \n",
              "geo_property_zip_60162         -4.854e+03  3.496e+04  -0.139 0.889573    \n",
              "geo_property_zip_60163          1.447e+04  3.301e+04   0.438 0.661141    \n",
              "geo_property_zip_60164         -3.194e+03  2.410e+04  -0.133 0.894544    \n",
              "geo_property_zip_60165         -1.236e+04  4.634e+04  -0.267 0.789668    \n",
              "geo_property_zip_60169          1.709e+03  2.168e+04   0.079 0.937145    \n",
              "geo_property_zip_60171         -3.045e+04  2.985e+04  -1.020 0.307687    \n",
              "geo_property_zip_60172         -3.316e+04  3.270e+04  -1.014 0.310609    \n",
              "geo_property_zip_60173         -2.207e+04  2.749e+04  -0.803 0.422109    \n",
              "geo_property_zip_60176         -1.045e+04  3.766e+04  -0.277 0.781465    \n",
              "geo_property_zip_60192         -9.040e+03  2.244e+04  -0.403 0.687023    \n",
              "geo_property_zip_60193         -1.236e+04  2.100e+04  -0.588 0.556206    \n",
              "geo_property_zip_60194          3.400e+04  2.319e+04   1.466 0.142557    \n",
              "geo_property_zip_60195         -3.337e+04  5.895e+04  -0.566 0.571357    \n",
              "geo_property_zip_60201          8.885e+04  2.220e+04   4.001 6.33e-05 ***\n",
              "geo_property_zip_60202          1.075e+05  2.347e+04   4.579 4.70e-06 ***\n",
              "geo_property_zip_60203          6.399e+04  3.287e+04   1.947 0.051587 .  \n",
              "geo_property_zip_60301          1.155e+05  1.381e+05   0.836 0.403002    \n",
              "geo_property_zip_60302          4.717e+04  2.205e+04   2.139 0.032448 *  \n",
              "geo_property_zip_60304          2.643e+04  2.370e+04   1.115 0.264742    \n",
              "geo_property_zip_60305          5.959e+04  2.424e+04   2.458 0.013980 *  \n",
              "geo_property_zip_60402          1.107e+04  2.143e+04   0.516 0.605663    \n",
              "geo_property_zip_60406         -2.039e+03  2.906e+04  -0.070 0.944068    \n",
              "geo_property_zip_60409         -3.537e+04  2.581e+04  -1.370 0.170713    \n",
              "geo_property_zip_60411         -3.372e+04  2.236e+04  -1.508 0.131600    \n",
              "geo_property_zip_60415         -1.668e+04  3.152e+04  -0.529 0.596714    \n",
              "geo_property_zip_60418         -2.168e+04  3.090e+04  -0.702 0.482984    \n",
              "geo_property_zip_60419         -2.402e+04  2.688e+04  -0.894 0.371590    \n",
              "geo_property_zip_60422         -4.874e+04  2.602e+04  -1.873 0.061098 .  \n",
              "geo_property_zip_60425         -2.960e+04  2.991e+04  -0.990 0.322367    \n",
              "geo_property_zip_60426         -3.004e+04  3.057e+04  -0.983 0.325807    \n",
              "geo_property_zip_60428         -3.895e+04  3.098e+04  -1.257 0.208590    \n",
              "geo_property_zip_60429         -1.624e+04  2.666e+04  -0.609 0.542480    \n",
              "geo_property_zip_60430         -3.249e+04  2.329e+04  -1.395 0.163000    \n",
              "geo_property_zip_60438         -3.684e+04  2.299e+04  -1.602 0.109088    \n",
              "geo_property_zip_60439         -7.768e+03  2.200e+04  -0.353 0.723960    \n",
              "geo_property_zip_60443         -1.471e+04  2.418e+04  -0.608 0.542961    \n",
              "geo_property_zip_60445         -4.243e+04  2.519e+04  -1.684 0.092116 .  \n",
              "geo_property_zip_60452         -3.324e+04  2.257e+04  -1.472 0.140921    \n",
              "geo_property_zip_60453         -2.335e+04  2.121e+04  -1.101 0.271017    \n",
              "geo_property_zip_60455         -3.873e+04  3.033e+04  -1.277 0.201625    \n",
              "geo_property_zip_60456         -3.762e+04  3.071e+04  -1.225 0.220579    \n",
              "geo_property_zip_60457         -3.256e+04  2.871e+04  -1.134 0.256770    \n",
              "geo_property_zip_60458         -1.175e+04  3.182e+04  -0.369 0.711929    \n",
              "geo_property_zip_60459         -2.866e+04  2.325e+04  -1.233 0.217694    \n",
              "geo_property_zip_60461         -8.265e+04  2.998e+04  -2.757 0.005848 ** \n",
              "geo_property_zip_60462         -2.934e+04  2.109e+04  -1.392 0.164078    \n",
              "geo_property_zip_60463         -5.450e+04  2.606e+04  -2.092 0.036485 *  \n",
              "geo_property_zip_60464         -3.488e+04  2.547e+04  -1.369 0.170866    \n",
              "geo_property_zip_60465         -3.265e+04  2.575e+04  -1.268 0.204686    \n",
              "geo_property_zip_60466         -1.057e+05  3.142e+04  -3.365 0.000767 ***\n",
              "geo_property_zip_60467         -4.662e+04  2.161e+04  -2.158 0.030968 *  \n",
              "geo_property_zip_60469         -8.692e+03  3.725e+04  -0.233 0.815516    \n",
              "geo_property_zip_60471         -1.499e+04  2.623e+04  -0.571 0.567756    \n",
              "geo_property_zip_60472          3.608e+03  9.887e+04   0.036 0.970888    \n",
              "geo_property_zip_60473         -6.585e+03  2.479e+04  -0.266 0.790519    \n",
              "geo_property_zip_60475         -7.854e+02  3.911e+04  -0.020 0.983979    \n",
              "geo_property_zip_60476         -5.847e+04  5.558e+04  -1.052 0.292858    \n",
              "geo_property_zip_60477         -3.466e+04  2.102e+04  -1.649 0.099189 .  \n",
              "geo_property_zip_60478         -3.849e+04  2.620e+04  -1.469 0.141876    \n",
              "geo_property_zip_60480         -2.731e+04  2.880e+04  -0.948 0.343044    \n",
              "geo_property_zip_60482         -5.829e+04  2.883e+04  -2.022 0.043230 *  \n",
              "geo_property_zip_60487         -4.657e+04  2.216e+04  -2.101 0.035657 *  \n",
              "geo_property_zip_60501         -1.415e+04  2.941e+04  -0.481 0.630494    \n",
              "geo_property_zip_60513          9.627e+02  2.271e+04   0.042 0.966186    \n",
              "geo_property_zip_60521          7.034e+04  3.341e+04   2.105 0.035264 *  \n",
              "geo_property_zip_60525          2.914e+04  2.163e+04   1.347 0.177911    \n",
              "geo_property_zip_60526          3.120e+04  2.559e+04   1.219 0.222744    \n",
              "geo_property_zip_60527         -2.167e+04  3.204e+04  -0.676 0.498797    \n",
              "geo_property_zip_60534          4.416e+03  3.266e+04   0.135 0.892442    \n",
              "geo_property_zip_60546         -2.070e+03  2.298e+04  -0.090 0.928209    \n",
              "geo_property_zip_60558          6.580e+04  2.376e+04   2.769 0.005621 ** \n",
              "geo_property_zip_60605          7.161e+04  3.747e+04   1.911 0.055964 .  \n",
              "geo_property_zip_60607          1.570e+05  3.056e+04   5.136 2.83e-07 ***\n",
              "geo_property_zip_60608          8.248e+04  2.522e+04   3.270 0.001077 ** \n",
              "geo_property_zip_60609          2.072e+04  2.387e+04   0.868 0.385449    \n",
              "geo_property_zip_60610          1.699e+05  2.962e+04   5.738 9.73e-09 ***\n",
              "geo_property_zip_60611          3.147e+05  8.215e+04   3.830 0.000128 ***\n",
              "geo_property_zip_60612          8.689e+04  2.642e+04   3.289 0.001007 ** \n",
              "geo_property_zip_60613          1.046e+05  2.560e+04   4.086 4.41e-05 ***\n",
              "geo_property_zip_60614          2.939e+05  2.343e+04  12.544  < 2e-16 ***\n",
              "geo_property_zip_60615          8.644e+04  3.235e+04   2.672 0.007538 ** \n",
              "geo_property_zip_60616          7.832e+04  2.828e+04   2.770 0.005618 ** \n",
              "geo_property_zip_60617          3.071e+04  2.365e+04   1.298 0.194188    \n",
              "geo_property_zip_60618          1.007e+05  2.169e+04   4.645 3.43e-06 ***\n",
              "geo_property_zip_60619          2.317e+04  2.402e+04   0.965 0.334711    \n",
              "geo_property_zip_60620          2.609e+04  2.409e+04   1.083 0.278929    \n",
              "geo_property_zip_60621          6.151e+03  3.028e+04   0.203 0.839030    \n",
              "geo_property_zip_60622          1.783e+05  2.393e+04   7.450 9.77e-14 ***\n",
              "geo_property_zip_60623          1.152e+04  2.507e+04   0.460 0.645842    \n",
              "geo_property_zip_60624         -2.202e+04  2.849e+04  -0.773 0.439574    \n",
              "geo_property_zip_60625          9.020e+04  2.272e+04   3.971 7.19e-05 ***\n",
              "geo_property_zip_60626          5.121e+04  2.962e+04   1.729 0.083824 .  \n",
              "geo_property_zip_60628          1.963e+04  2.404e+04   0.817 0.414073    \n",
              "geo_property_zip_60629          2.163e+04  2.296e+04   0.942 0.346020    \n",
              "geo_property_zip_60630          2.148e+04  2.239e+04   0.959 0.337367    \n",
              "geo_property_zip_60631          1.559e+04  2.400e+04   0.649 0.516085    \n",
              "geo_property_zip_60632          3.748e+04  2.377e+04   1.577 0.114817    \n",
              "geo_property_zip_60633         -6.093e+03  3.124e+04  -0.195 0.845369    \n",
              "geo_property_zip_60634          6.964e+03  2.186e+04   0.319 0.750051    \n",
              "geo_property_zip_60636          2.215e+04  2.624e+04   0.844 0.398592    \n",
              "geo_property_zip_60637          3.465e+04  2.668e+04   1.299 0.193984    \n",
              "geo_property_zip_60638          1.712e+04  2.255e+04   0.759 0.447684    \n",
              "geo_property_zip_60639          3.981e+04  2.321e+04   1.715 0.086307 .  \n",
              "geo_property_zip_60640          1.113e+05  2.669e+04   4.171 3.05e-05 ***\n",
              "geo_property_zip_60641          4.876e+04  2.212e+04   2.205 0.027474 *  \n",
              "geo_property_zip_60642          1.542e+05  3.234e+04   4.767 1.88e-06 ***\n",
              "geo_property_zip_60643          6.893e+03  2.348e+04   0.294 0.769120    \n",
              "geo_property_zip_60644          3.784e+04  2.737e+04   1.383 0.166713    \n",
              "geo_property_zip_60645          2.491e+04  2.568e+04   0.970 0.332023    \n",
              "geo_property_zip_60646          1.860e+04  2.311e+04   0.805 0.420816    \n",
              "geo_property_zip_60647          1.420e+05  2.257e+04   6.292 3.21e-10 ***\n",
              "geo_property_zip_60649         -2.222e+04  2.677e+04  -0.830 0.406537    \n",
              "geo_property_zip_60651          4.481e+04  2.435e+04   1.840 0.065720 .  \n",
              "geo_property_zip_60652          3.662e+04  2.483e+04   1.475 0.140174    \n",
              "geo_property_zip_60653          8.852e+04  3.113e+04   2.844 0.004466 ** \n",
              "geo_property_zip_60654          9.120e+04  5.706e+04   1.598 0.110000    \n",
              "geo_property_zip_60655         -1.024e+04  2.426e+04  -0.422 0.672859    \n",
              "geo_property_zip_60656         -2.583e+03  2.606e+04  -0.099 0.921040    \n",
              "geo_property_zip_60657          8.177e+04  2.360e+04   3.465 0.000531 ***\n",
              "geo_property_zip_60659          2.422e+04  2.692e+04   0.899 0.368410    \n",
              "geo_property_zip_60660          3.723e+04  2.977e+04   1.250 0.211186    \n",
              "geo_property_zip_60706          2.179e+03  2.450e+04   0.089 0.929134    \n",
              "geo_property_zip_60707         -7.094e+03  2.121e+04  -0.335 0.737992    \n",
              "geo_property_zip_60712         -6.205e+03  2.750e+04  -0.226 0.821492    \n",
              "geo_property_zip_60714         -4.500e+03  2.388e+04  -0.188 0.850533    \n",
              "geo_property_zip_60803         -2.601e+04  2.512e+04  -1.036 0.300419    \n",
              "geo_property_zip_60804          1.284e+04  2.261e+04   0.568 0.570239    \n",
              "geo_property_zip_60805         -2.107e+04  2.480e+04  -0.850 0.395573    \n",
              "geo_property_zip_60827         -4.372e+04  3.097e+04  -1.412 0.157969    \n",
              "geo_property_zip_NA                    NA         NA      NA       NA    \n",
              "geo_ohare_noise_1               5.909e+03  1.183e+04   0.500 0.617343    \n",
              "geo_ohare_noise_NA                     NA         NA      NA       NA    \n",
              "geo_floodplain_1               -7.327e+03  1.046e+04  -0.700 0.483660    \n",
              "geo_floodplain_NA                      NA         NA      NA       NA    \n",
              "geo_fs_flood_risk_direction_0   1.004e+04  1.694e+04   0.593 0.553311    \n",
              "geo_fs_flood_risk_direction_1   6.032e+03  1.669e+04   0.361 0.717815    \n",
              "geo_fs_flood_risk_direction_NA         NA         NA      NA       NA    \n",
              "geo_withinmr100_1              -5.175e+04  1.280e+04  -4.043 5.31e-05 ***\n",
              "geo_withinmr100_NA                     NA         NA      NA       NA    \n",
              "geo_withinmr101300_1           -1.902e+04  4.414e+03  -4.309 1.65e-05 ***\n",
              "geo_withinmr101300_NA                  NA         NA      NA       NA    \n",
              "ind_large_home_TRUE                    NA         NA      NA       NA    \n",
              "ind_large_home_NA                      NA         NA      NA       NA    \n",
              "ind_garage_TRUE                        NA         NA      NA       NA    \n",
              "ind_garage_NA                          NA         NA      NA       NA    \n",
              "ind_arms_length_TRUE           -5.781e+04  1.024e+04  -5.643 1.69e-08 ***\n",
              "ind_arms_length_NA                     NA         NA      NA       NA    \n",
              "meta_nbhd                      -8.058e-02  2.170e-01  -0.371 0.710332    \n",
              "meta_certified_est_bldg         7.795e-01  8.172e-03  95.389  < 2e-16 ***\n",
              "meta_certified_est_land         1.523e+00  3.012e-02  50.570  < 2e-16 ***\n",
              "char_hd_sf                     -1.351e+00  1.144e-01 -11.816  < 2e-16 ***\n",
              "char_age                       -4.098e+02  6.463e+01  -6.340 2.35e-10 ***\n",
              "char_rooms                     -5.331e+03  9.481e+02  -5.624 1.90e-08 ***\n",
              "char_beds                      -4.411e+01  1.720e+03  -0.026 0.979535    \n",
              "char_frpl                       8.079e+03  2.061e+03   3.920 8.88e-05 ***\n",
              "char_fbath                      1.883e+04  2.153e+03   8.745  < 2e-16 ***\n",
              "char_hbath                      6.300e+03  2.211e+03   2.850 0.004381 ** \n",
              "char_ot_impr                   -3.362e-01  1.910e+00  -0.176 0.860305    \n",
              "char_bldg_sf                    2.950e+01  3.029e+00   9.738  < 2e-16 ***\n",
              "geo_tract_pop                  -7.615e-01  7.249e-01  -1.051 0.293490    \n",
              "geo_white_perc                  2.893e+05  3.899e+05   0.742 0.458093    \n",
              "geo_black_perc                  2.029e+05  3.904e+05   0.520 0.603226    \n",
              "geo_asian_perc                  2.173e+05  3.917e+05   0.555 0.579159    \n",
              "geo_his_perc                    2.216e+05  3.906e+05   0.567 0.570389    \n",
              "geo_other_perc                  2.470e+05  2.106e+05   1.172 0.241035    \n",
              "geo_fs_flood_factor            -6.957e+02  9.502e+02  -0.732 0.464091    \n",
              "econ_tax_rate                   3.767e+03  9.153e+02   4.115 3.88e-05 ***\n",
              "econ_midincome                  1.167e-01  6.374e-02   1.831 0.067115 .  \n",
              "---\n",
              "Signif. codes:  0 ‘***’ 0.001 ‘**’ 0.01 ‘*’ 0.05 ‘.’ 0.1 ‘ ’ 1\n",
              "\n",
              "Residual standard error: 136600 on 18046 degrees of freedom\n",
              "  (11700 observations deleted due to missingness)\n",
              "Multiple R-squared:  0.8719,\tAdjusted R-squared:  0.8701 \n",
              "F-statistic: 489.4 on 251 and 18046 DF,  p-value: < 2.2e-16\n"
            ]
          },
          "metadata": {}
        }
      ],
      "source": [
        "# summary table \n",
        "summary(lm_full) "
      ]
    },
    {
      "cell_type": "markdown",
      "metadata": {
        "id": "fDPA9GJT3wP4"
      },
      "source": [
        "### make predictions using lm"
      ]
    },
    {
      "cell_type": "code",
      "execution_count": null,
      "metadata": {
        "id": "LVlZ4oDK3z9R",
        "colab": {
          "base_uri": "https://localhost:8080/",
          "height": 69
        },
        "outputId": "02d4999b-e7fd-4cf4-f85c-3863c33f0e66"
      },
      "outputs": [
        {
          "output_type": "stream",
          "name": "stderr",
          "text": [
            "Warning message in predict.lm(lm_full, df_test):\n",
            "“prediction from a rank-deficient fit may be misleading”\n"
          ]
        },
        {
          "output_type": "display_data",
          "data": {
            "text/html": [
              "&lt;NA&gt;"
            ],
            "text/markdown": "&lt;NA&gt;",
            "text/latex": "<NA>",
            "text/plain": [
              "[1] NA"
            ]
          },
          "metadata": {}
        }
      ],
      "source": [
        "# make predictions on the test set\n",
        "lm_full_pred <- predict(lm_full, df_test)\n",
        "# MSE in the test set \n",
        "mean((df_test$sale_price-lm_full_pred)^2)"
      ]
    },
    {
      "cell_type": "markdown",
      "metadata": {
        "id": "CZ_dRkDZ32bv"
      },
      "source": [
        "## Linear regression with feature selection"
      ]
    },
    {
      "cell_type": "code",
      "execution_count": null,
      "metadata": {
        "id": "ueArIcuirIRk"
      },
      "outputs": [],
      "source": [
        "# use step() to run stepwise regression  \n",
        "lm_step <- step(lm_full, direction = \"both\")"
      ]
    },
    {
      "cell_type": "code",
      "execution_count": null,
      "metadata": {
        "id": "Xf3-GgthrMP6"
      },
      "outputs": [],
      "source": [
        "# summary table \n",
        "summary(lm_step) "
      ]
    },
    {
      "cell_type": "code",
      "execution_count": null,
      "metadata": {
        "id": "aZjXjpXsrM74"
      },
      "outputs": [],
      "source": [
        "# make predictions on the test set\n",
        "lm_step_pred <- predict(lm_step, df_test)\n",
        "# MSE in the test set \n",
        "mean((df_test$sale_price-lm_step_pred)^2)"
      ]
    },
    {
      "cell_type": "markdown",
      "metadata": {
        "id": "LTr8jie0CmbQ"
      },
      "source": [
        "# Random Forest"
      ]
    },
    {
      "cell_type": "markdown",
      "metadata": {
        "id": "qQ6K07_QCmbV"
      },
      "source": [
        "## Feature selection"
      ]
    },
    {
      "cell_type": "code",
      "execution_count": null,
      "metadata": {
        "id": "MGfwb5ceCmbV"
      },
      "outputs": [],
      "source": [
        "# Drop column names of the dataframe which starts with\n",
        "df_train_rf <- select(df_train,-starts_with(\"geo_property_zip\"))\n",
        "df_train_rf <- select(df_train_rf,-starts_with(\"char_cnst_qlty\"))"
      ]
    },
    {
      "cell_type": "code",
      "execution_count": null,
      "metadata": {
        "id": "XekARV5rCmbV"
      },
      "outputs": [],
      "source": [
        "# Drop column names of the dataframe which starts with\n",
        "df_test_rf <- select(df_test,-starts_with(\"geo_property_zip\"))\n",
        "df_test_rf <- select(df_test_rf,-starts_with(\"char_cnst_qlty\"))"
      ]
    },
    {
      "cell_type": "markdown",
      "metadata": {
        "id": "6q19OQk5CmbV"
      },
      "source": [
        "## fit the rf model"
      ]
    },
    {
      "cell_type": "code",
      "execution_count": null,
      "metadata": {
        "id": "s3EL-lSACmbV"
      },
      "outputs": [],
      "source": [
        "# install.packages('randomForest')\n",
        "library(randomForest)"
      ]
    },
    {
      "cell_type": "code",
      "execution_count": null,
      "metadata": {
        "id": "6cVK6JW-CmbV"
      },
      "outputs": [],
      "source": [
        "rf1 <- randomForest(sale_price ~ ., data = df_train_rf, ntree=50, norm.votes=FALSE, na.action = na.roughfix)\n",
        "rf2 <- randomForest(sale_price ~ ., data = df_train_rf, ntree=50, norm.votes=FALSE, na.action = na.roughfix)\n",
        "rf3 <- randomForest(sale_price ~ ., data = df_train_rf, ntree=50, norm.votes=FALSE, na.action = na.roughfix)\n",
        "rf4 <- randomForest(sale_price ~ ., data = df_train_rf, ntree=50, norm.votes=FALSE, na.action = na.roughfix)\n",
        "rf5 <- randomForest(sale_price ~ ., data = df_train_rf, ntree=50, norm.votes=FALSE, na.action = na.roughfix)\n",
        "rf.all <- combine(rf1, rf2, rf3, rf4, rf5)"
      ]
    },
    {
      "cell_type": "code",
      "execution_count": null,
      "metadata": {
        "id": "-bAp9a6ZCmbW"
      },
      "outputs": [],
      "source": [
        "# make predictions for records in the test set\n",
        "rf.all.predict <-predict(rf.all, df_test_rf)"
      ]
    },
    {
      "cell_type": "code",
      "execution_count": null,
      "metadata": {
        "id": "Ach5CIPbyYAs"
      },
      "outputs": [],
      "source": [
        "rf2.all.predict <-predict(rf2, df_test_rf)"
      ]
    },
    {
      "cell_type": "code",
      "execution_count": null,
      "metadata": {
        "colab": {
          "base_uri": "https://localhost:8080/"
        },
        "id": "-Q9Ciff6CmbW",
        "outputId": "277883c7-c53a-4606-d192-ffaf14f7aa1f"
      },
      "outputs": [
        {
          "output_type": "display_data",
          "data": {
            "text/plain": [
              "Plot with title “testing set”"
            ],
            "image/png": "[encoded data removed]"
          },
          "metadata": {
            "image/png": {
              "width": 420,
              "height": 420
            }
          }
        }
      ],
      "source": [
        "plot(df_test_rf$sale_price, rf.all.predict, main = 'testing set',\n",
        "    xlab = 'Sale Price', ylab = 'Predict')\n",
        "abline(1, 1)"
      ]
    },
    {
      "cell_type": "code",
      "execution_count": null,
      "metadata": {
        "id": "iYnDwm7uCmbW",
        "colab": {
          "base_uri": "https://localhost:8080/"
        },
        "outputId": "cc083ad3-8429-44d7-85ee-8296901b6eab"
      },
      "outputs": [
        {
          "output_type": "display_data",
          "data": {
            "text/html": [
              "&lt;NA&gt;"
            ],
            "text/markdown": "&lt;NA&gt;",
            "text/latex": "<NA>",
            "text/plain": [
              "[1] NA"
            ]
          },
          "metadata": {}
        },
        {
          "output_type": "display_data",
          "data": {
            "text/html": [
              "&lt;NA&gt;"
            ],
            "text/markdown": "&lt;NA&gt;",
            "text/latex": "<NA>",
            "text/plain": [
              "[1] NA"
            ]
          },
          "metadata": {}
        }
      ],
      "source": [
        "# Mean Squared Error\n",
        "mean((df_test_rf$sale_price- rf.all.predict)**2)\n",
        "# RMSE\n",
        "sqrt(mean((df_test_rf$sale_price- rf.all.predict)**2))"
      ]
    },
    {
      "cell_type": "markdown",
      "metadata": {
        "id": "dtZASzdjpsqL"
      },
      "source": [
        "## Use predict dataset"
      ]
    },
    {
      "cell_type": "code",
      "execution_count": null,
      "metadata": {
        "id": "U7HIjejRpsqR"
      },
      "outputs": [],
      "source": [
        "predict_rf <- predict"
      ]
    },
    {
      "cell_type": "code",
      "execution_count": null,
      "metadata": {
        "id": "WgxRTPXlpsqS"
      },
      "outputs": [],
      "source": [
        "# make predictions for records in the test set\n",
        "rf.predict <-predict(rf.all, predict_rf)"
      ]
    },
    {
      "cell_type": "code",
      "execution_count": null,
      "metadata": {
        "id": "Ca17qTKZpsqS"
      },
      "outputs": [],
      "source": [
        "rf.predict.frame <- as.data.frame(rf.predict)\n",
        "rf.predict.frame"
      ]
    },
    {
      "cell_type": "code",
      "execution_count": null,
      "metadata": {
        "id": "TlUN3w9Zot9g"
      },
      "outputs": [],
      "source": [
        "write.csv(rf.predict.frame,\"predict_rf.csv\", row.names = FALSE)"
      ]
    },
    {
      "cell_type": "code",
      "execution_count": null,
      "metadata": {
        "id": "n7glZG_Po5Zw"
      },
      "outputs": [],
      "source": [
        "predict_rf "
      ]
    },
    {
      "cell_type": "code",
      "execution_count": null,
      "metadata": {
        "id": "h96ENgKSpKN6"
      },
      "outputs": [],
      "source": [
        "summary(predict_rf[1])"
      ]
    },
    {
      "cell_type": "code",
      "source": [
        "library(ggplot2)\n",
        "library(dplyr)"
      ],
      "metadata": {
        "id": "3kcnS_1KIVVf"
      },
      "execution_count": null,
      "outputs": []
    },
    {
      "cell_type": "code",
      "source": [
        "ggplot(data = rf.predict.frame,aes(x=rf.predict)) +\n",
        "    geom_density(fill=\"#69b3a2\", color=\"#e9ecef\", alpha=0.8)"
      ],
      "metadata": {
        "id": "LHmxLkR4IV_J"
      },
      "execution_count": null,
      "outputs": []
    },
    {
      "cell_type": "markdown",
      "metadata": {
        "id": "uJFamfKzCmbX"
      },
      "source": [
        "## variable importance"
      ]
    },
    {
      "cell_type": "code",
      "execution_count": null,
      "metadata": {
        "id": "t-VgGsFwCmbX"
      },
      "outputs": [],
      "source": [
        "# feature selection\n",
        "#importance()\n",
        "importance_label <- data.frame(importance(rf.all), check.names = FALSE)\n",
        "head(importance_label)\n",
        " \n",
        "# top 30 variable importance plot\n",
        "varImpPlot(rf.all, n.var = min(30, nrow(rf.all$importance)),\n",
        "    main = 'Top 30 - variable importance')\n",
        "# %IncMSE: increase in mean squared error\n",
        "# IncNodePurity: increase in node purity"
      ]
    },
    {
      "cell_type": "code",
      "execution_count": null,
      "metadata": {
        "id": "4EixRk_ZCmbX"
      },
      "outputs": [],
      "source": [
        "# sort the variables according to \"IncNodePurity\" \n",
        "importance_label  <- importance_label[order(importance_label$IncNodePurity, decreasing = TRUE), ]\n",
        "head(importance_label)\n",
        " \n",
        "# summary table\n",
        "# write.table(importance_label, 'importance_label.txt', sep = '\\t', col.names = NA, quote = FALSE)"
      ]
    },
    {
      "cell_type": "markdown",
      "metadata": {
        "id": "dmc4FkQW0Eh0"
      },
      "source": [
        "# XGBoost"
      ]
    },
    {
      "cell_type": "markdown",
      "metadata": {
        "id": "kbL7ZJa10Qe3"
      },
      "source": [
        "## Feature selection"
      ]
    },
    {
      "cell_type": "code",
      "execution_count": null,
      "metadata": {
        "id": "U77QJipI0Pj1"
      },
      "outputs": [],
      "source": [
        "# Drop column names of the dataframe which starts with\n",
        "df_train_rf <- select(df_train,-starts_with(\"geo_property_zip\"))\n",
        "df_train_xgb <- select(df_train_rf,-starts_with(\"char_cnst_qlty\"))"
      ]
    },
    {
      "cell_type": "code",
      "execution_count": null,
      "metadata": {
        "id": "KQ_I2rmopdG-"
      },
      "outputs": [],
      "source": [
        "# Drop column names of the dataframe which starts with\n",
        "df_test_rf <- select(df_test,-starts_with(\"geo_property_zip\"))\n",
        "df_test_xgb <- select(df_test_rf,-starts_with(\"char_cnst_qlty\"))"
      ]
    },
    {
      "cell_type": "markdown",
      "metadata": {
        "id": "2xecLQ4K1JbQ"
      },
      "source": [
        "## fit the xgb model"
      ]
    },
    {
      "cell_type": "code",
      "execution_count": null,
      "metadata": {
        "id": "1dDY3XFy1siA"
      },
      "outputs": [],
      "source": [
        "# install.packages('xgboost')\n",
        "library(xgboost)"
      ]
    },
    {
      "cell_type": "code",
      "execution_count": null,
      "metadata": {
        "id": "WeFVAzigIKDo"
      },
      "outputs": [],
      "source": [
        "train_y_xgb <- as.data.frame(df_train_xgb$sale_price)                        \n",
        "colnames(train_y_xgb) <- \"sale_price\"                                    \n",
        "train_X_xgb <- df_train_xgb[, setdiff(colnames(df_train_xgb), c('sale_price'))]  \n",
        "dim(train_X_xgb)\n",
        "\n",
        "test_y_xgb <- as.data.frame(df_test_xgb$sale_price)                          \n",
        "colnames(test_y_xgb) <- \"sale_price\"                                    \n",
        "test_X_xgb <- df_test[, setdiff(colnames(df_test_xgb), c('sale_price'))]    \n",
        "dim(test_X_xgb)"
      ]
    },
    {
      "cell_type": "code",
      "execution_count": null,
      "metadata": {
        "id": "GvYntbmB0Abz"
      },
      "outputs": [],
      "source": [
        "m1_xgb <-\n",
        "  xgboost(\n",
        "    data = data.matrix(train_X_xgb),\n",
        "    label=df_train_xgb$sale_price,\n",
        "    nrounds = 1000,\n",
        "    objective = \"reg:squarederror\",\n",
        "    early_stopping_rounds = 3,\n",
        "    max_depth = 5,\n",
        "    eta = .24\n",
        "  )   "
      ]
    },
    {
      "cell_type": "code",
      "execution_count": null,
      "metadata": {
        "id": "9L4nMbft5Hsl"
      },
      "outputs": [],
      "source": [
        "pred_xgb <- predict(m1_xgb, data.matrix(test_X_xgb))"
      ]
    },
    {
      "cell_type": "code",
      "execution_count": null,
      "metadata": {
        "id": "y7lh02cR5JCh"
      },
      "outputs": [],
      "source": [
        "yhat <- pred_xgb\n",
        "y <- df_test_xgb[, 1]\n",
        "postResample(yhat, y)"
      ]
    },
    {
      "cell_type": "code",
      "execution_count": null,
      "metadata": {
        "id": "WCJY7exp5PMz"
      },
      "outputs": [],
      "source": [
        "r <- y - yhat\n",
        "plot(r, ylab = \"residuals\")"
      ]
    },
    {
      "cell_type": "code",
      "execution_count": null,
      "metadata": {
        "id": "OwKb-e370rkW"
      },
      "outputs": [],
      "source": [
        "plot(y,\n",
        "     yhat,\n",
        "     xlab = \"actual\",\n",
        "     ylab = \"predicted\")\n",
        "abline(lm(yhat ~ y))"
      ]
    },
    {
      "cell_type": "code",
      "execution_count": null,
      "metadata": {
        "id": "C1SQpGTv6SbQ"
      },
      "outputs": [],
      "source": [
        "# install.packages('DiagrammeR')\n",
        "library(DiagrammeR)"
      ]
    },
    {
      "cell_type": "code",
      "execution_count": null,
      "metadata": {
        "id": "J-Ip-tu45BTH"
      },
      "outputs": [],
      "source": [
        "#plot first 3 trees of model\n",
        "xgb.plot.tree(model = m1_xgb, trees = 0:2)\n",
        "\n",
        "importance_matrix <- xgb.importance(model = m1_xgb)\n",
        "xgb.plot.importance(importance_matrix, xlab = \"Feature Importance\")"
      ]
    },
    {
      "cell_type": "code",
      "execution_count": null,
      "metadata": {
        "id": "Ry1DOEdtD9os"
      },
      "outputs": [],
      "source": [
        "# Mean Squared Error\n",
        "mean((df_test_xgb$sale_price-pred_xgb)**2)\n",
        "# RMSE\n",
        "sqrt(mean((df_test_xgb$sale_price- pred_xgb)**2))"
      ]
    },
    {
      "cell_type": "markdown",
      "metadata": {
        "id": "F-BhNDEQKhCb"
      },
      "source": [
        "## Best parameter(optional)"
      ]
    },
    {
      "cell_type": "code",
      "execution_count": null,
      "metadata": {
        "id": "85D9dQKJ-FlP"
      },
      "outputs": [],
      "source": [
        "#create hyperparameter grid\n",
        "hyper_grid <- expand.grid(max_depth = seq(3, 6, 1), eta = seq(.2, .35, .01))  "
      ]
    },
    {
      "cell_type": "code",
      "execution_count": null,
      "metadata": {
        "id": "FBJy4YukN8c2"
      },
      "outputs": [],
      "source": [
        "for (j in 1:nrow(hyper_grid)) {\n",
        "  set.seed(123)\n",
        "  m_xgb_untuned <- xgb.cv(\n",
        "    data = data.matrix(train_X_xgb),\n",
        "    label=df_train_xgb$sale_price,\n",
        "    nrounds = 1000,\n",
        "    objective = \"reg:squarederror\",\n",
        "    early_stopping_rounds = 3,\n",
        "    nfold = 5,\n",
        "    max_depth = hyper_grid$max_depth[j],\n",
        "    eta = hyper_grid$eta[j]\n",
        "  )\n",
        "  \n",
        "  xgb_train_rmse[j] <- m_xgb_untuned$evaluation_log$train_rmse_mean[m_xgb_untuned$best_iteration]\n",
        "  xgb_test_rmse[j] <- m_xgb_untuned$evaluation_log$test_rmse_mean[m_xgb_untuned$best_iteration]\n",
        "  \n",
        "  cat(j, \"\\n\")\n",
        "}"
      ]
    },
    {
      "cell_type": "code",
      "execution_count": null,
      "metadata": {
        "id": "ZJlYuyJrOLpb"
      },
      "outputs": [],
      "source": [
        "#ideal hyperparamters\n",
        "hyper_grid[which.min(xgb_test_rmse), ]\n",
        "\n",
        "#max_depth  eta\n",
        "#5         0.24 "
      ]
    },
    {
      "cell_type": "markdown",
      "metadata": {
        "id": "yLiYYdQN-_UL"
      },
      "source": [
        "## Use predict dataset"
      ]
    },
    {
      "cell_type": "code",
      "execution_count": null,
      "metadata": {
        "id": "GqqgBvJQ_u4g"
      },
      "outputs": [],
      "source": [
        "predict_xgb <- predict"
      ]
    },
    {
      "cell_type": "code",
      "execution_count": null,
      "metadata": {
        "id": "maZ1-YG_EnXx"
      },
      "outputs": [],
      "source": [
        "# Drop column names of the dataframe which starts with\n",
        "predict_xgb <- select(predict_xgb,-starts_with(\"geo_property_zip\"))\n",
        "predict_xgb <- select(predict_xgb,-starts_with(\"char_cnst_qlty\"))"
      ]
    },
    {
      "cell_type": "code",
      "execution_count": null,
      "metadata": {
        "id": "6O4WrR4CAErh"
      },
      "outputs": [],
      "source": [
        "# make predictions for records in the predict set\n",
        "colnames(predict_xgb) <- NULL\n",
        "xgb.predict <-predict(m1_xgb, data.matrix(predict_xgb))"
      ]
    },
    {
      "cell_type": "code",
      "execution_count": null,
      "metadata": {
        "id": "o6cyfghVBFia"
      },
      "outputs": [],
      "source": [
        "xgb.predict.frame <- as.data.frame(xgb.predict)\n",
        "xgb.predict.frame"
      ]
    },
    {
      "cell_type": "markdown",
      "metadata": {
        "id": "z6mfGGKCjamU"
      },
      "source": [
        "# Neural Network"
      ]
    },
    {
      "cell_type": "markdown",
      "metadata": {
        "id": "Fo4VMd5TmBuM"
      },
      "source": [
        "##Install Package"
      ]
    },
    {
      "cell_type": "code",
      "execution_count": null,
      "metadata": {
        "id": "Nrbct7wqmGA0",
        "colab": {
          "base_uri": "https://localhost:8080/"
        },
        "outputId": "68354dda-215b-4df6-f21f-2e0adc74625a"
      },
      "outputs": [
        {
          "output_type": "stream",
          "name": "stderr",
          "text": [
            "Installing package into ‘/usr/local/lib/R/site-library’\n",
            "(as ‘lib’ is unspecified)\n",
            "\n",
            "also installing the dependency ‘Deriv’\n",
            "\n",
            "\n",
            "\n",
            "Attaching package: ‘neuralnet’\n",
            "\n",
            "\n",
            "The following object is masked from ‘package:dplyr’:\n",
            "\n",
            "    compute\n",
            "\n",
            "\n"
          ]
        }
      ],
      "source": [
        "install.packages('neuralnet')\n",
        "library(neuralnet)"
      ]
    },
    {
      "cell_type": "markdown",
      "metadata": {
        "id": "8zTPP4R4jj6A"
      },
      "source": [
        "## Normalization"
      ]
    },
    {
      "cell_type": "code",
      "execution_count": null,
      "metadata": {
        "id": "az8Rx5iXj2LA"
      },
      "outputs": [],
      "source": [
        "# Scale the data to the interval between zero and one\n",
        "# Normalize the numerical predictors and the outcome variable in the Training Data\n",
        "df_train_val <- preProcess(df_train, method=\"range\")    \n",
        "df_norm_train <- predict(df_train_val, df_train) \n",
        "\n",
        "# Normalize the numerical predictors and the outcome variable in the Test Data\n",
        "df_test_val <- preProcess(df_test, method=\"range\")    \n",
        "df_norm_test <- predict(df_test_val, df_test)"
      ]
    },
    {
      "cell_type": "markdown",
      "metadata": {
        "id": "xw1xzi8ukhCM"
      },
      "source": [
        "##Variables Selection"
      ]
    },
    {
      "cell_type": "code",
      "execution_count": null,
      "metadata": {
        "id": "ma5L-8e1kpxA",
        "colab": {
          "base_uri": "https://localhost:8080/"
        },
        "outputId": "aa649a5a-5ffa-4e3a-a045-aacc3896b268"
      },
      "outputs": [
        {
          "output_type": "display_data",
          "data": {
            "text/html": [
              "<style>\n",
              ".list-inline {list-style: none; margin:0; padding: 0}\n",
              ".list-inline>li {display: inline-block}\n",
              ".list-inline>li:not(:last-child)::after {content: \"\\00b7\"; padding: 0 .5ex}\n",
              "</style>\n",
              "<ol class=list-inline><li>'meta_class_203'</li><li>'meta_class_204'</li><li>'meta_class_205'</li><li>'meta_class_206'</li><li>'meta_class_207'</li><li>'meta_class_208'</li><li>'meta_class_209'</li><li>'meta_class_210'</li><li>'meta_class_211'</li><li>'meta_class_212'</li><li>'meta_class_234'</li><li>'meta_class_278'</li><li>'meta_class_295'</li><li>'meta_class_NA'</li><li>'meta_deed_type_T'</li><li>'meta_deed_type_W'</li><li>'meta_deed_type_NA'</li><li>'char_ext_wall_2'</li><li>'char_ext_wall_3'</li><li>'char_ext_wall_4'</li><li>'char_ext_wall_NA'</li><li>'char_roof_cnst_2'</li><li>'char_roof_cnst_3'</li><li>'char_roof_cnst_4'</li><li>'char_roof_cnst_5'</li><li>'char_roof_cnst_6'</li><li>'char_roof_cnst_NA'</li><li>'char_bsmt_2'</li><li>'char_bsmt_3'</li><li>'char_bsmt_4'</li><li>'char_bsmt_NA'</li><li>'char_bsmt_fin_2'</li><li>'char_bsmt_fin_3'</li><li>'char_bsmt_fin_NA'</li><li>'char_heat_2'</li><li>'char_heat_3'</li><li>'char_heat_4'</li><li>'char_heat_NA'</li><li>'char_oheat_5'</li><li>'char_oheat_NA'</li><li>'char_air_2'</li><li>'char_air_NA'</li><li>'char_attic_type_2'</li><li>'char_attic_type_3'</li><li>'char_attic_type_NA'</li><li>'char_tp_plan_2'</li><li>'char_tp_plan_NA'</li><li>'char_cnst_qlty_2'</li><li>'char_cnst_qlty_NA'</li><li>'char_site_2'</li><li>'char_site_3'</li><li>'char_site_NA'</li><li>'char_gar1_size_2'</li><li>'char_gar1_size_3'</li><li>'char_gar1_size_4'</li><li>'char_gar1_size_5'</li><li>'char_gar1_size_6'</li><li>'char_gar1_size_7'</li><li>'char_gar1_size_8'</li><li>'char_gar1_size_NA'</li><li>'char_gar1_cnst_2'</li><li>'char_gar1_cnst_3'</li><li>'char_gar1_cnst_4'</li><li>'char_gar1_cnst_NA'</li><li>'char_gar1_att_2'</li><li>'char_gar1_att_NA'</li><li>'char_gar1_area_2'</li><li>'char_gar1_area_NA'</li><li>'char_repair_cnd_2'</li><li>'char_repair_cnd_3'</li><li>'char_repair_cnd_NA'</li><li>'char_use_2'</li><li>'char_use_NA'</li><li>'char_type_resd_2'</li><li>'char_type_resd_3'</li><li>'char_type_resd_4'</li><li>'char_type_resd_5'</li><li>'char_type_resd_NA'</li><li>'geo_property_zip_60004'</li><li>'geo_property_zip_60005'</li><li>'geo_property_zip_60007'</li><li>'geo_property_zip_60008'</li><li>'geo_property_zip_60010'</li><li>'geo_property_zip_60016'</li><li>'geo_property_zip_60018'</li><li>'geo_property_zip_60022'</li><li>'geo_property_zip_60025'</li><li>'geo_property_zip_60026'</li><li>'geo_property_zip_60029'</li><li>'geo_property_zip_60043'</li><li>'geo_property_zip_60053'</li><li>'geo_property_zip_60056'</li><li>'geo_property_zip_60062'</li><li>'geo_property_zip_60067'</li><li>'geo_property_zip_60068'</li><li>'geo_property_zip_60070'</li><li>'geo_property_zip_60074'</li><li>'geo_property_zip_60076'</li><li>'geo_property_zip_60077'</li><li>'geo_property_zip_60089'</li><li>'geo_property_zip_60090'</li><li>'geo_property_zip_60091'</li><li>'geo_property_zip_60093'</li><li>'geo_property_zip_60103'</li><li>'geo_property_zip_60104'</li><li>'geo_property_zip_60107'</li><li>'geo_property_zip_60120'</li><li>'geo_property_zip_60126'</li><li>'geo_property_zip_60130'</li><li>'geo_property_zip_60131'</li><li>'geo_property_zip_60133'</li><li>'geo_property_zip_60153'</li><li>'geo_property_zip_60154'</li><li>'geo_property_zip_60155'</li><li>'geo_property_zip_60160'</li><li>'geo_property_zip_60162'</li><li>'geo_property_zip_60163'</li><li>'geo_property_zip_60164'</li><li>'geo_property_zip_60165'</li><li>'geo_property_zip_60169'</li><li>'geo_property_zip_60171'</li><li>'geo_property_zip_60172'</li><li>'geo_property_zip_60173'</li><li>'geo_property_zip_60176'</li><li>'geo_property_zip_60192'</li><li>'geo_property_zip_60193'</li><li>'geo_property_zip_60194'</li><li>'geo_property_zip_60195'</li><li>'geo_property_zip_60201'</li><li>'geo_property_zip_60202'</li><li>'geo_property_zip_60203'</li><li>'geo_property_zip_60301'</li><li>'geo_property_zip_60302'</li><li>'geo_property_zip_60304'</li><li>'geo_property_zip_60305'</li><li>'geo_property_zip_60402'</li><li>'geo_property_zip_60406'</li><li>'geo_property_zip_60409'</li><li>'geo_property_zip_60411'</li><li>'geo_property_zip_60415'</li><li>'geo_property_zip_60418'</li><li>'geo_property_zip_60419'</li><li>'geo_property_zip_60422'</li><li>'geo_property_zip_60425'</li><li>'geo_property_zip_60426'</li><li>'geo_property_zip_60428'</li><li>'geo_property_zip_60429'</li><li>'geo_property_zip_60430'</li><li>'geo_property_zip_60438'</li><li>'geo_property_zip_60439'</li><li>'geo_property_zip_60443'</li><li>'geo_property_zip_60445'</li><li>'geo_property_zip_60452'</li><li>'geo_property_zip_60453'</li><li>'geo_property_zip_60455'</li><li>'geo_property_zip_60456'</li><li>'geo_property_zip_60457'</li><li>'geo_property_zip_60458'</li><li>'geo_property_zip_60459'</li><li>'geo_property_zip_60461'</li><li>'geo_property_zip_60462'</li><li>'geo_property_zip_60463'</li><li>'geo_property_zip_60464'</li><li>'geo_property_zip_60465'</li><li>'geo_property_zip_60466'</li><li>'geo_property_zip_60467'</li><li>'geo_property_zip_60469'</li><li>'geo_property_zip_60471'</li><li>'geo_property_zip_60472'</li><li>'geo_property_zip_60473'</li><li>'geo_property_zip_60475'</li><li>'geo_property_zip_60476'</li><li>'geo_property_zip_60477'</li><li>'geo_property_zip_60478'</li><li>'geo_property_zip_60480'</li><li>'geo_property_zip_60482'</li><li>'geo_property_zip_60487'</li><li>'geo_property_zip_60501'</li><li>'geo_property_zip_60513'</li><li>'geo_property_zip_60521'</li><li>'geo_property_zip_60525'</li><li>'geo_property_zip_60526'</li><li>'geo_property_zip_60527'</li><li>'geo_property_zip_60534'</li><li>'geo_property_zip_60546'</li><li>'geo_property_zip_60558'</li><li>'geo_property_zip_60605'</li><li>'geo_property_zip_60607'</li><li>'geo_property_zip_60608'</li><li>'geo_property_zip_60609'</li><li>'geo_property_zip_60610'</li><li>'geo_property_zip_60611'</li><li>'geo_property_zip_60612'</li><li>'geo_property_zip_60613'</li><li>'geo_property_zip_60614'</li><li>'geo_property_zip_60615'</li><li>'geo_property_zip_60616'</li><li>'geo_property_zip_60617'</li><li>'geo_property_zip_60618'</li><li>'geo_property_zip_60619'</li><li>'geo_property_zip_60620'</li><li>'geo_property_zip_60621'</li><li>'geo_property_zip_60622'</li><li>'geo_property_zip_60623'</li><li>'geo_property_zip_60624'</li><li>'geo_property_zip_60625'</li><li>'geo_property_zip_60626'</li><li>'geo_property_zip_60628'</li><li>'geo_property_zip_60629'</li><li>'geo_property_zip_60630'</li><li>'geo_property_zip_60631'</li><li>'geo_property_zip_60632'</li><li>'geo_property_zip_60633'</li><li>'geo_property_zip_60634'</li><li>'geo_property_zip_60636'</li><li>'geo_property_zip_60637'</li><li>'geo_property_zip_60638'</li><li>'geo_property_zip_60639'</li><li>'geo_property_zip_60640'</li><li>'geo_property_zip_60641'</li><li>'geo_property_zip_60642'</li><li>'geo_property_zip_60643'</li><li>'geo_property_zip_60644'</li><li>'geo_property_zip_60645'</li><li>'geo_property_zip_60646'</li><li>'geo_property_zip_60647'</li><li>'geo_property_zip_60649'</li><li>'geo_property_zip_60651'</li><li>'geo_property_zip_60652'</li><li>'geo_property_zip_60653'</li><li>'geo_property_zip_60654'</li><li>'geo_property_zip_60655'</li><li>'geo_property_zip_60656'</li><li>'geo_property_zip_60657'</li><li>'geo_property_zip_60659'</li><li>'geo_property_zip_60660'</li><li>'geo_property_zip_60706'</li><li>'geo_property_zip_60707'</li><li>'geo_property_zip_60712'</li><li>'geo_property_zip_60714'</li><li>'geo_property_zip_60803'</li><li>'geo_property_zip_60804'</li><li>'geo_property_zip_60805'</li><li>'geo_property_zip_60827'</li><li>'geo_property_zip_NA'</li><li>'geo_ohare_noise_1'</li><li>'geo_ohare_noise_NA'</li><li>'geo_floodplain_1'</li><li>'geo_floodplain_NA'</li><li>'geo_fs_flood_risk_direction_0'</li><li>'geo_fs_flood_risk_direction_1'</li><li>'geo_fs_flood_risk_direction_NA'</li><li>'geo_withinmr100_1'</li><li>'geo_withinmr100_NA'</li><li>'geo_withinmr101300_1'</li><li>'geo_withinmr101300_NA'</li><li>'ind_large_home_TRUE'</li><li>'ind_large_home_NA'</li><li>'ind_garage_TRUE'</li><li>'ind_garage_NA'</li><li>'ind_arms_length_TRUE'</li><li>'ind_arms_length_NA'</li><li>'sale_price'</li><li>'meta_nbhd'</li><li>'meta_certified_est_bldg'</li><li>'meta_certified_est_land'</li><li>'char_hd_sf'</li><li>'char_age'</li><li>'char_rooms'</li><li>'char_beds'</li><li>'char_frpl'</li><li>'char_fbath'</li><li>'char_hbath'</li><li>'char_ot_impr'</li><li>'char_bldg_sf'</li><li>'geo_tract_pop'</li><li>'geo_white_perc'</li><li>'geo_black_perc'</li><li>'geo_asian_perc'</li><li>'geo_his_perc'</li><li>'geo_other_perc'</li><li>'geo_fs_flood_factor'</li><li>'econ_tax_rate'</li><li>'econ_midincome'</li></ol>\n"
            ],
            "text/markdown": "1. 'meta_class_203'\n2. 'meta_class_204'\n3. 'meta_class_205'\n4. 'meta_class_206'\n5. 'meta_class_207'\n6. 'meta_class_208'\n7. 'meta_class_209'\n8. 'meta_class_210'\n9. 'meta_class_211'\n10. 'meta_class_212'\n11. 'meta_class_234'\n12. 'meta_class_278'\n13. 'meta_class_295'\n14. 'meta_class_NA'\n15. 'meta_deed_type_T'\n16. 'meta_deed_type_W'\n17. 'meta_deed_type_NA'\n18. 'char_ext_wall_2'\n19. 'char_ext_wall_3'\n20. 'char_ext_wall_4'\n21. 'char_ext_wall_NA'\n22. 'char_roof_cnst_2'\n23. 'char_roof_cnst_3'\n24. 'char_roof_cnst_4'\n25. 'char_roof_cnst_5'\n26. 'char_roof_cnst_6'\n27. 'char_roof_cnst_NA'\n28. 'char_bsmt_2'\n29. 'char_bsmt_3'\n30. 'char_bsmt_4'\n31. 'char_bsmt_NA'\n32. 'char_bsmt_fin_2'\n33. 'char_bsmt_fin_3'\n34. 'char_bsmt_fin_NA'\n35. 'char_heat_2'\n36. 'char_heat_3'\n37. 'char_heat_4'\n38. 'char_heat_NA'\n39. 'char_oheat_5'\n40. 'char_oheat_NA'\n41. 'char_air_2'\n42. 'char_air_NA'\n43. 'char_attic_type_2'\n44. 'char_attic_type_3'\n45. 'char_attic_type_NA'\n46. 'char_tp_plan_2'\n47. 'char_tp_plan_NA'\n48. 'char_cnst_qlty_2'\n49. 'char_cnst_qlty_NA'\n50. 'char_site_2'\n51. 'char_site_3'\n52. 'char_site_NA'\n53. 'char_gar1_size_2'\n54. 'char_gar1_size_3'\n55. 'char_gar1_size_4'\n56. 'char_gar1_size_5'\n57. 'char_gar1_size_6'\n58. 'char_gar1_size_7'\n59. 'char_gar1_size_8'\n60. 'char_gar1_size_NA'\n61. 'char_gar1_cnst_2'\n62. 'char_gar1_cnst_3'\n63. 'char_gar1_cnst_4'\n64. 'char_gar1_cnst_NA'\n65. 'char_gar1_att_2'\n66. 'char_gar1_att_NA'\n67. 'char_gar1_area_2'\n68. 'char_gar1_area_NA'\n69. 'char_repair_cnd_2'\n70. 'char_repair_cnd_3'\n71. 'char_repair_cnd_NA'\n72. 'char_use_2'\n73. 'char_use_NA'\n74. 'char_type_resd_2'\n75. 'char_type_resd_3'\n76. 'char_type_resd_4'\n77. 'char_type_resd_5'\n78. 'char_type_resd_NA'\n79. 'geo_property_zip_60004'\n80. 'geo_property_zip_60005'\n81. 'geo_property_zip_60007'\n82. 'geo_property_zip_60008'\n83. 'geo_property_zip_60010'\n84. 'geo_property_zip_60016'\n85. 'geo_property_zip_60018'\n86. 'geo_property_zip_60022'\n87. 'geo_property_zip_60025'\n88. 'geo_property_zip_60026'\n89. 'geo_property_zip_60029'\n90. 'geo_property_zip_60043'\n91. 'geo_property_zip_60053'\n92. 'geo_property_zip_60056'\n93. 'geo_property_zip_60062'\n94. 'geo_property_zip_60067'\n95. 'geo_property_zip_60068'\n96. 'geo_property_zip_60070'\n97. 'geo_property_zip_60074'\n98. 'geo_property_zip_60076'\n99. 'geo_property_zip_60077'\n100. 'geo_property_zip_60089'\n101. 'geo_property_zip_60090'\n102. 'geo_property_zip_60091'\n103. 'geo_property_zip_60093'\n104. 'geo_property_zip_60103'\n105. 'geo_property_zip_60104'\n106. 'geo_property_zip_60107'\n107. 'geo_property_zip_60120'\n108. 'geo_property_zip_60126'\n109. 'geo_property_zip_60130'\n110. 'geo_property_zip_60131'\n111. 'geo_property_zip_60133'\n112. 'geo_property_zip_60153'\n113. 'geo_property_zip_60154'\n114. 'geo_property_zip_60155'\n115. 'geo_property_zip_60160'\n116. 'geo_property_zip_60162'\n117. 'geo_property_zip_60163'\n118. 'geo_property_zip_60164'\n119. 'geo_property_zip_60165'\n120. 'geo_property_zip_60169'\n121. 'geo_property_zip_60171'\n122. 'geo_property_zip_60172'\n123. 'geo_property_zip_60173'\n124. 'geo_property_zip_60176'\n125. 'geo_property_zip_60192'\n126. 'geo_property_zip_60193'\n127. 'geo_property_zip_60194'\n128. 'geo_property_zip_60195'\n129. 'geo_property_zip_60201'\n130. 'geo_property_zip_60202'\n131. 'geo_property_zip_60203'\n132. 'geo_property_zip_60301'\n133. 'geo_property_zip_60302'\n134. 'geo_property_zip_60304'\n135. 'geo_property_zip_60305'\n136. 'geo_property_zip_60402'\n137. 'geo_property_zip_60406'\n138. 'geo_property_zip_60409'\n139. 'geo_property_zip_60411'\n140. 'geo_property_zip_60415'\n141. 'geo_property_zip_60418'\n142. 'geo_property_zip_60419'\n143. 'geo_property_zip_60422'\n144. 'geo_property_zip_60425'\n145. 'geo_property_zip_60426'\n146. 'geo_property_zip_60428'\n147. 'geo_property_zip_60429'\n148. 'geo_property_zip_60430'\n149. 'geo_property_zip_60438'\n150. 'geo_property_zip_60439'\n151. 'geo_property_zip_60443'\n152. 'geo_property_zip_60445'\n153. 'geo_property_zip_60452'\n154. 'geo_property_zip_60453'\n155. 'geo_property_zip_60455'\n156. 'geo_property_zip_60456'\n157. 'geo_property_zip_60457'\n158. 'geo_property_zip_60458'\n159. 'geo_property_zip_60459'\n160. 'geo_property_zip_60461'\n161. 'geo_property_zip_60462'\n162. 'geo_property_zip_60463'\n163. 'geo_property_zip_60464'\n164. 'geo_property_zip_60465'\n165. 'geo_property_zip_60466'\n166. 'geo_property_zip_60467'\n167. 'geo_property_zip_60469'\n168. 'geo_property_zip_60471'\n169. 'geo_property_zip_60472'\n170. 'geo_property_zip_60473'\n171. 'geo_property_zip_60475'\n172. 'geo_property_zip_60476'\n173. 'geo_property_zip_60477'\n174. 'geo_property_zip_60478'\n175. 'geo_property_zip_60480'\n176. 'geo_property_zip_60482'\n177. 'geo_property_zip_60487'\n178. 'geo_property_zip_60501'\n179. 'geo_property_zip_60513'\n180. 'geo_property_zip_60521'\n181. 'geo_property_zip_60525'\n182. 'geo_property_zip_60526'\n183. 'geo_property_zip_60527'\n184. 'geo_property_zip_60534'\n185. 'geo_property_zip_60546'\n186. 'geo_property_zip_60558'\n187. 'geo_property_zip_60605'\n188. 'geo_property_zip_60607'\n189. 'geo_property_zip_60608'\n190. 'geo_property_zip_60609'\n191. 'geo_property_zip_60610'\n192. 'geo_property_zip_60611'\n193. 'geo_property_zip_60612'\n194. 'geo_property_zip_60613'\n195. 'geo_property_zip_60614'\n196. 'geo_property_zip_60615'\n197. 'geo_property_zip_60616'\n198. 'geo_property_zip_60617'\n199. 'geo_property_zip_60618'\n200. 'geo_property_zip_60619'\n201. 'geo_property_zip_60620'\n202. 'geo_property_zip_60621'\n203. 'geo_property_zip_60622'\n204. 'geo_property_zip_60623'\n205. 'geo_property_zip_60624'\n206. 'geo_property_zip_60625'\n207. 'geo_property_zip_60626'\n208. 'geo_property_zip_60628'\n209. 'geo_property_zip_60629'\n210. 'geo_property_zip_60630'\n211. 'geo_property_zip_60631'\n212. 'geo_property_zip_60632'\n213. 'geo_property_zip_60633'\n214. 'geo_property_zip_60634'\n215. 'geo_property_zip_60636'\n216. 'geo_property_zip_60637'\n217. 'geo_property_zip_60638'\n218. 'geo_property_zip_60639'\n219. 'geo_property_zip_60640'\n220. 'geo_property_zip_60641'\n221. 'geo_property_zip_60642'\n222. 'geo_property_zip_60643'\n223. 'geo_property_zip_60644'\n224. 'geo_property_zip_60645'\n225. 'geo_property_zip_60646'\n226. 'geo_property_zip_60647'\n227. 'geo_property_zip_60649'\n228. 'geo_property_zip_60651'\n229. 'geo_property_zip_60652'\n230. 'geo_property_zip_60653'\n231. 'geo_property_zip_60654'\n232. 'geo_property_zip_60655'\n233. 'geo_property_zip_60656'\n234. 'geo_property_zip_60657'\n235. 'geo_property_zip_60659'\n236. 'geo_property_zip_60660'\n237. 'geo_property_zip_60706'\n238. 'geo_property_zip_60707'\n239. 'geo_property_zip_60712'\n240. 'geo_property_zip_60714'\n241. 'geo_property_zip_60803'\n242. 'geo_property_zip_60804'\n243. 'geo_property_zip_60805'\n244. 'geo_property_zip_60827'\n245. 'geo_property_zip_NA'\n246. 'geo_ohare_noise_1'\n247. 'geo_ohare_noise_NA'\n248. 'geo_floodplain_1'\n249. 'geo_floodplain_NA'\n250. 'geo_fs_flood_risk_direction_0'\n251. 'geo_fs_flood_risk_direction_1'\n252. 'geo_fs_flood_risk_direction_NA'\n253. 'geo_withinmr100_1'\n254. 'geo_withinmr100_NA'\n255. 'geo_withinmr101300_1'\n256. 'geo_withinmr101300_NA'\n257. 'ind_large_home_TRUE'\n258. 'ind_large_home_NA'\n259. 'ind_garage_TRUE'\n260. 'ind_garage_NA'\n261. 'ind_arms_length_TRUE'\n262. 'ind_arms_length_NA'\n263. 'sale_price'\n264. 'meta_nbhd'\n265. 'meta_certified_est_bldg'\n266. 'meta_certified_est_land'\n267. 'char_hd_sf'\n268. 'char_age'\n269. 'char_rooms'\n270. 'char_beds'\n271. 'char_frpl'\n272. 'char_fbath'\n273. 'char_hbath'\n274. 'char_ot_impr'\n275. 'char_bldg_sf'\n276. 'geo_tract_pop'\n277. 'geo_white_perc'\n278. 'geo_black_perc'\n279. 'geo_asian_perc'\n280. 'geo_his_perc'\n281. 'geo_other_perc'\n282. 'geo_fs_flood_factor'\n283. 'econ_tax_rate'\n284. 'econ_midincome'\n\n\n",
            "text/latex": "\\begin{enumerate*}\n\\item 'meta\\_class\\_203'\n\\item 'meta\\_class\\_204'\n\\item 'meta\\_class\\_205'\n\\item 'meta\\_class\\_206'\n\\item 'meta\\_class\\_207'\n\\item 'meta\\_class\\_208'\n\\item 'meta\\_class\\_209'\n\\item 'meta\\_class\\_210'\n\\item 'meta\\_class\\_211'\n\\item 'meta\\_class\\_212'\n\\item 'meta\\_class\\_234'\n\\item 'meta\\_class\\_278'\n\\item 'meta\\_class\\_295'\n\\item 'meta\\_class\\_NA'\n\\item 'meta\\_deed\\_type\\_T'\n\\item 'meta\\_deed\\_type\\_W'\n\\item 'meta\\_deed\\_type\\_NA'\n\\item 'char\\_ext\\_wall\\_2'\n\\item 'char\\_ext\\_wall\\_3'\n\\item 'char\\_ext\\_wall\\_4'\n\\item 'char\\_ext\\_wall\\_NA'\n\\item 'char\\_roof\\_cnst\\_2'\n\\item 'char\\_roof\\_cnst\\_3'\n\\item 'char\\_roof\\_cnst\\_4'\n\\item 'char\\_roof\\_cnst\\_5'\n\\item 'char\\_roof\\_cnst\\_6'\n\\item 'char\\_roof\\_cnst\\_NA'\n\\item 'char\\_bsmt\\_2'\n\\item 'char\\_bsmt\\_3'\n\\item 'char\\_bsmt\\_4'\n\\item 'char\\_bsmt\\_NA'\n\\item 'char\\_bsmt\\_fin\\_2'\n\\item 'char\\_bsmt\\_fin\\_3'\n\\item 'char\\_bsmt\\_fin\\_NA'\n\\item 'char\\_heat\\_2'\n\\item 'char\\_heat\\_3'\n\\item 'char\\_heat\\_4'\n\\item 'char\\_heat\\_NA'\n\\item 'char\\_oheat\\_5'\n\\item 'char\\_oheat\\_NA'\n\\item 'char\\_air\\_2'\n\\item 'char\\_air\\_NA'\n\\item 'char\\_attic\\_type\\_2'\n\\item 'char\\_attic\\_type\\_3'\n\\item 'char\\_attic\\_type\\_NA'\n\\item 'char\\_tp\\_plan\\_2'\n\\item 'char\\_tp\\_plan\\_NA'\n\\item 'char\\_cnst\\_qlty\\_2'\n\\item 'char\\_cnst\\_qlty\\_NA'\n\\item 'char\\_site\\_2'\n\\item 'char\\_site\\_3'\n\\item 'char\\_site\\_NA'\n\\item 'char\\_gar1\\_size\\_2'\n\\item 'char\\_gar1\\_size\\_3'\n\\item 'char\\_gar1\\_size\\_4'\n\\item 'char\\_gar1\\_size\\_5'\n\\item 'char\\_gar1\\_size\\_6'\n\\item 'char\\_gar1\\_size\\_7'\n\\item 'char\\_gar1\\_size\\_8'\n\\item 'char\\_gar1\\_size\\_NA'\n\\item 'char\\_gar1\\_cnst\\_2'\n\\item 'char\\_gar1\\_cnst\\_3'\n\\item 'char\\_gar1\\_cnst\\_4'\n\\item 'char\\_gar1\\_cnst\\_NA'\n\\item 'char\\_gar1\\_att\\_2'\n\\item 'char\\_gar1\\_att\\_NA'\n\\item 'char\\_gar1\\_area\\_2'\n\\item 'char\\_gar1\\_area\\_NA'\n\\item 'char\\_repair\\_cnd\\_2'\n\\item 'char\\_repair\\_cnd\\_3'\n\\item 'char\\_repair\\_cnd\\_NA'\n\\item 'char\\_use\\_2'\n\\item 'char\\_use\\_NA'\n\\item 'char\\_type\\_resd\\_2'\n\\item 'char\\_type\\_resd\\_3'\n\\item 'char\\_type\\_resd\\_4'\n\\item 'char\\_type\\_resd\\_5'\n\\item 'char\\_type\\_resd\\_NA'\n\\item 'geo\\_property\\_zip\\_60004'\n\\item 'geo\\_property\\_zip\\_60005'\n\\item 'geo\\_property\\_zip\\_60007'\n\\item 'geo\\_property\\_zip\\_60008'\n\\item 'geo\\_property\\_zip\\_60010'\n\\item 'geo\\_property\\_zip\\_60016'\n\\item 'geo\\_property\\_zip\\_60018'\n\\item 'geo\\_property\\_zip\\_60022'\n\\item 'geo\\_property\\_zip\\_60025'\n\\item 'geo\\_property\\_zip\\_60026'\n\\item 'geo\\_property\\_zip\\_60029'\n\\item 'geo\\_property\\_zip\\_60043'\n\\item 'geo\\_property\\_zip\\_60053'\n\\item 'geo\\_property\\_zip\\_60056'\n\\item 'geo\\_property\\_zip\\_60062'\n\\item 'geo\\_property\\_zip\\_60067'\n\\item 'geo\\_property\\_zip\\_60068'\n\\item 'geo\\_property\\_zip\\_60070'\n\\item 'geo\\_property\\_zip\\_60074'\n\\item 'geo\\_property\\_zip\\_60076'\n\\item 'geo\\_property\\_zip\\_60077'\n\\item 'geo\\_property\\_zip\\_60089'\n\\item 'geo\\_property\\_zip\\_60090'\n\\item 'geo\\_property\\_zip\\_60091'\n\\item 'geo\\_property\\_zip\\_60093'\n\\item 'geo\\_property\\_zip\\_60103'\n\\item 'geo\\_property\\_zip\\_60104'\n\\item 'geo\\_property\\_zip\\_60107'\n\\item 'geo\\_property\\_zip\\_60120'\n\\item 'geo\\_property\\_zip\\_60126'\n\\item 'geo\\_property\\_zip\\_60130'\n\\item 'geo\\_property\\_zip\\_60131'\n\\item 'geo\\_property\\_zip\\_60133'\n\\item 'geo\\_property\\_zip\\_60153'\n\\item 'geo\\_property\\_zip\\_60154'\n\\item 'geo\\_property\\_zip\\_60155'\n\\item 'geo\\_property\\_zip\\_60160'\n\\item 'geo\\_property\\_zip\\_60162'\n\\item 'geo\\_property\\_zip\\_60163'\n\\item 'geo\\_property\\_zip\\_60164'\n\\item 'geo\\_property\\_zip\\_60165'\n\\item 'geo\\_property\\_zip\\_60169'\n\\item 'geo\\_property\\_zip\\_60171'\n\\item 'geo\\_property\\_zip\\_60172'\n\\item 'geo\\_property\\_zip\\_60173'\n\\item 'geo\\_property\\_zip\\_60176'\n\\item 'geo\\_property\\_zip\\_60192'\n\\item 'geo\\_property\\_zip\\_60193'\n\\item 'geo\\_property\\_zip\\_60194'\n\\item 'geo\\_property\\_zip\\_60195'\n\\item 'geo\\_property\\_zip\\_60201'\n\\item 'geo\\_property\\_zip\\_60202'\n\\item 'geo\\_property\\_zip\\_60203'\n\\item 'geo\\_property\\_zip\\_60301'\n\\item 'geo\\_property\\_zip\\_60302'\n\\item 'geo\\_property\\_zip\\_60304'\n\\item 'geo\\_property\\_zip\\_60305'\n\\item 'geo\\_property\\_zip\\_60402'\n\\item 'geo\\_property\\_zip\\_60406'\n\\item 'geo\\_property\\_zip\\_60409'\n\\item 'geo\\_property\\_zip\\_60411'\n\\item 'geo\\_property\\_zip\\_60415'\n\\item 'geo\\_property\\_zip\\_60418'\n\\item 'geo\\_property\\_zip\\_60419'\n\\item 'geo\\_property\\_zip\\_60422'\n\\item 'geo\\_property\\_zip\\_60425'\n\\item 'geo\\_property\\_zip\\_60426'\n\\item 'geo\\_property\\_zip\\_60428'\n\\item 'geo\\_property\\_zip\\_60429'\n\\item 'geo\\_property\\_zip\\_60430'\n\\item 'geo\\_property\\_zip\\_60438'\n\\item 'geo\\_property\\_zip\\_60439'\n\\item 'geo\\_property\\_zip\\_60443'\n\\item 'geo\\_property\\_zip\\_60445'\n\\item 'geo\\_property\\_zip\\_60452'\n\\item 'geo\\_property\\_zip\\_60453'\n\\item 'geo\\_property\\_zip\\_60455'\n\\item 'geo\\_property\\_zip\\_60456'\n\\item 'geo\\_property\\_zip\\_60457'\n\\item 'geo\\_property\\_zip\\_60458'\n\\item 'geo\\_property\\_zip\\_60459'\n\\item 'geo\\_property\\_zip\\_60461'\n\\item 'geo\\_property\\_zip\\_60462'\n\\item 'geo\\_property\\_zip\\_60463'\n\\item 'geo\\_property\\_zip\\_60464'\n\\item 'geo\\_property\\_zip\\_60465'\n\\item 'geo\\_property\\_zip\\_60466'\n\\item 'geo\\_property\\_zip\\_60467'\n\\item 'geo\\_property\\_zip\\_60469'\n\\item 'geo\\_property\\_zip\\_60471'\n\\item 'geo\\_property\\_zip\\_60472'\n\\item 'geo\\_property\\_zip\\_60473'\n\\item 'geo\\_property\\_zip\\_60475'\n\\item 'geo\\_property\\_zip\\_60476'\n\\item 'geo\\_property\\_zip\\_60477'\n\\item 'geo\\_property\\_zip\\_60478'\n\\item 'geo\\_property\\_zip\\_60480'\n\\item 'geo\\_property\\_zip\\_60482'\n\\item 'geo\\_property\\_zip\\_60487'\n\\item 'geo\\_property\\_zip\\_60501'\n\\item 'geo\\_property\\_zip\\_60513'\n\\item 'geo\\_property\\_zip\\_60521'\n\\item 'geo\\_property\\_zip\\_60525'\n\\item 'geo\\_property\\_zip\\_60526'\n\\item 'geo\\_property\\_zip\\_60527'\n\\item 'geo\\_property\\_zip\\_60534'\n\\item 'geo\\_property\\_zip\\_60546'\n\\item 'geo\\_property\\_zip\\_60558'\n\\item 'geo\\_property\\_zip\\_60605'\n\\item 'geo\\_property\\_zip\\_60607'\n\\item 'geo\\_property\\_zip\\_60608'\n\\item 'geo\\_property\\_zip\\_60609'\n\\item 'geo\\_property\\_zip\\_60610'\n\\item 'geo\\_property\\_zip\\_60611'\n\\item 'geo\\_property\\_zip\\_60612'\n\\item 'geo\\_property\\_zip\\_60613'\n\\item 'geo\\_property\\_zip\\_60614'\n\\item 'geo\\_property\\_zip\\_60615'\n\\item 'geo\\_property\\_zip\\_60616'\n\\item 'geo\\_property\\_zip\\_60617'\n\\item 'geo\\_property\\_zip\\_60618'\n\\item 'geo\\_property\\_zip\\_60619'\n\\item 'geo\\_property\\_zip\\_60620'\n\\item 'geo\\_property\\_zip\\_60621'\n\\item 'geo\\_property\\_zip\\_60622'\n\\item 'geo\\_property\\_zip\\_60623'\n\\item 'geo\\_property\\_zip\\_60624'\n\\item 'geo\\_property\\_zip\\_60625'\n\\item 'geo\\_property\\_zip\\_60626'\n\\item 'geo\\_property\\_zip\\_60628'\n\\item 'geo\\_property\\_zip\\_60629'\n\\item 'geo\\_property\\_zip\\_60630'\n\\item 'geo\\_property\\_zip\\_60631'\n\\item 'geo\\_property\\_zip\\_60632'\n\\item 'geo\\_property\\_zip\\_60633'\n\\item 'geo\\_property\\_zip\\_60634'\n\\item 'geo\\_property\\_zip\\_60636'\n\\item 'geo\\_property\\_zip\\_60637'\n\\item 'geo\\_property\\_zip\\_60638'\n\\item 'geo\\_property\\_zip\\_60639'\n\\item 'geo\\_property\\_zip\\_60640'\n\\item 'geo\\_property\\_zip\\_60641'\n\\item 'geo\\_property\\_zip\\_60642'\n\\item 'geo\\_property\\_zip\\_60643'\n\\item 'geo\\_property\\_zip\\_60644'\n\\item 'geo\\_property\\_zip\\_60645'\n\\item 'geo\\_property\\_zip\\_60646'\n\\item 'geo\\_property\\_zip\\_60647'\n\\item 'geo\\_property\\_zip\\_60649'\n\\item 'geo\\_property\\_zip\\_60651'\n\\item 'geo\\_property\\_zip\\_60652'\n\\item 'geo\\_property\\_zip\\_60653'\n\\item 'geo\\_property\\_zip\\_60654'\n\\item 'geo\\_property\\_zip\\_60655'\n\\item 'geo\\_property\\_zip\\_60656'\n\\item 'geo\\_property\\_zip\\_60657'\n\\item 'geo\\_property\\_zip\\_60659'\n\\item 'geo\\_property\\_zip\\_60660'\n\\item 'geo\\_property\\_zip\\_60706'\n\\item 'geo\\_property\\_zip\\_60707'\n\\item 'geo\\_property\\_zip\\_60712'\n\\item 'geo\\_property\\_zip\\_60714'\n\\item 'geo\\_property\\_zip\\_60803'\n\\item 'geo\\_property\\_zip\\_60804'\n\\item 'geo\\_property\\_zip\\_60805'\n\\item 'geo\\_property\\_zip\\_60827'\n\\item 'geo\\_property\\_zip\\_NA'\n\\item 'geo\\_ohare\\_noise\\_1'\n\\item 'geo\\_ohare\\_noise\\_NA'\n\\item 'geo\\_floodplain\\_1'\n\\item 'geo\\_floodplain\\_NA'\n\\item 'geo\\_fs\\_flood\\_risk\\_direction\\_0'\n\\item 'geo\\_fs\\_flood\\_risk\\_direction\\_1'\n\\item 'geo\\_fs\\_flood\\_risk\\_direction\\_NA'\n\\item 'geo\\_withinmr100\\_1'\n\\item 'geo\\_withinmr100\\_NA'\n\\item 'geo\\_withinmr101300\\_1'\n\\item 'geo\\_withinmr101300\\_NA'\n\\item 'ind\\_large\\_home\\_TRUE'\n\\item 'ind\\_large\\_home\\_NA'\n\\item 'ind\\_garage\\_TRUE'\n\\item 'ind\\_garage\\_NA'\n\\item 'ind\\_arms\\_length\\_TRUE'\n\\item 'ind\\_arms\\_length\\_NA'\n\\item 'sale\\_price'\n\\item 'meta\\_nbhd'\n\\item 'meta\\_certified\\_est\\_bldg'\n\\item 'meta\\_certified\\_est\\_land'\n\\item 'char\\_hd\\_sf'\n\\item 'char\\_age'\n\\item 'char\\_rooms'\n\\item 'char\\_beds'\n\\item 'char\\_frpl'\n\\item 'char\\_fbath'\n\\item 'char\\_hbath'\n\\item 'char\\_ot\\_impr'\n\\item 'char\\_bldg\\_sf'\n\\item 'geo\\_tract\\_pop'\n\\item 'geo\\_white\\_perc'\n\\item 'geo\\_black\\_perc'\n\\item 'geo\\_asian\\_perc'\n\\item 'geo\\_his\\_perc'\n\\item 'geo\\_other\\_perc'\n\\item 'geo\\_fs\\_flood\\_factor'\n\\item 'econ\\_tax\\_rate'\n\\item 'econ\\_midincome'\n\\end{enumerate*}\n",
            "text/plain": [
              "  [1] \"meta_class_203\"                 \"meta_class_204\"                \n",
              "  [3] \"meta_class_205\"                 \"meta_class_206\"                \n",
              "  [5] \"meta_class_207\"                 \"meta_class_208\"                \n",
              "  [7] \"meta_class_209\"                 \"meta_class_210\"                \n",
              "  [9] \"meta_class_211\"                 \"meta_class_212\"                \n",
              " [11] \"meta_class_234\"                 \"meta_class_278\"                \n",
              " [13] \"meta_class_295\"                 \"meta_class_NA\"                 \n",
              " [15] \"meta_deed_type_T\"               \"meta_deed_type_W\"              \n",
              " [17] \"meta_deed_type_NA\"              \"char_ext_wall_2\"               \n",
              " [19] \"char_ext_wall_3\"                \"char_ext_wall_4\"               \n",
              " [21] \"char_ext_wall_NA\"               \"char_roof_cnst_2\"              \n",
              " [23] \"char_roof_cnst_3\"               \"char_roof_cnst_4\"              \n",
              " [25] \"char_roof_cnst_5\"               \"char_roof_cnst_6\"              \n",
              " [27] \"char_roof_cnst_NA\"              \"char_bsmt_2\"                   \n",
              " [29] \"char_bsmt_3\"                    \"char_bsmt_4\"                   \n",
              " [31] \"char_bsmt_NA\"                   \"char_bsmt_fin_2\"               \n",
              " [33] \"char_bsmt_fin_3\"                \"char_bsmt_fin_NA\"              \n",
              " [35] \"char_heat_2\"                    \"char_heat_3\"                   \n",
              " [37] \"char_heat_4\"                    \"char_heat_NA\"                  \n",
              " [39] \"char_oheat_5\"                   \"char_oheat_NA\"                 \n",
              " [41] \"char_air_2\"                     \"char_air_NA\"                   \n",
              " [43] \"char_attic_type_2\"              \"char_attic_type_3\"             \n",
              " [45] \"char_attic_type_NA\"             \"char_tp_plan_2\"                \n",
              " [47] \"char_tp_plan_NA\"                \"char_cnst_qlty_2\"              \n",
              " [49] \"char_cnst_qlty_NA\"              \"char_site_2\"                   \n",
              " [51] \"char_site_3\"                    \"char_site_NA\"                  \n",
              " [53] \"char_gar1_size_2\"               \"char_gar1_size_3\"              \n",
              " [55] \"char_gar1_size_4\"               \"char_gar1_size_5\"              \n",
              " [57] \"char_gar1_size_6\"               \"char_gar1_size_7\"              \n",
              " [59] \"char_gar1_size_8\"               \"char_gar1_size_NA\"             \n",
              " [61] \"char_gar1_cnst_2\"               \"char_gar1_cnst_3\"              \n",
              " [63] \"char_gar1_cnst_4\"               \"char_gar1_cnst_NA\"             \n",
              " [65] \"char_gar1_att_2\"                \"char_gar1_att_NA\"              \n",
              " [67] \"char_gar1_area_2\"               \"char_gar1_area_NA\"             \n",
              " [69] \"char_repair_cnd_2\"              \"char_repair_cnd_3\"             \n",
              " [71] \"char_repair_cnd_NA\"             \"char_use_2\"                    \n",
              " [73] \"char_use_NA\"                    \"char_type_resd_2\"              \n",
              " [75] \"char_type_resd_3\"               \"char_type_resd_4\"              \n",
              " [77] \"char_type_resd_5\"               \"char_type_resd_NA\"             \n",
              " [79] \"geo_property_zip_60004\"         \"geo_property_zip_60005\"        \n",
              " [81] \"geo_property_zip_60007\"         \"geo_property_zip_60008\"        \n",
              " [83] \"geo_property_zip_60010\"         \"geo_property_zip_60016\"        \n",
              " [85] \"geo_property_zip_60018\"         \"geo_property_zip_60022\"        \n",
              " [87] \"geo_property_zip_60025\"         \"geo_property_zip_60026\"        \n",
              " [89] \"geo_property_zip_60029\"         \"geo_property_zip_60043\"        \n",
              " [91] \"geo_property_zip_60053\"         \"geo_property_zip_60056\"        \n",
              " [93] \"geo_property_zip_60062\"         \"geo_property_zip_60067\"        \n",
              " [95] \"geo_property_zip_60068\"         \"geo_property_zip_60070\"        \n",
              " [97] \"geo_property_zip_60074\"         \"geo_property_zip_60076\"        \n",
              " [99] \"geo_property_zip_60077\"         \"geo_property_zip_60089\"        \n",
              "[101] \"geo_property_zip_60090\"         \"geo_property_zip_60091\"        \n",
              "[103] \"geo_property_zip_60093\"         \"geo_property_zip_60103\"        \n",
              "[105] \"geo_property_zip_60104\"         \"geo_property_zip_60107\"        \n",
              "[107] \"geo_property_zip_60120\"         \"geo_property_zip_60126\"        \n",
              "[109] \"geo_property_zip_60130\"         \"geo_property_zip_60131\"        \n",
              "[111] \"geo_property_zip_60133\"         \"geo_property_zip_60153\"        \n",
              "[113] \"geo_property_zip_60154\"         \"geo_property_zip_60155\"        \n",
              "[115] \"geo_property_zip_60160\"         \"geo_property_zip_60162\"        \n",
              "[117] \"geo_property_zip_60163\"         \"geo_property_zip_60164\"        \n",
              "[119] \"geo_property_zip_60165\"         \"geo_property_zip_60169\"        \n",
              "[121] \"geo_property_zip_60171\"         \"geo_property_zip_60172\"        \n",
              "[123] \"geo_property_zip_60173\"         \"geo_property_zip_60176\"        \n",
              "[125] \"geo_property_zip_60192\"         \"geo_property_zip_60193\"        \n",
              "[127] \"geo_property_zip_60194\"         \"geo_property_zip_60195\"        \n",
              "[129] \"geo_property_zip_60201\"         \"geo_property_zip_60202\"        \n",
              "[131] \"geo_property_zip_60203\"         \"geo_property_zip_60301\"        \n",
              "[133] \"geo_property_zip_60302\"         \"geo_property_zip_60304\"        \n",
              "[135] \"geo_property_zip_60305\"         \"geo_property_zip_60402\"        \n",
              "[137] \"geo_property_zip_60406\"         \"geo_property_zip_60409\"        \n",
              "[139] \"geo_property_zip_60411\"         \"geo_property_zip_60415\"        \n",
              "[141] \"geo_property_zip_60418\"         \"geo_property_zip_60419\"        \n",
              "[143] \"geo_property_zip_60422\"         \"geo_property_zip_60425\"        \n",
              "[145] \"geo_property_zip_60426\"         \"geo_property_zip_60428\"        \n",
              "[147] \"geo_property_zip_60429\"         \"geo_property_zip_60430\"        \n",
              "[149] \"geo_property_zip_60438\"         \"geo_property_zip_60439\"        \n",
              "[151] \"geo_property_zip_60443\"         \"geo_property_zip_60445\"        \n",
              "[153] \"geo_property_zip_60452\"         \"geo_property_zip_60453\"        \n",
              "[155] \"geo_property_zip_60455\"         \"geo_property_zip_60456\"        \n",
              "[157] \"geo_property_zip_60457\"         \"geo_property_zip_60458\"        \n",
              "[159] \"geo_property_zip_60459\"         \"geo_property_zip_60461\"        \n",
              "[161] \"geo_property_zip_60462\"         \"geo_property_zip_60463\"        \n",
              "[163] \"geo_property_zip_60464\"         \"geo_property_zip_60465\"        \n",
              "[165] \"geo_property_zip_60466\"         \"geo_property_zip_60467\"        \n",
              "[167] \"geo_property_zip_60469\"         \"geo_property_zip_60471\"        \n",
              "[169] \"geo_property_zip_60472\"         \"geo_property_zip_60473\"        \n",
              "[171] \"geo_property_zip_60475\"         \"geo_property_zip_60476\"        \n",
              "[173] \"geo_property_zip_60477\"         \"geo_property_zip_60478\"        \n",
              "[175] \"geo_property_zip_60480\"         \"geo_property_zip_60482\"        \n",
              "[177] \"geo_property_zip_60487\"         \"geo_property_zip_60501\"        \n",
              "[179] \"geo_property_zip_60513\"         \"geo_property_zip_60521\"        \n",
              "[181] \"geo_property_zip_60525\"         \"geo_property_zip_60526\"        \n",
              "[183] \"geo_property_zip_60527\"         \"geo_property_zip_60534\"        \n",
              "[185] \"geo_property_zip_60546\"         \"geo_property_zip_60558\"        \n",
              "[187] \"geo_property_zip_60605\"         \"geo_property_zip_60607\"        \n",
              "[189] \"geo_property_zip_60608\"         \"geo_property_zip_60609\"        \n",
              "[191] \"geo_property_zip_60610\"         \"geo_property_zip_60611\"        \n",
              "[193] \"geo_property_zip_60612\"         \"geo_property_zip_60613\"        \n",
              "[195] \"geo_property_zip_60614\"         \"geo_property_zip_60615\"        \n",
              "[197] \"geo_property_zip_60616\"         \"geo_property_zip_60617\"        \n",
              "[199] \"geo_property_zip_60618\"         \"geo_property_zip_60619\"        \n",
              "[201] \"geo_property_zip_60620\"         \"geo_property_zip_60621\"        \n",
              "[203] \"geo_property_zip_60622\"         \"geo_property_zip_60623\"        \n",
              "[205] \"geo_property_zip_60624\"         \"geo_property_zip_60625\"        \n",
              "[207] \"geo_property_zip_60626\"         \"geo_property_zip_60628\"        \n",
              "[209] \"geo_property_zip_60629\"         \"geo_property_zip_60630\"        \n",
              "[211] \"geo_property_zip_60631\"         \"geo_property_zip_60632\"        \n",
              "[213] \"geo_property_zip_60633\"         \"geo_property_zip_60634\"        \n",
              "[215] \"geo_property_zip_60636\"         \"geo_property_zip_60637\"        \n",
              "[217] \"geo_property_zip_60638\"         \"geo_property_zip_60639\"        \n",
              "[219] \"geo_property_zip_60640\"         \"geo_property_zip_60641\"        \n",
              "[221] \"geo_property_zip_60642\"         \"geo_property_zip_60643\"        \n",
              "[223] \"geo_property_zip_60644\"         \"geo_property_zip_60645\"        \n",
              "[225] \"geo_property_zip_60646\"         \"geo_property_zip_60647\"        \n",
              "[227] \"geo_property_zip_60649\"         \"geo_property_zip_60651\"        \n",
              "[229] \"geo_property_zip_60652\"         \"geo_property_zip_60653\"        \n",
              "[231] \"geo_property_zip_60654\"         \"geo_property_zip_60655\"        \n",
              "[233] \"geo_property_zip_60656\"         \"geo_property_zip_60657\"        \n",
              "[235] \"geo_property_zip_60659\"         \"geo_property_zip_60660\"        \n",
              "[237] \"geo_property_zip_60706\"         \"geo_property_zip_60707\"        \n",
              "[239] \"geo_property_zip_60712\"         \"geo_property_zip_60714\"        \n",
              "[241] \"geo_property_zip_60803\"         \"geo_property_zip_60804\"        \n",
              "[243] \"geo_property_zip_60805\"         \"geo_property_zip_60827\"        \n",
              "[245] \"geo_property_zip_NA\"            \"geo_ohare_noise_1\"             \n",
              "[247] \"geo_ohare_noise_NA\"             \"geo_floodplain_1\"              \n",
              "[249] \"geo_floodplain_NA\"              \"geo_fs_flood_risk_direction_0\" \n",
              "[251] \"geo_fs_flood_risk_direction_1\"  \"geo_fs_flood_risk_direction_NA\"\n",
              "[253] \"geo_withinmr100_1\"              \"geo_withinmr100_NA\"            \n",
              "[255] \"geo_withinmr101300_1\"           \"geo_withinmr101300_NA\"         \n",
              "[257] \"ind_large_home_TRUE\"            \"ind_large_home_NA\"             \n",
              "[259] \"ind_garage_TRUE\"                \"ind_garage_NA\"                 \n",
              "[261] \"ind_arms_length_TRUE\"           \"ind_arms_length_NA\"            \n",
              "[263] \"sale_price\"                     \"meta_nbhd\"                     \n",
              "[265] \"meta_certified_est_bldg\"        \"meta_certified_est_land\"       \n",
              "[267] \"char_hd_sf\"                     \"char_age\"                      \n",
              "[269] \"char_rooms\"                     \"char_beds\"                     \n",
              "[271] \"char_frpl\"                      \"char_fbath\"                    \n",
              "[273] \"char_hbath\"                     \"char_ot_impr\"                  \n",
              "[275] \"char_bldg_sf\"                   \"geo_tract_pop\"                 \n",
              "[277] \"geo_white_perc\"                 \"geo_black_perc\"                \n",
              "[279] \"geo_asian_perc\"                 \"geo_his_perc\"                  \n",
              "[281] \"geo_other_perc\"                 \"geo_fs_flood_factor\"           \n",
              "[283] \"econ_tax_rate\"                  \"econ_midincome\"                "
            ]
          },
          "metadata": {}
        },
        {
          "output_type": "display_data",
          "data": {
            "text/html": [
              "284"
            ],
            "text/markdown": "284",
            "text/latex": "284",
            "text/plain": [
              "[1] 284"
            ]
          },
          "metadata": {}
        }
      ],
      "source": [
        "# Checking variable names and number of variables\n",
        "names(df_norm_train)\n",
        "length(names(df_norm_train))\n",
        "# The outcome shows there are 255 variables, so we decide to break it down to roughly 4 sets of 60 variables and conduct variable selection one by one"
      ]
    },
    {
      "cell_type": "code",
      "execution_count": null,
      "metadata": {
        "id": "auIQsVLzkyxs",
        "colab": {
          "base_uri": "https://localhost:8080/"
        },
        "outputId": "4caa66d6-3454-4596-a4e1-554a89402a30"
      },
      "outputs": [
        {
          "output_type": "stream",
          "name": "stdout",
          "text": [
            "Start:  AIC=458574.9\n",
            "sale_price ~ meta_class_203 + meta_class_204 + meta_class_205 + \n",
            "    meta_class_206 + meta_class_207 + meta_class_208 + meta_class_209 + \n",
            "    meta_class_210 + meta_class_211 + meta_class_212 + meta_class_234 + \n",
            "    meta_class_278 + meta_class_295 + meta_deed_type_T + meta_deed_type_W + \n",
            "    char_ext_wall_2 + char_ext_wall_3 + char_ext_wall_4 + char_roof_cnst_2 + \n",
            "    char_roof_cnst_3 + char_roof_cnst_4 + char_roof_cnst_5 + \n",
            "    char_roof_cnst_6 + char_bsmt_2 + char_bsmt_3 + char_bsmt_4 + \n",
            "    char_bsmt_fin_2 + char_bsmt_fin_3 + char_heat_2 + char_heat_3 + \n",
            "    char_heat_4 + char_oheat_5 + char_air_2 + char_attic_type_2 + \n",
            "    char_attic_type_3 + char_tp_plan_2 + char_cnst_qlty_2 + char_site_2 + \n",
            "    char_site_3 + char_gar1_size_2 + char_gar1_size_3 + char_gar1_size_4 + \n",
            "    char_gar1_size_5 + char_gar1_size_6 + char_gar1_size_7 + \n",
            "    char_gar1_size_8 + char_gar1_cnst_2 + char_gar1_cnst_3 + \n",
            "    char_gar1_cnst_4 + char_gar1_att_2 + char_gar1_area_2 + char_repair_cnd_2 + \n",
            "    char_repair_cnd_3 + char_use_2 + char_type_resd_2 + char_type_resd_3 + \n",
            "    char_type_resd_4 + char_type_resd_5 + geo_property_zip_60004 + \n",
            "    geo_property_zip_60005\n",
            "\n",
            "\n",
            "Step:  AIC=458574.9\n",
            "sale_price ~ meta_class_203 + meta_class_204 + meta_class_205 + \n",
            "    meta_class_206 + meta_class_207 + meta_class_208 + meta_class_209 + \n",
            "    meta_class_210 + meta_class_211 + meta_class_212 + meta_class_234 + \n",
            "    meta_class_278 + meta_class_295 + meta_deed_type_T + meta_deed_type_W + \n",
            "    char_ext_wall_2 + char_ext_wall_3 + char_ext_wall_4 + char_roof_cnst_2 + \n",
            "    char_roof_cnst_3 + char_roof_cnst_4 + char_roof_cnst_5 + \n",
            "    char_roof_cnst_6 + char_bsmt_2 + char_bsmt_3 + char_bsmt_4 + \n",
            "    char_bsmt_fin_2 + char_bsmt_fin_3 + char_heat_2 + char_heat_3 + \n",
            "    char_heat_4 + char_oheat_5 + char_air_2 + char_attic_type_2 + \n",
            "    char_attic_type_3 + char_tp_plan_2 + char_cnst_qlty_2 + char_site_2 + \n",
            "    char_site_3 + char_gar1_size_2 + char_gar1_size_3 + char_gar1_size_4 + \n",
            "    char_gar1_size_5 + char_gar1_size_6 + char_gar1_size_8 + \n",
            "    char_gar1_cnst_2 + char_gar1_cnst_3 + char_gar1_cnst_4 + \n",
            "    char_gar1_att_2 + char_gar1_area_2 + char_repair_cnd_2 + \n",
            "    char_repair_cnd_3 + char_use_2 + char_type_resd_2 + char_type_resd_3 + \n",
            "    char_type_resd_4 + char_type_resd_5 + geo_property_zip_60004 + \n",
            "    geo_property_zip_60005\n",
            "\n",
            "                         Df  Sum of Sq        RSS    AIC\n",
            "- char_gar1_size_3        1 1.6987e+06 1.3666e+15 458573\n",
            "- char_oheat_5            1 4.1867e+09 1.3666e+15 458573\n",
            "- meta_class_211          1 8.2302e+09 1.3666e+15 458573\n",
            "- char_heat_4             1 1.8328e+10 1.3666e+15 458573\n",
            "- meta_class_212          1 1.9366e+10 1.3666e+15 458573\n",
            "- char_type_resd_4        1 2.5103e+10 1.3666e+15 458573\n",
            "- char_type_resd_5        1 3.3279e+10 1.3666e+15 458573\n",
            "- char_gar1_size_8        1 5.0085e+10 1.3666e+15 458574\n",
            "- meta_class_234          1 5.3796e+10 1.3666e+15 458574\n",
            "- char_bsmt_fin_2         1 6.3155e+10 1.3666e+15 458574\n",
            "- char_use_2              1 7.0567e+10 1.3666e+15 458574\n",
            "- char_gar1_size_2        1 7.5221e+10 1.3666e+15 458574\n",
            "- geo_property_zip_60005  1 9.2059e+10 1.3667e+15 458574\n",
            "- char_gar1_size_4        1 1.0600e+11 1.3667e+15 458574\n",
            "- char_heat_3             1 1.2264e+11 1.3667e+15 458575\n",
            "- char_heat_2             1 1.2612e+11 1.3667e+15 458575\n",
            "<none>                                 1.3666e+15 458575\n",
            "- char_cnst_qlty_2        1 1.5823e+11 1.3667e+15 458575\n",
            "- char_attic_type_2       1 2.1538e+11 1.3668e+15 458576\n",
            "- char_ext_wall_2         1 3.7380e+11 1.3669e+15 458578\n",
            "- char_gar1_cnst_4        1 3.9672e+11 1.3670e+15 458578\n",
            "- meta_class_210          1 3.9917e+11 1.3670e+15 458578\n",
            "- geo_property_zip_60004  1 4.6537e+11 1.3670e+15 458579\n",
            "- char_type_resd_2        1 4.8538e+11 1.3670e+15 458579\n",
            "- char_gar1_size_5        1 7.6396e+11 1.3673e+15 458583\n",
            "- char_gar1_size_6        1 7.9622e+11 1.3674e+15 458584\n",
            "- char_tp_plan_2          1 7.9965e+11 1.3674e+15 458584\n",
            "- meta_class_295          1 8.1677e+11 1.3674e+15 458584\n",
            "- char_repair_cnd_3       1 8.2195e+11 1.3674e+15 458584\n",
            "- char_bsmt_4             1 1.0072e+12 1.3676e+15 458586\n",
            "- char_gar1_cnst_3        1 1.0252e+12 1.3676e+15 458587\n",
            "- char_roof_cnst_4        1 1.0704e+12 1.3676e+15 458587\n",
            "- char_bsmt_2             1 1.4814e+12 1.3680e+15 458593\n",
            "- char_site_3             1 1.5763e+12 1.3681e+15 458594\n",
            "- char_roof_cnst_5        1 1.5900e+12 1.3682e+15 458594\n",
            "- char_gar1_att_2         1 1.8752e+12 1.3684e+15 458598\n",
            "- meta_class_203          1 1.9291e+12 1.3685e+15 458599\n",
            "- meta_class_207          1 2.1541e+12 1.3687e+15 458602\n",
            "- char_repair_cnd_2       1 2.3573e+12 1.3689e+15 458604\n",
            "- char_attic_type_3       1 2.3999e+12 1.3690e+15 458605\n",
            "- char_bsmt_3             1 2.6350e+12 1.3692e+15 458608\n",
            "- char_ext_wall_4         1 3.2198e+12 1.3698e+15 458616\n",
            "- meta_class_205          1 3.4510e+12 1.3700e+15 458619\n",
            "- char_gar1_area_2        1 4.2733e+12 1.3708e+15 458630\n",
            "- char_site_2             1 4.9817e+12 1.3715e+15 458640\n",
            "- char_gar1_cnst_2        1 5.8016e+12 1.3724e+15 458650\n",
            "- char_ext_wall_3         1 6.4137e+12 1.3730e+15 458659\n",
            "- char_roof_cnst_6        1 9.4134e+12 1.3760e+15 458699\n",
            "- char_air_2              1 1.1960e+13 1.3785e+15 458732\n",
            "- char_roof_cnst_2        1 1.7261e+13 1.3838e+15 458803\n",
            "- char_bsmt_fin_3         1 2.1229e+13 1.3878e+15 458855\n",
            "- meta_class_204          1 2.2512e+13 1.3891e+15 458872\n",
            "- meta_deed_type_T        1 2.6928e+13 1.3935e+15 458930\n",
            "- char_type_resd_3        1 2.9831e+13 1.3964e+15 458968\n",
            "- meta_class_278          1 3.0323e+13 1.3969e+15 458975\n",
            "- char_roof_cnst_3        1 3.8548e+13 1.4051e+15 459082\n",
            "- meta_deed_type_W        1 4.8072e+13 1.4146e+15 459206\n",
            "- meta_class_206          1 5.1624e+13 1.4182e+15 459252\n",
            "- meta_class_208          1 8.1777e+13 1.4483e+15 459637\n",
            "- meta_class_209          1 1.8222e+14 1.5488e+15 460865\n",
            "\n",
            "Step:  AIC=458572.9\n",
            "sale_price ~ meta_class_203 + meta_class_204 + meta_class_205 + \n",
            "    meta_class_206 + meta_class_207 + meta_class_208 + meta_class_209 + \n",
            "    meta_class_210 + meta_class_211 + meta_class_212 + meta_class_234 + \n",
            "    meta_class_278 + meta_class_295 + meta_deed_type_T + meta_deed_type_W + \n",
            "    char_ext_wall_2 + char_ext_wall_3 + char_ext_wall_4 + char_roof_cnst_2 + \n",
            "    char_roof_cnst_3 + char_roof_cnst_4 + char_roof_cnst_5 + \n",
            "    char_roof_cnst_6 + char_bsmt_2 + char_bsmt_3 + char_bsmt_4 + \n",
            "    char_bsmt_fin_2 + char_bsmt_fin_3 + char_heat_2 + char_heat_3 + \n",
            "    char_heat_4 + char_oheat_5 + char_air_2 + char_attic_type_2 + \n",
            "    char_attic_type_3 + char_tp_plan_2 + char_cnst_qlty_2 + char_site_2 + \n",
            "    char_site_3 + char_gar1_size_2 + char_gar1_size_4 + char_gar1_size_5 + \n",
            "    char_gar1_size_6 + char_gar1_size_8 + char_gar1_cnst_2 + \n",
            "    char_gar1_cnst_3 + char_gar1_cnst_4 + char_gar1_att_2 + char_gar1_area_2 + \n",
            "    char_repair_cnd_2 + char_repair_cnd_3 + char_use_2 + char_type_resd_2 + \n",
            "    char_type_resd_3 + char_type_resd_4 + char_type_resd_5 + \n",
            "    geo_property_zip_60004 + geo_property_zip_60005\n",
            "\n",
            "                         Df  Sum of Sq        RSS    AIC\n",
            "- char_oheat_5            1 4.1860e+09 1.3666e+15 458571\n",
            "- meta_class_211          1 8.2295e+09 1.3666e+15 458571\n",
            "- char_heat_4             1 1.8327e+10 1.3666e+15 458571\n",
            "- meta_class_212          1 1.9367e+10 1.3666e+15 458571\n",
            "- char_type_resd_4        1 2.5103e+10 1.3666e+15 458571\n",
            "- char_type_resd_5        1 3.3295e+10 1.3666e+15 458571\n",
            "- char_gar1_size_8        1 5.2024e+10 1.3666e+15 458572\n",
            "- meta_class_234          1 5.3799e+10 1.3666e+15 458572\n",
            "- char_bsmt_fin_2         1 6.3177e+10 1.3666e+15 458572\n",
            "- char_use_2              1 7.0568e+10 1.3666e+15 458572\n",
            "- geo_property_zip_60005  1 9.2083e+10 1.3667e+15 458572\n",
            "- char_gar1_size_2        1 9.8797e+10 1.3667e+15 458572\n",
            "- char_heat_3             1 1.2271e+11 1.3667e+15 458573\n",
            "- char_heat_2             1 1.2628e+11 1.3667e+15 458573\n",
            "- char_gar1_size_4        1 1.4422e+11 1.3667e+15 458573\n",
            "<none>                                 1.3666e+15 458573\n",
            "- char_cnst_qlty_2        1 1.5827e+11 1.3667e+15 458573\n",
            "- char_attic_type_2       1 2.1545e+11 1.3668e+15 458574\n",
            "- char_ext_wall_2         1 3.7380e+11 1.3669e+15 458576\n",
            "- char_gar1_cnst_4        1 3.9675e+11 1.3670e+15 458576\n",
            "- meta_class_210          1 3.9996e+11 1.3670e+15 458576\n",
            "- geo_property_zip_60004  1 4.6537e+11 1.3670e+15 458577\n",
            "- char_type_resd_2        1 4.8544e+11 1.3670e+15 458577\n",
            "- char_tp_plan_2          1 8.0065e+11 1.3674e+15 458582\n",
            "- meta_class_295          1 8.1683e+11 1.3674e+15 458582\n",
            "- char_repair_cnd_3       1 8.2197e+11 1.3674e+15 458582\n",
            "- char_gar1_size_6        1 8.2647e+11 1.3674e+15 458582\n",
            "- char_bsmt_4             1 1.0093e+12 1.3676e+15 458584\n",
            "- char_gar1_size_5        1 1.0099e+12 1.3676e+15 458584\n",
            "- char_gar1_cnst_3        1 1.0252e+12 1.3676e+15 458585\n",
            "- char_roof_cnst_4        1 1.0706e+12 1.3676e+15 458585\n",
            "- char_bsmt_2             1 1.4949e+12 1.3681e+15 458591\n",
            "- char_site_3             1 1.5765e+12 1.3681e+15 458592\n",
            "- char_roof_cnst_5        1 1.5901e+12 1.3682e+15 458592\n",
            "- char_gar1_att_2         1 1.9157e+12 1.3685e+15 458597\n",
            "- meta_class_203          1 1.9293e+12 1.3685e+15 458597\n",
            "- meta_class_207          1 2.1608e+12 1.3687e+15 458600\n",
            "- char_repair_cnd_2       1 2.3573e+12 1.3689e+15 458602\n",
            "- char_attic_type_3       1 2.3999e+12 1.3690e+15 458603\n",
            "- char_bsmt_3             1 2.6352e+12 1.3692e+15 458606\n",
            "- char_ext_wall_4         1 3.2199e+12 1.3698e+15 458614\n",
            "- meta_class_205          1 3.4510e+12 1.3700e+15 458617\n",
            "- char_gar1_area_2        1 4.2775e+12 1.3708e+15 458628\n",
            "- char_site_2             1 4.9828e+12 1.3715e+15 458638\n",
            "- char_gar1_cnst_2        1 5.8040e+12 1.3724e+15 458648\n",
            "- char_ext_wall_3         1 6.4137e+12 1.3730e+15 458657\n",
            "- char_roof_cnst_6        1 9.4136e+12 1.3760e+15 458697\n",
            "- char_air_2              1 1.2053e+13 1.3786e+15 458732\n",
            "- char_roof_cnst_2        1 1.7267e+13 1.3838e+15 458801\n",
            "- char_bsmt_fin_3         1 2.1233e+13 1.3878e+15 458853\n",
            "- meta_class_204          1 2.2594e+13 1.3892e+15 458871\n",
            "- meta_deed_type_T        1 2.6934e+13 1.3935e+15 458928\n",
            "- char_type_resd_3        1 2.9831e+13 1.3964e+15 458966\n",
            "- meta_class_278          1 3.0503e+13 1.3971e+15 458975\n",
            "- char_roof_cnst_3        1 3.8554e+13 1.4051e+15 459080\n",
            "- meta_deed_type_W        1 4.8072e+13 1.4146e+15 459204\n",
            "- meta_class_206          1 5.1628e+13 1.4182e+15 459250\n",
            "- meta_class_208          1 8.1973e+13 1.4485e+15 459638\n",
            "- meta_class_209          1 1.8234e+14 1.5489e+15 460864\n"
          ]
        },
        {
          "output_type": "error",
          "ename": "ERROR",
          "evalue": "ignored",
          "traceback": [
            "Error in step(lm.full, direction = \"backward\"): number of rows in use has changed: remove missing values?\nTraceback:\n",
            "1. step(lm.full, direction = \"backward\")",
            "2. stop(\"number of rows in use has changed: remove missing values?\")"
          ]
        }
      ],
      "source": [
        "#try1\n",
        "# fit the model with first 60 predictors  \n",
        "lm.full <- lm(sale_price ~ meta_class_203+meta_class_204+meta_class_205+meta_class_206+meta_class_207+meta_class_208+meta_class_209+meta_class_210+meta_class_211+meta_class_212+meta_class_234+meta_class_278+meta_class_295+meta_deed_type_T+meta_deed_type_W+char_ext_wall_2+char_ext_wall_3+char_ext_wall_4+char_roof_cnst_2+char_roof_cnst_3+char_roof_cnst_4+char_roof_cnst_5+char_roof_cnst_6+char_bsmt_2+char_bsmt_3+char_bsmt_4+char_bsmt_fin_2+char_bsmt_fin_3+char_heat_2+char_heat_3+char_heat_4+char_oheat_5+char_air_2+char_attic_type_2+char_attic_type_3+char_tp_plan_2+char_cnst_qlty_2+char_site_2+char_site_3+char_gar1_size_2+char_gar1_size_3+char_gar1_size_4+char_gar1_size_5+char_gar1_size_6+char_gar1_size_7+char_gar1_size_8+char_gar1_cnst_2+char_gar1_cnst_3+char_gar1_cnst_4+char_gar1_att_2+char_gar1_area_2+char_repair_cnd_2+char_repair_cnd_3+char_use_2+char_type_resd_2+char_type_resd_3+char_type_resd_4+char_type_resd_5+geo_property_zip_60004+geo_property_zip_60005\n",
        ", data = df_train)\n",
        "# use step() to run backward elimination \n",
        "lm.step.backward <- step(lm.full, direction = \"backward\")\n",
        "# summary table \n",
        "summary(lm.step.backward)\n",
        "# making predictions on the test set\n",
        "predict(lm.step.backward, df_test)\n",
        "# RMSE in the test set \n",
        "sqrt(mean((df_test$sale_price-predict(lm.step.backward, df_test))^2))"
      ]
    },
    {
      "cell_type": "code",
      "execution_count": null,
      "metadata": {
        "id": "hjF1U6ehk5n4"
      },
      "outputs": [],
      "source": [
        "#try2\n",
        "# After eliminating insignificant variables from the last try\n",
        "# fit the model adding the second set of 60 predictors  \n",
        "lm.full.2 <- lm(sale_price ~ meta_class_203+meta_class_204+meta_class_205+meta_class_206+meta_class_207+meta_class_208+meta_class_209+meta_class_210+meta_class_211+meta_class_212+meta_class_234+meta_class_278+meta_deed_type_T+meta_deed_type_W+char_ext_wall_2+char_ext_wall_3+char_ext_wall_4+char_roof_cnst_2+char_roof_cnst_3+char_roof_cnst_4+char_roof_cnst_5+char_roof_cnst_6+char_bsmt_2+char_bsmt_3+char_bsmt_4+char_bsmt_fin_3+char_heat_2+char_heat_4+char_air_2+char_attic_type_3+char_site_2+char_site_3+char_gar1_size_3+char_gar1_size_5+char_gar1_size_7+char_gar1_cnst_2+char_gar1_cnst_4+char_gar1_att_2+char_gar1_area_2+char_repair_cnd_2+char_repair_cnd_3+char_use_2+char_type_resd_2+char_type_resd_3+char_type_resd_4+geo_property_zip_60004+geo_property_zip_60007+geo_property_zip_60008+geo_property_zip_60010+geo_property_zip_60016+geo_property_zip_60018+geo_property_zip_60022+geo_property_zip_60025+geo_property_zip_60026+geo_property_zip_60029+geo_property_zip_60043+geo_property_zip_60053+geo_property_zip_60056+geo_property_zip_60062+geo_property_zip_60067+geo_property_zip_60068+geo_property_zip_60070+geo_property_zip_60074+geo_property_zip_60076+geo_property_zip_60077+geo_property_zip_60089+geo_property_zip_60090+geo_property_zip_60091+geo_property_zip_60093+geo_property_zip_60103+geo_property_zip_60104+geo_property_zip_60107+geo_property_zip_60120+geo_property_zip_60126+geo_property_zip_60130+geo_property_zip_60131+geo_property_zip_60133+geo_property_zip_60153+geo_property_zip_60154+geo_property_zip_60155+geo_property_zip_60160+geo_property_zip_60162+geo_property_zip_60163+geo_property_zip_60164+geo_property_zip_60165+geo_property_zip_60169+geo_property_zip_60171+geo_property_zip_60172+geo_property_zip_60173+geo_property_zip_60176+geo_property_zip_60192+geo_property_zip_60193+geo_property_zip_60194+geo_property_zip_60195+geo_property_zip_60201+geo_property_zip_60202+geo_property_zip_60203+geo_property_zip_60301+geo_property_zip_60302+geo_property_zip_60304+geo_property_zip_60305+geo_property_zip_60402+geo_property_zip_60406+geo_property_zip_60409+geo_property_zip_60411+geo_property_zip_60415,\n",
        ", data = df_train)\n",
        "# use step() to run backward elimination \n",
        "lm.step.backward.2 <- step(lm.full.2, direction = \"backward\")\n",
        "# summary table \n",
        "summary(lm.step.backward.2)\n",
        "# making predictions on the test set\n",
        "predict(lm.step.backward.2, df_test)\n",
        "# RMSE in the test set \n",
        "sqrt(mean((df_test$sale_price-predict(lm.step.backward.2, df_test))^2))\n",
        "# As seen in the result, the RMSE dropped a little bit"
      ]
    },
    {
      "cell_type": "code",
      "execution_count": null,
      "metadata": {
        "id": "Xb9PXo13qdAM"
      },
      "outputs": [],
      "source": [
        "#try3\n",
        "# After eliminating insignificant variables from the last try\n",
        "# fit the model adding the third set of 60 predictors, also eliminating all geo_zip_code variables, since it's not doing much to the model  \n",
        "lm.full.3 <- lm(sale_price ~ meta_class_203+meta_class_204+meta_class_205+meta_class_206+meta_class_207+meta_class_208+meta_class_209+meta_class_211+meta_class_212+meta_class_234+meta_class_278+meta_deed_type_T+meta_deed_type_W+char_ext_wall_2+char_ext_wall_3+char_ext_wall_4+char_roof_cnst_2+char_roof_cnst_3+char_roof_cnst_4+char_roof_cnst_5+char_roof_cnst_6+char_bsmt_2+char_bsmt_3+char_bsmt_4+char_bsmt_fin_3+char_heat_4+char_air_2+char_attic_type_3+char_site_2+char_site_3+char_gar1_size_3+char_gar1_size_5+char_gar1_size_7+char_gar1_cnst_2+char_gar1_cnst_4+char_gar1_att_2+char_gar1_area_2+char_repair_cnd_2+char_repair_cnd_3+char_use_2+char_type_resd_2+char_type_resd_3+char_type_resd_4+geo_ohare_noise_1+geo_floodplain_1+geo_fs_flood_risk_direction_0+geo_fs_flood_risk_direction_1+geo_withinmr100_1+geo_withinmr101300_1+ind_large_home_TRUE+ind_garage_TRUE+ind_arms_length_TRUE+sale_price+meta_nbhd+meta_certified_est_bldg+meta_certified_est_land+char_hd_sf+char_age+char_rooms+char_beds+char_frpl+char_fbath+char_hbath+char_ot_impr+char_bldg_sf+geo_tract_pop+geo_white_perc+geo_black_perc+geo_asian_perc+geo_his_perc+geo_other_perc+geo_fs_flood_factor+econ_tax_rate+econ_midincome, data = df_train)\n",
        "# use step() to run backward elimination \n",
        "lm.step.backward.3 <- step(lm.full.3, direction = \"backward\")\n",
        "# summary table \n",
        "summary(lm.step.backward.3)\n",
        "# making predictions on the test set\n",
        "predict(lm.step.backward.3, df_test)\n",
        "# RMSE in the test set \n",
        "sqrt(mean((df_test$sale_price-predict(lm.step.backward.3, df_test))^2))\n",
        "# As seen in the result, the RMSE dropped tremendously"
      ]
    },
    {
      "cell_type": "code",
      "execution_count": null,
      "metadata": {
        "id": "acIFoo3IrCy2"
      },
      "outputs": [],
      "source": [
        "# Final Selection\n",
        "# fit the model with the rest of the values \n",
        "lm.full.4 <- lm(sale_price ~ meta_class_204+meta_class_205+meta_class_208+meta_class_209+meta_class_211+meta_class_212+meta_class_278+meta_deed_type_T+meta_deed_type_W+char_ext_wall_3+char_ext_wall_4+char_roof_cnst_2+char_roof_cnst_3+char_roof_cnst_5+char_roof_cnst_6+char_bsmt_2+char_bsmt_3+char_bsmt_fin_3+char_heat_4+char_air_2+char_site_2+char_gar1_size_7+char_gar1_cnst_2+char_gar1_att_2+char_gar1_area_2+char_repair_cnd_3+char_type_resd_3+char_type_resd_4+geo_ohare_noise_1+geo_fs_flood_risk_direction_1+geo_withinmr100_1+geo_withinmr101300_1+ind_large_home_TRUE+ind_garage_TRUE+ind_arms_length_TRUE+sale_price+meta_nbhd+meta_certified_est_bldg+meta_certified_est_land+char_hd_sf+char_age+char_rooms+char_beds+char_fbath+char_hbath+char_ot_impr+char_bldg_sf+geo_tract_pop+geo_white_perc+geo_black_perc+geo_his_perc+geo_other_perc+econ_tax_rate+econ_midincome, data = df_train)\n",
        "# use step() to run backward elimination \n",
        "lm.step.backward.4 <- step(lm.full.4, direction = \"backward\")\n",
        "# summary table \n",
        "summary(lm.step.backward.4)\n",
        "# making predictions on the test set\n",
        "predict(lm.step.backward.4, df_test)\n",
        "# RMSE in the test set \n",
        "sqrt(mean((df_test$sale_price-predict(lm.step.backward.4, df_test))^2))"
      ]
    },
    {
      "cell_type": "markdown",
      "metadata": {
        "id": "g-8lyPCwtzQJ"
      },
      "source": [
        "##Fit Model"
      ]
    },
    {
      "cell_type": "code",
      "execution_count": null,
      "metadata": {
        "id": "8TkWwFMgt3XO"
      },
      "outputs": [],
      "source": [
        "#Fit the selected variables in the model\n",
        "nn1 <- neuralnet(sale_price ~ meta_class_204+meta_class_205+meta_class_208+meta_class_209+meta_class_211+meta_class_212+meta_class_278+meta_deed_type_T+meta_deed_type_W+char_ext_wall_3+char_ext_wall_4+char_roof_cnst_2+char_roof_cnst_3+char_roof_cnst_5+char_roof_cnst_6+char_bsmt_2+char_bsmt_3+char_bsmt_fin_3+char_heat_4+char_air_2+char_site_2+char_gar1_size_7+char_gar1_cnst_2+char_gar1_att_2+char_gar1_area_2+char_repair_cnd_3+char_type_resd_3+char_type_resd_4+geo_ohare_noise_1+geo_fs_flood_risk_direction_1+geo_withinmr100_1+geo_withinmr101300_1+ind_large_home_TRUE+ind_garage_TRUE+ind_arms_length_TRUE+sale_price+meta_nbhd+meta_certified_est_bldg+meta_certified_est_land+char_hd_sf+char_age+char_rooms+char_beds+char_fbath+char_hbath+char_ot_impr+char_bldg_sf+geo_tract_pop+geo_white_perc+geo_black_perc+geo_his_perc+geo_other_perc+econ_tax_rate+econ_midincome, \n",
        "                data = df_norm_train, linear.output = TRUE, hidden = 2)"
      ]
    },
    {
      "cell_type": "code",
      "execution_count": null,
      "metadata": {
        "id": "4udmgGO7uGCS"
      },
      "outputs": [],
      "source": [
        "#Make Prediction\n",
        "predict.nn1 <- compute(nn1, df_norm_test)\n",
        "head(predict.nn1$net.result)\n",
        "#Check the RMSE\n",
        "sqrt(mean((df_norm_test$sale_price-predict.nn1$net.result)^2))"
      ]
    },
    {
      "cell_type": "markdown",
      "metadata": {
        "id": "QwdANe3Ssk2b"
      },
      "source": [
        "# **LASSO** **REGRESSION**"
      ]
    },
    {
      "cell_type": "markdown",
      "metadata": {
        "id": "Fidd0IJmyAEg"
      },
      "source": [
        "### **Data** **Visualisation**"
      ]
    },
    {
      "cell_type": "code",
      "execution_count": null,
      "metadata": {
        "id": "XVOCBOrAyC47"
      },
      "outputs": [],
      "source": [
        "\n",
        "options(repr.plot.width=10, repr.plot.height=8)\n",
        "plot(x=historic_property_data$sale_price, y=historic_property_data$meta_certified_est_bldg, pch=18, cex=2, col=\"orange\",cex.main=1.5, cex.lab = 1.5,cex.axis=1, xlab=\"Meta Certified East Buiding\", ylab=\"Sale Price\", main=\"Scatter plot showing Sale Price vs Meta_certified_est_bldg\") \n",
        "\n"
      ]
    },
    {
      "cell_type": "code",
      "execution_count": null,
      "metadata": {
        "id": "EhtmpzdDslmf"
      },
      "outputs": [],
      "source": [
        "install.packages('glmnet')\n",
        "library(glmnet)\n"
      ]
    },
    {
      "cell_type": "code",
      "execution_count": null,
      "metadata": {
        "id": "bg51unYFsqML"
      },
      "outputs": [],
      "source": [
        "test_sample <- sample(c(1:dim(df_test)[1]), dim(df_test)[1]*1) "
      ]
    },
    {
      "cell_type": "code",
      "execution_count": null,
      "metadata": {
        "id": "yvLz982UstLk"
      },
      "outputs": [],
      "source": [
        "# convert a data frame of predictors to a matrix and create dummy variables for character variables \n",
        "\n",
        "x <- model.matrix(sale_price~.,historic_property_data)[,-1]"
      ]
    },
    {
      "cell_type": "code",
      "execution_count": null,
      "metadata": {
        "id": "EDR9jWztswvE"
      },
      "outputs": [],
      "source": [
        "head(x)"
      ]
    },
    {
      "cell_type": "code",
      "execution_count": null,
      "metadata": {
        "id": "lHzDkuVks0bV"
      },
      "outputs": [],
      "source": [
        "y <- historic_property_data$sale_price\n",
        "is.vector(y) #to check if y is a vector"
      ]
    },
    {
      "cell_type": "code",
      "execution_count": null,
      "metadata": {
        "id": "GynauiD9s2gc"
      },
      "outputs": [],
      "source": [
        "y.test <- y[test_sample] # outcome in the test set"
      ]
    },
    {
      "cell_type": "code",
      "execution_count": null,
      "metadata": {
        "id": "APCBmKTps40Y"
      },
      "outputs": [],
      "source": [
        "# fit a lasso regression model \n",
        "\n",
        "fit<- glmnet(x[train_sample,],y[train_sample],alpha=1)"
      ]
    },
    {
      "cell_type": "code",
      "execution_count": null,
      "metadata": {
        "id": "fkHCOBaXs48J"
      },
      "outputs": [],
      "source": [
        "fit$lambda"
      ]
    },
    {
      "cell_type": "code",
      "execution_count": null,
      "metadata": {
        "id": "IlP6Wz0cs5Eo"
      },
      "outputs": [],
      "source": [
        "dim(coef(fit))"
      ]
    },
    {
      "cell_type": "code",
      "execution_count": null,
      "metadata": {
        "id": "hVf3v4_MtCaw"
      },
      "outputs": [],
      "source": [
        "# Return a medium lambda value \n",
        "lambda.medium <-fit$lambda[20]\n",
        "lambda.medium"
      ]
    },
    {
      "cell_type": "code",
      "execution_count": null,
      "metadata": {
        "id": "goGvJTwAtCgO"
      },
      "outputs": [],
      "source": [
        "# lasso regression coefficients  \n",
        "coef.lambda.medium <- predict(fit,s=lambda.medium,type=\"coefficients\")[1:20,]\n",
        "coef.lambda.medium\n"
      ]
    },
    {
      "cell_type": "code",
      "execution_count": null,
      "metadata": {
        "id": "aUBzJ8TetCoA"
      },
      "outputs": [],
      "source": [
        "# non-zero coefficient estimates  \n",
        "coef.lambda.medium[coef.lambda.medium!=0]"
      ]
    },
    {
      "cell_type": "code",
      "execution_count": null,
      "metadata": {
        "id": "XeXlz7YvtI-w"
      },
      "outputs": [],
      "source": [
        "# make predictions for records the test set \n",
        "pred.lambda.medium <- predict(fit,s=lambda.medium,newx=x[test_sample,])\n",
        "head(pred.lambda.medium)\n"
      ]
    },
    {
      "cell_type": "code",
      "execution_count": null,
      "metadata": {
        "id": "7wHk6EA3tJQD"
      },
      "outputs": [],
      "source": [
        "# MSE in the test set \n",
        "mean((y.test-pred.lambda.medium)^2)"
      ]
    },
    {
      "cell_type": "code",
      "execution_count": null,
      "metadata": {
        "id": "25BYO8cWtJTE"
      },
      "outputs": [],
      "source": [
        "#RMSE \n",
        "sqrt(mean((y.test-pred.lambda.medium)^2))"
      ]
    }
  ],
  "metadata": {
    "colab": {
      "collapsed_sections": [
        "2xecLQ4K1JbQ",
        "F-BhNDEQKhCb",
        "yLiYYdQN-_UL",
        "z6mfGGKCjamU"
      ],
      "provenance": []
    },
    "gpuClass": "standard",
    "kernelspec": {
      "display_name": "R",
      "name": "ir"
    },
    "language_info": {
      "name": "R"
    }
  },
  "nbformat": 4,
  "nbformat_minor": 0
}